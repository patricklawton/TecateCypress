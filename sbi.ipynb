{
 "cells": [
  {
   "cell_type": "markdown",
   "id": "4b1c40f9-d8ac-415a-a8d5-6851c9aa75fa",
   "metadata": {
    "jp-MarkdownHeadingCollapsed": true,
    "tags": []
   },
   "source": [
    "# Learning sbi"
   ]
  },
  {
   "cell_type": "code",
   "execution_count": 1,
   "id": "5637d7dc-8d76-4cea-8552-7af485632064",
   "metadata": {
    "tags": []
   },
   "outputs": [],
   "source": [
    "import torch\n",
    "import numpy as np"
   ]
  },
  {
   "cell_type": "markdown",
   "id": "26b14617-0259-409f-8436-45fc426c331d",
   "metadata": {
    "jp-MarkdownHeadingCollapsed": true,
    "tags": []
   },
   "source": [
    "## fast interface"
   ]
  },
  {
   "cell_type": "code",
   "execution_count": null,
   "id": "934c1b60-8248-4515-8502-740339988cab",
   "metadata": {},
   "outputs": [],
   "source": [
    "from sbi import utils as utils\n",
    "from sbi import analysis as analysis\n",
    "from sbi.inference.base import infer"
   ]
  },
  {
   "cell_type": "code",
   "execution_count": 2,
   "id": "8085f943-5ff8-4213-aa78-bc520ca2588b",
   "metadata": {
    "tags": []
   },
   "outputs": [
    {
     "data": {
      "application/vnd.jupyter.widget-view+json": {
       "model_id": "c456e69cd69445e385fde499e2cf2995",
       "version_major": 2,
       "version_minor": 0
      },
      "text/plain": [
       "Running 1000 simulations.:   0%|          | 0/1000 [00:00<?, ?it/s]"
      ]
     },
     "metadata": {},
     "output_type": "display_data"
    },
    {
     "name": "stdout",
     "output_type": "stream",
     "text": [
      " Neural network successfully converged after 116 epochs."
     ]
    },
    {
     "data": {
      "application/vnd.jupyter.widget-view+json": {
       "model_id": "0ad138e0d30a4cb982c47d4438d5365d",
       "version_major": 2,
       "version_minor": 0
      },
      "text/plain": [
       "Drawing 10000 posterior samples:   0%|          | 0/10000 [00:00<?, ?it/s]"
      ]
     },
     "metadata": {},
     "output_type": "display_data"
    },
    {
     "data": {
      "image/png": "[encoded data removed]",
      "text/plain": [
       "<Figure size 500x500 with 9 Axes>"
      ]
     },
     "metadata": {},
     "output_type": "display_data"
    }
   ],
   "source": [
    "num_dim = 3\n",
    "prior = utils.BoxUniform(low=-2 * torch.ones(num_dim), high=2 * torch.ones(num_dim))\n",
    "def linear_gaussian(theta):\n",
    "    return theta + 1.0 + torch.randn_like(theta) * 0.1\n",
    "posterior = infer(linear_gaussian, prior, \"SNPE\", num_simulations=1000)\n",
    "x_o_1 = torch.zeros(3,)\n",
    "x_o_2 = 2.0 * torch.ones(3,)\n",
    "posterior_samples_1 = posterior.sample((10000,), x=x_o_1)\n",
    "\n",
    "# plot posterior samples\n",
    "_ = analysis.pairplot(\n",
    "    posterior_samples_1, limits=[[-2, 2], [-2, 2], [-2, 2]], figsize=(5, 5)\n",
    ")"
   ]
  },
  {
   "cell_type": "code",
   "execution_count": 12,
   "id": "7de24e76-45b1-4d30-916f-d4263e2be8b9",
   "metadata": {
    "tags": []
   },
   "outputs": [
    {
     "data": {
      "text/plain": [
       "tensor([0.3438, 0.3208, 1.5500])"
      ]
     },
     "execution_count": 12,
     "metadata": {},
     "output_type": "execute_result"
    }
   ],
   "source": [
    "prior.sample()"
   ]
  },
  {
   "cell_type": "markdown",
   "id": "a90b227c-63b1-4bbd-a99e-7cb93122541e",
   "metadata": {
    "jp-MarkdownHeadingCollapsed": true,
    "tags": []
   },
   "source": [
    "## flexible interface"
   ]
  },
  {
   "cell_type": "code",
   "execution_count": 2,
   "id": "3baf1cb9-babd-4927-9503-73ee91b5278a",
   "metadata": {
    "tags": []
   },
   "outputs": [],
   "source": [
    "import sbi\n",
    "from sbi.inference import SNPE, prepare_for_sbi, simulate_for_sbi\n",
    "# from sbi.utils.get_nn_models import posterior_nn\n",
    "from sbi import utils as utils\n",
    "from sbi import analysis as analysis"
   ]
  },
  {
   "cell_type": "code",
   "execution_count": 3,
   "id": "76a5a25a-0681-4417-877f-a18836c95a7a",
   "metadata": {
    "tags": []
   },
   "outputs": [
    {
     "data": {
      "application/vnd.jupyter.widget-view+json": {
       "model_id": "1a6bd9aa884e49008f7f9d84694c4ee0",
       "version_major": 2,
       "version_minor": 0
      },
      "text/plain": [
       "Running 2000 simulations.:   0%|          | 0/2000 [00:00<?, ?it/s]"
      ]
     },
     "metadata": {},
     "output_type": "display_data"
    },
    {
     "name": "stdout",
     "output_type": "stream",
     "text": [
      " Neural network successfully converged after 55 epochs."
     ]
    }
   ],
   "source": [
    "num_dim = 3\n",
    "prior = utils.BoxUniform(low=-2 * torch.ones(num_dim), high=2 * torch.ones(num_dim))\n",
    "def linear_gaussian(theta):\n",
    "    return theta + 1.0 + torch.randn_like(theta) * 0.1\n",
    "\n",
    "simulator, prior = prepare_for_sbi(linear_gaussian, prior)\n",
    "inference = SNPE(prior=prior)\n",
    "theta, x = simulate_for_sbi(simulator, proposal=prior, num_simulations=2000)\n",
    "inference = inference.append_simulations(theta, x)\n",
    "density_estimator = inference.train()\n",
    "posterior = inference.build_posterior(density_estimator)"
   ]
  },
  {
   "cell_type": "code",
   "execution_count": 4,
   "id": "95b10cee-636f-4d0b-8e39-3617b95c6476",
   "metadata": {
    "tags": []
   },
   "outputs": [
    {
     "data": {
      "application/vnd.jupyter.widget-view+json": {
       "model_id": "2341df2600464470a5362283ad67e0ec",
       "version_major": 2,
       "version_minor": 0
      },
      "text/plain": [
       "Drawing 10000 posterior samples:   0%|          | 0/10000 [00:00<?, ?it/s]"
      ]
     },
     "metadata": {},
     "output_type": "display_data"
    },
    {
     "data": {
      "image/png": "[encoded data removed]",
      "text/plain": [
       "<Figure size 500x500 with 9 Axes>"
      ]
     },
     "metadata": {},
     "output_type": "display_data"
    }
   ],
   "source": [
    "x_o_1 = torch.zeros(3,)\n",
    "x_o_2 = 2.0 * torch.ones(3,)\n",
    "posterior_samples_1 = posterior.sample((10000,), x=x_o_1)\n",
    "\n",
    "# plot posterior samples\n",
    "_ = analysis.pairplot(\n",
    "    posterior_samples_1, limits=[[-2, 2], [-2, 2], [-2, 2]], figsize=(5, 5)\n",
    ")"
   ]
  },
  {
   "cell_type": "code",
   "execution_count": 29,
   "id": "cf37fac6-ab82-4407-bebb-e978cd1bfbfc",
   "metadata": {
    "tags": []
   },
   "outputs": [
    {
     "data": {
      "application/vnd.jupyter.widget-view+json": {
       "model_id": "9fd615e796e24260bd12487ea6f22351",
       "version_major": 2,
       "version_minor": 0
      },
      "text/plain": [
       "Drawing 1000 posterior samples:   0%|          | 0/1000 [00:00<?, ?it/s]"
      ]
     },
     "metadata": {},
     "output_type": "display_data"
    },
    {
     "data": {
      "text/plain": [
       "tensor([[-1.0214, -1.0065, -0.9915]])"
      ]
     },
     "execution_count": 29,
     "metadata": {},
     "output_type": "execute_result"
    }
   ],
   "source": [
    "# Calc Max A Posteriori parameter estimate via gradient ascent given one observation\n",
    "posterior.set_default_x(x_o_1)\n",
    "_map = posterior.map(num_iter=2000); _map"
   ]
  },
  {
   "cell_type": "markdown",
   "id": "77a022f3-0f95-43ec-9142-4f9cf7682721",
   "metadata": {
    "jp-MarkdownHeadingCollapsed": true,
    "tags": []
   },
   "source": [
    "## Handling multiple (assumed iid) observations"
   ]
  },
  {
   "cell_type": "code",
   "execution_count": 2,
   "id": "fa27c9fc-c2d1-4a6a-a5fc-1907bab07dd9",
   "metadata": {
    "tags": []
   },
   "outputs": [],
   "source": [
    "import sbi\n",
    "from sbi.inference import SNLE, prepare_for_sbi, simulate_for_sbi\n",
    "from sbi.inference import likelihood_estimator_based_potential, MCMCPosterior\n",
    "from sbi import utils as utils\n",
    "from sbi import analysis as analysis"
   ]
  },
  {
   "cell_type": "code",
   "execution_count": 35,
   "id": "1cc5c9cb-da66-4306-9975-a867ee7d01a9",
   "metadata": {
    "tags": []
   },
   "outputs": [],
   "source": [
    "'''This doesn't work bc you need to do a more complicated embedding network thing is using NPE\n",
    "   Doing so also requires more training data to be accurate according to documentation'''\n",
    "# x_o_all = torch.stack([x_o_1, x_o_2])\n",
    "# posterior_samples_all = posterior.sample((10000,), x=x_o_all)\n",
    "\n",
    "# # plot posterior samples\n",
    "# _ = analysis.pairplot(\n",
    "#     posterior_samples_all, limits=[[-2, 2], [-2, 2], [-2, 2]], figsize=(5, 5)\n",
    "# )"
   ]
  },
  {
   "cell_type": "code",
   "execution_count": 3,
   "id": "b51dc395-6314-4f76-be10-c396a3cf73ca",
   "metadata": {
    "tags": []
   },
   "outputs": [
    {
     "data": {
      "application/vnd.jupyter.widget-view+json": {
       "model_id": "ea186e0faf384e8e9b426f662a0f206b",
       "version_major": 2,
       "version_minor": 0
      },
      "text/plain": [
       "Running 2000 simulations.:   0%|          | 0/2000 [00:00<?, ?it/s]"
      ]
     },
     "metadata": {},
     "output_type": "display_data"
    },
    {
     "name": "stdout",
     "output_type": "stream",
     "text": [
      " Neural network successfully converged after 55 epochs."
     ]
    }
   ],
   "source": [
    "'''Instead lets use NLE'''\n",
    "num_dim = 3\n",
    "prior = utils.BoxUniform(low=-2 * torch.ones(num_dim), high=2 * torch.ones(num_dim))\n",
    "def linear_gaussian(theta):\n",
    "    return theta + 1.0 + torch.randn_like(theta) * 0.1\n",
    "simulator, prior = prepare_for_sbi(linear_gaussian, prior)\n",
    "inferer = SNLE(prior, show_progress_bars=True, density_estimator=\"mdn\")\n",
    "theta, x = simulate_for_sbi(simulator, proposal=prior, num_simulations=2000)\n",
    "inferer = inferer.append_simulations(theta, x)\n",
    "likelihood_estimator = inferer.train()"
   ]
  },
  {
   "cell_type": "code",
   "execution_count": 4,
   "id": "99b2828d-8a05-4aaf-be1b-16638b07a7df",
   "metadata": {
    "tags": []
   },
   "outputs": [],
   "source": [
    "'''Now try on multiple observations'''\n",
    "# x_o = torch.zeros(3,)\n",
    "# x_o = torch.stack([x_o, x_o])\n",
    "x_o = torch.stack([torch.zeros(3,), torch.zeros(3,), 2.0 * torch.ones(3,)])"
   ]
  },
  {
   "cell_type": "code",
   "execution_count": 5,
   "id": "430cc1ff-9a54-4a54-b710-f98d6de7f64e",
   "metadata": {
    "tags": []
   },
   "outputs": [
    {
     "name": "stderr",
     "output_type": "stream",
     "text": [
      "/Users/patrick/miniconda3/envs/sbi_env/lib/python3.11/site-packages/sbi/utils/sbiutils.py:342: UserWarning: An x with a batch size of 3 was passed. It will be interpreted as a batch of independent and identically\n",
      "            distributed data X={x_1, ..., x_n}, i.e., data generated based on the\n",
      "            same underlying (unknown) parameter. The resulting posterior will be with\n",
      "            respect to entire batch, i.e,. p(theta | X).\n",
      "  warnings.warn(\n"
     ]
    }
   ],
   "source": [
    "# mcmc_parameters = dict(\n",
    "#     num_chains=50,\n",
    "#     thin=10,\n",
    "#     warmup_steps=50,\n",
    "#     init_strategy=\"proposal\",\n",
    "# )\n",
    "# mcmc_method = \"slice_np_vectorized\"\n",
    "\n",
    "# posterior = inferer.build_posterior(\n",
    "#     mcmc_method=mcmc_method,\n",
    "#     mcmc_parameters=mcmc_parameters,\n",
    "# )\n",
    "\n",
    "'''Prefer this more explicit syntax'''\n",
    "potential_fn, parameter_transform = likelihood_estimator_based_potential(\n",
    "    likelihood_estimator, prior, x_o\n",
    ")\n",
    "posterior = MCMCPosterior(\n",
    "    potential_fn, proposal=prior, theta_transform=parameter_transform,\n",
    "    method = \"slice_np_vectorized\",\n",
    "    num_chains=50,\n",
    "    thin=10,\n",
    "    warmup_steps=50,\n",
    "    init_strategy=\"proposal\",\n",
    ")"
   ]
  },
  {
   "cell_type": "code",
   "execution_count": 6,
   "id": "2b029cad-97ee-4f0c-89de-89e345935e1e",
   "metadata": {
    "tags": []
   },
   "outputs": [
    {
     "data": {
      "application/vnd.jupyter.widget-view+json": {
       "model_id": "1f367248f5bb40e9850725898d7b52cc",
       "version_major": 2,
       "version_minor": 0
      },
      "text/plain": [
       "Running vectorized MCMC with 50 chains:   0%|          | 0/75000 [00:00<?, ?it/s]"
      ]
     },
     "metadata": {},
     "output_type": "display_data"
    }
   ],
   "source": [
    "num_samples = 5000\n",
    "# nle_samples = posterior.sample(sample_shape=(num_samples,), x=x_o)\n",
    "nle_samples = posterior.sample(sample_shape=(num_samples,))"
   ]
  },
  {
   "cell_type": "code",
   "execution_count": 7,
   "id": "91871b2a-a884-4475-9851-478eab06b10b",
   "metadata": {
    "collapsed": true,
    "jupyter": {
     "outputs_hidden": true
    },
    "tags": []
   },
   "outputs": [
    {
     "data": {
      "image/png": "[encoded data removed]",
      "text/plain": [
       "<Figure size 500x500 with 9 Axes>"
      ]
     },
     "metadata": {},
     "output_type": "display_data"
    }
   ],
   "source": [
    "# plot posterior samples\n",
    "_ = analysis.pairplot(\n",
    "    nle_samples, limits=[[-2, 2], [-2, 2], [-2, 2]], figsize=(5, 5)\n",
    ")"
   ]
  },
  {
   "cell_type": "markdown",
   "id": "3f5019f1-f09a-4ed0-9551-3068415b806a",
   "metadata": {
    "tags": []
   },
   "source": [
    "## Make sure it works if I write simulator in numpy"
   ]
  },
  {
   "cell_type": "code",
   "execution_count": 3,
   "id": "8b42b5d2-0789-4bb8-963d-23aeede51d85",
   "metadata": {
    "tags": []
   },
   "outputs": [
    {
     "data": {
      "application/vnd.jupyter.widget-view+json": {
       "model_id": "68ba8f723f3b449785bb4a1c0923bf51",
       "version_major": 2,
       "version_minor": 0
      },
      "text/plain": [
       "Running 2000 simulations.:   0%|          | 0/2000 [00:00<?, ?it/s]"
      ]
     },
     "metadata": {},
     "output_type": "display_data"
    },
    {
     "name": "stdout",
     "output_type": "stream",
     "text": [
      " Neural network successfully converged after 95 epochs."
     ]
    },
    {
     "name": "stderr",
     "output_type": "stream",
     "text": [
      "/Users/patrick/miniconda3/envs/sbi_env/lib/python3.11/site-packages/sbi/utils/sbiutils.py:342: UserWarning: An x with a batch size of 3 was passed. It will be interpreted as a batch of independent and identically\n",
      "            distributed data X={x_1, ..., x_n}, i.e., data generated based on the\n",
      "            same underlying (unknown) parameter. The resulting posterior will be with\n",
      "            respect to entire batch, i.e,. p(theta | X).\n",
      "  warnings.warn(\n"
     ]
    },
    {
     "data": {
      "application/vnd.jupyter.widget-view+json": {
       "model_id": "997c1367a07f4d25b9c39a0d1261ca0c",
       "version_major": 2,
       "version_minor": 0
      },
      "text/plain": [
       "Running vectorized MCMC with 50 chains:   0%|          | 0/75000 [00:00<?, ?it/s]"
      ]
     },
     "metadata": {},
     "output_type": "display_data"
    },
    {
     "data": {
      "image/png": "[encoded data removed]",
      "text/plain": [
       "<Figure size 500x500 with 9 Axes>"
      ]
     },
     "metadata": {},
     "output_type": "display_data"
    }
   ],
   "source": [
    "import sbi\n",
    "from sbi.inference import SNLE, prepare_for_sbi, simulate_for_sbi\n",
    "from sbi.inference import likelihood_estimator_based_potential, MCMCPosterior\n",
    "from sbi import utils as utils\n",
    "from sbi import analysis as analysis\n",
    "num_dim = 3\n",
    "prior = utils.BoxUniform(low=-2 * torch.ones(num_dim), high=2 * torch.ones(num_dim))\n",
    "def linear_gaussian(theta):\n",
    "    # return theta + 1.0 + torch.randn_like(theta) * 0.1\n",
    "    return theta + 1.0 + np.random.randn(np.shape(theta)[0]) * 0.1\n",
    "simulator, prior = prepare_for_sbi(linear_gaussian, prior)\n",
    "# all of the following work\n",
    "# linear_gaussian(np.zeros(3))\n",
    "# simulator(torch.tensor([0,0,0]))\n",
    "# simulator(np.zeros(3))\n",
    "inferer = SNLE(prior, show_progress_bars=True, density_estimator=\"mdn\")\n",
    "theta, x = simulate_for_sbi(simulator, proposal=prior, num_simulations=2000)\n",
    "inferer = inferer.append_simulations(theta, x)\n",
    "likelihood_estimator = inferer.train()\n",
    "x_o = torch.stack([torch.zeros(3,), torch.zeros(3,), 2.0 * torch.ones(3,)])\n",
    "potential_fn, parameter_transform = likelihood_estimator_based_potential(\n",
    "    likelihood_estimator, prior, x_o\n",
    ")\n",
    "posterior = MCMCPosterior(\n",
    "    potential_fn, proposal=prior, theta_transform=parameter_transform,\n",
    "    method = \"slice_np_vectorized\",\n",
    "    num_chains=50,\n",
    "    thin=10,\n",
    "    warmup_steps=50,\n",
    "    init_strategy=\"proposal\",\n",
    ")\n",
    "num_samples = 5000\n",
    "nle_samples = posterior.sample(sample_shape=(num_samples,))\n",
    "_ = analysis.pairplot(\n",
    "    nle_samples, limits=[[-2, 2], [-2, 2], [-2, 2]], figsize=(5, 5)\n",
    ")"
   ]
  },
  {
   "cell_type": "markdown",
   "id": "0eed5d85-1d6a-4902-87ca-fba1722fe7c2",
   "metadata": {
    "tags": []
   },
   "source": [
    "# My data"
   ]
  },
  {
   "cell_type": "code",
   "execution_count": 1,
   "id": "bf41f426-20ac-470e-b0a0-d72e6d1b3b02",
   "metadata": {
    "tags": []
   },
   "outputs": [],
   "source": [
    "import torch\n",
    "import numpy as np\n",
    "import sbi\n",
    "from sbi.inference import SNLE, prepare_for_sbi, simulate_for_sbi\n",
    "from sbi.inference import likelihood_estimator_based_potential, MCMCPosterior\n",
    "from sbi import utils as utils\n",
    "from sbi import analysis as analysis\n",
    "from torch.distributions import Uniform\n",
    "from sbi.utils import MultipleIndependent\n",
    "from torch import tensor"
   ]
  },
  {
   "cell_type": "markdown",
   "id": "a642644d-dad0-42f7-b253-68480fd0c13d",
   "metadata": {
    "jp-MarkdownHeadingCollapsed": true,
    "tags": []
   },
   "source": [
    "If posterior is hopelessly flat, can try fixing some paramters before doing inference. We could justify this well enough for an ecology journal, could argue on basis of 'expert knowledge'.\n",
    "\n",
    "Could also introduce constraints to the likelihood maximization similar to maxent proccess to account for things estimated from the data (e.g. mortality rates at yr 14) and/or expert knowledge (e.g. Keeley not worried about senescence -> $c_m=0$).\n",
    "\n",
    "<!-- Here's a continuous time version, parameter labels have changed:\n",
    "$\\frac{\\text{d}N}{\\text{d}t}=N\\Biggl[ \\delta_{t,t_{\\text{fire}}}~r_f(N,t^*)~+~\\Bigr(1-\\delta_{t,t_{\\text{fire}}}\\Bigl)~\\Bigl(r(t^*) - m(N,t^*)\\Bigr) \\Biggr]$\n",
    "\n",
    "$m(N,t^*)=m(t^*)\\Biggl[ 1~+~\\frac{\\nu(t^*)}{1+\\exp{(~-\\gamma~(N-K(t^*)A~)}} \\Biggr]$, <br /> -->\n",
    "\n",
    "with $A$ the area inhabitated by the population (aka patch area). For model fitting, assume patch size of $1~\\text{ha}$.\n",
    "\n",
    "If we assume mortality rates are approximately constant between timesteps (not actually valid, especially for young ages, but probably fine for our purposes), the probablity of an individual of age $a-1$ growing to age $a$ is $e^{-m_{a-1}(\\vec{N}(t))}$. To add demographic stochasticity, the number of survivors for a given timestep is drawn as: <br /> $\\text{num survivors} \\sim Bin\\Bigl( e^{(-m_{a-1}(\\vec{N})~\\epsilon_m)},~N_{a-1}(t) \\Bigr)$, <br /> with $\\epsilon_m$ a lognormally distributed environmental stochasticity term.\n",
    "\n",
    "Again assuming a constant rate per timestep, the number of seedlings (i.e. 1 yr olds) can similarly be approximated as: <br /> $\\text{num offspring} \\sim Poi\\Bigl( r(t^*)~\\epsilon_r,~N(t^*) \\Bigr)$.\n",
    "\n",
    "Reasonable priors for each parameter:\n",
    "- age-dependent 'baseline' mortality <br /> $m_a = \\alpha_m~e^{-\\beta_m~a} + \\gamma_m$\n",
    "    - $\\alpha_m \\sim \\mathcal{U}(0.1, 1.8)$  (guess 0.9)\n",
    "    - $\\beta_m \\sim \\mathcal{U}(0.1, 0.8)$  (guess 0.35)\n",
    "    - $\\gamma_m \\sim \\mathcal{U}(0,0.1)$  (guess 0.03)\n",
    "- environmental stochasticity in mortality <br /> $\\epsilon_m \\sim \\text{lognorm}(0,\\sigma_m~e^{-\\tau_m~a})$\n",
    "    - $\\sigma_m \\sim \\mathcal{U}(0, 0.6)$ (guess 0.1)\n",
    "    - $\\tau_m \\sim \\mathcal{U}(0, 0.1)$  (guess 0.02)\n",
    "<!-- - age-dependent maximum mortality  -->\n",
    "- age-dependent fractional change in survival <br /> $\\nu_a = \\alpha_{\\nu}~e^{-\\beta_{\\nu}~a} + \\gamma_{\\nu}$\n",
    "    - $\\alpha_{\\nu} \\sim \\mathcal{U} (0.2, 1.2)$ (guess 0.61854491)\n",
    "    - $\\beta_{\\nu} \\sim \\mathcal{U} (0.05, 0.5)$ (guess 0.18939423)\n",
    "    - $\\gamma_{\\nu} \\sim \\mathcal{U} (0.01, 0.12)$ (guess 0.08853605)\n",
    "- age-dependent carrying capacity <br /> $K_a = K_{seedling}~e^{-\\kappa~a} + K_{adult}$\n",
    "    - $K_{seedling} \\sim \\mathcal{U} (4000, 10000)$ (guess 6000)\n",
    "    - $\\kappa \\sim \\mathcal{U} (0.15, 0.45)$ (guess 0.3)\n",
    "    - $K_{adult} \\sim \\mathcal{U} (700, 1300)$ (guess 1024)\n",
    "- density dependence 'rate' (i.e. logistic function steepness) <br /> $\\eta \\sim \\mathcal{U} (0.01, 0.15)$ (guess 0.1)\n",
    "- age-dependent non-fire reproduction rate <br /> $r_a = e^{-\\beta_r~a}$\n",
    "    - $\\beta_r \\sim \\mathcal{U} (0.75,2.5)$ (guess 1.25)\n",
    "- environmental stochasticity in non-fire reproduction <br /> $\\epsilon_r \\sim \\text{lognorm}(0,\\sigma_r~e^{-\\tau_r~a})$\n",
    "    - $\\sigma_r \\sim \\mathcal{U} (0.75, 2)$ (guess 1.4)\n",
    "    - $\\tau_r \\sim \\mathcal{U} (0.15, 1.5)$\n",
    "\n",
    "For the simulations, we also need to treat the initial population size as a random parameter:\n",
    "- Initial population size <br /> $N_1(0) \\sim \\mathcal{U}(200, 16000)$"
   ]
  },
  {
   "cell_type": "code",
   "execution_count": 127,
   "id": "460754b4-33d1-4be1-ae74-cb3197b5df72",
   "metadata": {
    "tags": []
   },
   "outputs": [],
   "source": [
    "priors = [\n",
    "    # m_a\n",
    "    Uniform(tensor([0.1]), tensor([1.8])), \n",
    "    Uniform(tensor([0.1]), tensor([0.8])),\n",
    "    Uniform(tensor([0.]), tensor([0.1])),\n",
    "    # epsilon_m\n",
    "    Uniform(tensor([0.]), tensor([0.6])),\n",
    "    Uniform(tensor([0.]), tensor([0.1])),\n",
    "    # nu_a\n",
    "    Uniform(tensor([0.2]), tensor([1.2])),\n",
    "    Uniform(tensor([0.05]), tensor([0.5])),\n",
    "    Uniform(tensor([0.01]), tensor([0.12])),\n",
    "    # K_a\n",
    "    Uniform(tensor([4000.]), tensor([10000.])),\n",
    "    Uniform(tensor([0.15]), tensor([0.45])),\n",
    "    Uniform(tensor([700.]), tensor([1300.])),\n",
    "    # eta\n",
    "    Uniform(tensor([0.01]), tensor([0.15])),\n",
    "    # r_a\n",
    "    Uniform(tensor([0.75]), tensor([2.5])),\n",
    "    # epsilon_r\n",
    "    Uniform(tensor([0.75]), tensor([2.])),\n",
    "    Uniform(tensor([0.15]), tensor([1.5])),\n",
    "    # N_1(0)\n",
    "    Uniform(tensor([200.]), tensor([16000.]))\n",
    "]\n",
    "prior = MultipleIndependent(priors)"
   ]
  },
  {
   "cell_type": "code",
   "execution_count": 28,
   "id": "cbd50543-d27a-43ec-b78e-b65ab052f10b",
   "metadata": {
    "tags": []
   },
   "outputs": [],
   "source": [
    "# params = prior.sample().numpy(); params\n",
    "params = np.array([0.9,0.35,0.03,0.1,0.02,0.6185,0.189,0.088,6000,0.3,1024,0.1,1.25,1.4,0.3,16000])"
   ]
  },
  {
   "cell_type": "code",
   "execution_count": 120,
   "id": "b14c73ff-6698-464a-81c2-e6c37a9df3e6",
   "metadata": {
    "tags": []
   },
   "outputs": [],
   "source": [
    "def simulator(params):\n",
    "    # Assign parameter labels\n",
    "    alph_m = params[0]; beta_m = params[1]; gamm_m = params[2]\n",
    "    sigm_m = params[3]; tau_m = params[4]\n",
    "    alph_nu = params[5]; beta_nu = params[6]; gamm_nu = params[7]\n",
    "    K_seedling = params[8]; kappa = params[9]; K_adult = params[10]\n",
    "    eta = params[11]\n",
    "    beta_r = params[12]\n",
    "    sigm_r = params[13]; tau_r = params[14]\n",
    "    N_1_0 = params[15]\n",
    "    \n",
    "    t_vec = np.arange(1,15)\n",
    "    # print(t_vec)\n",
    "    N_vec = np.zeros(len(t_vec))\n",
    "    N_vec[0] = N_1_0\n",
    "    N_vec = N_vec.astype(int)\n",
    "    print(N_vec)\n",
    "    \n",
    "    m_a = alph_m * np.exp(-beta_m*t_vec) + gamm_m\n",
    "    # print(m_a) \n",
    "    r_a = np.exp(-beta_r*t_vec)\n",
    "    K_a = K_seedling * np.exp(-kappa*t_vec) + K_adult\n",
    "    nu_a = alph_nu * np.exp(-beta_nu*t_vec) + gamm_nu\n",
    "    \n",
    "    # For generating env stochasticity multipliers\n",
    "    rng = np.random.default_rng()\n",
    "    \n",
    "    for age_i, t in enumerate(t_vec[:-1]):\n",
    "        dens_dep = ((nu_a)*(1-m_a[age_i])) / (1 + np.exp(-eta*K_adult*(np.sum(N_vec/K_a))))\n",
    "        # print(dens_dep)\n",
    "        m_a_N = m_a + dens_dep\n",
    "        # print(adjusted_m_a)\n",
    "        epsilon_m = rng.lognormal(np.zeros_like(t_vec), sigm_m*np.exp(-tau_m*t_vec))\n",
    "        # print(epsilon_m)\n",
    "        # m_a_N = m_a_N * epsilon_m\n",
    "        survival_probs = np.exp(-m_a_N * epsilon_m)\n",
    "        # print(survival_probs)\n",
    "        num_survivors = rng.binomial(N_vec, survival_probs)\n",
    "        num_survivors = np.roll(num_survivors, 1)\n",
    "        # print(num_survivors)\n",
    "        epsilon_r = rng.lognormal(np.zeros_like(t_vec), sigm_r*np.exp(-tau_r*t_vec))\n",
    "        # print(r_a * epsilon_r)\n",
    "        num_births = rng.poisson(r_a*epsilon_r*N_vec)\n",
    "        print(num_births)\n",
    "        break"
   ]
  },
  {
   "cell_type": "code",
   "execution_count": 126,
   "id": "d54aa9a4-289f-4ce8-aaaa-f43a5281efdd",
   "metadata": {
    "tags": []
   },
   "outputs": [
    {
     "name": "stdout",
     "output_type": "stream",
     "text": [
      "[16000     0     0     0     0     0     0     0     0     0     0     0\n",
      "     0     0]\n",
      "[574   0   0   0   0   0   0   0   0   0   0   0   0   0]\n"
     ]
    }
   ],
   "source": [
    "simulator(params)"
   ]
  },
  {
   "cell_type": "code",
   "execution_count": 62,
   "id": "706d08d0-6147-4c39-b438-b5744c6d7914",
   "metadata": {
    "tags": []
   },
   "outputs": [],
   "source": [
    "test = np.array([2.1])"
   ]
  },
  {
   "cell_type": "code",
   "execution_count": 63,
   "id": "03c7353d-7a9f-4787-801f-05fe75fda8dd",
   "metadata": {
    "tags": []
   },
   "outputs": [
    {
     "data": {
      "text/plain": [
       "array([2])"
      ]
     },
     "execution_count": 63,
     "metadata": {},
     "output_type": "execute_result"
    }
   ],
   "source": [
    "test.astype(int)"
   ]
  },
  {
   "cell_type": "code",
   "execution_count": 33,
   "id": "aae1a312-1d61-47ba-84d9-5ed840082483",
   "metadata": {
    "tags": []
   },
   "outputs": [],
   "source": [
    "rng = np.random.default_rng()"
   ]
  },
  {
   "cell_type": "code",
   "execution_count": 19,
   "id": "331356df-e069-49f9-b7d0-1a00ea7b07de",
   "metadata": {
    "tags": []
   },
   "outputs": [
    {
     "data": {
      "text/plain": [
       "array([  6,  17, 104])"
      ]
     },
     "execution_count": 19,
     "metadata": {},
     "output_type": "execute_result"
    }
   ],
   "source": [
    "rng.binomial([10,100,1000], [0.5,0.25,0.1])"
   ]
  },
  {
   "cell_type": "code",
   "execution_count": null,
   "id": "40be7de8-5e13-45a8-9684-f6e6f5da647b",
   "metadata": {},
   "outputs": [],
   "source": []
  },
  {
   "cell_type": "code",
   "execution_count": 79,
   "id": "92a16267-dc6b-4afa-8d1c-223e1c718fbd",
   "metadata": {
    "tags": []
   },
   "outputs": [
    {
     "data": {
      "text/plain": [
       "torch.Size([16])"
      ]
     },
     "execution_count": 79,
     "metadata": {},
     "output_type": "execute_result"
    }
   ],
   "source": [
    "samp = test.sample(); samp.shape"
   ]
  },
  {
   "cell_type": "code",
   "execution_count": 80,
   "id": "77ab951f-869e-4dc5-a481-e3299121ca0b",
   "metadata": {
    "tags": []
   },
   "outputs": [
    {
     "data": {
      "text/plain": [
       "(MultipleIndependent(), 16, False)"
      ]
     },
     "execution_count": 80,
     "metadata": {},
     "output_type": "execute_result"
    }
   ],
   "source": [
    "utils.user_input_checks.process_prior(test)"
   ]
  },
  {
   "cell_type": "code",
   "execution_count": 75,
   "id": "924d73b6-845e-4c0b-9293-03ef946fba90",
   "metadata": {
    "tags": []
   },
   "outputs": [],
   "source": [
    "samp = test.sample(sample_shape=torch.Size([1500, 15]))"
   ]
  },
  {
   "cell_type": "code",
   "execution_count": 25,
   "id": "7e3a1609-baba-46a6-9aea-6c9ea26ebe8c",
   "metadata": {
    "tags": []
   },
   "outputs": [
    {
     "data": {
      "text/plain": [
       "3934.4782197124764"
      ]
     },
     "execution_count": 25,
     "metadata": {},
     "output_type": "execute_result"
    }
   ],
   "source": [
    "rng = np.random.default_rng()\n",
    "N0 = rng.uniform(200, 16000); N0"
   ]
  },
  {
   "cell_type": "code",
   "execution_count": null,
   "id": "b5859a4a-c673-4441-b13a-ff92afd611ba",
   "metadata": {},
   "outputs": [],
   "source": []
  }
 ],
 "metadata": {
  "kernelspec": {
   "display_name": "Python [conda env:sbi_env]",
   "language": "python",
   "name": "conda-env-sbi_env-py"
  },
  "language_info": {
   "codemirror_mode": {
    "name": "ipython",
    "version": 3
   },
   "file_extension": ".py",
   "mimetype": "text/x-python",
   "name": "python",
   "nbconvert_exporter": "python",
   "pygments_lexer": "ipython3",
   "version": "3.11.7"
  }
 },
 "nbformat": 4,
 "nbformat_minor": 5
}
