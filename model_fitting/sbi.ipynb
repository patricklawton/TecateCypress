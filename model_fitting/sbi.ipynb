{
 "cells": [
  {
   "cell_type": "markdown",
   "id": "4b1c40f9-d8ac-415a-a8d5-6851c9aa75fa",
   "metadata": {
    "tags": []
   },
   "source": [
    "# Learning sbi"
   ]
  },
  {
   "cell_type": "code",
   "execution_count": 1,
   "id": "5637d7dc-8d76-4cea-8552-7af485632064",
   "metadata": {
    "tags": []
   },
   "outputs": [],
   "source": [
    "import torch\n",
    "import numpy as np"
   ]
  },
  {
   "cell_type": "markdown",
   "id": "26b14617-0259-409f-8436-45fc426c331d",
   "metadata": {
    "jp-MarkdownHeadingCollapsed": true,
    "tags": []
   },
   "source": [
    "## fast interface"
   ]
  },
  {
   "cell_type": "code",
   "execution_count": null,
   "id": "934c1b60-8248-4515-8502-740339988cab",
   "metadata": {},
   "outputs": [],
   "source": [
    "from sbi import utils as utils\n",
    "from sbi import analysis as analysis\n",
    "from sbi.inference.base import infer"
   ]
  },
  {
   "cell_type": "code",
   "execution_count": 2,
   "id": "8085f943-5ff8-4213-aa78-bc520ca2588b",
   "metadata": {
    "tags": []
   },
   "outputs": [
    {
     "data": {
      "application/vnd.jupyter.widget-view+json": {
       "model_id": "c456e69cd69445e385fde499e2cf2995",
       "version_major": 2,
       "version_minor": 0
      },
      "text/plain": [
       "Running 1000 simulations.:   0%|          | 0/1000 [00:00<?, ?it/s]"
      ]
     },
     "metadata": {},
     "output_type": "display_data"
    },
    {
     "name": "stdout",
     "output_type": "stream",
     "text": [
      " Neural network successfully converged after 116 epochs."
     ]
    },
    {
     "data": {
      "application/vnd.jupyter.widget-view+json": {
       "model_id": "0ad138e0d30a4cb982c47d4438d5365d",
       "version_major": 2,
       "version_minor": 0
      },
      "text/plain": [
       "Drawing 10000 posterior samples:   0%|          | 0/10000 [00:00<?, ?it/s]"
      ]
     },
     "metadata": {},
     "output_type": "display_data"
    },
    {
     "data": {
      "image/png": "[encoded data removed]",
      "text/plain": [
       "<Figure size 500x500 with 9 Axes>"
      ]
     },
     "metadata": {},
     "output_type": "display_data"
    }
   ],
   "source": [
    "num_dim = 3\n",
    "prior = utils.BoxUniform(low=-2 * torch.ones(num_dim), high=2 * torch.ones(num_dim))\n",
    "def linear_gaussian(theta):\n",
    "    return theta + 1.0 + torch.randn_like(theta) * 0.1\n",
    "posterior = infer(linear_gaussian, prior, \"SNPE\", num_simulations=1000)\n",
    "x_o_1 = torch.zeros(3,)\n",
    "x_o_2 = 2.0 * torch.ones(3,)\n",
    "posterior_samples_1 = posterior.sample((10000,), x=x_o_1)\n",
    "\n",
    "# plot posterior samples\n",
    "_ = analysis.pairplot(\n",
    "    posterior_samples_1, limits=[[-2, 2], [-2, 2], [-2, 2]], figsize=(5, 5)\n",
    ")"
   ]
  },
  {
   "cell_type": "code",
   "execution_count": 12,
   "id": "7de24e76-45b1-4d30-916f-d4263e2be8b9",
   "metadata": {
    "tags": []
   },
   "outputs": [
    {
     "data": {
      "text/plain": [
       "tensor([0.3438, 0.3208, 1.5500])"
      ]
     },
     "execution_count": 12,
     "metadata": {},
     "output_type": "execute_result"
    }
   ],
   "source": [
    "prior.sample()"
   ]
  },
  {
   "cell_type": "markdown",
   "id": "a90b227c-63b1-4bbd-a99e-7cb93122541e",
   "metadata": {
    "jp-MarkdownHeadingCollapsed": true,
    "tags": []
   },
   "source": [
    "## flexible interface"
   ]
  },
  {
   "cell_type": "code",
   "execution_count": 2,
   "id": "3baf1cb9-babd-4927-9503-73ee91b5278a",
   "metadata": {
    "tags": []
   },
   "outputs": [],
   "source": [
    "import sbi\n",
    "from sbi.inference import SNPE, prepare_for_sbi, simulate_for_sbi\n",
    "# from sbi.utils.get_nn_models import posterior_nn\n",
    "from sbi import utils as utils\n",
    "from sbi import analysis as analysis"
   ]
  },
  {
   "cell_type": "code",
   "execution_count": 3,
   "id": "76a5a25a-0681-4417-877f-a18836c95a7a",
   "metadata": {
    "tags": []
   },
   "outputs": [
    {
     "data": {
      "application/vnd.jupyter.widget-view+json": {
       "model_id": "1a6bd9aa884e49008f7f9d84694c4ee0",
       "version_major": 2,
       "version_minor": 0
      },
      "text/plain": [
       "Running 2000 simulations.:   0%|          | 0/2000 [00:00<?, ?it/s]"
      ]
     },
     "metadata": {},
     "output_type": "display_data"
    },
    {
     "name": "stdout",
     "output_type": "stream",
     "text": [
      " Neural network successfully converged after 55 epochs."
     ]
    }
   ],
   "source": [
    "num_dim = 3\n",
    "prior = utils.BoxUniform(low=-2 * torch.ones(num_dim), high=2 * torch.ones(num_dim))\n",
    "def linear_gaussian(theta):\n",
    "    return theta + 1.0 + torch.randn_like(theta) * 0.1\n",
    "\n",
    "simulator, prior = prepare_for_sbi(linear_gaussian, prior)\n",
    "inference = SNPE(prior=prior)\n",
    "theta, x = simulate_for_sbi(simulator, proposal=prior, num_simulations=2000)\n",
    "inference = inference.append_simulations(theta, x)\n",
    "density_estimator = inference.train()\n",
    "posterior = inference.build_posterior(density_estimator)"
   ]
  },
  {
   "cell_type": "code",
   "execution_count": 4,
   "id": "95b10cee-636f-4d0b-8e39-3617b95c6476",
   "metadata": {
    "tags": []
   },
   "outputs": [
    {
     "data": {
      "application/vnd.jupyter.widget-view+json": {
       "model_id": "2341df2600464470a5362283ad67e0ec",
       "version_major": 2,
       "version_minor": 0
      },
      "text/plain": [
       "Drawing 10000 posterior samples:   0%|          | 0/10000 [00:00<?, ?it/s]"
      ]
     },
     "metadata": {},
     "output_type": "display_data"
    },
    {
     "data": {
      "image/png": "[encoded data removed]",
      "text/plain": [
       "<Figure size 500x500 with 9 Axes>"
      ]
     },
     "metadata": {},
     "output_type": "display_data"
    }
   ],
   "source": [
    "x_o_1 = torch.zeros(3,)\n",
    "x_o_2 = 2.0 * torch.ones(3,)\n",
    "posterior_samples_1 = posterior.sample((10000,), x=x_o_1)\n",
    "\n",
    "# plot posterior samples\n",
    "_ = analysis.pairplot(\n",
    "    posterior_samples_1, limits=[[-2, 2], [-2, 2], [-2, 2]], figsize=(5, 5)\n",
    ")"
   ]
  },
  {
   "cell_type": "code",
   "execution_count": 29,
   "id": "cf37fac6-ab82-4407-bebb-e978cd1bfbfc",
   "metadata": {
    "tags": []
   },
   "outputs": [
    {
     "data": {
      "application/vnd.jupyter.widget-view+json": {
       "model_id": "9fd615e796e24260bd12487ea6f22351",
       "version_major": 2,
       "version_minor": 0
      },
      "text/plain": [
       "Drawing 1000 posterior samples:   0%|          | 0/1000 [00:00<?, ?it/s]"
      ]
     },
     "metadata": {},
     "output_type": "display_data"
    },
    {
     "data": {
      "text/plain": [
       "tensor([[-1.0214, -1.0065, -0.9915]])"
      ]
     },
     "execution_count": 29,
     "metadata": {},
     "output_type": "execute_result"
    }
   ],
   "source": [
    "# Calc Max A Posteriori parameter estimate via gradient ascent given one observation\n",
    "posterior.set_default_x(x_o_1)\n",
    "_map = posterior.map(num_iter=2000); _map"
   ]
  },
  {
   "cell_type": "markdown",
   "id": "77a022f3-0f95-43ec-9142-4f9cf7682721",
   "metadata": {
    "jp-MarkdownHeadingCollapsed": true,
    "tags": []
   },
   "source": [
    "## Handling multiple (assumed iid) observations"
   ]
  },
  {
   "cell_type": "code",
   "execution_count": 2,
   "id": "fa27c9fc-c2d1-4a6a-a5fc-1907bab07dd9",
   "metadata": {
    "tags": []
   },
   "outputs": [],
   "source": [
    "import sbi\n",
    "from sbi.inference import SNLE, prepare_for_sbi, simulate_for_sbi\n",
    "from sbi.inference import likelihood_estimator_based_potential, MCMCPosterior\n",
    "from sbi import utils as utils\n",
    "from sbi import analysis as analysis"
   ]
  },
  {
   "cell_type": "code",
   "execution_count": 35,
   "id": "1cc5c9cb-da66-4306-9975-a867ee7d01a9",
   "metadata": {
    "tags": []
   },
   "outputs": [],
   "source": [
    "'''This doesn't work bc you need to do a more complicated embedding network thing is using NPE\n",
    "   Doing so also requires more training data to be accurate according to documentation'''\n",
    "# x_o_all = torch.stack([x_o_1, x_o_2])\n",
    "# posterior_samples_all = posterior.sample((10000,), x=x_o_all)\n",
    "\n",
    "# # plot posterior samples\n",
    "# _ = analysis.pairplot(\n",
    "#     posterior_samples_all, limits=[[-2, 2], [-2, 2], [-2, 2]], figsize=(5, 5)\n",
    "# )"
   ]
  },
  {
   "cell_type": "code",
   "execution_count": 3,
   "id": "b51dc395-6314-4f76-be10-c396a3cf73ca",
   "metadata": {
    "tags": []
   },
   "outputs": [
    {
     "data": {
      "application/vnd.jupyter.widget-view+json": {
       "model_id": "ea186e0faf384e8e9b426f662a0f206b",
       "version_major": 2,
       "version_minor": 0
      },
      "text/plain": [
       "Running 2000 simulations.:   0%|          | 0/2000 [00:00<?, ?it/s]"
      ]
     },
     "metadata": {},
     "output_type": "display_data"
    },
    {
     "name": "stdout",
     "output_type": "stream",
     "text": [
      " Neural network successfully converged after 55 epochs."
     ]
    }
   ],
   "source": [
    "'''Instead lets use NLE'''\n",
    "num_dim = 3\n",
    "prior = utils.BoxUniform(low=-2 * torch.ones(num_dim), high=2 * torch.ones(num_dim))\n",
    "def linear_gaussian(theta):\n",
    "    return theta + 1.0 + torch.randn_like(theta) * 0.1\n",
    "simulator, prior = prepare_for_sbi(linear_gaussian, prior)\n",
    "inferer = SNLE(prior, show_progress_bars=True, density_estimator=\"mdn\")\n",
    "theta, x = simulate_for_sbi(simulator, proposal=prior, num_simulations=2000)\n",
    "inferer = inferer.append_simulations(theta, x)\n",
    "likelihood_estimator = inferer.train()"
   ]
  },
  {
   "cell_type": "code",
   "execution_count": 4,
   "id": "99b2828d-8a05-4aaf-be1b-16638b07a7df",
   "metadata": {
    "tags": []
   },
   "outputs": [],
   "source": [
    "'''Now try on multiple observations'''\n",
    "# x_o = torch.zeros(3,)\n",
    "# x_o = torch.stack([x_o, x_o])\n",
    "x_o = torch.stack([torch.zeros(3,), torch.zeros(3,), 2.0 * torch.ones(3,)])"
   ]
  },
  {
   "cell_type": "code",
   "execution_count": 5,
   "id": "430cc1ff-9a54-4a54-b710-f98d6de7f64e",
   "metadata": {
    "tags": []
   },
   "outputs": [
    {
     "name": "stderr",
     "output_type": "stream",
     "text": [
      "/Users/patrick/miniconda3/envs/sbi_env/lib/python3.11/site-packages/sbi/utils/sbiutils.py:342: UserWarning: An x with a batch size of 3 was passed. It will be interpreted as a batch of independent and identically\n",
      "            distributed data X={x_1, ..., x_n}, i.e., data generated based on the\n",
      "            same underlying (unknown) parameter. The resulting posterior will be with\n",
      "            respect to entire batch, i.e,. p(theta | X).\n",
      "  warnings.warn(\n"
     ]
    }
   ],
   "source": [
    "# mcmc_parameters = dict(\n",
    "#     num_chains=50,\n",
    "#     thin=10,\n",
    "#     warmup_steps=50,\n",
    "#     init_strategy=\"proposal\",\n",
    "# )\n",
    "# mcmc_method = \"slice_np_vectorized\"\n",
    "\n",
    "# posterior = inferer.build_posterior(\n",
    "#     mcmc_method=mcmc_method,\n",
    "#     mcmc_parameters=mcmc_parameters,\n",
    "# )\n",
    "\n",
    "'''Prefer this more explicit syntax'''\n",
    "potential_fn, parameter_transform = likelihood_estimator_based_potential(\n",
    "    likelihood_estimator, prior, x_o\n",
    ")\n",
    "posterior = MCMCPosterior(\n",
    "    potential_fn, proposal=prior, theta_transform=parameter_transform,\n",
    "    method = \"slice_np_vectorized\",\n",
    "    num_chains=50,\n",
    "    thin=10,\n",
    "    warmup_steps=50,\n",
    "    init_strategy=\"proposal\",\n",
    ")"
   ]
  },
  {
   "cell_type": "code",
   "execution_count": 6,
   "id": "2b029cad-97ee-4f0c-89de-89e345935e1e",
   "metadata": {
    "tags": []
   },
   "outputs": [
    {
     "data": {
      "application/vnd.jupyter.widget-view+json": {
       "model_id": "1f367248f5bb40e9850725898d7b52cc",
       "version_major": 2,
       "version_minor": 0
      },
      "text/plain": [
       "Running vectorized MCMC with 50 chains:   0%|          | 0/75000 [00:00<?, ?it/s]"
      ]
     },
     "metadata": {},
     "output_type": "display_data"
    }
   ],
   "source": [
    "num_samples = 5000\n",
    "# nle_samples = posterior.sample(sample_shape=(num_samples,), x=x_o)\n",
    "nle_samples = posterior.sample(sample_shape=(num_samples,))"
   ]
  },
  {
   "cell_type": "code",
   "execution_count": 7,
   "id": "91871b2a-a884-4475-9851-478eab06b10b",
   "metadata": {
    "collapsed": true,
    "jupyter": {
     "outputs_hidden": true
    },
    "tags": []
   },
   "outputs": [
    {
     "data": {
      "image/png": "[encoded data removed]",
      "text/plain": [
       "<Figure size 500x500 with 9 Axes>"
      ]
     },
     "metadata": {},
     "output_type": "display_data"
    }
   ],
   "source": [
    "# plot posterior samples\n",
    "_ = analysis.pairplot(\n",
    "    nle_samples, limits=[[-2, 2], [-2, 2], [-2, 2]], figsize=(5, 5)\n",
    ")"
   ]
  },
  {
   "cell_type": "markdown",
   "id": "3f5019f1-f09a-4ed0-9551-3068415b806a",
   "metadata": {
    "jp-MarkdownHeadingCollapsed": true,
    "tags": []
   },
   "source": [
    "## Make sure it works if I write simulator in numpy"
   ]
  },
  {
   "cell_type": "code",
   "execution_count": 2,
   "id": "8b42b5d2-0789-4bb8-963d-23aeede51d85",
   "metadata": {
    "collapsed": true,
    "jupyter": {
     "outputs_hidden": true
    },
    "tags": []
   },
   "outputs": [
    {
     "data": {
      "application/vnd.jupyter.widget-view+json": {
       "model_id": "53a64b77aaf3420dad91f78c33d58a1f",
       "version_major": 2,
       "version_minor": 0
      },
      "text/plain": [
       "Running 2000 simulations.:   0%|          | 0/2000 [00:00<?, ?it/s]"
      ]
     },
     "metadata": {},
     "output_type": "display_data"
    },
    {
     "name": "stdout",
     "output_type": "stream",
     "text": [
      " Neural network successfully converged after 62 epochs.[[-2.3752413  -1.8402944   0.66075826]\n",
      " [-0.7446395   1.6399981  -0.09284437]\n",
      " [ 1.0155185   0.5165813   1.9327735 ]\n",
      " [ 1.8704715   4.1702466   1.0619937 ]\n",
      " [-0.62625945  2.0456681  -0.25942755]\n",
      " [ 3.169123   -2.7876709   1.6391056 ]\n",
      " [-1.0576285  -6.6930766   3.8927157 ]\n",
      " [-0.31481344  1.0527916   2.0495055 ]\n",
      " [ 4.360827   -1.9192369  -4.626521  ]\n",
      " [-0.29605746  0.11806017 -1.5356834 ]\n",
      " [ 1.3076115  -0.7033732   0.90311885]\n",
      " [-7.336255    1.4881345   1.40351   ]\n",
      " [ 0.13928956 -3.2057645   3.0549057 ]\n",
      " [-1.480598    1.2748239  -0.29142308]\n",
      " [-1.1629584   0.62099886 -0.928661  ]\n",
      " [-2.8937027   2.3672118   2.3840036 ]\n",
      " [-2.6247194  -0.42995173 -0.30641067]\n",
      " [ 1.8868132  -0.71977687  0.6296871 ]\n",
      " [-0.40978098 -4.1364985   6.660633  ]\n",
      " [-3.225205    1.2003578   1.9605362 ]\n",
      " [ 0.31454366 -3.0544467   0.6912242 ]\n",
      " [-2.8947368  -2.3031206   1.4395708 ]\n",
      " [ 1.1017206   2.4683826  -1.4116527 ]\n",
      " [-0.5946991   2.6091888   2.2235093 ]\n",
      " [-1.5029671   0.32776195  4.204675  ]\n",
      " [ 0.71528375  2.9407618   3.246779  ]\n",
      " [ 1.4658884   0.4740349   2.5760987 ]\n",
      " [-0.05050516  0.11284631  0.9290656 ]\n",
      " [ 1.0368454   0.54575133  2.0363593 ]\n",
      " [ 1.7400458  -0.24667197  0.09438938]\n",
      " [-1.2865813   0.3128128   0.55114424]\n",
      " [-5.41362    -1.3779927   0.5678427 ]\n",
      " [ 1.0487543   1.3392061   5.5014067 ]\n",
      " [ 0.9539411   1.4356236  -1.0759002 ]\n",
      " [-0.3115387   0.79262686  0.6336007 ]\n",
      " [-0.98154044  1.4967704   3.3105414 ]\n",
      " [ 1.3129193  -1.1493981  -5.12972   ]\n",
      " [ 1.8903911  -1.3621063  -0.35557413]\n",
      " [ 3.6782238  -1.4395074  -1.5790132 ]\n",
      " [ 3.3855162   2.0161457   0.07445478]\n",
      " [-1.1948986   0.6112417  -2.1522717 ]\n",
      " [-0.34201306 -2.97975     1.3992552 ]\n",
      " [-1.6355445  -2.0156918  -1.0885031 ]\n",
      " [ 0.23091453 -0.1405651  -1.6752825 ]\n",
      " [ 1.1638156  -1.6167103  -0.32339412]\n",
      " [ 0.7136433   1.9357324   0.3302499 ]\n",
      " [ 0.5609106   1.0124174  -1.613748  ]\n",
      " [ 0.72768766  1.0007163   0.06974262]\n",
      " [-1.5963721   3.472352   -0.9117131 ]\n",
      " [-0.76591504 -2.234065   -0.05280626]]\n",
      "<class 'float'> 0.01\n",
      "[0, 1, 2]\n",
      "[1, 2, 0]\n",
      "[0, 1, 2]\n",
      "[2, 1, 0]\n",
      "[0, 1, 2]\n",
      "[0, 1, 2]\n",
      "[0, 1, 2]\n",
      "[2, 0, 1]\n",
      "[0, 1, 2]\n",
      "[2, 0, 1]\n",
      "[0, 1, 2]\n",
      "[0, 1, 2]\n",
      "[0, 1, 2]\n",
      "[0, 2, 1]\n",
      "[0, 1, 2]\n",
      "[2, 0, 1]\n",
      "[0, 1, 2]\n",
      "[0, 1, 2]\n",
      "[0, 1, 2]\n",
      "[0, 1, 2]\n",
      "[0, 1, 2]\n",
      "[2, 1, 0]\n",
      "[0, 1, 2]\n",
      "[0, 1, 2]\n",
      "[0, 1, 2]\n",
      "[0, 1, 2]\n",
      "[0, 1, 2]\n",
      "[1, 0, 2]\n",
      "[0, 1, 2]\n",
      "[0, 1, 2]\n",
      "[0, 1, 2]\n",
      "[2, 0, 1]\n",
      "[0, 1, 2]\n",
      "[0, 2, 1]\n",
      "[0, 1, 2]\n",
      "[2, 0, 1]\n",
      "[0, 1, 2]\n",
      "[1, 0, 2]\n",
      "[0, 1, 2]\n",
      "[0, 1, 2]\n",
      "[0, 1, 2]\n",
      "[1, 2, 0]\n",
      "[0, 1, 2]\n",
      "[1, 0, 2]\n",
      "[0, 1, 2]\n",
      "[2, 0, 1]\n",
      "[0, 1, 2]\n",
      "[0, 1, 2]\n",
      "[0, 1, 2]\n",
      "[2, 1, 0]\n",
      "[0, 1, 2]\n",
      "[2, 1, 0]\n",
      "[0, 1, 2]\n",
      "[2, 1, 0]\n",
      "[0, 1, 2]\n",
      "[0, 2, 1]\n",
      "[0, 1, 2]\n",
      "[2, 0, 1]\n",
      "[0, 1, 2]\n",
      "[2, 0, 1]\n",
      "[0, 1, 2]\n",
      "[1, 0, 2]\n",
      "[0, 1, 2]\n",
      "[2, 0, 1]\n",
      "[0, 1, 2]\n",
      "[0, 1, 2]\n",
      "[0, 1, 2]\n",
      "[0, 2, 1]\n",
      "[0, 1, 2]\n",
      "[0, 2, 1]\n",
      "[0, 1, 2]\n",
      "[2, 1, 0]\n",
      "[0, 1, 2]\n",
      "[1, 2, 0]\n",
      "[0, 1, 2]\n",
      "[0, 1, 2]\n",
      "[0, 1, 2]\n",
      "[1, 0, 2]\n",
      "[0, 1, 2]\n",
      "[1, 2, 0]\n",
      "[0, 1, 2]\n",
      "[1, 0, 2]\n",
      "[0, 1, 2]\n",
      "[2, 0, 1]\n",
      "[0, 1, 2]\n",
      "[0, 1, 2]\n",
      "[0, 1, 2]\n",
      "[1, 0, 2]\n",
      "[0, 1, 2]\n",
      "[0, 2, 1]\n",
      "[0, 1, 2]\n",
      "[1, 0, 2]\n",
      "[0, 1, 2]\n",
      "[1, 2, 0]\n",
      "[0, 1, 2]\n",
      "[1, 0, 2]\n",
      "[0, 1, 2]\n",
      "[2, 1, 0]\n",
      "[0, 1, 2]\n",
      "[1, 0, 2]\n"
     ]
    },
    {
     "name": "stderr",
     "output_type": "stream",
     "text": [
      "/Users/patrick/miniconda3/envs/sbi_env/lib/python3.11/site-packages/sbi/utils/sbiutils.py:342: UserWarning: An x with a batch size of 3 was passed. It will be interpreted as a batch of independent and identically\n",
      "            distributed data X={x_1, ..., x_n}, i.e., data generated based on the\n",
      "            same underlying (unknown) parameter. The resulting posterior will be with\n",
      "            respect to entire batch, i.e,. p(theta | X).\n",
      "  warnings.warn(\n"
     ]
    },
    {
     "data": {
      "application/vnd.jupyter.widget-view+json": {
       "model_id": "261bb585a0284ded81c12ba898b7bec5",
       "version_major": 2,
       "version_minor": 0
      },
      "text/plain": [
       "Running vectorized MCMC with 50 chains:   0%|          | 0/75000 [00:00<?, ?it/s]"
      ]
     },
     "metadata": {},
     "output_type": "display_data"
    },
    {
     "data": {
      "image/png": "[encoded data removed]",
      "text/plain": [
       "<Figure size 500x500 with 9 Axes>"
      ]
     },
     "metadata": {},
     "output_type": "display_data"
    }
   ],
   "source": [
    "import sbi\n",
    "from sbi.inference import SNLE, prepare_for_sbi, simulate_for_sbi\n",
    "from sbi.inference import likelihood_estimator_based_potential, MCMCPosterior\n",
    "from sbi import utils as utils\n",
    "from sbi import analysis as analysis\n",
    "num_dim = 3\n",
    "prior = utils.BoxUniform(low=-2 * torch.ones(num_dim), high=2 * torch.ones(num_dim))\n",
    "def linear_gaussian(theta):\n",
    "    # return theta + 1.0 + torch.randn_like(theta) * 0.1\n",
    "    return theta + 1.0 + np.random.randn(np.shape(theta)[0]) * 0.1\n",
    "simulator, prior = prepare_for_sbi(linear_gaussian, prior)\n",
    "# all of the following work\n",
    "# linear_gaussian(np.zeros(3))\n",
    "# simulator(torch.tensor([0,0,0]))\n",
    "# simulator(np.zeros(3))\n",
    "inferer = SNLE(prior, show_progress_bars=True, density_estimator=\"mdn\")\n",
    "theta, x = simulate_for_sbi(simulator, proposal=prior, num_simulations=2000)\n",
    "inferer = inferer.append_simulations(theta, x)\n",
    "likelihood_estimator = inferer.train()\n",
    "x_o = torch.stack([torch.zeros(3,), torch.zeros(3,), 2.0 * torch.ones(3,)])\n",
    "potential_fn, parameter_transform = likelihood_estimator_based_potential(\n",
    "    likelihood_estimator, prior, x_o\n",
    ")\n",
    "posterior = MCMCPosterior(\n",
    "    potential_fn, proposal=prior, theta_transform=parameter_transform,\n",
    "    method = \"slice_np_vectorized\",\n",
    "    num_chains=50,\n",
    "    thin=10,\n",
    "    warmup_steps=50,\n",
    "    init_strategy=\"proposal\",\n",
    ")\n",
    "num_samples = 5000\n",
    "nle_samples = posterior.sample(sample_shape=(num_samples,))\n",
    "_ = analysis.pairplot(\n",
    "    nle_samples, limits=[[-2, 2], [-2, 2], [-2, 2]], figsize=(5, 5)\n",
    ")"
   ]
  },
  {
   "cell_type": "code",
   "execution_count": 10,
   "id": "d1f2bf0d-cd68-415f-a7e1-a680f262ea42",
   "metadata": {
    "tags": []
   },
   "outputs": [
    {
     "data": {
      "text/plain": [
       "torch.Size([5000, 3])"
      ]
     },
     "execution_count": 10,
     "metadata": {},
     "output_type": "execute_result"
    }
   ],
   "source": [
    "nle_samples.shape"
   ]
  },
  {
   "cell_type": "code",
   "execution_count": 6,
   "id": "5e9a2d16-22f7-4ff3-a502-31e45733671d",
   "metadata": {
    "tags": []
   },
   "outputs": [],
   "source": [
    "torch.save(nle_samples, 'test.pkl')"
   ]
  },
  {
   "cell_type": "code",
   "execution_count": 7,
   "id": "41b4f7d8-82a7-4328-8a78-d75e655a3804",
   "metadata": {
    "tags": []
   },
   "outputs": [
    {
     "data": {
      "text/plain": [
       "tensor([[-0.9393, -0.9943, -1.0256],\n",
       "        [-0.8271, -0.8672, -0.8944],\n",
       "        [-0.9709, -0.9261, -0.9967],\n",
       "        ...,\n",
       "        [-0.6582, -0.8484, -0.9780],\n",
       "        [-0.2469, -0.8311, -0.9269],\n",
       "        [-0.7210, -1.0130, -0.8913]])"
      ]
     },
     "execution_count": 7,
     "metadata": {},
     "output_type": "execute_result"
    }
   ],
   "source": [
    "torch.load('test.pkl')"
   ]
  },
  {
   "cell_type": "markdown",
   "id": "0eed5d85-1d6a-4902-87ca-fba1722fe7c2",
   "metadata": {
    "tags": []
   },
   "source": [
    "# My data"
   ]
  },
  {
   "cell_type": "markdown",
   "id": "a642644d-dad0-42f7-b253-68480fd0c13d",
   "metadata": {
    "jupyter": {
     "source_hidden": true
    },
    "tags": []
   },
   "source": [
    "If posterior is hopelessly flat, can try fixing some paramters before doing inference. We could justify this well enough for an ecology journal, could argue on basis of 'expert knowledge'.\n",
    "\n",
    "Could also introduce constraints to the likelihood maximization similar to maxent proccess to account for things estimated from the data (e.g. mortality rates at yr 14) and/or expert knowledge (e.g. Keeley not worried about senescence -> $c_m=0$, non-fire reproduction should go to basically zero after post-fire yr 2).\n",
    "\n",
    "<!-- Here's a continuous time version, parameter labels have changed:\n",
    "$\\frac{\\text{d}N}{\\text{d}t}=N\\Biggl[ \\delta_{t,t_{\\text{fire}}}~r_f(N,t^*)~+~\\Bigr(1-\\delta_{t,t_{\\text{fire}}}\\Bigl)~\\Bigl(r(t^*) - m(N,t^*)\\Bigr) \\Biggr]$\n",
    "\n",
    "$m(N,t^*)=m(t^*)\\Biggl[ 1~+~\\frac{\\nu(t^*)}{1+\\exp{(~-\\gamma~(N-K(t^*)A~)}} \\Biggr]$, <br /> -->\n",
    "\n",
    "with $A$ the area inhabitated by the population (aka patch area). For model fitting, assume patch size of $1~\\text{ha}$.\n",
    "\n",
    "If we assume mortality rates are approximately constant between timesteps (not actually valid, especially for young ages, but probably fine for our purposes), the probablity of an individual of age $a-1$ growing to age $a$ is $e^{-m_{a-1}(\\vec{N}(t))}$. To add demographic stochasticity, the number of survivors for a given timestep is drawn as: <br /> $\\text{num survivors} \\sim Bin\\Bigl( e^{(-m_{a-1}(\\vec{N})~\\epsilon_m)},~N_{a-1}(t) \\Bigr)$, <br /> with $\\epsilon_m$ a lognormally distributed environmental stochasticity term.\n",
    "\n",
    "Again assuming a constant rate per timestep, the number of seedlings (i.e. 1 yr olds) can similarly be approximated as: <br /> $\\text{num offspring} \\sim Poi\\Bigl( r(t^*)~\\epsilon_r~N(t^*) \\Bigr)$.\n",
    "\n",
    "Reasonable priors for each parameter:\n",
    "- age-dependent 'baseline' mortality <br /> $m_a = \\alpha_m~e^{-\\beta_m~a} + \\gamma_m$\n",
    "    - $\\alpha_m \\sim \\mathcal{U}(0.1, 1.8)$  (guess 0.9)\n",
    "    - $\\beta_m \\sim \\mathcal{U}(0.1, 0.8)$  (guess 0.35)\n",
    "    - $\\gamma_m \\sim \\mathcal{U}(0,0.1)$  (guess 0.03)\n",
    "- environmental stochasticity in mortality <br /> $\\epsilon_m \\sim \\text{lognorm}(0,\\sigma_m~e^{-\\tau_m~a})$\n",
    "    - log-mean fixed at zero bc we want this centered around 1\n",
    "    - $\\sigma_m \\sim \\mathcal{U}(0, 0.6)$ (guess 0.1)\n",
    "    - $\\tau_m \\sim \\mathcal{U}(0, 0.1)$  (guess 0.02)\n",
    "<!-- - age-dependent maximum mortality  -->\n",
    "- age-dependent fractional change in survival <br /> $\\nu_a = \\alpha_{\\nu}~e^{-\\beta_{\\nu}~a} + \\gamma_{\\nu}$\n",
    "    - $\\alpha_{\\nu} \\sim \\mathcal{U} (0.2, 1.2)$ (guess 0.61854491)\n",
    "    - $\\beta_{\\nu} \\sim \\mathcal{U} (0.05, 0.5)$ (guess 0.18939423)\n",
    "    - $\\gamma_{\\nu} \\sim \\mathcal{U} (0.01, 0.12)$ (guess 0.08853605)\n",
    "- age-dependent carrying capacity <br /> $K_a = K_{seedling}~e^{-\\kappa~a} + K_{adult}$\n",
    "    - $K_{seedling} \\sim \\mathcal{U} (4000, 10000)$ (guess 6000)\n",
    "    - $\\kappa \\sim \\mathcal{U} (0.15, 0.45)$ (guess 0.3)\n",
    "    - $K_{adult} \\sim \\mathcal{U} (700, 1300)$ (guess 1024)\n",
    "- density dependence 'rate' (i.e. logistic function steepness) <br /> $\\eta \\sim \\mathcal{U} (0.01, 0.15)$ (guess 0.1)\n",
    "- non-fire reproduction rate <br /> $r_{t^*} = e^{-\\beta_r~t^*}$\n",
    "    - $\\beta_r \\sim \\mathcal{U} (0.75,2.5)$ (guess 1.25)\n",
    "- environmental stochasticity in non-fire reproduction <br /> $\\epsilon_r \\sim \\text{lognorm}(0,\\sigma_r~e^{-\\tau_r~t^*})$\n",
    "    - $\\sigma_r \\sim \\mathcal{U} (0.75, 2)$ (guess 0.5)\n",
    "    - $\\tau_r \\sim \\mathcal{U} (0.1, 2.5)$ (guess 0.4)\n",
    "\n",
    "For the simulations, we also need to treat the initial population size as a random parameter:\n",
    "- Initial population size <br /> $N_1(0) \\sim \\mathcal{U}(200, 14000)$"
   ]
  },
  {
   "cell_type": "code",
   "execution_count": 1,
   "id": "bf41f426-20ac-470e-b0a0-d72e6d1b3b02",
   "metadata": {
    "tags": []
   },
   "outputs": [],
   "source": [
    "import torch\n",
    "import numpy as np\n",
    "import sbi\n",
    "from sbi.inference import SNLE, prepare_for_sbi, simulate_for_sbi\n",
    "from sbi.inference import likelihood_estimator_based_potential, MCMCPosterior\n",
    "from sbi import utils as utils\n",
    "from sbi import analysis as analysis\n",
    "from torch.distributions import Uniform\n",
    "from sbi.utils import MultipleIndependent\n",
    "from torch import tensor\n",
    "import pickle\n",
    "import pandas as pd\n",
    "import sys\n",
    "from matplotlib import pyplot as plt\n",
    "from ipywidgets import interact\n",
    "import ipywidgets as widgets\n",
    "import warnings\n",
    "warnings.filterwarnings(\"ignore\")\n",
    "from scipy.stats import moment"
   ]
  },
  {
   "cell_type": "markdown",
   "id": "7f27098c-af38-4cd8-ac49-18e481d36f60",
   "metadata": {
    "jp-MarkdownHeadingCollapsed": true,
    "tags": []
   },
   "source": [
    "#### Check data and store in summary stats in observations.npy"
   ]
  },
  {
   "cell_type": "code",
   "execution_count": 47,
   "id": "4bfa8939-8fbf-4175-ad21-5e1a403be470",
   "metadata": {
    "collapsed": true,
    "jupyter": {
     "outputs_hidden": true,
     "source_hidden": true
    },
    "tags": []
   },
   "outputs": [
    {
     "name": "stdout",
     "output_type": "stream",
     "text": [
      "[11, 13, 11, 8, 9, 9]\n",
      "[11, 13, 13, 11, 9]\n"
     ]
    }
   ],
   "source": [
    "res_len = 5\n",
    "census_yr_vec = [2,6,8,11,14]\n",
    "observations = np.empty(5*3)\n",
    "\n",
    "fn = 'observations/density.csv'\n",
    "densities_o = pd.read_csv(fn, header=None)\n",
    "densities_o[0] = [round(v) for v in densities_o[0]]\n",
    "census_yrs = densities_o[0].to_list()\n",
    "print([census_yrs.count(v) for v in np.unique(census_yrs)])\n",
    "\n",
    "fn = 'observations/mortality_avg.csv'\n",
    "mort_o = pd.read_csv(fn, header=None)\n",
    "mort_o[0] = [round(v) for v in mort_o[0]]\n",
    "observations[0:res_len] = mort_o[1].to_numpy()\n",
    "\n",
    "fn = 'observations/mortality.csv'\n",
    "mort_o = pd.read_csv(fn, header=None)\n",
    "mort_o[0] = [round(v) for v in mort_o[0]]\n",
    "census_yrs = mort_o[0].to_list()\n",
    "print([census_yrs.count(v) for v in np.unique(census_yrs)])\n",
    "observations[res_len:res_len*2] = [mort_o[mort_o[0] == yr][1].to_numpy().min() for yr in census_yr_vec]\n",
    "observations[res_len*2:res_len*3] = [mort_o[mort_o[0] == yr][1].to_numpy().max() for yr in census_yr_vec]\n",
    "\n",
    "np.save('observations/observations.npy', observations)"
   ]
  },
  {
   "cell_type": "code",
   "execution_count": 37,
   "id": "dbaaf65e-fc8d-427a-8802-f99196940268",
   "metadata": {
    "tags": []
   },
   "outputs": [
    {
     "data": {
      "image/png": "[encoded data removed]",
      "text/plain": [
       "<Figure size 640x480 with 1 Axes>"
      ]
     },
     "metadata": {},
     "output_type": "display_data"
    },
    {
     "data": {
      "image/png": "[encoded data removed]",
      "text/plain": [
       "<Figure size 640x480 with 1 Axes>"
      ]
     },
     "metadata": {},
     "output_type": "display_data"
    },
    {
     "data": {
      "text/plain": [
       "<matplotlib.collections.PolyCollection at 0x28be2a210>"
      ]
     },
     "execution_count": 37,
     "metadata": {},
     "output_type": "execute_result"
    },
    {
     "data": {
      "image/png": "[encoded data removed]",
      "text/plain": [
       "<Figure size 640x480 with 1 Axes>"
      ]
     },
     "metadata": {},
     "output_type": "display_data"
    }
   ],
   "source": [
    "fn = 'observations/mortality.csv'\n",
    "mortality_o = pd.read_csv(fn, header=None)\n",
    "mortality_o[0] = [round(v) for v in mortality_o[0]]\n",
    "plt.scatter(mortality_o[0].to_numpy(), mortality_o[1].to_numpy(), color='k')\n",
    "fn = 'observations/mortality_avg.csv'\n",
    "mortality_avg_o = pd.read_csv(fn, header=None)\n",
    "mortality_avg_o[0] = [round(v) for v in mortality_avg_o[0]]\n",
    "plt.plot(mortality_avg_o[0].to_numpy(), mortality_avg_o[1].to_numpy(), color='k', label='reported')\n",
    "\n",
    "census_yrs = [2,6,8,11,14]\n",
    "m1 = []; m2 = []; m3 = []\n",
    "m1_adj = []; m2_adj = []; m3_adj = []\n",
    "m2_shft = []; m3_shft = []\n",
    "for t_i, t in enumerate(census_yrs):\n",
    "    mort_sub = mortality_o[mortality_o[0]==t][1].to_numpy()\n",
    "    est_mean = np.mean(mort_sub)\n",
    "    m1.append(est_mean)\n",
    "    m2.append(moment(mort_sub, moment=2))\n",
    "    m3.append(moment(mort_sub, moment=3))\n",
    "    # Add 'synthetic' data point to get estimated avg to match reported\n",
    "    # synthetic = (len(mort_sub) + 1) * (mortality_avg_o[1][t_i]) - np.sum(mort_sub)\n",
    "    # mort_sub_adj = np.append(mort_sub, [synthetic])\n",
    "    num_synth = 4  #need at least 4 to make synthetic point non-negative\n",
    "    synthetic = ((len(mort_sub) + num_synth) * (mortality_avg_o[1][t_i]) - np.sum(mort_sub)) / num_synth\n",
    "    mort_sub_adj = np.append(mort_sub, np.repeat(synthetic, num_synth))\n",
    "    # print(synthetic)\n",
    "    m1_adj.append(np.mean(mort_sub_adj))\n",
    "    m2_adj.append(moment(mort_sub_adj, moment=2))\n",
    "    m3_adj.append(moment(mort_sub_adj, moment=3))\n",
    "    # Try computing higher moments assuming reported average\n",
    "    m2_shft.append(moment(mort_sub, moment=2, center=mortality_avg_o[1][t_i]))\n",
    "    m3_shft.append(moment(mort_sub, moment=3, center=mortality_avg_o[1][t_i]))\n",
    "plt.errorbar(census_yrs, m1, yerr=np.sqrt(m2), color='r', label='estimated')\n",
    "plt.errorbar(census_yrs, m1_adj, yerr=np.sqrt(m2_adj), color='g', label='synthetic')  #std below zero\n",
    "plt.errorbar(census_yrs, mortality_avg_o[1].to_numpy(), yerr=np.sqrt(m2), color='orange', label='pasted variance') #std below zero\n",
    "plt.errorbar(census_yrs, mortality_avg_o[1].to_numpy(), yerr=np.sqrt(m2_shft), color='pink', label='shifted center') #std below zero\n",
    "plt.legend()\n",
    "plt.show()\n",
    "plt.scatter(census_yrs, m3, c='r', label='estimated')\n",
    "plt.scatter(census_yrs, m3_adj, c='g', label='synthetic')\n",
    "plt.scatter(census_yrs, m3_shft, c='pink', label='shifted center')\n",
    "plt.axhline(0, ls='--', color='k')\n",
    "plt.legend()\n",
    "plt.show()\n",
    "plt.scatter(mortality_o[0].to_numpy(), mortality_o[1].to_numpy(), color='k')\n",
    "plt.plot(mortality_avg_o[0].to_numpy(), mortality_avg_o[1].to_numpy(), color='k')\n",
    "mort_subs = [mortality_o[mortality_o[0]==t][1].to_numpy() for t in census_yrs]\n",
    "percentiles = np.empty((2, len(census_yrs)))\n",
    "percentiles[0] = [np.percentile(ms, 10) for ms in mort_subs]\n",
    "percentiles[1] = [np.percentile(ms, 90) for ms in mort_subs]\n",
    "medians = [np.median(ms) for ms in mort_subs]\n",
    "plt.plot(census_yrs, medians)\n",
    "# plt.errorbar(census_yrs, medians, yerr=percentiles)\n",
    "plt.fill_between(census_yrs, percentiles[0], percentiles[1], alpha=0.25)"
   ]
  },
  {
   "cell_type": "code",
   "execution_count": 152,
   "id": "e163f304-c7e3-44c1-9d2d-1e373d8ffc51",
   "metadata": {
    "tags": []
   },
   "outputs": [],
   "source": [
    "# Save new summary stats to observations.npy\n",
    "# observations = np.concatenate((m1,m2,m3))\n",
    "# np.save('observations/observations.npy', observations)"
   ]
  },
  {
   "cell_type": "markdown",
   "id": "92351639-967c-4518-8cba-ca8e7bf5d002",
   "metadata": {
    "tags": []
   },
   "source": [
    "#### Playing with parameters"
   ]
  },
  {
   "cell_type": "code",
   "execution_count": 28,
   "id": "951d424a-7300-45a9-bdd8-0912632afd94",
   "metadata": {
    "tags": []
   },
   "outputs": [],
   "source": [
    "def simulator(params):\n",
    "    # Assign parameter labels\n",
    "    alph_m = params[0]; beta_m = params[1]; gamm_m = params[2]\n",
    "    sigm_m = params[3]; tau_m = params[4]\n",
    "    alph_nu = params[5]; beta_nu = params[6]; gamm_nu = params[7]\n",
    "    K_seedling = params[8]; kappa = params[9]; K_adult = params[10]\n",
    "    eta = params[11]\n",
    "    mu_m = params[12]\n",
    "\n",
    "    # For generating env stochasticity multipliers\n",
    "    rng = np.random.default_rng()\n",
    "\n",
    "    # Initialize empty results array\n",
    "    census_yrs = np.array([1,2,6,8,11,14])\n",
    "    #results = np.empty((3, len(census_yrs)-1))\n",
    "    res_len = len(census_yrs) - 1\n",
    "    results = np.empty(res_len * 3)\n",
    "    res_i = 0\n",
    "\n",
    "    t_vec = np.arange(1,15)\n",
    "    fn = 'observations/density.csv'\n",
    "    densities_o = pd.read_csv(fn, header=None)\n",
    "    densities_o[0] = [round(v) for v in densities_o[0]]\n",
    "    N_0_1 = densities_o[densities_o[0] == 1][1].to_numpy()\n",
    "    N_vec = np.ma.array(np.zeros((len(N_0_1), len(t_vec))))\n",
    "    N_vec[:,0] = N_0_1\n",
    "    N_vec = N_vec.astype(int)\n",
    "    census_init = N_vec.sum(axis=1)\n",
    "    census_yr_init = t_vec[0]\n",
    "\n",
    "    m_a = alph_m * np.exp(-beta_m*t_vec) + gamm_m\n",
    "    #K_a = K_seedling * np.exp(-kappa*t_vec) + K_adult\n",
    "    K_a = K_adult\n",
    "    nu_a = alph_nu * np.exp(-beta_nu*t_vec) + gamm_nu\n",
    "\n",
    "    for age_i, t in enumerate(t_vec[:-1]):\n",
    "        for pop_i, N_pop in enumerate(N_vec):\n",
    "            # If pop already extirpated, skip\n",
    "            if (np.ma.is_masked(N_vec)) and (np.ma.getmask(N_vec)[pop_i, 0]):\n",
    "                continue\n",
    "            # Add density dependent term to mortalities\n",
    "            dens_dep = ((nu_a)*(1-m_a)) / (1 + np.exp(-eta*K_adult*(np.sum(N_pop/K_a) - 1)))\n",
    "            m_a_N = m_a + dens_dep\n",
    "            # Draw env. stoch. terms and combine for final survival prob.\n",
    "            epsilon_m = rng.lognormal(np.zeros_like(t_vec)+mu_m, sigm_m*np.exp(-tau_m*t_vec))\n",
    "            survival_probs = np.exp(-m_a_N * epsilon_m)\n",
    "            num_survivors = rng.binomial(N_pop, survival_probs)\n",
    "            num_survivors = np.roll(num_survivors, 1)\n",
    "            # Finally, update abundances\n",
    "            N_vec[pop_i] = num_survivors\n",
    "            # Note if population was extirpated\n",
    "            if np.sum(num_survivors) == 0:\n",
    "                #print('pop {} extirpated'.format(pop_i))\n",
    "                N_vec[pop_i, :] = np.ma.masked\n",
    "                census_init[pop_i] = np.ma.masked\n",
    "                #print(N_vec)\n",
    "        # If enough populations extirpated, consider parameter set invalid\n",
    "        if (np.ma.is_masked(N_vec)) and (sum(np.ma.getmask(N_vec)[:,0]) > 3):\n",
    "            #print('invalid sim')\n",
    "            results[0:res_len] = np.ones(len(census_yrs)-1)*10\n",
    "            results[res_len:res_len*2] = np.ones(len(census_yrs)-1)*20\n",
    "            results[res_len*2:res_len*3] = np.ones(len(census_yrs)-1)*20\n",
    "            break\n",
    "        elif t+1 in census_yrs:\n",
    "            # Calculate and store mortality stats\n",
    "            delta_t = (t+1) - census_yr_init\n",
    "            census_final = N_vec.sum(axis=1)\n",
    "            mortality = ((census_init - census_final) / census_init) / delta_t\n",
    "            results[res_i] = np.mean(mortality)\n",
    "            results[res_len + res_i] = moment(mortality, moment=2)\n",
    "            results[res_len*2 + res_i] = moment(mortality, moment=3)\n",
    "            # Reset for next census\n",
    "            res_i += 1\n",
    "            census_init = census_final\n",
    "            census_yr_init = t+1\n",
    "    return results"
   ]
  },
  {
   "cell_type": "code",
   "execution_count": 15,
   "id": "0bef935c-55b6-488a-b549-f09d03587b80",
   "metadata": {
    "collapsed": true,
    "jupyter": {
     "outputs_hidden": true,
     "source_hidden": true
    },
    "tags": []
   },
   "outputs": [
    {
     "data": {
      "application/vnd.jupyter.widget-view+json": {
       "model_id": "50a0c1e9620a4e439be379d159380ba6",
       "version_major": 2,
       "version_minor": 0
      },
      "text/plain": [
       "interactive(children=(FloatSlider(value=0.25, continuous_update=False, description='alph_m', max=1.575, min=0.…"
      ]
     },
     "metadata": {},
     "output_type": "display_data"
    }
   ],
   "source": [
    "def plt_sim(alph_m = 0.9, beta_m = 0.35, gamm_m = 0.03,\n",
    "            sigm_m = 0.1, tau_m = 0.02,\n",
    "            alph_nu = 0.6185, beta_nu = 0.189, gamm_nu = 0.088,\n",
    "            K_seedling = 6000*10, kappa = 0.3, K_adult = 1024*10, eta = 0.1, mu_m = 0.0):\n",
    "    fig, (ax1, ax2) = plt.subplots(1, 2, figsize=(14,5))\n",
    "    census_yrs = [2,6,8,11,14]\n",
    "    fn = 'observations/mortality.csv'\n",
    "    mortality_o = pd.read_csv(fn, header=None)\n",
    "    mortality_o[0] = [round(v) for v in mortality_o[0]]\n",
    "    # plt.scatter(mortality_o[0].to_numpy(), mortality_o[1].to_numpy(), color='k')\n",
    "    # fn = 'observations/mortality_avg.csv'\n",
    "    # mortality_avg_o = pd.read_csv(fn, header=None)\n",
    "    # mortality_avg_o[0] = [round(v) for v in mortality_avg_o[0]]\n",
    "    # plt.plot(mortality_avg_o[0].to_numpy(), mortality_avg_o[1].to_numpy(), color='k')\n",
    "    m1 = []; m2 = []; m3 = []\n",
    "    for t_i, t in enumerate(census_yrs):\n",
    "        mort_sub = mortality_o[mortality_o[0]==t][1].to_numpy()\n",
    "        est_mean = np.mean(mort_sub)\n",
    "        m1.append(est_mean)\n",
    "        m2.append(moment(mort_sub, moment=2))\n",
    "        m3.append(moment(mort_sub, moment=3))\n",
    "    ax1.errorbar(census_yrs, m1, yerr=np.sqrt(m2), color='k', fmt='o')\n",
    "    \n",
    "    params = [alph_m, beta_m, gamm_m, sigm_m, tau_m, alph_nu, \n",
    "              beta_nu, gamm_nu, K_seedling, kappa, K_adult, eta, mu_m]\n",
    "    reps = 100\n",
    "    num_invalid = 0\n",
    "    all_res = np.zeros((reps,3*5))\n",
    "    for rep in range(reps):\n",
    "        res = simulator(params)\n",
    "        if np.all(res[0:5] == 10):\n",
    "            num_invalid += 1\n",
    "            continue\n",
    "        all_res[rep] = res\n",
    "    all_res = np.delete(all_res, -num_invalid, axis=0)\n",
    "    res = np.mean(all_res, axis=0)\n",
    "    print('{} sims with >3 extirpations'.format(num_invalid))\n",
    "    plt.axhline(0, ls='--', color='k')\n",
    "    # plt.plot(census_yrs, res[0:5])\n",
    "    # plt.fill_between(census_yrs, res[5:10], res[10:15], alpha=0.25)\n",
    "    # ax1.errorbar(census_yrs, res[0:5], yerr=np.sqrt(res[5:10]), fmt='o', alpha=0.75, c='magenta')\n",
    "    ax1.scatter(census_yrs, res[0:5], c='magenta', alpha=0.75)\n",
    "    ax1.fill_between(census_yrs, res[0:5]-np.sqrt(res[5:10]), res[0:5]+np.sqrt(res[5:10]), color='magenta', alpha=0.2)\n",
    "    ax1.set_ylim(-0.1,0.8)\n",
    "    \n",
    "    ax2.scatter(census_yrs, m3, c='k')\n",
    "    ax2.scatter(census_yrs, res[10:15], alpha=0.75, c='magenta')\n",
    "    \n",
    "defaults = np.array([0.9,0.35,0.03,0.1,0.02,0.6185,0.189,0.088,6000*10,0.3,1024*10,0.1,0.0])\n",
    "interact(plt_sim,\n",
    "         alph_m = widgets.FloatSlider(value=0.25, min=0.01, max=defaults[0]*1.75, step=defaults[0]/40, continuous_update=False),#\n",
    "         beta_m = widgets.FloatSlider(value=0.26, min=0.01, max=0.9, step=0.01, continuous_update=False),\n",
    "         gamm_m = widgets.FloatSlider(value=0.01, min=defaults[2]*0.25, max=defaults[2]*1.75, step=defaults[2]/40, continuous_update=False),\n",
    "         sigm_m = widgets.FloatSlider(value=0.9, min=0., max=1.7, step=defaults[3]/40, continuous_update=False),#\n",
    "         tau_m = widgets.FloatSlider(value=0.01, min=0.0, max=0.4, step=defaults[4]/40, continuous_update=False),\n",
    "         alph_nu = widgets.FloatSlider(value=0.75, min=0.01, max=3, step=defaults[5]/40, continuous_update=False),#\n",
    "         beta_nu = widgets.FloatSlider(value=0.1, min=defaults[6]*0.25, max=defaults[6]*1.75, step=defaults[6]/40, continuous_update=False),\n",
    "         gamm_nu = widgets.FloatSlider(value=0.1, min=defaults[7]*0.25, max=defaults[7]*1.75, step=defaults[7]/40, continuous_update=False),\n",
    "         K_seedling = widgets.FloatSlider(value=60000, min=1000, max=defaults[8]*5, step=10, continuous_update=False),\n",
    "         kappa = widgets.FloatSlider(value=0.4, min=0.01, max=0.9, step=defaults[9]/40, continuous_update=False),\n",
    "         K_adult = widgets.FloatSlider(value=defaults[10], min=defaults[10]*0.25, max=60000, step=10, continuous_update=False),\n",
    "         eta = widgets.FloatSlider(value=0.02, min=0.01, max=0.6, step=defaults[11]/40, continuous_update=False),\n",
    "         mu_m = widgets.FloatSlider(value=0.0, min=-0.2, max=0.1, step=0.01, continuous_update=False))\n",
    "defaults = np.array([0.2, 0.8, 0.45])\n",
    "# n = 200\n",
    "# widths = [(v*1.9-v*0.1)/(2*n) for v in defaults]; print(widths)\n",
    "ranges = np.array([[0.01, 0.6], [0.1,0.9], [0.05,0.95]])\n",
    "fixed = {'beta_m': 0.26, 'gamm_m': 0.01, 'tau_m': 0.01, 'beta_nu': 0.1, 'gamm_nu': 0.1, \n",
    "         'K_seedling': 60000, 'kappa': 0.4, 'K_adult': 10000, 'eta': 0.02, 'mu_m': 0.0}"
   ]
  },
  {
   "cell_type": "code",
   "execution_count": 31,
   "id": "3275aaba-1148-4867-af09-47961b61f888",
   "metadata": {
    "tags": []
   },
   "outputs": [
    {
     "data": {
      "application/vnd.jupyter.widget-view+json": {
       "model_id": "458bf8df4f4b4f6eb866c86cd43d91e3",
       "version_major": 2,
       "version_minor": 0
      },
      "text/plain": [
       "interactive(children=(FloatSlider(value=0.18, continuous_update=False, description='alph_m', max=0.6, min=0.01…"
      ]
     },
     "metadata": {},
     "output_type": "display_data"
    }
   ],
   "source": [
    "def plt_sim(alph_m = 0.9, beta_m = 0.35, gamm_m = 0.03,\n",
    "            sigm_m = 0.1, tau_m = 0.02,\n",
    "            alph_nu = 0.6185, beta_nu = 0.189, gamm_nu = 0.088,\n",
    "            K_seedling = 6000*10, kappa = 0.3, K_adult = 1024*10, eta = 0.1, mu_m = 0.0):\n",
    "    fig, (ax1, ax2) = plt.subplots(1, 2, figsize=(14,5))\n",
    "    census_yrs = [2,6,8,11,14]\n",
    "    fn = 'observations/mortality.csv'\n",
    "    mortality_o = pd.read_csv(fn, header=None)\n",
    "    mortality_o[0] = [round(v) for v in mortality_o[0]]\n",
    "    m1 = []; m2 = []; m3 = []\n",
    "    for t_i, t in enumerate(census_yrs):\n",
    "        mort_sub = mortality_o[mortality_o[0]==t][1].to_numpy()\n",
    "        est_mean = np.mean(mort_sub)\n",
    "        m1.append(est_mean)\n",
    "        m2.append(moment(mort_sub, moment=2))\n",
    "        m3.append(moment(mort_sub, moment=3))\n",
    "    ax1.errorbar(census_yrs, m1, yerr=np.sqrt(m2), color='k', fmt='o')\n",
    "    \n",
    "    params = [alph_m, beta_m, gamm_m, sigm_m, tau_m, alph_nu, \n",
    "              beta_nu, gamm_nu, K_seedling, kappa, K_adult, eta, mu_m]\n",
    "    reps = 100\n",
    "    num_invalid = 0\n",
    "    all_res = np.zeros((reps,3*5))\n",
    "    for rep in range(reps):\n",
    "        res = simulator(params)\n",
    "        if np.all(res[0:5] == 10):\n",
    "            num_invalid += 1\n",
    "            continue\n",
    "        all_res[rep] = res\n",
    "    all_res = np.delete(all_res, -num_invalid, axis=0)\n",
    "    res = np.mean(all_res, axis=0)\n",
    "    print('{} sims with >3 extirpations'.format(num_invalid))\n",
    "    plt.axhline(0, ls='--', color='k')\n",
    "    ax1.scatter(census_yrs, res[0:5], c='magenta', alpha=0.75)\n",
    "    ax1.fill_between(census_yrs, res[0:5]-np.sqrt(res[5:10]), res[0:5]+np.sqrt(res[5:10]), color='magenta', alpha=0.2)\n",
    "    ax1.set_ylim(-0.1,0.8)\n",
    "    \n",
    "    ax2.scatter(census_yrs, m3, c='k')\n",
    "    ax2.scatter(census_yrs, res[10:15], alpha=0.75, c='magenta')\n",
    "    \n",
    "defaults = np.array([0.9,0.35,0.03,0.1,0.02,0.6185,0.189,0.088,6000*10,0.3,1024*10,0.1,0.0])\n",
    "interact(plt_sim,\n",
    "         alph_m = widgets.FloatSlider(value=0.18, min=0.01, max=0.6, step=0.01, continuous_update=False),#\n",
    "         beta_m = widgets.FloatSlider(value=0.15, min=0.01, max=0.6, step=defaults[1]/40, continuous_update=False),\n",
    "         gamm_m = widgets.FloatSlider(value=0.01, min=defaults[2]*0.25, max=defaults[2]*1.75, step=defaults[2]/40, continuous_update=False),\n",
    "         sigm_m = widgets.FloatSlider(value=0.67, min=0., max=1.7, step=defaults[3]/40, continuous_update=False),#\n",
    "         tau_m = widgets.FloatSlider(value=0.01, min=0.0, max=0.4, step=defaults[4]/40, continuous_update=False),\n",
    "         alph_nu = widgets.FloatSlider(value=0.43, min=0.0, max=3, step=0.01, continuous_update=False),#\n",
    "         beta_nu = widgets.FloatSlider(value=0.11, min=defaults[6]*0.25, max=defaults[6]*1.75, step=defaults[6]/40, continuous_update=False),\n",
    "         gamm_nu = widgets.FloatSlider(value=0.1, min=defaults[7]*0.25, max=defaults[7]*1.75, step=defaults[7]/40, continuous_update=False),\n",
    "         K_seedling = widgets.FloatSlider(value=1000, min=1000, max=defaults[8]*5, step=10, continuous_update=False),\n",
    "         kappa = widgets.FloatSlider(value=0.9, min=0.01, max=0.9, step=defaults[9]/40, continuous_update=False),\n",
    "         K_adult = widgets.FloatSlider(value=16000, min=defaults[10]*0.25, max=60000, step=10, continuous_update=False),\n",
    "         eta = widgets.FloatSlider(value=0.02, min=0.01, max=0.6, step=defaults[11]/40, continuous_update=False),\n",
    "         mu_m = widgets.FloatSlider(value=0.0, min=-0.2, max=0.1, step=0.01, continuous_update=False))\n",
    "defaults = np.array([0.2, 0.8, 0.45])\n",
    "ranges = np.array([[0.01, 0.6], [0.1,0.9], [0.05,0.95]])\n",
    "fixed = {'beta_m': 0.26, 'gamm_m': 0.01, 'tau_m': 0.01, 'beta_nu': 0.1, 'gamm_nu': 0.1, \n",
    "         'K_seedling': 60000, 'kappa': 0.4, 'K_adult': 10000, 'eta': 0.02, 'mu_m': 0.0}"
   ]
  },
  {
   "cell_type": "markdown",
   "id": "af5234f4-62c1-4bdb-a304-116e753b9986",
   "metadata": {
    "tags": []
   },
   "source": [
    "#### sbi"
   ]
  },
  {
   "cell_type": "code",
   "execution_count": 30,
   "id": "d1fdd5bc-a76c-4489-8da8-5fbc8de5365a",
   "metadata": {
    "tags": []
   },
   "outputs": [
    {
     "data": {
      "image/png": "[encoded data removed]",
      "text/plain": [
       "<Figure size 1000x1000 with 16 Axes>"
      ]
     },
     "metadata": {},
     "output_type": "display_data"
    }
   ],
   "source": [
    "limits = [[0.01, 0.6], [0.01, 0.9], [0.1,1.7], [0.05,3.5]]\n",
    "labels = ['alph_m', 'beta_m', 'sigm_m','alph_nu']\n",
    "nle_samples = torch.load('posterior_samples.pkl')\n",
    "_ = analysis.pairplot(\n",
    "    nle_samples, limits=limits, figsize=(10, 10), labels=labels\n",
    ")"
   ]
  },
  {
   "cell_type": "code",
   "execution_count": 25,
   "id": "6f047c7b-f68a-4e48-b826-6f0590d8f51d",
   "metadata": {
    "tags": []
   },
   "outputs": [
    {
     "name": "stdout",
     "output_type": "stream",
     "text": [
      "tensor([[0.1190, 0.5788, 0.3622, 1.4311],\n",
      "        [0.5032, 0.6506, 1.5019, 0.3514]], dtype=torch.float64)\n",
      "tensor([[0.1190, 0.5788, 0.3622, 1.4311],\n",
      "        [0.5032, 0.6506, 1.5019, 0.3514]], dtype=torch.float64)\n",
      "tensor([[0.1190, 0.5788, 0.3622, 1.4311],\n",
      "        [0.5032, 0.6506, 1.5019, 0.3514]], dtype=torch.float64)\n"
     ]
    }
   ],
   "source": [
    "# Get map\n",
    "ranges = np.array([[0.01, 0.6], [0.01, 0.9], [0.1,1.7], [0.05,3.5]])\n",
    "priors = [\n",
    "    # alph_m\n",
    "    Uniform(tensor([ranges[0][0]]), tensor([ranges[0][1]])),\n",
    "    # beta_m\n",
    "    Uniform(tensor([ranges[1][0]]), tensor([ranges[1][1]])),\n",
    "    # sigm_m\n",
    "    Uniform(tensor([ranges[2][0]]), tensor([ranges[2][1]])),\n",
    "    # alph_nu\n",
    "    Uniform(tensor([ranges[3][0]]), tensor([ranges[3][1]])),\n",
    "]\n",
    "prior = MultipleIndependent(priors)\n",
    "\n",
    "# Read likelihood estimator from file\n",
    "with open(\"likelihood_estimator.pkl\", \"rb\") as handle:\n",
    "    likelihood_estimator = pickle.load(handle)\n",
    "\n",
    "x_o = np.load('observations/observations.npy')\n",
    "x_o = torch.Tensor(x_o)\n",
    "potential_fn, parameter_transform = likelihood_estimator_based_potential(\n",
    "    likelihood_estimator, prior, x_o\n",
    ")\n",
    "posterior = MCMCPosterior(\n",
    "    potential_fn, proposal=prior\n",
    ")"
   ]
  },
  {
   "cell_type": "code",
   "execution_count": 27,
   "id": "515b0947-60dd-483f-8015-338458fea70b",
   "metadata": {
    "tags": []
   },
   "outputs": [
    {
     "ename": "RuntimeError",
     "evalue": "mat1 and mat2 must have the same dtype, but got Double and Float",
     "output_type": "error",
     "traceback": [
      "\u001b[0;31m---------------------------------------------------------------------------\u001b[0m",
      "\u001b[0;31mRuntimeError\u001b[0m                              Traceback (most recent call last)",
      "Cell \u001b[0;32mIn[27], line 1\u001b[0m\n\u001b[0;32m----> 1\u001b[0m posterior\u001b[38;5;241m.\u001b[39mmap()\n",
      "File \u001b[0;32m/Volumes/External/Research/Regan/TecateCypress/model_fitting/sbi/inference/posteriors/mcmc_posterior.py:636\u001b[0m, in \u001b[0;36mMCMCPosterior.map\u001b[0;34m(self, x, num_iter, num_to_optimize, learning_rate, init_method, num_init_samples, save_best_every, show_progress_bars, force_update)\u001b[0m\n\u001b[1;32m    581\u001b[0m \u001b[38;5;28;01mdef\u001b[39;00m \u001b[38;5;21mmap\u001b[39m(\n\u001b[1;32m    582\u001b[0m     \u001b[38;5;28mself\u001b[39m,\n\u001b[1;32m    583\u001b[0m     x: Optional[Tensor] \u001b[38;5;241m=\u001b[39m \u001b[38;5;28;01mNone\u001b[39;00m,\n\u001b[0;32m   (...)\u001b[0m\n\u001b[1;32m    591\u001b[0m     force_update: \u001b[38;5;28mbool\u001b[39m \u001b[38;5;241m=\u001b[39m \u001b[38;5;28;01mFalse\u001b[39;00m,\n\u001b[1;32m    592\u001b[0m ) \u001b[38;5;241m-\u001b[39m\u001b[38;5;241m>\u001b[39m Tensor:\n\u001b[1;32m    593\u001b[0m \u001b[38;5;250m    \u001b[39m\u001b[38;5;124mr\u001b[39m\u001b[38;5;124;03m\"\"\"Returns the maximum-a-posteriori estimate (MAP).\u001b[39;00m\n\u001b[1;32m    594\u001b[0m \n\u001b[1;32m    595\u001b[0m \u001b[38;5;124;03m    The method can be interrupted (Ctrl-C) when the user sees that the\u001b[39;00m\n\u001b[0;32m   (...)\u001b[0m\n\u001b[1;32m    634\u001b[0m \u001b[38;5;124;03m        The MAP estimate.\u001b[39;00m\n\u001b[1;32m    635\u001b[0m \u001b[38;5;124;03m    \"\"\"\u001b[39;00m\n\u001b[0;32m--> 636\u001b[0m     \u001b[38;5;28;01mreturn\u001b[39;00m \u001b[38;5;28msuper\u001b[39m()\u001b[38;5;241m.\u001b[39mmap(\n\u001b[1;32m    637\u001b[0m         x\u001b[38;5;241m=\u001b[39mx,\n\u001b[1;32m    638\u001b[0m         num_iter\u001b[38;5;241m=\u001b[39mnum_iter,\n\u001b[1;32m    639\u001b[0m         num_to_optimize\u001b[38;5;241m=\u001b[39mnum_to_optimize,\n\u001b[1;32m    640\u001b[0m         learning_rate\u001b[38;5;241m=\u001b[39mlearning_rate,\n\u001b[1;32m    641\u001b[0m         init_method\u001b[38;5;241m=\u001b[39minit_method,\n\u001b[1;32m    642\u001b[0m         num_init_samples\u001b[38;5;241m=\u001b[39mnum_init_samples,\n\u001b[1;32m    643\u001b[0m         save_best_every\u001b[38;5;241m=\u001b[39msave_best_every,\n\u001b[1;32m    644\u001b[0m         show_progress_bars\u001b[38;5;241m=\u001b[39mshow_progress_bars,\n\u001b[1;32m    645\u001b[0m         force_update\u001b[38;5;241m=\u001b[39mforce_update,\n\u001b[1;32m    646\u001b[0m     )\n",
      "File \u001b[0;32m/Volumes/External/Research/Regan/TecateCypress/model_fitting/sbi/inference/posteriors/base_posterior.py:215\u001b[0m, in \u001b[0;36mNeuralPosterior.map\u001b[0;34m(self, x, num_iter, num_to_optimize, learning_rate, init_method, num_init_samples, save_best_every, show_progress_bars, force_update)\u001b[0m\n\u001b[1;32m    213\u001b[0m \u001b[38;5;28;01mif\u001b[39;00m \u001b[38;5;28mself\u001b[39m\u001b[38;5;241m.\u001b[39m_map \u001b[38;5;129;01mis\u001b[39;00m \u001b[38;5;28;01mNone\u001b[39;00m \u001b[38;5;129;01mor\u001b[39;00m force_update:\n\u001b[1;32m    214\u001b[0m     \u001b[38;5;28mself\u001b[39m\u001b[38;5;241m.\u001b[39mpotential_fn\u001b[38;5;241m.\u001b[39mset_x(\u001b[38;5;28mself\u001b[39m\u001b[38;5;241m.\u001b[39mdefault_x)\n\u001b[0;32m--> 215\u001b[0m     \u001b[38;5;28mself\u001b[39m\u001b[38;5;241m.\u001b[39m_map \u001b[38;5;241m=\u001b[39m \u001b[38;5;28mself\u001b[39m\u001b[38;5;241m.\u001b[39m_calculate_map(\n\u001b[1;32m    216\u001b[0m         num_iter\u001b[38;5;241m=\u001b[39mnum_iter,\n\u001b[1;32m    217\u001b[0m         num_to_optimize\u001b[38;5;241m=\u001b[39mnum_to_optimize,\n\u001b[1;32m    218\u001b[0m         learning_rate\u001b[38;5;241m=\u001b[39mlearning_rate,\n\u001b[1;32m    219\u001b[0m         init_method\u001b[38;5;241m=\u001b[39minit_method,\n\u001b[1;32m    220\u001b[0m         num_init_samples\u001b[38;5;241m=\u001b[39mnum_init_samples,\n\u001b[1;32m    221\u001b[0m         save_best_every\u001b[38;5;241m=\u001b[39msave_best_every,\n\u001b[1;32m    222\u001b[0m         show_progress_bars\u001b[38;5;241m=\u001b[39mshow_progress_bars,\n\u001b[1;32m    223\u001b[0m     )\n\u001b[1;32m    224\u001b[0m \u001b[38;5;28;01mreturn\u001b[39;00m \u001b[38;5;28mself\u001b[39m\u001b[38;5;241m.\u001b[39m_map\n",
      "File \u001b[0;32m/Volumes/External/Research/Regan/TecateCypress/model_fitting/sbi/inference/posteriors/base_posterior.py:172\u001b[0m, in \u001b[0;36mNeuralPosterior._calculate_map\u001b[0;34m(self, num_iter, num_to_optimize, learning_rate, init_method, num_init_samples, save_best_every, show_progress_bars)\u001b[0m\n\u001b[1;32m    169\u001b[0m \u001b[38;5;28;01melse\u001b[39;00m:\n\u001b[1;32m    170\u001b[0m     \u001b[38;5;28;01mraise\u001b[39;00m \u001b[38;5;167;01mValueError\u001b[39;00m\n\u001b[0;32m--> 172\u001b[0m \u001b[38;5;28;01mreturn\u001b[39;00m gradient_ascent(\n\u001b[1;32m    173\u001b[0m     potential_fn\u001b[38;5;241m=\u001b[39m\u001b[38;5;28mself\u001b[39m\u001b[38;5;241m.\u001b[39mpotential_fn,\n\u001b[1;32m    174\u001b[0m     inits\u001b[38;5;241m=\u001b[39minits,\n\u001b[1;32m    175\u001b[0m     theta_transform\u001b[38;5;241m=\u001b[39m\u001b[38;5;28mself\u001b[39m\u001b[38;5;241m.\u001b[39mtheta_transform,\n\u001b[1;32m    176\u001b[0m     num_iter\u001b[38;5;241m=\u001b[39mnum_iter,\n\u001b[1;32m    177\u001b[0m     num_to_optimize\u001b[38;5;241m=\u001b[39mnum_to_optimize,\n\u001b[1;32m    178\u001b[0m     learning_rate\u001b[38;5;241m=\u001b[39mlearning_rate,\n\u001b[1;32m    179\u001b[0m     save_best_every\u001b[38;5;241m=\u001b[39msave_best_every,\n\u001b[1;32m    180\u001b[0m     show_progress_bars\u001b[38;5;241m=\u001b[39mshow_progress_bars,\n\u001b[1;32m    181\u001b[0m )[\u001b[38;5;241m0\u001b[39m]\n",
      "File \u001b[0;32m/Volumes/External/Research/Regan/TecateCypress/model_fitting/sbi/utils/sbiutils.py:849\u001b[0m, in \u001b[0;36mgradient_ascent\u001b[0;34m(potential_fn, inits, theta_transform, num_iter, num_to_optimize, learning_rate, save_best_every, show_progress_bars, interruption_note)\u001b[0m\n\u001b[1;32m    846\u001b[0m init_probs \u001b[38;5;241m=\u001b[39m potential_fn(inits)\u001b[38;5;241m.\u001b[39mdetach()\n\u001b[1;32m    848\u001b[0m \u001b[38;5;66;03m# Pick the `num_to_optimize` best init locations.\u001b[39;00m\n\u001b[0;32m--> 849\u001b[0m sort_indices \u001b[38;5;241m=\u001b[39m torch\u001b[38;5;241m.\u001b[39margsort(init_probs, dim\u001b[38;5;241m=\u001b[39m\u001b[38;5;241m0\u001b[39m)\n\u001b[1;32m    850\u001b[0m sorted_inits \u001b[38;5;241m=\u001b[39m inits[sort_indices]\n\u001b[1;32m    851\u001b[0m optimize_inits \u001b[38;5;241m=\u001b[39m sorted_inits[\u001b[38;5;241m-\u001b[39mnum_to_optimize:]\n",
      "File \u001b[0;32m/Volumes/External/Research/Regan/TecateCypress/model_fitting/sbi/inference/potentials/likelihood_based_potential.py:92\u001b[0m, in \u001b[0;36mLikelihoodBasedPotential.__call__\u001b[0;34m(self, theta, track_gradients)\u001b[0m\n\u001b[1;32m     81\u001b[0m \u001b[38;5;250m\u001b[39m\u001b[38;5;124mr\u001b[39m\u001b[38;5;124;03m\"\"\"Returns the potential $\\log(p(x_o|\\theta)p(\\theta))$.\u001b[39;00m\n\u001b[1;32m     82\u001b[0m \n\u001b[1;32m     83\u001b[0m \u001b[38;5;124;03mArgs:\u001b[39;00m\n\u001b[0;32m   (...)\u001b[0m\n\u001b[1;32m     88\u001b[0m \u001b[38;5;124;03m    The potential $\\log(p(x_o|\\theta)p(\\theta))$.\u001b[39;00m\n\u001b[1;32m     89\u001b[0m \u001b[38;5;124;03m\"\"\"\u001b[39;00m\n\u001b[1;32m     91\u001b[0m \u001b[38;5;66;03m# Calculate likelihood over trials and in one batch.\u001b[39;00m\n\u001b[0;32m---> 92\u001b[0m log_likelihood_trial_sum \u001b[38;5;241m=\u001b[39m _log_likelihoods_over_trials(\n\u001b[1;32m     93\u001b[0m     x\u001b[38;5;241m=\u001b[39m\u001b[38;5;28mself\u001b[39m\u001b[38;5;241m.\u001b[39mx_o,\n\u001b[1;32m     94\u001b[0m     theta\u001b[38;5;241m=\u001b[39mtheta\u001b[38;5;241m.\u001b[39mto(\u001b[38;5;28mself\u001b[39m\u001b[38;5;241m.\u001b[39mdevice),\n\u001b[1;32m     95\u001b[0m     net\u001b[38;5;241m=\u001b[39m\u001b[38;5;28mself\u001b[39m\u001b[38;5;241m.\u001b[39mlikelihood_estimator,\n\u001b[1;32m     96\u001b[0m     track_gradients\u001b[38;5;241m=\u001b[39mtrack_gradients,\n\u001b[1;32m     97\u001b[0m )\n\u001b[1;32m     99\u001b[0m \u001b[38;5;28;01mreturn\u001b[39;00m log_likelihood_trial_sum \u001b[38;5;241m+\u001b[39m \u001b[38;5;28mself\u001b[39m\u001b[38;5;241m.\u001b[39mprior\u001b[38;5;241m.\u001b[39mlog_prob(theta)\n",
      "File \u001b[0;32m/Volumes/External/Research/Regan/TecateCypress/model_fitting/sbi/inference/potentials/likelihood_based_potential.py:140\u001b[0m, in \u001b[0;36m_log_likelihoods_over_trials\u001b[0;34m(x, theta, net, track_gradients)\u001b[0m\n\u001b[1;32m    138\u001b[0m \u001b[38;5;66;03m# Calculate likelihood in one batch.\u001b[39;00m\n\u001b[1;32m    139\u001b[0m \u001b[38;5;28;01mwith\u001b[39;00m torch\u001b[38;5;241m.\u001b[39mset_grad_enabled(track_gradients):\n\u001b[0;32m--> 140\u001b[0m     log_likelihood_trial_batch \u001b[38;5;241m=\u001b[39m net\u001b[38;5;241m.\u001b[39mlog_prob(x_repeated, theta_repeated)\n\u001b[1;32m    141\u001b[0m     \u001b[38;5;66;03m# Reshape to (x-trials x parameters), sum over trial-log likelihoods.\u001b[39;00m\n\u001b[1;32m    142\u001b[0m     log_likelihood_trial_sum \u001b[38;5;241m=\u001b[39m log_likelihood_trial_batch\u001b[38;5;241m.\u001b[39mreshape(\n\u001b[1;32m    143\u001b[0m         x\u001b[38;5;241m.\u001b[39mshape[\u001b[38;5;241m0\u001b[39m], \u001b[38;5;241m-\u001b[39m\u001b[38;5;241m1\u001b[39m\n\u001b[1;32m    144\u001b[0m     )\u001b[38;5;241m.\u001b[39msum(\u001b[38;5;241m0\u001b[39m)\n",
      "File \u001b[0;32m~/miniconda3/envs/sbi_env/lib/python3.11/site-packages/nflows/distributions/base.py:40\u001b[0m, in \u001b[0;36mDistribution.log_prob\u001b[0;34m(self, inputs, context)\u001b[0m\n\u001b[1;32m     36\u001b[0m     \u001b[38;5;28;01mif\u001b[39;00m inputs\u001b[38;5;241m.\u001b[39mshape[\u001b[38;5;241m0\u001b[39m] \u001b[38;5;241m!=\u001b[39m context\u001b[38;5;241m.\u001b[39mshape[\u001b[38;5;241m0\u001b[39m]:\n\u001b[1;32m     37\u001b[0m         \u001b[38;5;28;01mraise\u001b[39;00m \u001b[38;5;167;01mValueError\u001b[39;00m(\n\u001b[1;32m     38\u001b[0m             \u001b[38;5;124m\"\u001b[39m\u001b[38;5;124mNumber of input items must be equal to number of context items.\u001b[39m\u001b[38;5;124m\"\u001b[39m\n\u001b[1;32m     39\u001b[0m         )\n\u001b[0;32m---> 40\u001b[0m \u001b[38;5;28;01mreturn\u001b[39;00m \u001b[38;5;28mself\u001b[39m\u001b[38;5;241m.\u001b[39m_log_prob(inputs, context)\n",
      "File \u001b[0;32m~/miniconda3/envs/sbi_env/lib/python3.11/site-packages/nflows/flows/base.py:40\u001b[0m, in \u001b[0;36mFlow._log_prob\u001b[0;34m(self, inputs, context)\u001b[0m\n\u001b[1;32m     38\u001b[0m embedded_context \u001b[38;5;241m=\u001b[39m \u001b[38;5;28mself\u001b[39m\u001b[38;5;241m.\u001b[39m_embedding_net(context)\n\u001b[1;32m     39\u001b[0m noise, logabsdet \u001b[38;5;241m=\u001b[39m \u001b[38;5;28mself\u001b[39m\u001b[38;5;241m.\u001b[39m_transform(inputs, context\u001b[38;5;241m=\u001b[39membedded_context)\n\u001b[0;32m---> 40\u001b[0m log_prob \u001b[38;5;241m=\u001b[39m \u001b[38;5;28mself\u001b[39m\u001b[38;5;241m.\u001b[39m_distribution\u001b[38;5;241m.\u001b[39mlog_prob(noise, context\u001b[38;5;241m=\u001b[39membedded_context)\n\u001b[1;32m     41\u001b[0m \u001b[38;5;28;01mreturn\u001b[39;00m log_prob \u001b[38;5;241m+\u001b[39m logabsdet\n",
      "File \u001b[0;32m~/miniconda3/envs/sbi_env/lib/python3.11/site-packages/pyknos/mdn/mdn.py:167\u001b[0m, in \u001b[0;36mMultivariateGaussianMDN.log_prob\u001b[0;34m(self, inputs, context)\u001b[0m\n\u001b[1;32m    153\u001b[0m \u001b[38;5;28;01mdef\u001b[39;00m \u001b[38;5;21mlog_prob\u001b[39m(\u001b[38;5;28mself\u001b[39m, inputs: Tensor, context\u001b[38;5;241m=\u001b[39mOptional[Tensor]) \u001b[38;5;241m-\u001b[39m\u001b[38;5;241m>\u001b[39m Tensor:\n\u001b[1;32m    154\u001b[0m \u001b[38;5;250m    \u001b[39m\u001b[38;5;124;03m\"\"\"Return log MoG(inputs|context) where MoG is a mixture of Gaussians density.\u001b[39;00m\n\u001b[1;32m    155\u001b[0m \n\u001b[1;32m    156\u001b[0m \u001b[38;5;124;03m    The MoG's parameters (mixture coefficients, means, and precisions) are the\u001b[39;00m\n\u001b[0;32m   (...)\u001b[0m\n\u001b[1;32m    164\u001b[0m \u001b[38;5;124;03m        Log probability of inputs given context under a MoG model.\u001b[39;00m\n\u001b[1;32m    165\u001b[0m \u001b[38;5;124;03m    \"\"\"\u001b[39;00m\n\u001b[0;32m--> 167\u001b[0m     logits, means, precisions, sumlogdiag, _ \u001b[38;5;241m=\u001b[39m \u001b[38;5;28mself\u001b[39m\u001b[38;5;241m.\u001b[39mget_mixture_components(context)\n\u001b[1;32m    168\u001b[0m     \u001b[38;5;28;01mreturn\u001b[39;00m \u001b[38;5;28mself\u001b[39m\u001b[38;5;241m.\u001b[39mlog_prob_mog(inputs, logits, means, precisions, sumlogdiag)\n",
      "File \u001b[0;32m~/miniconda3/envs/sbi_env/lib/python3.11/site-packages/pyknos/mdn/mdn.py:106\u001b[0m, in \u001b[0;36mMultivariateGaussianMDN.get_mixture_components\u001b[0;34m(self, context)\u001b[0m\n\u001b[1;32m     91\u001b[0m \u001b[38;5;28;01mdef\u001b[39;00m \u001b[38;5;21mget_mixture_components\u001b[39m(\n\u001b[1;32m     92\u001b[0m     \u001b[38;5;28mself\u001b[39m, context: Tensor\n\u001b[1;32m     93\u001b[0m ) \u001b[38;5;241m-\u001b[39m\u001b[38;5;241m>\u001b[39m Tuple[Tensor, Tensor, Tensor, Tensor, Tensor]:\n\u001b[1;32m     94\u001b[0m \u001b[38;5;250m    \u001b[39m\u001b[38;5;124;03m\"\"\"Return logits, means, precisions and two additional useful quantities.\u001b[39;00m\n\u001b[1;32m     95\u001b[0m \n\u001b[1;32m     96\u001b[0m \u001b[38;5;124;03m    Args:\u001b[39;00m\n\u001b[0;32m   (...)\u001b[0m\n\u001b[1;32m    103\u001b[0m \u001b[38;5;124;03m        A such that SIGMA^-1 = A^T A.) All batched.\u001b[39;00m\n\u001b[1;32m    104\u001b[0m \u001b[38;5;124;03m    \"\"\"\u001b[39;00m\n\u001b[0;32m--> 106\u001b[0m     h \u001b[38;5;241m=\u001b[39m \u001b[38;5;28mself\u001b[39m\u001b[38;5;241m.\u001b[39m_hidden_net(context)\n\u001b[1;32m    108\u001b[0m     \u001b[38;5;66;03m# Logits and Means are unconstrained and are obtained directly from the\u001b[39;00m\n\u001b[1;32m    109\u001b[0m     \u001b[38;5;66;03m# output of a linear layer.\u001b[39;00m\n\u001b[1;32m    110\u001b[0m     logits \u001b[38;5;241m=\u001b[39m \u001b[38;5;28mself\u001b[39m\u001b[38;5;241m.\u001b[39m_logits_layer(h)\n",
      "File \u001b[0;32m~/miniconda3/envs/sbi_env/lib/python3.11/site-packages/torch/nn/modules/module.py:1511\u001b[0m, in \u001b[0;36mModule._wrapped_call_impl\u001b[0;34m(self, *args, **kwargs)\u001b[0m\n\u001b[1;32m   1509\u001b[0m     \u001b[38;5;28;01mreturn\u001b[39;00m \u001b[38;5;28mself\u001b[39m\u001b[38;5;241m.\u001b[39m_compiled_call_impl(\u001b[38;5;241m*\u001b[39margs, \u001b[38;5;241m*\u001b[39m\u001b[38;5;241m*\u001b[39mkwargs)  \u001b[38;5;66;03m# type: ignore[misc]\u001b[39;00m\n\u001b[1;32m   1510\u001b[0m \u001b[38;5;28;01melse\u001b[39;00m:\n\u001b[0;32m-> 1511\u001b[0m     \u001b[38;5;28;01mreturn\u001b[39;00m \u001b[38;5;28mself\u001b[39m\u001b[38;5;241m.\u001b[39m_call_impl(\u001b[38;5;241m*\u001b[39margs, \u001b[38;5;241m*\u001b[39m\u001b[38;5;241m*\u001b[39mkwargs)\n",
      "File \u001b[0;32m~/miniconda3/envs/sbi_env/lib/python3.11/site-packages/torch/nn/modules/module.py:1520\u001b[0m, in \u001b[0;36mModule._call_impl\u001b[0;34m(self, *args, **kwargs)\u001b[0m\n\u001b[1;32m   1515\u001b[0m \u001b[38;5;66;03m# If we don't have any hooks, we want to skip the rest of the logic in\u001b[39;00m\n\u001b[1;32m   1516\u001b[0m \u001b[38;5;66;03m# this function, and just call forward.\u001b[39;00m\n\u001b[1;32m   1517\u001b[0m \u001b[38;5;28;01mif\u001b[39;00m \u001b[38;5;129;01mnot\u001b[39;00m (\u001b[38;5;28mself\u001b[39m\u001b[38;5;241m.\u001b[39m_backward_hooks \u001b[38;5;129;01mor\u001b[39;00m \u001b[38;5;28mself\u001b[39m\u001b[38;5;241m.\u001b[39m_backward_pre_hooks \u001b[38;5;129;01mor\u001b[39;00m \u001b[38;5;28mself\u001b[39m\u001b[38;5;241m.\u001b[39m_forward_hooks \u001b[38;5;129;01mor\u001b[39;00m \u001b[38;5;28mself\u001b[39m\u001b[38;5;241m.\u001b[39m_forward_pre_hooks\n\u001b[1;32m   1518\u001b[0m         \u001b[38;5;129;01mor\u001b[39;00m _global_backward_pre_hooks \u001b[38;5;129;01mor\u001b[39;00m _global_backward_hooks\n\u001b[1;32m   1519\u001b[0m         \u001b[38;5;129;01mor\u001b[39;00m _global_forward_hooks \u001b[38;5;129;01mor\u001b[39;00m _global_forward_pre_hooks):\n\u001b[0;32m-> 1520\u001b[0m     \u001b[38;5;28;01mreturn\u001b[39;00m forward_call(\u001b[38;5;241m*\u001b[39margs, \u001b[38;5;241m*\u001b[39m\u001b[38;5;241m*\u001b[39mkwargs)\n\u001b[1;32m   1522\u001b[0m \u001b[38;5;28;01mtry\u001b[39;00m:\n\u001b[1;32m   1523\u001b[0m     result \u001b[38;5;241m=\u001b[39m \u001b[38;5;28;01mNone\u001b[39;00m\n",
      "File \u001b[0;32m~/miniconda3/envs/sbi_env/lib/python3.11/site-packages/torch/nn/modules/container.py:217\u001b[0m, in \u001b[0;36mSequential.forward\u001b[0;34m(self, input)\u001b[0m\n\u001b[1;32m    215\u001b[0m \u001b[38;5;28;01mdef\u001b[39;00m \u001b[38;5;21mforward\u001b[39m(\u001b[38;5;28mself\u001b[39m, \u001b[38;5;28minput\u001b[39m):\n\u001b[1;32m    216\u001b[0m     \u001b[38;5;28;01mfor\u001b[39;00m module \u001b[38;5;129;01min\u001b[39;00m \u001b[38;5;28mself\u001b[39m:\n\u001b[0;32m--> 217\u001b[0m         \u001b[38;5;28minput\u001b[39m \u001b[38;5;241m=\u001b[39m module(\u001b[38;5;28minput\u001b[39m)\n\u001b[1;32m    218\u001b[0m     \u001b[38;5;28;01mreturn\u001b[39;00m \u001b[38;5;28minput\u001b[39m\n",
      "File \u001b[0;32m~/miniconda3/envs/sbi_env/lib/python3.11/site-packages/torch/nn/modules/module.py:1511\u001b[0m, in \u001b[0;36mModule._wrapped_call_impl\u001b[0;34m(self, *args, **kwargs)\u001b[0m\n\u001b[1;32m   1509\u001b[0m     \u001b[38;5;28;01mreturn\u001b[39;00m \u001b[38;5;28mself\u001b[39m\u001b[38;5;241m.\u001b[39m_compiled_call_impl(\u001b[38;5;241m*\u001b[39margs, \u001b[38;5;241m*\u001b[39m\u001b[38;5;241m*\u001b[39mkwargs)  \u001b[38;5;66;03m# type: ignore[misc]\u001b[39;00m\n\u001b[1;32m   1510\u001b[0m \u001b[38;5;28;01melse\u001b[39;00m:\n\u001b[0;32m-> 1511\u001b[0m     \u001b[38;5;28;01mreturn\u001b[39;00m \u001b[38;5;28mself\u001b[39m\u001b[38;5;241m.\u001b[39m_call_impl(\u001b[38;5;241m*\u001b[39margs, \u001b[38;5;241m*\u001b[39m\u001b[38;5;241m*\u001b[39mkwargs)\n",
      "File \u001b[0;32m~/miniconda3/envs/sbi_env/lib/python3.11/site-packages/torch/nn/modules/module.py:1520\u001b[0m, in \u001b[0;36mModule._call_impl\u001b[0;34m(self, *args, **kwargs)\u001b[0m\n\u001b[1;32m   1515\u001b[0m \u001b[38;5;66;03m# If we don't have any hooks, we want to skip the rest of the logic in\u001b[39;00m\n\u001b[1;32m   1516\u001b[0m \u001b[38;5;66;03m# this function, and just call forward.\u001b[39;00m\n\u001b[1;32m   1517\u001b[0m \u001b[38;5;28;01mif\u001b[39;00m \u001b[38;5;129;01mnot\u001b[39;00m (\u001b[38;5;28mself\u001b[39m\u001b[38;5;241m.\u001b[39m_backward_hooks \u001b[38;5;129;01mor\u001b[39;00m \u001b[38;5;28mself\u001b[39m\u001b[38;5;241m.\u001b[39m_backward_pre_hooks \u001b[38;5;129;01mor\u001b[39;00m \u001b[38;5;28mself\u001b[39m\u001b[38;5;241m.\u001b[39m_forward_hooks \u001b[38;5;129;01mor\u001b[39;00m \u001b[38;5;28mself\u001b[39m\u001b[38;5;241m.\u001b[39m_forward_pre_hooks\n\u001b[1;32m   1518\u001b[0m         \u001b[38;5;129;01mor\u001b[39;00m _global_backward_pre_hooks \u001b[38;5;129;01mor\u001b[39;00m _global_backward_hooks\n\u001b[1;32m   1519\u001b[0m         \u001b[38;5;129;01mor\u001b[39;00m _global_forward_hooks \u001b[38;5;129;01mor\u001b[39;00m _global_forward_pre_hooks):\n\u001b[0;32m-> 1520\u001b[0m     \u001b[38;5;28;01mreturn\u001b[39;00m forward_call(\u001b[38;5;241m*\u001b[39margs, \u001b[38;5;241m*\u001b[39m\u001b[38;5;241m*\u001b[39mkwargs)\n\u001b[1;32m   1522\u001b[0m \u001b[38;5;28;01mtry\u001b[39;00m:\n\u001b[1;32m   1523\u001b[0m     result \u001b[38;5;241m=\u001b[39m \u001b[38;5;28;01mNone\u001b[39;00m\n",
      "File \u001b[0;32m~/miniconda3/envs/sbi_env/lib/python3.11/site-packages/torch/nn/modules/linear.py:116\u001b[0m, in \u001b[0;36mLinear.forward\u001b[0;34m(self, input)\u001b[0m\n\u001b[1;32m    115\u001b[0m \u001b[38;5;28;01mdef\u001b[39;00m \u001b[38;5;21mforward\u001b[39m(\u001b[38;5;28mself\u001b[39m, \u001b[38;5;28minput\u001b[39m: Tensor) \u001b[38;5;241m-\u001b[39m\u001b[38;5;241m>\u001b[39m Tensor:\n\u001b[0;32m--> 116\u001b[0m     \u001b[38;5;28;01mreturn\u001b[39;00m F\u001b[38;5;241m.\u001b[39mlinear(\u001b[38;5;28minput\u001b[39m, \u001b[38;5;28mself\u001b[39m\u001b[38;5;241m.\u001b[39mweight, \u001b[38;5;28mself\u001b[39m\u001b[38;5;241m.\u001b[39mbias)\n",
      "\u001b[0;31mRuntimeError\u001b[0m: mat1 and mat2 must have the same dtype, but got Double and Float"
     ]
    }
   ],
   "source": [
    "posterior.map()"
   ]
  },
  {
   "cell_type": "code",
   "execution_count": null,
   "id": "1d43d1d3-f608-42de-88f7-0eb962e7d616",
   "metadata": {},
   "outputs": [],
   "source": []
  },
  {
   "cell_type": "code",
   "execution_count": 77,
   "id": "03dd8334-9487-4a72-868a-4b4ed6bc8ec6",
   "metadata": {
    "collapsed": true,
    "jupyter": {
     "outputs_hidden": true,
     "source_hidden": true
    },
    "tags": []
   },
   "outputs": [
    {
     "name": "stdout",
     "output_type": "stream",
     "text": [
      "[0.004249999821186065, 0.0017499999701976775, 0.0002500000037252903, 0.0015000000596046448, 0.0002500000037252903, 0.0025, 0.0011249999701976776, 0.0002749999985098839, 15.0, 0.0007499999552965164, 1.5, 0.00035000000149011613, 0.004375, 0.003125, 0.006000000238418579]\n"
     ]
    }
   ],
   "source": [
    "n = 200\n",
    "test = [(p.high.numpy()[0] - p.low.numpy()[0]) / (2*n) for p in priors]; print(test)"
   ]
  },
  {
   "cell_type": "code",
   "execution_count": null,
   "id": "4e98ef70-edf6-41c6-94d5-868212ffdeb6",
   "metadata": {
    "collapsed": true,
    "jupyter": {
     "outputs_hidden": true,
     "source_hidden": true
    },
    "tags": []
   },
   "outputs": [
    {
     "data": {
      "text/plain": [
       "<matplotlib.legend.Legend at 0x15fa61890>"
      ]
     },
     "execution_count": 183,
     "metadata": {},
     "output_type": "execute_result"
    },
    {
     "data": {
      "image/png": "[encoded data removed]",
      "text/plain": [
       "<Figure size 640x480 with 1 Axes>"
      ]
     },
     "metadata": {},
     "output_type": "display_data"
    }
   ],
   "source": [
    "slc = [-5,-1]\n",
    "filt = [0,100,200,450,475,499]\n",
    "tstar = np.array([1,2,5])\n",
    "# for i, params in enumerate(nle_samples[slc[0]:slc[1]]):\n",
    "for i, params in enumerate(nle_samples[filt]):\n",
    "    params = params.numpy()\n",
    "    num_sims = 1000\n",
    "    D_vec = np.zeros((num_sims, 3))\n",
    "    for sim_i in range(num_sims):\n",
    "        D_vec[sim_i] = simulator(params)\n",
    "    mean_vec = D_vec.mean(axis=0)\n",
    "    std_vec = D_vec.std(axis=0)\n",
    "    plt.errorbar(tstar, mean_vec, yerr=std_vec, fmt='o', label=i)\n",
    "plt.ylim(-1000,14000)\n",
    "plt.legend()"
   ]
  },
  {
   "cell_type": "code",
   "execution_count": null,
   "id": "bd35d701-2902-4214-862b-7a4488a1e9c3",
   "metadata": {},
   "outputs": [],
   "source": []
  }
 ],
 "metadata": {
  "kernelspec": {
   "display_name": "Python [conda env:sbi_env]",
   "language": "python",
   "name": "conda-env-sbi_env-py"
  },
  "language_info": {
   "codemirror_mode": {
    "name": "ipython",
    "version": 3
   },
   "file_extension": ".py",
   "mimetype": "text/x-python",
   "name": "python",
   "nbconvert_exporter": "python",
   "pygments_lexer": "ipython3",
   "version": "3.11.7"
  }
 },
 "nbformat": 4,
 "nbformat_minor": 5
}
