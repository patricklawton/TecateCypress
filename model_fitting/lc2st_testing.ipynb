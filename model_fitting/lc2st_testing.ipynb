{
 "cells": [
  {
   "cell_type": "code",
   "execution_count": null,
   "id": "14da52cb-cb26-4b11-af4f-fd0df8640661",
   "metadata": {
    "tags": []
   },
   "outputs": [],
   "source": [
    "import matplotlib.pyplot as plt\n",
    "import numpy as np\n",
    "import torch\n",
    "import pickle\n",
    "from sbi import utils as utils\n",
    "from sbi.inference import simulate_for_sbi\n",
    "from sbi.diagnostics.lc2st import LC2ST\n",
    "from sbi.analysis.plot import pp_plot_lc2st\n",
    "from sbi.analysis.plot import marginal_plot_with_probs_intensity\n",
    "from sbi.utils.analysis_utils import get_probs_per_marginal\n",
    "\n",
    "pr = 'mortality'\n",
    "\n",
    "# Read in existing data\n",
    "with open(pr + '/lc2st_data/thetas_star.pkl', 'rb') as handle:\n",
    "    thetas_star = pickle.load(handle)\n",
    "with open(pr + '/lc2st_data/xs_star.pkl', 'rb') as handle:\n",
    "    xs_star = pickle.load(handle)\n",
    "with open(pr + '/lc2st_data/post_samples_star.pkl', 'rb') as handle:\n",
    "    post_samples_star = pickle.load(handle)\n",
    "with open(pr + '/lc2st_data/theta_cal.pkl', 'rb') as handle:\n",
    "    theta_cal = pickle.load(handle)\n",
    "with open(pr + '/lc2st_data/x_cal.pkl', 'rb') as handle:\n",
    "    x_cal = pickle.load(handle)\n",
    "with open(pr + '/lc2st_data/post_samples_cal.pkl', 'rb') as handle:\n",
    "    post_samples_cal = pickle.load(handle)\n",
    "with open(pr+'/lc2st_data/lc2st_classifier.pkl', 'rb') as handle:\n",
    "    lc2st = pickle.load(handle)\n",
    "\n",
    "\n",
    "# Define significance level for diagnostics\n",
    "conf_alpha = 0.05"
   ]
  },
  {
   "cell_type": "code",
   "execution_count": null,
   "id": "bafd96e1-2b40-4068-a006-515520c237a5",
   "metadata": {
    "tags": []
   },
   "outputs": [],
   "source": [
    "x_cal.shape"
   ]
  },
  {
   "cell_type": "code",
   "execution_count": null,
   "id": "24843642-9d0f-464d-bd4d-f72563064f63",
   "metadata": {
    "tags": []
   },
   "outputs": [],
   "source": [
    "probs_data.shape"
   ]
  },
  {
   "cell_type": "code",
   "execution_count": null,
   "id": "d6e4fd94-1ee4-4943-aac3-c4df2288f2a3",
   "metadata": {
    "tags": []
   },
   "outputs": [],
   "source": [
    "dict_probs_marginals.keys()"
   ]
  },
  {
   "cell_type": "code",
   "execution_count": null,
   "id": "bd0a9650-54de-4c18-b9c6-e68ef51b326f",
   "metadata": {
    "tags": []
   },
   "outputs": [],
   "source": [
    "post_samples_star.shape[0]"
   ]
  },
  {
   "cell_type": "code",
   "execution_count": null,
   "id": "acfe75ca-bf5c-43a5-a06d-6852711b336c",
   "metadata": {
    "tags": []
   },
   "outputs": [],
   "source": [
    "fig, axes = plt.subplots(len(thetas_star), 6, figsize=(9*2,6*2), constrained_layout=True)\n",
    "label = \"Probabilities (class 0)\"\n",
    "for i in range(len(thetas_star)):\n",
    "    probs_data, _ = lc2st.get_scores(\n",
    "        theta_o=post_samples_star[i][:1000],\n",
    "        x_o=xs_star[i],\n",
    "        return_probs=True,\n",
    "        trained_clfs=lc2st.trained_clfs\n",
    "    )\n",
    "    dict_probs_marginals = get_probs_per_marginal(\n",
    "        probs_data[0],\n",
    "        post_samples_star[i][:1000].numpy()\n",
    "    )\n",
    "    # 2d histogram\n",
    "    marginal_plot_with_probs_intensity(\n",
    "        dict_probs_marginals['0_1'],\n",
    "        marginal_dim=2,\n",
    "        ax=axes[i][0],\n",
    "        n_bins=50,\n",
    "        label=label\n",
    "    )\n",
    "\n",
    "    # marginal 1\n",
    "    marginal_plot_with_probs_intensity(\n",
    "        dict_probs_marginals['0'],\n",
    "        marginal_dim=1,\n",
    "        ax=axes[i][1],\n",
    "        n_bins=50,\n",
    "        label=label,\n",
    "    )\n",
    "\n",
    "    # marginal 2\n",
    "    marginal_plot_with_probs_intensity(\n",
    "        dict_probs_marginals['1'],\n",
    "        marginal_dim=1,\n",
    "        ax=axes[i][2],\n",
    "        n_bins=50,\n",
    "        label=label,\n",
    "    )\n",
    "\n",
    "    marginal_plot_with_probs_intensity(\n",
    "        dict_probs_marginals['2'],\n",
    "        marginal_dim=1,\n",
    "        ax=axes[i][3],\n",
    "        n_bins=50,\n",
    "        label=label,\n",
    "    )\n",
    "\n",
    "    marginal_plot_with_probs_intensity(\n",
    "        dict_probs_marginals['3'],\n",
    "        marginal_dim=1,\n",
    "        ax=axes[i][4],\n",
    "        n_bins=50,\n",
    "        label=label,\n",
    "    )\n",
    "\n",
    "    marginal_plot_with_probs_intensity(\n",
    "        dict_probs_marginals['4'],\n",
    "        marginal_dim=1,\n",
    "        ax=axes[i][5],\n",
    "        n_bins=50,\n",
    "        label=label,\n",
    "    )\n",
    "\n",
    "axes[0][1].set_title(\"marginal 1\")\n",
    "axes[0][2].set_title(\"marginal 2\")\n",
    "\n",
    "for j in range(post_samples_star.shape[0]):\n",
    "    axes[j][0].set_ylabel(f\"observation {j + 1}\")\n",
    "axes[0][2].legend()"
   ]
  },
  {
   "cell_type": "code",
   "execution_count": null,
   "id": "628043a7-5be7-4304-829e-629585cf9d46",
   "metadata": {},
   "outputs": [],
   "source": []
  }
 ],
 "metadata": {
  "kernelspec": {
   "display_name": "Python [conda env:sbi_env]",
   "language": "python",
   "name": "conda-env-sbi_env-py"
  },
  "language_info": {
   "codemirror_mode": {
    "name": "ipython",
    "version": 3
   },
   "file_extension": ".py",
   "mimetype": "text/x-python",
   "name": "python",
   "nbconvert_exporter": "python",
   "pygments_lexer": "ipython3",
   "version": "3.11.7"
  }
 },
 "nbformat": 4,
 "nbformat_minor": 5
}
