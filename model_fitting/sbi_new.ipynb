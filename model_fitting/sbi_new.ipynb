{
 "cells": [
  {
   "cell_type": "code",
   "execution_count": null,
   "id": "86f48e5e-0e48-4ce8-af85-13d43fde5cdc",
   "metadata": {},
   "outputs": [],
   "source": [
    "import scipy\n",
    "from mortality.simulator import simulator"
   ]
  },
  {
   "cell_type": "code",
   "execution_count": null,
   "id": "5fef5a10-96cf-474a-a408-77b8c4d1997b",
   "metadata": {},
   "outputs": [],
   "source": [
    "pr = 'mortality'\n",
    "with open(pr+'/prior.pkl', 'rb') as handle:\n",
    "    prior = pickle.load(handle)\n",
    "prior, theta_numel, prior_returns_numpy = utils.user_input_checks.process_prior(prior)\n",
    "simulator = utils.user_input_checks.process_simulator(simulator, prior, is_numpy_simulator=True)\n",
    "x_o = np.load(pr+'/observations/observations.npy')\n",
    "x_o = torch.Tensor(x_o)\n",
    "with open(pr+\"/posterior.pkl\", \"rb\") as handle:\n",
    "    posterior = pickle.load(handle)\n",
    "posterior_samples = posterior.sample(sample_shape=(1000,))\n",
    "x_pp = simulator(posterior_samples)\n",
    "x_pp = x_pp[~torch.any(x_pp.isnan(),dim=1)].numpy()\n",
    "x_pp_mean = np.mean(x_pp, axis=0)"
   ]
  },
  {
   "cell_type": "code",
   "execution_count": null,
   "id": "ef296cc8-1bdd-43a9-9432-1e7b5e7ca700",
   "metadata": {},
   "outputs": [],
   "source": [
    "samples_per_census = 1000\n",
    "all_y = []\n",
    "for census_i, census_t in enumerate(census_yrs):\n",
    "    mean = x_pp_mean[census_i]\n",
    "    var = x_pp_mean[census_i + 5]\n",
    "    skew = x_pp_mean[census_i + 10]\n",
    "    dist_samples = scipy.stats.skewnorm.rvs(skew, loc=mean, scale=np.sqrt(var), size=samples_per_census)\n",
    "    all_y.append(np.where(dist_samples<0, 0, dist_samples))"
   ]
  },
  {
   "cell_type": "code",
   "execution_count": null,
   "id": "460e9b4f-d500-4036-911d-2f04014e53b9",
   "metadata": {},
   "outputs": [],
   "source": [
    "fig, ax = plt.subplots(1, figsize=(9,6))\n",
    "ax_fontsize = 12\n",
    "    \n",
    "ax.scatter(mortality_o[0].to_numpy(), mortality_o[1].to_numpy(), color='k')\n",
    "\n",
    "parts = ax.violinplot(all_y, positions=census_yrs, showextrema=False);\n",
    "for pc in parts['bodies']:\n",
    "    pc.set_facecolor('limegreen')\n",
    "    pc.set_edgecolor('black')\n",
    "    pc.set_alpha(0.5)\n",
    "\n",
    "ax.set_ylim(-0.05, 1)\n",
    "ax.set_xlim(1,15)\n",
    "ax.set_ylabel(\"mortality rate\", fontsize=ax_fontsize)\n",
    "ax.set_xlabel(\"age\", fontsize=ax_fontsize)\n",
    "fn = f\"sbi_figs/mortality_viz.png\"\n",
    "fig.savefig(fn, bbox_inches='tight')"
   ]
  }
 ],
 "metadata": {
  "kernelspec": {
   "display_name": "Python [conda env:sbi_env]",
   "language": "python",
   "name": "conda-env-sbi_env-py"
  },
  "language_info": {
   "codemirror_mode": {
    "name": "ipython",
    "version": 3
   },
   "file_extension": ".py",
   "mimetype": "text/x-python",
   "name": "python",
   "nbconvert_exporter": "python",
   "pygments_lexer": "ipython3",
   "version": "3.11.7"
  }
 },
 "nbformat": 4,
 "nbformat_minor": 5
}
