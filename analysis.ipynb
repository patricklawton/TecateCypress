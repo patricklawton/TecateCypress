{
 "cells": [
  {
   "cell_type": "code",
   "execution_count": 1,
   "id": "a22b0c11-c568-47b7-9f2a-7f1db504d3d9",
   "metadata": {
    "tags": []
   },
   "outputs": [],
   "source": [
    "import numpy as np\n",
    "import h5py\n",
    "import json\n",
    "import os\n",
    "import pandas as pd\n",
    "from model import *\n",
    "from IPython import display\n",
    "import matplotlib\n",
    "from matplotlib import pyplot as plt\n",
    "import matplotlib.animation as animation\n",
    "from matplotlib.cm import ScalarMappable\n",
    "matplotlib.rcParams['animation.embed_limit'] = 40\n",
    "matplotlib.rcParams['animation.ffmpeg_path'] = '/Users/patrick/Downloads/ffmpeg'"
   ]
  },
  {
   "cell_type": "code",
   "execution_count": 2,
   "id": "86c73612-f035-4699-a939-e031ac989b52",
   "metadata": {
    "tags": []
   },
   "outputs": [],
   "source": [
    "# Read in shared ('project level') data\n",
    "with open(os.path.join(os.getcwd(), 'project_info.json'), 'r') as info_file:\n",
    "    proj_info = json.load(info_file)\n",
    "\n",
    "# Get list of run numbers\n",
    "rundirs = os.listdir('runs')\n",
    "try:\n",
    "    runnums = np.arange(len(rundirs.remove('.DS_Store')))\n",
    "except:\n",
    "    runnums = np.arange(len(rundirs))"
   ]
  },
  {
   "cell_type": "markdown",
   "id": "e45a249e-a3a1-423e-95f1-723e03878612",
   "metadata": {},
   "source": [
    "scatter plots\n",
    "\n",
    "    x-axis\n",
    "        K\n",
    "        - proportional rate of change (like climate change exposure rate) for the longest period between merging/splitting events\n",
    "        fire prob\n",
    "        - average over space and time for the longest period between merging/splitting events\n",
    "        - (proportional?) rate of change for the longest period between merging/splitting events\n",
    "    y axis\n",
    "        - proportional abundance rate of change for the longest period between merging/splitting events\n",
    "        \n",
    "how much does the change in fire prob matter?\n",
    "    \n",
    "    histogram changes in prob over patches, compare to popsuc vs fireprob single patch test"
   ]
  },
  {
   "cell_type": "code",
   "execution_count": 70,
   "id": "5af68a3e-4ad7-4d7b-99f6-a626057913a6",
   "metadata": {
    "tags": []
   },
   "outputs": [],
   "source": [
    "run = open_run(0)\n",
    "pop = 'pop4'\n",
    "with h5py.File(os.path.join(run.run_dir, 'results.h5'), 'r') as res:\n",
    "    ab = np.array(res['mean'][pop])\n",
    "    Ks = np.array(res['K'][pop])"
   ]
  },
  {
   "cell_type": "code",
   "execution_count": 77,
   "id": "9be03a1d-ac40-4190-abcd-3d1d4eff4337",
   "metadata": {
    "collapsed": true,
    "jupyter": {
     "outputs_hidden": true
    },
    "tags": []
   },
   "outputs": [
    {
     "data": {
      "text/plain": [
       "[(2173647, 0),\n",
       " (2005964, 1),\n",
       " (1885729, 2),\n",
       " (1767533, 3),\n",
       " (1674069, 4),\n",
       " (1577334, 5),\n",
       " (1494230, 6),\n",
       " (1419440, 7),\n",
       " (1337682, 8),\n",
       " (1266787, 9),\n",
       " (1202939, 10),\n",
       " (1143649, 11),\n",
       " (1085577, 12),\n",
       " (1030498, 13),\n",
       " (976400, 14),\n",
       " (927018, 15),\n",
       " (878639, 16),\n",
       " (835302, 17),\n",
       " (796451, 18),\n",
       " (757616, 19),\n",
       " (721983, 20),\n",
       " (687476, 21),\n",
       " (655858, 22),\n",
       " (625810, 23),\n",
       " (597046, 24),\n",
       " (569548, 25),\n",
       " (543300, 26),\n",
       " (518363, 27),\n",
       " (495009, 28),\n",
       " (472821, 29),\n",
       " (0, 30),\n",
       " (0, 31),\n",
       " (0, 32),\n",
       " (0, 33),\n",
       " (0, 34),\n",
       " (0, 35),\n",
       " (0, 36),\n",
       " (0, 37),\n",
       " (0, 38),\n",
       " (0, 39),\n",
       " (0, 40),\n",
       " (0, 41),\n",
       " (0, 42),\n",
       " (0, 43),\n",
       " (0, 44),\n",
       " (0, 45),\n",
       " (0, 46),\n",
       " (0, 47),\n",
       " (0, 48),\n",
       " (0, 49),\n",
       " (0, 50),\n",
       " (0, 51),\n",
       " (0, 52),\n",
       " (0, 53),\n",
       " (0, 54),\n",
       " (0, 55),\n",
       " (0, 56),\n",
       " (0, 57),\n",
       " (0, 58),\n",
       " (0, 59),\n",
       " (0, 60),\n",
       " (0, 61),\n",
       " (0, 62),\n",
       " (0, 63),\n",
       " (0, 64),\n",
       " (0, 65),\n",
       " (0, 66),\n",
       " (0, 67),\n",
       " (0, 68),\n",
       " (0, 69),\n",
       " (0, 70),\n",
       " (0, 71),\n",
       " (0, 72),\n",
       " (0, 73),\n",
       " (0, 74),\n",
       " (0, 75),\n",
       " (0, 76)]"
      ]
     },
     "execution_count": 77,
     "metadata": {},
     "output_type": "execute_result"
    },
    {
     "data": {
      "image/png": "[encoded data removed]",
      "text/plain": [
       "<Figure size 432x288 with 1 Axes>"
      ]
     },
     "metadata": {
      "needs_background": "light"
     },
     "output_type": "display_data"
    }
   ],
   "source": [
    "plt.scatter(range(len(ab)), ab); [(a, t) for a, t in zip(ab, range(len(ab)))]"
   ]
  },
  {
   "cell_type": "code",
   "execution_count": 73,
   "id": "57eece7b-212c-491f-8549-e252a5d3772e",
   "metadata": {
    "collapsed": true,
    "jupyter": {
     "outputs_hidden": true
    },
    "tags": []
   },
   "outputs": [
    {
     "data": {
      "text/plain": [
       "[(2415163.0, 0),\n",
       " (2415163.0, 1),\n",
       " (2415163.0, 2),\n",
       " (2415163.0, 3),\n",
       " (2415163.0, 4),\n",
       " (2415163.0, 5),\n",
       " (2415163.0, 6),\n",
       " (2415163.0, 7),\n",
       " (2415163.0, 8),\n",
       " (2415163.0, 9),\n",
       " (2415163.0, 10),\n",
       " (2415163.0, 11),\n",
       " (2415163.0, 12),\n",
       " (2415163.0, 13),\n",
       " (2415163.0, 14),\n",
       " (2415163.0, 15),\n",
       " (2415163.0, 16),\n",
       " (2415163.0, 17),\n",
       " (2415163.0, 18),\n",
       " (2415163.0, 19),\n",
       " (2415163.0, 20),\n",
       " (2415163.0, 21),\n",
       " (2415163.0, 22),\n",
       " (2415163.0, 23),\n",
       " (2415163.0, 24),\n",
       " (2415163.0, 25),\n",
       " (2415163.0, 26),\n",
       " (2415163.0, 27),\n",
       " (2415163.0, 28),\n",
       " (2415163.0, 29),\n",
       " (0.0, 30),\n",
       " (0.0, 31),\n",
       " (0.0, 32),\n",
       " (0.0, 33),\n",
       " (0.0, 34),\n",
       " (0.0, 35),\n",
       " (0.0, 36),\n",
       " (0.0, 37),\n",
       " (0.0, 38),\n",
       " (0.0, 39),\n",
       " (0.0, 40),\n",
       " (0.0, 41),\n",
       " (0.0, 42),\n",
       " (0.0, 43),\n",
       " (0.0, 44),\n",
       " (0.0, 45),\n",
       " (0.0, 46),\n",
       " (0.0, 47),\n",
       " (0.0, 48),\n",
       " (0.0, 49),\n",
       " (0.0, 50),\n",
       " (0.0, 51),\n",
       " (0.0, 52),\n",
       " (0.0, 53),\n",
       " (0.0, 54),\n",
       " (0.0, 55),\n",
       " (0.0, 56),\n",
       " (0.0, 57),\n",
       " (0.0, 58),\n",
       " (0.0, 59),\n",
       " (0.0, 60),\n",
       " (0.0, 61),\n",
       " (0.0, 62),\n",
       " (0.0, 63),\n",
       " (0.0, 64),\n",
       " (0.0, 65),\n",
       " (0.0, 66),\n",
       " (0.0, 67),\n",
       " (0.0, 68),\n",
       " (0.0, 69),\n",
       " (0.0, 70),\n",
       " (0.0, 71),\n",
       " (0.0, 72),\n",
       " (0.0, 73),\n",
       " (0.0, 74)]"
      ]
     },
     "execution_count": 73,
     "metadata": {},
     "output_type": "execute_result"
    },
    {
     "data": {
      "image/png": "[encoded data removed]",
      "text/plain": [
       "<Figure size 432x288 with 1 Axes>"
      ]
     },
     "metadata": {
      "needs_background": "light"
     },
     "output_type": "display_data"
    }
   ],
   "source": [
    "plt.scatter(range(len(Ks)), Ks); [(K, t) for K, t in zip(Ks, range(len(Ks)))]"
   ]
  },
  {
   "cell_type": "code",
   "execution_count": 3,
   "id": "d14a4cd7-4e4e-4491-91a9-3e650f0445a6",
   "metadata": {},
   "outputs": [
    {
     "data": {
      "text/plain": [
       "{'a': 1}"
      ]
     },
     "execution_count": 3,
     "metadata": {},
     "output_type": "execute_result"
    }
   ],
   "source": [
    "test = {}\n",
    "test.update({'a':1})\n",
    "test"
   ]
  },
  {
   "cell_type": "code",
   "execution_count": 16,
   "id": "c4e44bd1-23a0-4536-a2bd-5a777a781139",
   "metadata": {
    "tags": []
   },
   "outputs": [
    {
     "name": "stdout",
     "output_type": "stream",
     "text": [
      "run 0\n",
      "<KeysViewHDF5 ['K', 'fire_prob', 'max', 'mean', 'min', 'patch_centroids', 'stdev']>\n"
     ]
    },
    {
     "data": {
      "image/png": "[encoded data removed]",
      "text/plain": [
       "<Figure size 432x288 with 1 Axes>"
      ]
     },
     "metadata": {
      "needs_background": "light"
     },
     "output_type": "display_data"
    },
    {
     "data": {
      "image/png": "[encoded data removed]",
      "text/plain": [
       "<Figure size 432x288 with 1 Axes>"
      ]
     },
     "metadata": {
      "needs_background": "light"
     },
     "output_type": "display_data"
    },
    {
     "data": {
      "image/png": "[encoded data removed]",
      "text/plain": [
       "<Figure size 432x288 with 1 Axes>"
      ]
     },
     "metadata": {
      "needs_background": "light"
     },
     "output_type": "display_data"
    },
    {
     "data": {
      "image/png": "[encoded data removed]",
      "text/plain": [
       "<Figure size 432x288 with 2 Axes>"
      ]
     },
     "metadata": {
      "needs_background": "light"
     },
     "output_type": "display_data"
    },
    {
     "data": {
      "image/png": "[encoded data removed]",
      "text/plain": [
       "<Figure size 432x288 with 2 Axes>"
      ]
     },
     "metadata": {
      "needs_background": "light"
     },
     "output_type": "display_data"
    },
    {
     "name": "stdout",
     "output_type": "stream",
     "text": [
      "run 74\n",
      "<KeysViewHDF5 ['K', 'fire_prob', 'max', 'mean', 'min', 'patch_centroids', 'stdev']>\n"
     ]
    },
    {
     "data": {
      "image/png": "[encoded data removed]",
      "text/plain": [
       "<Figure size 432x288 with 1 Axes>"
      ]
     },
     "metadata": {
      "needs_background": "light"
     },
     "output_type": "display_data"
    },
    {
     "data": {
      "image/png": "[encoded data removed]",
      "text/plain": [
       "<Figure size 432x288 with 1 Axes>"
      ]
     },
     "metadata": {
      "needs_background": "light"
     },
     "output_type": "display_data"
    },
    {
     "data": {
      "image/png": "[encoded data removed]",
      "text/plain": [
       "<Figure size 432x288 with 1 Axes>"
      ]
     },
     "metadata": {
      "needs_background": "light"
     },
     "output_type": "display_data"
    },
    {
     "data": {
      "image/png": "[encoded data removed]",
      "text/plain": [
       "<Figure size 432x288 with 2 Axes>"
      ]
     },
     "metadata": {
      "needs_background": "light"
     },
     "output_type": "display_data"
    },
    {
     "data": {
      "image/png": "[encoded data removed]",
      "text/plain": [
       "<Figure size 432x288 with 2 Axes>"
      ]
     },
     "metadata": {
      "needs_background": "light"
     },
     "output_type": "display_data"
    }
   ],
   "source": [
    "data_keys = ['K_prop_dot', 'fire_prob_avg', 'delta_fire_prob', 'abund_prop_dot']\n",
    "# for runnum in runnums:\n",
    "for runnum in [0,74]:\n",
    "    print('run',runnum)\n",
    "    run = open_run(runnum)\n",
    "    # Select specific climate model/scenario\n",
    "    if (run.spatial == False) or (run.climate_model != 'cnrm') or (run.climate_scenario != 'rcp45'):\n",
    "        continue\n",
    "\n",
    "    # Initialize data\n",
    "    if run.fixed_habitat == False:\n",
    "        with open(os.path.join(run.run_dir, 'final.mp'), 'r') as mp:\n",
    "            mpdata = mp.readlines()\n",
    "        pops = np.arange(run.get_num_pops())\n",
    "        \n",
    "        # data = {key: {str(pop): [] for pop in pops} for key in ['K_prop_dot', 'fire_prob_avg', 'abund_prop_dot']}\n",
    "        data = {key: {} for key in data_keys}\n",
    "        \n",
    "        # Process the splits and merges\n",
    "        '''Could also process the splits under this loop'''\n",
    "        expected_len = 22 #of the pop management log lines\n",
    "        splits = {str(pop): [] for pop in pops}\n",
    "        merges = {str(pop): [] for pop in pops}\n",
    "        \n",
    "        # Find line where pop management log starts\n",
    "        for ln_idx, ln in enumerate(mpdata):\n",
    "            if 'pop mgmnt' in ln:\n",
    "                pop_mgmnt_idx = ln_idx; break\n",
    "        for ln_idx, ln in enumerate(mpdata):\n",
    "            if ln_idx > pop_mgmnt_idx:\n",
    "                ln_splt = ln.split()\n",
    "                if 'Simulation results' in ln:\n",
    "                    break\n",
    "                elif len(ln_splt) != expected_len:\n",
    "                    # Skip if not a pop management log line\n",
    "                    continue\n",
    "                \n",
    "                if float(ln_splt[10]) == 1.0:\n",
    "                    # Process splits\n",
    "                    merges[ln_splt[3]].append(int(ln_splt[4]))\n",
    "                else:\n",
    "                    # Process merges\n",
    "                    splits[ln_splt[2]].append(int(ln_splt[4]))\n",
    "    \n",
    "    # Access the run's results\n",
    "    with h5py.File(os.path.join(run.run_dir, 'results.h5'), 'r') as res:\n",
    "        print(res.keys())\n",
    "        for pop in pops[1:]:\n",
    "            poplab = 'pop'+str(pop)\n",
    "            \n",
    "            # Filter out populations with zero abundance for whole simulation\n",
    "            if np.all(np.array(res['mean'][poplab]) == 0):\n",
    "                continue\n",
    "            # print(pop)\n",
    "            \n",
    "            # Find timestep where this population appears\n",
    "            init_i = np.nonzero(res['mean'][poplab])[0][0]\n",
    "            # For pops in frame 0, account for the burn in period\n",
    "            if init_i == 0:\n",
    "                init_i = init_i + run.burn_in_period\n",
    "            \n",
    "            # Check for local extinction / merging into another pop\n",
    "            abund = np.array(res['mean'][poplab])\n",
    "            final_i = int(np.round((proj_info['tf']-proj_info['ti'])/run.timestep)) + run.burn_in_period\n",
    "            ext = False\n",
    "            for t in range(final_i):\n",
    "                if (abund[t] > 0) and (abund[t+1] == 0):\n",
    "                    final_i = t if t > run.burn_in_period else run.burn_in_period\n",
    "                    break\n",
    "            \n",
    "            # Set the interval over which to calculate population metrics\n",
    "            t_interval = [init_i, final_i]\n",
    "            if not run.fixed_habitat:\n",
    "                # Find the longest interval without merging/splitting\n",
    "                if (len(splits[str(pop)]) > 0) or (len(merges[str(pop)]) > 0):\n",
    "                    times = sorted([init_i] + splits[str(pop)] + merges[str(pop)] + [final_i])\n",
    "                    intervals = np.array([times[i] - times[i-1] for i in range(len(times))[1:]])\n",
    "                    max_int_i = np.where(intervals == max(intervals))[0][0]\n",
    "                    t_interval[0] = times[max_int_i]\n",
    "                    t_interval[1] = times[max_int_i + 1]\n",
    "                    # print(times, '\\n', t_interval, '\\n')\n",
    "                else:\n",
    "                    # print(t_interval, '\\n')\n",
    "                    t_interval[1] = final_i\n",
    "            '''I cant understand RAMAS' indexing, so this is just a fudge for now'''\n",
    "            if t_interval[1] > 74:\n",
    "                t_interval[1] = 74\n",
    "            delta_t = t_interval[1] - t_interval[0]\n",
    "            \n",
    "            # Require a minimum timespan without merges/splits before tossing out\n",
    "            if (delta_t) < 10:\n",
    "                continue\n",
    "            \n",
    "            Ks = np.array(res['K'][poplab])\n",
    "            K_prop_dot = ((Ks[t_interval[1]] - Ks[t_interval[0]]) / Ks[t_interval[0]]) / delta_t\n",
    "            # print(Ks[t_interval[0]], Ks[t_interval[1]], Kdot)\n",
    "            data['K_prop_dot'].update({str(pop): K_prop_dot})\n",
    "            \n",
    "            fire_probs = np.array(res['fire_prob'][poplab])\n",
    "            # print(len(fire_probs)); sys.exit()\n",
    "            fire_prob_avg = np.mean(fire_probs[t_interval[0]:t_interval[1]+1])\n",
    "            data['fire_prob_avg'].update({str(pop): fire_prob_avg})\n",
    "            delta_fire_prob = fire_probs[t_interval[1]] - fire_probs[t_interval[0]]\n",
    "            data['delta_fire_prob'].update({str(pop): delta_fire_prob})\n",
    "            \n",
    "            abund_prop_dot = ((abund[t_interval[1]] - abund[t_interval[0]]) / abund[t_interval[0]]) / delta_t\n",
    "            data['abund_prop_dot'].update({str(pop): abund_prop_dot})\n",
    "        \n",
    "    # Plot results\n",
    "    for xlab, ylab in zip(['K_prop_dot', 'fire_prob_avg', 'delta_fire_prob'],\n",
    "                          ['abund_prop_dot', 'abund_prop_dot','abund_prop_dot']):\n",
    "        x = [data[xlab][pop] for pop in list(data[xlab].keys())]\n",
    "        y = [data[ylab][pop] for pop in list(data[ylab].keys())]\n",
    "        plt.scatter(x, y)\n",
    "        plt.xlabel(xlab); plt.ylabel(ylab)\n",
    "        plt.show()\n",
    "    \n",
    "    x = [data['fire_prob_avg'][pop] for pop in list(data['fire_prob_avg'].keys())]\n",
    "    y = [data['K_prop_dot'][pop] for pop in list(data['K_prop_dot'].keys())]\n",
    "    c = [data['abund_prop_dot'][pop] for pop in list(data['abund_prop_dot'].keys())]\n",
    "    plt.scatter(x, y, c=c, vmin=-0.035, alpha=0.75)\n",
    "    plt.colorbar(label='abund_prop_dot')\n",
    "    plt.xlabel('fire_prob_avg'); plt.ylabel('K_prop_dot')\n",
    "    plt.savefig(os.path.join(os.getcwd(), 'figs', 'Kvsfire_abundratecolor.png'), bbox_inches='tight')\n",
    "    plt.show()\n",
    "    \n",
    "    x = [data['delta_fire_prob'][pop] for pop in list(data['delta_fire_prob'].keys())]\n",
    "    y = [data['K_prop_dot'][pop] for pop in list(data['K_prop_dot'].keys())]\n",
    "    c = [data['abund_prop_dot'][pop] for pop in list(data['abund_prop_dot'].keys())]\n",
    "    plt.scatter(x, y, c=c, vmin=-0.035, alpha=0.75)\n",
    "    plt.colorbar(label='abund_prop_dot')\n",
    "    plt.xlabel('delta_fire_prob'); plt.ylabel('K_prop_dot')\n",
    "    plt.savefig(os.path.join(os.getcwd(), 'figs', 'Kvsdeltafire_abundratecolor.png'), bbox_inches='tight')\n",
    "    plt.show()\n",
    "    # break"
   ]
  },
  {
   "cell_type": "code",
   "execution_count": 8,
   "id": "307d7d12-f683-4195-aaa6-de9bf2e8b124",
   "metadata": {
    "collapsed": true,
    "jupyter": {
     "outputs_hidden": true
    },
    "tags": []
   },
   "outputs": [
    {
     "data": {
      "text/plain": [
       "['1',\n",
       " '2',\n",
       " '3',\n",
       " '7',\n",
       " '8',\n",
       " '9',\n",
       " '13',\n",
       " '14',\n",
       " '18',\n",
       " '19',\n",
       " '20',\n",
       " '21',\n",
       " '22',\n",
       " '23',\n",
       " '24',\n",
       " '25',\n",
       " '26',\n",
       " '27',\n",
       " '28',\n",
       " '30',\n",
       " '31',\n",
       " '32',\n",
       " '33',\n",
       " '34',\n",
       " '35',\n",
       " '37',\n",
       " '38',\n",
       " '39',\n",
       " '40',\n",
       " '42',\n",
       " '44',\n",
       " '46',\n",
       " '47',\n",
       " '48',\n",
       " '50',\n",
       " '51',\n",
       " '52',\n",
       " '55',\n",
       " '57',\n",
       " '58',\n",
       " '60',\n",
       " '61',\n",
       " '63',\n",
       " '64',\n",
       " '65',\n",
       " '157',\n",
       " '163',\n",
       " '165',\n",
       " '171',\n",
       " '172',\n",
       " '176',\n",
       " '179',\n",
       " '182',\n",
       " '183',\n",
       " '185',\n",
       " '186']"
      ]
     },
     "execution_count": 8,
     "metadata": {},
     "output_type": "execute_result"
    }
   ],
   "source": [
    "list(data['K_prop_dot'].keys())"
   ]
  },
  {
   "cell_type": "code",
   "execution_count": 34,
   "id": "c5789ec4-e500-46e9-9e67-99f445cf63e3",
   "metadata": {},
   "outputs": [
    {
     "data": {
      "text/plain": [
       "(array([ 1.,  0.,  0.,  1.,  0.,  0.,  0.,  0.,  0.,  0.,  1.,  0.,  0.,\n",
       "         0.,  0.,  2., 12., 16., 13.,  3.]),\n",
       " array([-0.0542308 , -0.05107843, -0.04792606, -0.04477369, -0.04162132,\n",
       "        -0.03846895, -0.03531658, -0.03216421, -0.02901183, -0.02585946,\n",
       "        -0.02270709, -0.01955472, -0.01640235, -0.01324998, -0.01009761,\n",
       "        -0.00694524, -0.00379287, -0.0006405 ,  0.00251187,  0.00566424,\n",
       "         0.00881661]),\n",
       " <BarContainer object of 20 artists>)"
      ]
     },
     "execution_count": 34,
     "metadata": {},
     "output_type": "execute_result"
    },
    {
     "data": {
      "image/png": "[encoded data removed]",
      "text/plain": [
       "<Figure size 432x288 with 1 Axes>"
      ]
     },
     "metadata": {
      "needs_background": "light"
     },
     "output_type": "display_data"
    }
   ],
   "source": [
    "deltas = np.array([data['delta_fire_prob'][pop] for pop in list(data['delta_fire_prob'].keys())])\n",
    "deltas = deltas[np.nonzero(deltas)[0]]\n",
    "plt.hist(deltas, bins=20)"
   ]
  },
  {
   "cell_type": "code",
   "execution_count": 38,
   "id": "3a6a6890-88af-48c1-991c-988df1f326a7",
   "metadata": {},
   "outputs": [
    {
     "data": {
      "text/plain": [
       "<matplotlib.legend.Legend at 0x1bd96bd2880>"
      ]
     },
     "execution_count": 38,
     "metadata": {},
     "output_type": "execute_result"
    },
    {
     "data": {
      "image/png": "[encoded data removed]",
      "text/plain": [
       "<Figure size 432x288 with 1 Axes>"
      ]
     },
     "metadata": {
      "needs_background": "light"
     },
     "output_type": "display_data"
    }
   ],
   "source": [
    "for runnum in runnums:\n",
    "    run = open_run(runnum)\n",
    "    # Select specific climate model/scenario\n",
    "    if (run.spatial == False) or (run.climate_model != 'cnrm') or (run.climate_scenario != 'rcp45'):\n",
    "        continue\n",
    "    hab_key = 'fixed' if run.fixed_habitat else 'dynamic'\n",
    "    fire_key = 'fixed' if run.fixed_fire else 'dynamic'\n",
    "    run_lab = \"{} habitat, {} fire\".format(hab_key, fire_key)\n",
    "    # Access the run's results\n",
    "    with h5py.File(os.path.join(run.run_dir, 'results.h5'), 'r') as res:\n",
    "        metapop_abund = np.array(res['mean']['pop0'])\n",
    "        metapop_stdev = np.array(res['stdev']['pop0'])\n",
    "    plt.errorbar(range(len(metapop_abund)), metapop_abund, yerr=metapop_stdev, label=run_lab)\n",
    "plt.axvline(run.burn_in_period, ls='--', color='k', zorder=-1)\n",
    "plt.legend()"
   ]
  },
  {
   "cell_type": "code",
   "execution_count": 35,
   "id": "375d051c-7313-4c65-ad0f-31fa3da207e7",
   "metadata": {},
   "outputs": [
    {
     "data": {
      "text/plain": [
       "([[30, 49], [50, 69], [5, 29]], [[5, 29], [30, 49], [50, 69]])"
      ]
     },
     "execution_count": 35,
     "metadata": {},
     "output_type": "execute_result"
    }
   ],
   "source": [
    "labs = ['b','c','a']\n",
    "test = [[30,49],[50,69],[5,29]]\n",
    "test, sorted(test)"
   ]
  },
  {
   "cell_type": "code",
   "execution_count": 25,
   "id": "1455d5ea-f8cd-48b7-9e97-3f27821b4dab",
   "metadata": {},
   "outputs": [
    {
     "data": {
      "text/plain": [
       "array([[2, 2],\n",
       "       [0, 0],\n",
       "       [1, 1]], dtype=int64)"
      ]
     },
     "execution_count": 25,
     "metadata": {},
     "output_type": "execute_result"
    }
   ],
   "source": [
    "np.argsort(test, axis=0)"
   ]
  },
  {
   "cell_type": "code",
   "execution_count": 36,
   "id": "45df63b2-35c9-400c-bc7e-af210bb19b08",
   "metadata": {},
   "outputs": [
    {
     "data": {
      "text/plain": [
       "[2, 0, 1]"
      ]
     },
     "execution_count": 36,
     "metadata": {},
     "output_type": "execute_result"
    }
   ],
   "source": [
    "new_indices = sorted(range(len(test)), key=test.__getitem__)\n",
    "new_indices"
   ]
  },
  {
   "cell_type": "code",
   "execution_count": 37,
   "id": "ed2c3ecc-e5e4-419a-9e08-d63c747dc033",
   "metadata": {},
   "outputs": [
    {
     "data": {
      "text/plain": [
       "[[5, 29], [30, 49], [50, 69]]"
      ]
     },
     "execution_count": 37,
     "metadata": {},
     "output_type": "execute_result"
    }
   ],
   "source": [
    "[test[i] for i in new_indices]"
   ]
  },
  {
   "cell_type": "code",
   "execution_count": 18,
   "id": "65e18156-86d2-4783-a384-acc1404d6096",
   "metadata": {},
   "outputs": [
    {
     "data": {
      "text/plain": [
       "[[1, 2], [3, 4]]"
      ]
     },
     "execution_count": 18,
     "metadata": {},
     "output_type": "execute_result"
    }
   ],
   "source": [
    "sorted([[3,4],[1,2]])"
   ]
  },
  {
   "cell_type": "markdown",
   "id": "2c8f5a52-4c21-4677-90a3-925d7b5744d0",
   "metadata": {},
   "source": [
    "It would make sense if the first time step (t=1) was run with the initial abundances. However, RAMAS seems to run an initial timestep 0 with the initial abundances, as the abundances change (decrease) going from t=0 to t=1. What probability and carrying capacity is used for t=0? Know that (KCH[0], PCH[0]) -> t=1 to t=31,  (KCH[1], PCH[1]) -> t=31 to t=32, (KCH[2], PCH[2]) -> t=32 to t=33, ..., (KCH[45], PCH[45]) -> t=75 to t=76. So for now, I'm going to ignore the first and the last timesteps."
   ]
  },
  {
   "cell_type": "markdown",
   "id": "139c7cd2-5e69-44f9-88f1-589e57fb80a0",
   "metadata": {
    "tags": []
   },
   "source": [
    "## animation"
   ]
  },
  {
   "cell_type": "code",
   "execution_count": null,
   "id": "73c28742-d8c9-4f62-9c5c-e3e6cd8bf4e1",
   "metadata": {
    "tags": []
   },
   "outputs": [],
   "source": [
    "# Load results into memory as a dictionary\n",
    "def get_resdata(inst):\n",
    "    resdata = {}\n",
    "    resultsfn = os.path.join(inst.run_dir, 'results.h5')\n",
    "    with h5py.File(resultsfn, 'r') as results:\n",
    "        for qty in results.keys():\n",
    "            resdata.update({qty: {}})\n",
    "            for patch in results[qty].keys():\n",
    "                if qty in ['mean', 'max', 'min', 'stdev']:\n",
    "                    # Trim the first and last time step off abundance stats\n",
    "                    resdata[qty].update({patch: np.array(results[qty][patch])[1:-1]})\n",
    "                else:\n",
    "                    resdata[qty].update({patch: np.array(results[qty][patch])})\n",
    "    return resdata\n",
    "\n",
    "# Function to return quantity for plotting given keyword\n",
    "def plot_qty(resdata, patch, t, qty):\n",
    "    if qty == 'diff_from_init':\n",
    "        init_i = np.nonzero(resdata['mean'][patch])[0][0]\n",
    "        val = resdata['mean'][patch][t] - resdata['mean'][patch][init_i]\n",
    "    if qty == 'scaled_avg_abund':\n",
    "        val = resdata['mean'][patch][t] / resdata['K'][patch][t]\n",
    "    if qty == 'rel_to_init':\n",
    "        init_i = np.nonzero(resdata['mean'][patch])[0][0]\n",
    "        val = resdata['mean'][patch][t] / resdata['mean'][patch][init_i]\n",
    "    return val\n",
    "\n",
    "def update(t):\n",
    "    # Grab data for time t\n",
    "    ys, xs, zs, fire_probs = [], [], [], []\n",
    "    for patch in patches:\n",
    "        # Check a few things before plotting point\n",
    "        patch_checks = []\n",
    "        patch_checks.append(resdata['mean'][patch][t] != 0)\n",
    "        patch_checks.append(np.all(resdata['mean'][patch] == 0) == False)\n",
    "        patch_checks.append(((0.0 == 0.0) and (1.0 == 0.0)) == False)\n",
    "        if (resdata['mean'][patch][t] != 0) and (np.all(resdata['mean'][patch] == 0) == False):\n",
    "            # Take diff from ylim to convert from row index to y coordinate\n",
    "            '''Should change indexing in results to (x,y) instead of (y,x)'''\n",
    "            y = ylim - resdata['patch_centroids'][patch][t][0]\n",
    "            x = resdata['patch_centroids'][patch][t][1]\n",
    "            # Check that patch centroid is not a placeholder before storing\n",
    "            if ((x == 0.0) and (y == ylim)) == False:\n",
    "                ys.append(y)\n",
    "                xs.append(x)\n",
    "            else:\n",
    "                continue\n",
    "            # Get value of population success metric\n",
    "            z = plot_qty(resdata, patch, t, qty)\n",
    "            zs.append(z)\n",
    "            # Get pop fire probability at time t \n",
    "            prob = resdata['fire_prob'][patch][t]\n",
    "            fire_probs.append(prob)\n",
    "    # Plot at a few viewing angles\n",
    "    fig.clear()\n",
    "    ms = '^' if t <= 29 else 'o' #change marker for burn in period\n",
    "    for i, view in enumerate(views):\n",
    "        ax = fig.add_subplot(2,2,i+1,projection='3d')\n",
    "        ax.view_init(elev=view[0], azim=view[1])\n",
    "        ax.ticklabel_format(useOffset=False)\n",
    "        ax.set_zlim(zmin,zmax)\n",
    "        ax.set_xlim(0, xlim)\n",
    "        ax.set_ylim(0, ylim)\n",
    "        ax.set_xlabel('x coordinate', fontsize=axfont)\n",
    "        ax.set_ylabel('y coordinate', fontsize=axfont)\n",
    "        ax.set_zlabel(qty, fontsize=axfont)\n",
    "        ax.scatter(xs, ys, zs, c=fire_probs, cmap=cmap, norm=norm, \n",
    "                   depthshade=False, marker=ms, s=45)\n",
    "    sm =  ScalarMappable(norm=norm, cmap=cmap)\n",
    "    sm.set_array([])\n",
    "    cbar = fig.colorbar(sm, ax=ax, shrink=0.75)\n",
    "    plt.suptitle('{}_{}'.format(inst.climate_model,inst.climate_scenario), fontsize=20)"
   ]
  },
  {
   "cell_type": "code",
   "execution_count": null,
   "id": "aa6eabc5-744e-420e-80bf-8669cc53c127",
   "metadata": {
    "tags": []
   },
   "outputs": [],
   "source": [
    "for run in runs:\n",
    "    # Grab a specific run\n",
    "    with open(os.path.join(os.getcwd(), 'runs', str(run), 'run_info.json')) as info_file:\n",
    "        run_info = json.load(info_file)\n",
    "    inst = Model(**run_info)\n",
    "    \n",
    "    # Check that this is a spatial run\n",
    "    if inst.spatial == False:\n",
    "        continue\n",
    "\n",
    "    # Load results into memory as a dictionary\n",
    "    resdata = {}\n",
    "    resultsfn = os.path.join(inst.run_dir, 'results.h5')\n",
    "    with h5py.File(resultsfn, 'r') as results:\n",
    "        for qty in results.keys():\n",
    "            resdata.update({qty: {}})\n",
    "            for patch in results[qty].keys():\n",
    "                if qty in ['mean', 'max', 'min', 'stdev']:\n",
    "                    # Trim the first and last time step off abundance stats\n",
    "                    resdata[qty].update({patch: np.array(results[qty][patch])[1:-1]})\n",
    "                else:\n",
    "                    resdata[qty].update({patch: np.array(results[qty][patch])})\n",
    "    patches = list(resdata['patch_centroids'].keys())\n",
    "    patches.remove('pop0')\n",
    "    vmax = max([np.max(resdata['fire_prob'][patch]) for patch in patches])\n",
    "    vmin = min([np.min(resdata['fire_prob'][patch]) for patch in patches if np.min(resdata['fire_prob'][patch]) != 0.0])\n",
    "    # cmap = matplotlib.colormaps.get_cmap('viridis')#('YlOrRd')\n",
    "    cmap = matplotlib.pyplot.get_cmap('viridis')\n",
    "    norm = matplotlib.colors.Normalize(vmin=vmin, vmax=vmax)\n",
    "    xlim = run_info['lr_coord'][0] - run_info['ul_coord'][0]\n",
    "    ylim = run_info['lr_coord'][1] - run_info['ul_coord'][1]\n",
    "    axfont = 12\n",
    "    tsteps = int((proj_info['tf'] - proj_info['ti'])/inst.timestep) + inst.burn_in_period\n",
    "    ts = np.arange(tsteps)\n",
    "    qty = 'rel_to_init'\n",
    "    views = [(10,210),(10,275),(10,340),(85,270)]#,(10,40)]\n",
    "\n",
    "    all_zs = []\n",
    "    for t in ts:\n",
    "        for patch in patches:\n",
    "            if (resdata['mean'][patch][t] != 0) and (np.all(resdata['mean'][patch] == 0) == False):\n",
    "                # Get value of population success metric\n",
    "                z = plot_qty(resdata, patch, t, qty)\n",
    "                all_zs.append(z)\n",
    "    zmax, zmin = max(all_zs), min(all_zs)\n",
    "\n",
    "    fig, ax = plt.subplots(figsize=(8,8), layout='constrained')\n",
    "    ani = animation.FuncAnimation(fig = fig, func = update, frames = tsteps, interval=100)\n",
    "    display.HTML(ani.to_jshtml())\n",
    "    # path = '/Users/patrick/Google Drive/My Drive/Research/Regan/Figs'\n",
    "    # path = 'G:\\My Drive\\Research\\Regan\\Figs'\n",
    "    path = os.path.join(os.getcwd(), 'figs')\n",
    "    fn = '{}_{}_{}.mp4'.format(inst.climate_model,inst.climate_scenario,qty)\n",
    "    writervideo = animation.FFMpegWriter(fps=15)\n",
    "    # ani.save(os.path.join(path, fn), writer=writervideo)\n",
    "    ani.save('test.mp4', writer=writervideo)"
   ]
  },
  {
   "cell_type": "markdown",
   "id": "ea5cf3c7-acd0-4063-86b2-5d8a3122168e",
   "metadata": {
    "jp-MarkdownHeadingCollapsed": true,
    "tags": []
   },
   "source": [
    "## regional K"
   ]
  },
  {
   "cell_type": "code",
   "execution_count": null,
   "id": "b1d4c1f7-d57d-4cea-bda8-4e5381b185df",
   "metadata": {
    "tags": []
   },
   "outputs": [],
   "source": [
    "fig = plt.figure(figsize=(10,8))\n",
    "ax = fig.add_subplot()\n",
    "for patch in patches:\n",
    "    if np.all(resdata['mean'][patch] > 0):\n",
    "        ys = ylim - resdata['patch_centroids'][patch][:,0]\n",
    "        xs = resdata['patch_centroids'][patch][:,1]\n",
    "        if np.all(xs > xlim/2) and np.all(ys < ylim/2):\n",
    "            ax.plot(resdata['K'][patch], color='orange')\n",
    "        else:\n",
    "            ax.plot(resdata['K'][patch], color='green')\n",
    "ax.plot([], [], color='orange', label='south-east')\n",
    "ax.plot([], [], color='green', label='north-west')\n",
    "ax.legend()"
   ]
  },
  {
   "cell_type": "markdown",
   "id": "0646d0d7-d332-42f1-baf3-9267261aff41",
   "metadata": {},
   "source": [
    "## ( K(x,t) / (initial_#_cells(x)) ) / K_cell"
   ]
  },
  {
   "cell_type": "markdown",
   "id": "bda9ec35-9614-4bc4-a49d-a8ccb246af51",
   "metadata": {
    "jp-MarkdownHeadingCollapsed": true,
    "tags": []
   },
   "source": [
    "## single patch"
   ]
  },
  {
   "cell_type": "code",
   "execution_count": null,
   "id": "0164b0a5-bad7-421d-8297-94b7662c4a21",
   "metadata": {
    "tags": []
   },
   "outputs": [],
   "source": [
    "fire_probs = []\n",
    "ab_ratios = []\n",
    "for run in runs:\n",
    "    with open(os.path.join(os.getcwd(), 'runs', str(run), 'run_info.json')) as info_file:\n",
    "        run_info = json.load(info_file)\n",
    "    inst = Model(**run_info)\n",
    "    \n",
    "    # Check that this is a single patch (non-spatial) run\n",
    "    if inst.spatial == True:\n",
    "        continue\n",
    "    \n",
    "    resdata = get_resdata(inst)\n",
    "                    \n",
    "    fire_probs.append(inst.fire_prob)\n",
    "    tsteps = int((proj_info['tf'] - proj_info['ti'])/inst.timestep) + inst.burn_in_period\n",
    "    ts = np.arange(tsteps)\n",
    "    ab_ratios.append(plot_qty(resdata, 'pop0', ts[-1], 'rel_to_init'))\n",
    "    # break"
   ]
  },
  {
   "cell_type": "code",
   "execution_count": null,
   "id": "75b48210-db76-4a63-93f5-86904f0e588f",
   "metadata": {
    "tags": []
   },
   "outputs": [],
   "source": [
    "plt.scatter(fire_probs, ab_ratios)\n",
    "plt.ylabel('final / initial abundance', fontsize=14)\n",
    "plt.xlabel('fire probability', fontsize=14)\n",
    "plt.axvline(0.02, ls='--')\n",
    "plt.axvline(0.09, ls='--')\n",
    "plt.savefig('figs/popsuc_vs_fireprob.png')"
   ]
  },
  {
   "cell_type": "code",
   "execution_count": null,
   "id": "f3aff58f-33a0-4dac-a9c8-9380bc6bd253",
   "metadata": {
    "tags": []
   },
   "outputs": [],
   "source": [
    "plt.scatter(inst.timestep / np.array(fire_probs), ab_ratios)\n",
    "plt.ylabel('final / initial abundance', fontsize=14)\n",
    "plt.xlabel('expected FRI', fontsize=14)\n",
    "plt.axvline(20, ls='--')\n",
    "plt.axvline(100, ls='--')\n",
    "plt.savefig('figs/popsuc_vs_fri.png')"
   ]
  },
  {
   "cell_type": "code",
   "execution_count": null,
   "id": "9bfeb207-e547-4be0-be49-6b6db4b4e839",
   "metadata": {
    "tags": []
   },
   "outputs": [],
   "source": [
    "plt.scatter(np.array(fire_probs), inst.timestep / np.array(fire_probs))\n",
    "plt.axvline(0.02, ls='--')\n",
    "plt.axvline(0.09, ls='--')\n",
    "plt.xlabel('fire probability', fontsize=14)\n",
    "plt.ylabel('expected FRI', fontsize=14)\n",
    "plt.savefig('figs/fri_vs_fireprob.png')"
   ]
  },
  {
   "cell_type": "code",
   "execution_count": null,
   "id": "9ab05f49-1a54-4a7d-9273-72635ff6dd37",
   "metadata": {
    "tags": []
   },
   "outputs": [],
   "source": [
    "with open(os.path.join(os.getcwd(), 'runs', str(0), 'run_info.json')) as info_file:\n",
    "    run_info = json.load(info_file)\n",
    "inst = Model(**run_info)\n",
    "resdata = get_resdata(inst)\n",
    "patches = list(resdata['patch_centroids'].keys())\n",
    "patches.remove('pop0')\n",
    "avgs = []\n",
    "for patch in patches:\n",
    "    probs = resdata['fire_prob'][patch]\n",
    "    nonzero = probs[np.nonzero(probs)]\n",
    "    if len(nonzero) > 0:\n",
    "        avgs.append(np.mean(nonzero))\n",
    "plt.hist(avgs)\n",
    "plt.savefig('figs/fireprob_hist.png')"
   ]
  },
  {
   "cell_type": "code",
   "execution_count": null,
   "id": "d2c711a5-b1ba-4411-a6b1-78992ee93ed3",
   "metadata": {},
   "outputs": [],
   "source": []
  }
 ],
 "metadata": {
  "kernelspec": {
   "display_name": "Python 3 (ipykernel)",
   "language": "python",
   "name": "python3"
  },
  "language_info": {
   "codemirror_mode": {
    "name": "ipython",
    "version": 3
   },
   "file_extension": ".py",
   "mimetype": "text/x-python",
   "name": "python",
   "nbconvert_exporter": "python",
   "pygments_lexer": "ipython3",
   "version": "3.9.12"
  }
 },
 "nbformat": 4,
 "nbformat_minor": 5
}
