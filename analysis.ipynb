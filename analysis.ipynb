{
 "cells": [
  {
   "cell_type": "code",
   "execution_count": 1,
   "id": "a22b0c11-c568-47b7-9f2a-7f1db504d3d9",
   "metadata": {
    "tags": []
   },
   "outputs": [],
   "source": [
    "import numpy as np\n",
    "import h5py\n",
    "import json\n",
    "import os\n",
    "import pandas as pd\n",
    "from model import Model\n",
    "from IPython import display\n",
    "import matplotlib\n",
    "from matplotlib import pyplot as plt\n",
    "import matplotlib.animation as animation\n",
    "from matplotlib.cm import ScalarMappable\n",
    "matplotlib.rcParams['animation.embed_limit'] = 40\n",
    "matplotlib.rcParams['animation.ffmpeg_path'] = '/Users/patrick/Downloads/ffmpeg'"
   ]
  },
  {
   "cell_type": "markdown",
   "id": "2c8f5a52-4c21-4677-90a3-925d7b5744d0",
   "metadata": {},
   "source": [
    "It would make sense if the first time step (t=1) was run with the initial abundances. However, RAMAS seems to run an initial timestep 0 with the initial abundances, as the abundances change (decrease) going from t=0 to t=1. What probability and carrying capacity is used for t=0? Know that (KCH[0], PCH[0]) -> t=1 to t=31,  (KCH[1], PCH[1]) -> t=31 to t=32, (KCH[2], PCH[2]) -> t=32 to t=33, ..., (KCH[45], PCH[45]) -> t=75 to t=76. So for now, I'm going to ignore the first and the last timesteps."
   ]
  },
  {
   "cell_type": "code",
   "execution_count": 2,
   "id": "73c28742-d8c9-4f62-9c5c-e3e6cd8bf4e1",
   "metadata": {
    "tags": []
   },
   "outputs": [],
   "source": [
    "# Function to return quantity for plotting given keyword\n",
    "def plot_qty(resdata, patch, t, qty):\n",
    "    if qty == 'diff_from_init':\n",
    "        init_i = np.nonzero(resdata['mean'][patch])[0][0]\n",
    "        val = resdata['mean'][patch][t] - resdata['mean'][patch][init_i]\n",
    "    if qty == 'scaled_avg_abund':\n",
    "        val = resdata['mean'][patch][t] / resdata['K'][patch][t]\n",
    "    if qty == 'rel_to_init':\n",
    "        init_i = np.nonzero(resdata['mean'][patch])[0][0]\n",
    "        val = resdata['mean'][patch][t] / resdata['mean'][patch][init_i]\n",
    "    return val\n",
    "\n",
    "def update(t):\n",
    "    # Grab data for time t\n",
    "    ys, xs, zs, fire_probs = [], [], [], []\n",
    "    for patch in patches:\n",
    "        # Check a few things before plotting point\n",
    "        patch_checks = []\n",
    "        patch_checks.append(resdata['mean'][patch][t] != 0)\n",
    "        patch_checks.append(np.all(resdata['mean'][patch] == 0) == False)\n",
    "        patch_checks.append(((0.0 == 0.0) and (1.0 == 0.0)) == False)\n",
    "        if (resdata['mean'][patch][t] != 0) and (np.all(resdata['mean'][patch] == 0) == False):\n",
    "            # Take diff from ylim to convert from row index to y coordinate\n",
    "            '''Should change indexing in results to (x,y) instead of (y,x)'''\n",
    "            y = ylim - resdata['patch_centroids'][patch][t][0]\n",
    "            x = resdata['patch_centroids'][patch][t][1]\n",
    "            # Check that patch centroid is not a placeholder before storing\n",
    "            if ((x == 0.0) and (y == ylim)) == False:\n",
    "                ys.append(y)\n",
    "                xs.append(x)\n",
    "            else:\n",
    "                continue\n",
    "            # Get value of population success metric\n",
    "            z = plot_qty(resdata, patch, t, qty)\n",
    "            zs.append(z)\n",
    "            # Get pop fire probability at time t \n",
    "            prob = resdata['fire_prob'][patch][t]\n",
    "            fire_probs.append(prob)\n",
    "    # Plot at a few viewing angles\n",
    "    fig.clear()\n",
    "    ms = '^' if t <= 29 else 'o' #change marker for burn in period\n",
    "    for i, view in enumerate(views):\n",
    "        ax = fig.add_subplot(2,2,i+1,projection='3d')\n",
    "        ax.view_init(elev=view[0], azim=view[1])\n",
    "        ax.ticklabel_format(useOffset=False)\n",
    "        ax.set_zlim(zmin,zmax)\n",
    "        ax.set_xlim(0, xlim)\n",
    "        ax.set_ylim(0, ylim)\n",
    "        ax.set_xlabel('x coordinate', fontsize=axfont)\n",
    "        ax.set_ylabel('y coordinate', fontsize=axfont)\n",
    "        ax.set_zlabel(qty, fontsize=axfont)\n",
    "        ax.scatter(xs, ys, zs, c=fire_probs, cmap=cmap, norm=norm, \n",
    "                   depthshade=False, marker=ms, s=45)\n",
    "    sm =  ScalarMappable(norm=norm, cmap=cmap)\n",
    "    sm.set_array([])\n",
    "    cbar = fig.colorbar(sm, ax=ax, shrink=0.75)\n",
    "    plt.suptitle('{}_{}'.format(inst.climate_model,inst.climate_scenario), fontsize=20)\n",
    "\n",
    "# Read in shared ('project level') data\n",
    "with open(os.path.join(os.getcwd(), 'project_info.json'), 'r') as info_file:\n",
    "    proj_info = json.load(info_file)\n",
    "\n",
    "# Get list of run numbers\n",
    "rundirs = os.listdir('runs')\n",
    "try:\n",
    "    runs = np.arange(len(rundirs.remove('.DS_Store')))\n",
    "except:\n",
    "    runs = np.arange(len(rundirs))"
   ]
  },
  {
   "cell_type": "code",
   "execution_count": 5,
   "id": "aa6eabc5-744e-420e-80bf-8669cc53c127",
   "metadata": {
    "tags": []
   },
   "outputs": [
    {
     "name": "stdout",
     "output_type": "stream",
     "text": [
      "using existing run: True, run_num=0, run_dir=C:\\Users\\12488\\Research\\Regan\\Tecate cypress\\runs\\0\n"
     ]
    },
    {
     "name": "stderr",
     "output_type": "stream",
     "text": [
      "C:\\Users\\12488\\anaconda3\\lib\\site-packages\\matplotlib\\animation.py:889: UserWarning: Animation was deleted without rendering anything. This is most likely not intended. To prevent deletion, assign the Animation to a variable, e.g. `anim`, that exists until you have outputted the Animation using `plt.show()` or `anim.save()`.\n",
      "  warnings.warn(\n"
     ]
    },
    {
     "name": "stdout",
     "output_type": "stream",
     "text": [
      "Error in callback <function flush_figures at 0x000001EE0ECF29D0> (for post_execute):\n"
     ]
    },
    {
     "name": "stderr",
     "output_type": "stream",
     "text": [
      "\n",
      "KeyboardInterrupt\n",
      "\n",
      "\n",
      "KeyboardInterrupt\n",
      "\n"
     ]
    }
   ],
   "source": [
    "for run in runs:\n",
    "    # Grab a specific run\n",
    "    with open(os.path.join(os.getcwd(), 'runs', str(run), 'run_info.json')) as info_file:\n",
    "        run_info = json.load(info_file)\n",
    "    inst = Model(**run_info)\n",
    "\n",
    "    # Load results into memory as a dictionary\n",
    "    resdata = {}\n",
    "    resultsfn = os.path.join(inst.run_dir, 'results.h5')\n",
    "    with h5py.File(resultsfn, 'r') as results:\n",
    "        for qty in results.keys():\n",
    "            resdata.update({qty: {}})\n",
    "            for patch in results[qty].keys():\n",
    "                if qty in ['mean', 'max', 'min', 'stdev']:\n",
    "                    # Trim the first and last time step off abundance stats\n",
    "                    resdata[qty].update({patch: np.array(results[qty][patch])[1:-1]})\n",
    "                else:\n",
    "                    resdata[qty].update({patch: np.array(results[qty][patch])})\n",
    "    patches = list(resdata['patch_centroids'].keys())\n",
    "    patches.remove('pop0')\n",
    "    vmax = max([np.max(resdata['fire_prob'][patch]) for patch in patches])\n",
    "    vmin = min([np.min(resdata['fire_prob'][patch]) for patch in patches if np.min(resdata['fire_prob'][patch]) != 0.0])\n",
    "    # cmap = matplotlib.colormaps.get_cmap('viridis')#('YlOrRd')\n",
    "    cmap = matplotlib.pyplot.get_cmap('viridis')\n",
    "    norm = matplotlib.colors.Normalize(vmin=vmin, vmax=vmax)\n",
    "    xlim = run_info['lr_coord'][0] - run_info['ul_coord'][0]\n",
    "    ylim = run_info['lr_coord'][1] - run_info['ul_coord'][1]\n",
    "    axfont = 12\n",
    "    tsteps = int((proj_info['tf'] - proj_info['ti'])/inst.timestep) + inst.burn_in_period\n",
    "    ts = np.arange(tsteps)\n",
    "    qty = 'rel_to_init'\n",
    "    views = [(10,210),(10,275),(10,340),(85,270)]#,(10,40)]\n",
    "\n",
    "    all_zs = []\n",
    "    for t in ts:\n",
    "        for patch in patches:\n",
    "            if (resdata['mean'][patch][t] != 0) and (np.all(resdata['mean'][patch] == 0) == False):\n",
    "                # Get value of population success metric\n",
    "                z = plot_qty(resdata, patch, t, qty)\n",
    "                all_zs.append(z)\n",
    "    zmax, zmin = max(all_zs), min(all_zs)\n",
    "\n",
    "    fig, ax = plt.subplots(figsize=(8,8), layout='constrained')\n",
    "    ani = animation.FuncAnimation(fig = fig, func = update, frames = tsteps, interval=100)\n",
    "    display.HTML(ani.to_jshtml())\n",
    "    # path = '/Users/patrick/Google Drive/My Drive/Research/Regan/Figs'\n",
    "    # path = 'G:\\My Drive\\Research\\Regan\\Figs'\n",
    "    path = os.path.join(os.getcwd(), 'figs')\n",
    "    fn = '{}_{}_{}.mp4'.format(inst.climate_model,inst.climate_scenario,qty)\n",
    "    writervideo = animation.FFMpegWriter(fps=15)\n",
    "    # ani.save(os.path.join(path, fn), writer=writervideo)\n",
    "    ani.save('test.mp4', writer=writervideo)"
   ]
  },
  {
   "cell_type": "code",
   "execution_count": null,
   "id": "b1d4c1f7-d57d-4cea-bda8-4e5381b185df",
   "metadata": {
    "tags": []
   },
   "outputs": [],
   "source": [
    "fig = plt.figure(figsize=(10,8))\n",
    "ax = fig.add_subplot()\n",
    "for patch in patches:\n",
    "    if np.all(resdata['mean'][patch] > 0):\n",
    "        ys = ylim - resdata['patch_centroids'][patch][:,0]\n",
    "        xs = resdata['patch_centroids'][patch][:,1]\n",
    "        if np.all(xs > xlim/2) and np.all(ys < ylim/2):\n",
    "            ax.plot(resdata['K'][patch], color='orange')\n",
    "        else:\n",
    "            ax.plot(resdata['K'][patch], color='green')\n",
    "ax.plot([], [], color='orange', label='south-east')\n",
    "ax.plot([], [], color='green', label='north-west')\n",
    "ax.legend()"
   ]
  },
  {
   "cell_type": "code",
   "execution_count": null,
   "id": "0164b0a5-bad7-421d-8297-94b7662c4a21",
   "metadata": {},
   "outputs": [],
   "source": []
  }
 ],
 "metadata": {
  "kernelspec": {
   "display_name": "Python 3 (ipykernel)",
   "language": "python",
   "name": "python3"
  },
  "language_info": {
   "codemirror_mode": {
    "name": "ipython",
    "version": 3
   },
   "file_extension": ".py",
   "mimetype": "text/x-python",
   "name": "python",
   "nbconvert_exporter": "python",
   "pygments_lexer": "ipython3",
   "version": "3.9.12"
  }
 },
 "nbformat": 4,
 "nbformat_minor": 5
}
