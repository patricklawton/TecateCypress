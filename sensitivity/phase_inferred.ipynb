{
 "cells": [
  {
   "cell_type": "code",
   "execution_count": 1,
   "id": "25c2d5ff-e6da-4782-b51a-d7ae29909dfd",
   "metadata": {
    "tags": []
   },
   "outputs": [
    {
     "name": "stderr",
     "output_type": "stream",
     "text": [
      "[Mac.search.charter.net:81873] shmem: mmap: an error occurred while determining whether or not /var/folders/cs/tn4zg_3d3zq1k5vgjm1ty_vc0000gn/T//ompi.Mac.501/jf.0/3939696640/sm_segment.Mac.501.ead30000.0 could be created.\n",
      "/Users/patrick/Research/Regan/TecateCypress/sensitivity/project.py:371: RuntimeWarning: divide by zero encountered in divide\n",
      "  b_raster = delta_t / np.power(-np.log(1-fdm), 1/self.c)\n"
     ]
    }
   ],
   "source": [
    "import numpy as np\n",
    "from project import Phase\n",
    "import torch\n",
    "import sys\n",
    "from matplotlib import pyplot as plt\n",
    "\n",
    "constants = {}\n",
    "constants['progress'] = False\n",
    "constants['c'] = 1.42\n",
    "constants['Aeff'] = 7.29\n",
    "constants['t_final'] = 300\n",
    "constants['sim_method'] = 'discrete'\n",
    "constants['ul_coord'] = [1500, 2800]\n",
    "constants['lr_coord'] = [2723, 3905]\n",
    "'''Should just set this to min tau_vec I think, which it basically already is'''\n",
    "constants['min_tau'] = 2\n",
    "constants['A_cell'] = 270**2 / 1e6 #km^2\n",
    "constants['ncell_min'] = 2_500\n",
    "constants['root'] = 0 #For mpi\n",
    "constants.update({'final_max_tau': np.nan})\n",
    "constants['meta_metric'] = 'gte_thresh'\n",
    "constants.update({'metric': 'lambda_s'})\n",
    "constants.update({'tauc_method': 'flat'})\n",
    "constants.update({'overwrite_metrics': False}) \n",
    "constants['overwrite_results'] = False\n",
    "\n",
    "pproc = Phase(**constants)\n",
    "pproc.initialize()\n",
    "assert pproc.metric_exp_spl(pproc.min_tau) > 0"
   ]
  },
  {
   "cell_type": "markdown",
   "id": "b550c311-8272-4d31-aba5-ad244e811f01",
   "metadata": {
    "jp-MarkdownHeadingCollapsed": true,
    "tags": []
   },
   "source": [
    "#### Training data generation"
   ]
  },
  {
   "cell_type": "code",
   "execution_count": 2,
   "id": "bc50e918-8a6f-4bea-9f21-e1733397de5f",
   "metadata": {
    "tags": []
   },
   "outputs": [
    {
     "data": {
      "text/plain": [
       "0.986930292384002"
      ]
     },
     "execution_count": 2,
     "metadata": {},
     "output_type": "execute_result"
    },
    {
     "data": {
      "image/png": "[encoded data removed]",
      "text/plain": [
       "<Figure size 640x480 with 1 Axes>"
      ]
     },
     "metadata": {},
     "output_type": "display_data"
    }
   ],
   "source": [
    "plt.hist(pproc.tau_flat, bins=70);\n",
    "pproc.mu_tau = 20\n",
    "pproc.sigm_tau = 3\n",
    "pproc.generate_eps_tau(pproc.mu_tau, pproc.sigm_tau)\n",
    "pproc.tau_expect = pproc.tau_flat + pproc.eps_tau\n",
    "plt.hist(pproc.tau_expect, bins=70, alpha=0.5);\n",
    "\n",
    "pproc.mu_tauc = 20\n",
    "pproc.sigm_tauc = 8\n",
    "pproc.change_tau_expect(5*pproc.ncell_tot, 10_000, 20_000)\n",
    "plt.hist(pproc.tau_expect, bins=70, alpha=0.5);\n",
    "\n",
    "pproc.calculate_metric_expect()\n",
    "pproc.metric_expect"
   ]
  },
  {
   "cell_type": "code",
   "execution_count": 2,
   "id": "9be49b8e-b3ba-4176-bbf3-296568908517",
   "metadata": {
    "tags": []
   },
   "outputs": [
    {
     "data": {
      "image/png": "[encoded data removed]",
      "text/plain": [
       "<Figure size 640x480 with 1 Axes>"
      ]
     },
     "metadata": {},
     "output_type": "display_data"
    }
   ],
   "source": [
    "#### Get samples of each parameter we want to train on ####\n",
    "NUM_TRAIN = 1000\n",
    "\n",
    "# Function to return parameter combinations as dicts\n",
    "def product_dict(**kwargs):\n",
    "    keys = kwargs.keys()\n",
    "    for instance in itertools.product(*kwargs.values()):\n",
    "        yield dict(zip(keys, instance))\n",
    "\n",
    "# For sampling from various probability distributions\n",
    "rng = np.random.default_rng()\n",
    "\n",
    "# Theoretical (or ad-hoc) maxima/minima for parameters\n",
    "minima = {\n",
    "    'C': 5.*pproc.ncell_tot,\n",
    "    'ncell': int(0.02*pproc.ncell_tot), \n",
    "    # 'ncell': int(pproc.ncell_tot - pproc.slice_right_max),\n",
    "    'slice_left': int(0.* pproc.ncell_tot),\n",
    "    'mu_tau': -10.,\n",
    "    'sigm_tau': 0.,\n",
    "    'mu_tauc': -10.,\n",
    "    'sigm_tauc': 0.\n",
    "}\n",
    "maxima = {\n",
    "    'C': 5.*pproc.ncell_tot,\n",
    "    'ncell': int(1. * pproc.slice_right_max), \n",
    "    'slice_left': int(1.*pproc.ncell_tot),\n",
    "    'mu_tau': 6.,\n",
    "    'sigm_tau': 10.,\n",
    "    'mu_tauc': 6.,\n",
    "    'sigm_tauc': 10.\n",
    "}\n",
    "param_keys = np.array(list(minima.keys()))\n",
    "\n",
    "# Generate parameter values for training\n",
    "train_x = np.full((NUM_TRAIN, len(minima)), np.nan)\n",
    "for param_i, ((key1, _min), (key2, _max)) in enumerate(zip(minima.items(), maxima.items())):\n",
    "    assert(key1 == key2); key = key1 = key2\n",
    "    \n",
    "    try:\n",
    "        assert (type(_min)==type(_min))\n",
    "        _type = type(_min)\n",
    "    except:\n",
    "        print('hey thats bad', type(_min), type(_min)); sys.exit()\n",
    "        \n",
    "    # Skip slice_left for now, sample after ncell has been sampled\n",
    "    if key == 'slice_left': continue \n",
    "    \n",
    "    if _type == float:\n",
    "        param_samples = rng.uniform(_min, _max, len(train_x))\n",
    "    elif _type == int:\n",
    "        param_samples = rng.integers(_min, _max, len(train_x))\n",
    "    train_x[:, param_i] = param_samples\n",
    "# Sample slice_left only where feasible given ncell samples\n",
    "ncell_column = np.nonzero(param_keys == 'ncell')[0][0]\n",
    "slice_left_max_vec = pproc.slice_right_max - train_x[:,ncell_column]\n",
    "slice_left_column = np.nonzero(param_keys == 'slice_left')[0][0]\n",
    "train_x[:, slice_left_column] = rng.uniform(0, slice_left_max_vec)\n",
    "\n",
    "    \n",
    "# Generate metric values for training\n",
    "train_y = np.full((len(train_x), 1), np.nan)\n",
    "for x_i, x in enumerate(train_x):\n",
    "    for i, param in enumerate(param_keys):\n",
    "        # Assign parameter values for this sample\n",
    "        setattr(pproc, param, x[i].astype(type(minima[param])))\n",
    "        \n",
    "    if pproc.slice_left > (pproc.slice_right_max - pproc.ncell):\n",
    "        continue # Skip bc slice start too high\n",
    "        \n",
    "    # Reset tau values to baseline\n",
    "    pproc.tau_expect = pproc.tau_flat\n",
    "\n",
    "    # Add in uncertainty on baseline tau values\n",
    "    pproc.generate_eps_tau(pproc.mu_tau, pproc.sigm_tau)\n",
    "    pproc.tau_expect = pproc.tau_flat + pproc.eps_tau\n",
    "\n",
    "    # Shift selected tau values (including uncertainty)\n",
    "    pproc.change_tau_expect(pproc.C, pproc.ncell, pproc.slice_left)\n",
    "    \n",
    "    # Compute and store metric value\n",
    "    pproc.calculate_metric_expect()\n",
    "    train_y[x_i] = pproc.metric_expect\n",
    "plt.show()\n",
    "plt.hist(train_y);"
   ]
  },
  {
   "cell_type": "markdown",
   "id": "fc522b15-2940-46fa-8dc8-38b1ee366493",
   "metadata": {},
   "source": [
    "#### Training"
   ]
  },
  {
   "cell_type": "code",
   "execution_count": 2,
   "id": "131c4a7a-1ecf-43fe-be4e-c5d1ee2f5c52",
   "metadata": {
    "collapsed": true,
    "jupyter": {
     "outputs_hidden": true,
     "source_hidden": true
    },
    "tags": []
   },
   "outputs": [
    {
     "data": {
      "image/png": "[encoded data removed]",
      "text/plain": [
       "<Figure size 640x480 with 1 Axes>"
      ]
     },
     "metadata": {},
     "output_type": "display_data"
    }
   ],
   "source": [
    "train_x = np.load('train_x.npy')\n",
    "train_y = np.load('train_y.npy')\n",
    "plt.hist(train_y, bins=50);"
   ]
  },
  {
   "cell_type": "code",
   "execution_count": 11,
   "id": "fdafc37a-d04d-4e43-bbcf-0222ba9c553d",
   "metadata": {
    "tags": []
   },
   "outputs": [],
   "source": [
    "from NN_testing.NN_deterministic import *\n",
    "from NN_testing.EarlyStopping import EarlyStopping\n",
    "import torch.optim as optim\n",
    "from sklearn.model_selection import train_test_split\n",
    "from torch.utils.data import DataLoader, TensorDataset\n",
    "import timeit\n",
    "\n",
    "torch.set_num_threads(torch.get_num_threads())\n",
    "\n",
    "# BATCH_SIZE = 1024  # Tune this depending on your memory (try 64–1024)\n",
    "# BATCH_SIZE = 2_048\n",
    "BATCH_SIZE = 312  \n",
    "# BATCH_SIZE = 64\n",
    "PENALTY_WEIGHT = 1e-12\n",
    "COMPLEXITY_COST_WEIGHT = None\n",
    "PATIENCE = 100\n",
    "SAMPLE_NBR = 1\n",
    "NUM_EPOCHS = 6000\n",
    "HIDDEN_DIM = 50\n",
    "\n",
    "full_x = np.load('train_x.npy')\n",
    "full_y = np.load('train_y.npy')\n",
    "full_x = torch.from_numpy(full_x).float()\n",
    "full_y = torch.from_numpy(full_y).float()\n",
    "\n",
    "# Drop the first column of inputs because we're keeping them constant for now (total resources)\n",
    "full_x = full_x[:, 1:]\n",
    "\n",
    "# Select a smaller slice of all generated data to use for training\n",
    "NUM_TRAIN = 200_000\n",
    "train_x = full_x[:NUM_TRAIN, :]\n",
    "train_y = full_y[:NUM_TRAIN, :]\n",
    "\n",
    "train_x, val_x, train_y, val_y = train_test_split(\n",
    "    train_x, train_y, test_size=0.1, random_state=42\n",
    ")\n",
    "\n",
    "train_dataset = TensorDataset(train_x, train_y)\n",
    "train_loader = DataLoader(train_dataset, batch_size=BATCH_SIZE, shuffle=True, pin_memory=False, num_workers=0)\n",
    "\n",
    "val_dataset = TensorDataset(val_x, val_y)\n",
    "val_loader = DataLoader(val_dataset, batch_size=BATCH_SIZE, shuffle=True, pin_memory=False, num_workers=0)"
   ]
  },
  {
   "cell_type": "code",
   "execution_count": 12,
   "id": "74266347-0955-47ee-a68c-9f43fdd3477f",
   "metadata": {
    "tags": []
   },
   "outputs": [
    {
     "name": "stdout",
     "output_type": "stream",
     "text": [
      "torch.Size([312, 6])\n"
     ]
    }
   ],
   "source": [
    "for batch_x, batch_y in train_loader:\n",
    "    print(batch_x.shape)\n",
    "    break"
   ]
  },
  {
   "cell_type": "code",
   "execution_count": 19,
   "id": "d1ba7ce5-332b-40de-bff9-12bcc99a478d",
   "metadata": {
    "tags": []
   },
   "outputs": [
    {
     "name": "stderr",
     "output_type": "stream",
     "text": [
      "  0%|                                        | 1/6000 [00:02<3:58:41,  2.39s/it]"
     ]
    },
    {
     "name": "stdout",
     "output_type": "stream",
     "text": [
      "Epoch 0: Epoch loss = 52.3077\n"
     ]
    },
    {
     "name": "stderr",
     "output_type": "stream",
     "text": [
      "  0%|                                        | 2/6000 [00:06<5:30:50,  3.31s/it]\n"
     ]
    },
    {
     "ename": "KeyboardInterrupt",
     "evalue": "",
     "output_type": "error",
     "traceback": [
      "\u001b[0;31m---------------------------------------------------------------------------\u001b[0m",
      "\u001b[0;31mKeyboardInterrupt\u001b[0m                         Traceback (most recent call last)",
      "Cell \u001b[0;32mIn[19], line 17\u001b[0m\n\u001b[1;32m     15\u001b[0m batch_x, batch_y \u001b[38;5;241m=\u001b[39m batch_x\u001b[38;5;241m.\u001b[39mto(device), batch_y\u001b[38;5;241m.\u001b[39mto(device)\n\u001b[1;32m     16\u001b[0m optimizer\u001b[38;5;241m.\u001b[39mzero_grad()\n\u001b[0;32m---> 17\u001b[0m train_loss \u001b[38;5;241m=\u001b[39m loss_fn(model, batch_x, batch_y, sample_nbr\u001b[38;5;241m=\u001b[39mSAMPLE_NBR, \n\u001b[1;32m     18\u001b[0m                      complexity_cost_weight\u001b[38;5;241m=\u001b[39mCOMPLEXITY_COST_WEIGHT,\n\u001b[1;32m     19\u001b[0m                      penalty_weight\u001b[38;5;241m=\u001b[39mPENALTY_WEIGHT)\n\u001b[1;32m     20\u001b[0m train_loss\u001b[38;5;241m.\u001b[39mbackward()\n\u001b[1;32m     21\u001b[0m optimizer\u001b[38;5;241m.\u001b[39mstep()\n",
      "File \u001b[0;32m~/Research/Regan/TecateCypress/sensitivity/NN_testing/NN_deterministic.py:56\u001b[0m, in \u001b[0;36mloss_fn\u001b[0;34m(model, x, y, sample_nbr, complexity_cost_weight, penalty_weight)\u001b[0m\n\u001b[1;32m     54\u001b[0m \u001b[38;5;28;01mfor\u001b[39;00m _ \u001b[38;5;129;01min\u001b[39;00m \u001b[38;5;28mrange\u001b[39m(sample_nbr):\n\u001b[1;32m     55\u001b[0m     mean, var \u001b[38;5;241m=\u001b[39m model(x)\n\u001b[0;32m---> 56\u001b[0m     loss \u001b[38;5;241m=\u001b[39m gaussian_nll_with_variance_penalty(mean, y, var, penalty_weight)\n\u001b[1;32m     57\u001b[0m     total_loss \u001b[38;5;241m+\u001b[39m\u001b[38;5;241m=\u001b[39m loss\n\u001b[1;32m     58\u001b[0m \u001b[38;5;28;01mreturn\u001b[39;00m total_loss \u001b[38;5;241m/\u001b[39m sample_nbr\n",
      "File \u001b[0;32m~/Research/Regan/TecateCypress/sensitivity/NN_testing/NN_deterministic.py:48\u001b[0m, in \u001b[0;36mgaussian_nll_with_variance_penalty\u001b[0;34m(mean, target, variance, penalty_weight)\u001b[0m\n\u001b[1;32m     46\u001b[0m \u001b[38;5;28;01mdef\u001b[39;00m \u001b[38;5;21mgaussian_nll_with_variance_penalty\u001b[39m(mean, target, variance, penalty_weight\u001b[38;5;241m=\u001b[39m\u001b[38;5;241m1e-3\u001b[39m):\n\u001b[1;32m     47\u001b[0m     base_nll \u001b[38;5;241m=\u001b[39m F\u001b[38;5;241m.\u001b[39mgaussian_nll_loss(mean, target, variance, full\u001b[38;5;241m=\u001b[39m\u001b[38;5;28;01mTrue\u001b[39;00m)\n\u001b[0;32m---> 48\u001b[0m     penalty \u001b[38;5;241m=\u001b[39m penalty_weight \u001b[38;5;241m*\u001b[39m torch\u001b[38;5;241m.\u001b[39mmean(variance)\n\u001b[1;32m     49\u001b[0m     \u001b[38;5;28;01mreturn\u001b[39;00m base_nll \u001b[38;5;241m+\u001b[39m penalty\n",
      "\u001b[0;31mKeyboardInterrupt\u001b[0m: "
     ]
    }
   ],
   "source": [
    "from tqdm import tqdm\n",
    "# device = torch.device(\"mps\" if torch.backends.mps.is_available() else \"cpu\")\n",
    "device = \"cpu\"\n",
    "\n",
    "model = NN(input_dim=train_x.shape[1], hidden_dim = HIDDEN_DIM).to(device)\n",
    "optimizer = optim.Adam(model.parameters(), lr=0.001)\n",
    "early_stopper = EarlyStopping(patience=PATIENCE, min_delta=1e-6)\n",
    "\n",
    "start_time = timeit.default_timer()\n",
    "for epoch in tqdm(range(NUM_EPOCHS)):\n",
    "    epoch_start = timeit.default_timer()\n",
    "    model.train()\n",
    "    epoch_loss = 0.0\n",
    "    for batch_x, batch_y in train_loader:\n",
    "        batch_x, batch_y = batch_x.to(device), batch_y.to(device)\n",
    "        optimizer.zero_grad()\n",
    "        train_loss = loss_fn(model, batch_x, batch_y, sample_nbr=SAMPLE_NBR, \n",
    "                             complexity_cost_weight=COMPLEXITY_COST_WEIGHT,\n",
    "                             penalty_weight=PENALTY_WEIGHT)\n",
    "        train_loss.backward()\n",
    "        optimizer.step()\n",
    "        epoch_loss += train_loss.item() * batch_x.size(0)  # Accumulate total loss\n",
    "\n",
    "    epoch_loss /= len(train_dataset)  # Average over the full dataset\n",
    "    \n",
    "    # Validation step\n",
    "    epoch_val_loss = 0.0\n",
    "    for batch_x, batch_y in val_loader:\n",
    "        batch_x, batch_y = batch_x.to(device), batch_y.to(device)\n",
    "        model.eval()\n",
    "        with torch.no_grad():\n",
    "            val_loss = loss_fn(model, batch_x, batch_y, sample_nbr=SAMPLE_NBR,\n",
    "                               complexity_cost_weight=COMPLEXITY_COST_WEIGHT,\n",
    "                               penalty_weight=PENALTY_WEIGHT)\n",
    "        epoch_val_loss += val_loss.item() * batch_x.size(0)\n",
    "    epoch_val_loss /= len(val_dataset)\n",
    "\n",
    "    early_stopper(epoch_val_loss, model)\n",
    "    if early_stopper.early_stop:\n",
    "        print(f\"Early stopping at epoch {epoch}\")\n",
    "        print(f\"Epoch {epoch}: Epoch loss = {epoch_loss:.4f} | Val Loss = {val_loss.item():.4f}\")\n",
    "        break\n",
    "        \n",
    "    if epoch % (NUM_EPOCHS // 20) == 0:\n",
    "        # print(f\"Epoch {epoch}: Epoch loss = {epoch_loss:.4f} | Val Loss = {val_loss.item():.4f}\")\n",
    "        print(f\"Epoch {epoch}: Epoch loss = {epoch_loss:.4f}\")\n",
    "    \n",
    "    # print(f\"{timeit.default_timer() - epoch_start} seconds\")"
   ]
  },
  {
   "cell_type": "code",
   "execution_count": 5,
   "id": "36b250a9-dceb-4eb2-abd1-c1c35151a447",
   "metadata": {
    "tags": []
   },
   "outputs": [
    {
     "name": "stdout",
     "output_type": "stream",
     "text": [
      "False\n",
      "True\n"
     ]
    }
   ],
   "source": [
    "print(torch.cuda.is_available())  # Always False on M2 Macs\n",
    "print(torch.backends.mps.is_available())  # True if MPS (Metal Performance Shaders) is available"
   ]
  },
  {
   "cell_type": "code",
   "execution_count": 6,
   "id": "9a923ebe-6928-4a39-a1df-f0b11358e94c",
   "metadata": {
    "tags": []
   },
   "outputs": [
    {
     "data": {
      "text/plain": [
       "NN(\n",
       "  (fc1): Linear(in_features=6, out_features=50, bias=True)\n",
       "  (relu): ReLU()\n",
       "  (out_mean): Linear(in_features=50, out_features=1, bias=True)\n",
       "  (out_var): Linear(in_features=50, out_features=1, bias=True)\n",
       ")"
      ]
     },
     "execution_count": 6,
     "metadata": {},
     "output_type": "execute_result"
    }
   ],
   "source": [
    "model"
   ]
  },
  {
   "cell_type": "code",
   "execution_count": 10,
   "id": "0f2c1cce-718f-4fb3-ab12-3122eed6a4cf",
   "metadata": {
    "tags": []
   },
   "outputs": [
    {
     "data": {
      "image/png": "[encoded data removed]",
      "text/plain": [
       "<Figure size 640x480 with 1 Axes>"
      ]
     },
     "metadata": {},
     "output_type": "display_data"
    }
   ],
   "source": [
    "with torch.no_grad():\n",
    "    test_x = full_x[NUM_TRAIN:,:]\n",
    "    test_y = full_y[NUM_TRAIN:,:]\n",
    "\n",
    "    pred_means, pred_vars = model(test_x)\n",
    "    plt.hist(pred_means, density=True, bins=100);\n",
    "    # plt.hist(test_y, density=True);"
   ]
  },
  {
   "cell_type": "code",
   "execution_count": null,
   "id": "15b7ca95-1f33-4c8d-9bb5-2b159a93e596",
   "metadata": {},
   "outputs": [],
   "source": []
  }
 ],
 "metadata": {
  "kernelspec": {
   "display_name": "Python [conda env:sbi_env]",
   "language": "python",
   "name": "conda-env-sbi_env-py"
  },
  "language_info": {
   "codemirror_mode": {
    "name": "ipython",
    "version": 3
   },
   "file_extension": ".py",
   "mimetype": "text/x-python",
   "name": "python",
   "nbconvert_exporter": "python",
   "pygments_lexer": "ipython3",
   "version": "3.11.7"
  }
 },
 "nbformat": 4,
 "nbformat_minor": 5
}
