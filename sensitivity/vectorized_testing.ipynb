{
 "cells": [
  {
   "cell_type": "code",
   "execution_count": 1,
   "id": "f647db87-5ea6-4452-99fc-b634cbe43e0d",
   "metadata": {
    "tags": []
   },
   "outputs": [
    {
     "name": "stderr",
     "output_type": "stream",
     "text": [
      "[Mac.search.charter.net:29356] shmem: mmap: an error occurred while determining whether or not /var/folders/cs/tn4zg_3d3zq1k5vgjm1ty_vc0000gn/T//ompi.Mac.501/jf.0/3374448640/sm_segment.Mac.501.c9220000.0 could be created.\n",
      "/Users/patrick/Research/Regan/TecateCypress/sensitivity/project.py:371: RuntimeWarning: divide by zero encountered in divide\n",
      "  b_raster = delta_t / np.power(-np.log(1-fdm), 1/self.c)\n"
     ]
    }
   ],
   "source": [
    "import numpy as np\n",
    "from project import Phase\n",
    "import torch\n",
    "import sys\n",
    "from matplotlib import pyplot as plt\n",
    "from mpi4py import MPI\n",
    "from tqdm import tqdm\n",
    "import timeit\n",
    "\n",
    "constants = {}\n",
    "constants['progress'] = False\n",
    "constants['c'] = 1.42\n",
    "constants['Aeff'] = 7.29\n",
    "constants['t_final'] = 300\n",
    "constants['sim_method'] = 'discrete'\n",
    "constants['ul_coord'] = [1500, 2800]\n",
    "constants['lr_coord'] = [2723, 3905]\n",
    "'''Should just set this to min tau_vec I think, which it basically already is'''\n",
    "constants['min_tau'] = 2\n",
    "constants['A_cell'] = 270**2 / 1e6 #km^2\n",
    "constants['ncell_min'] = 2_500\n",
    "constants['root'] = 0 #For mpi\n",
    "constants.update({'final_max_tau': np.nan})\n",
    "constants['meta_metric'] = 'gte_thresh'\n",
    "constants.update({'metric': 'lambda_s'})\n",
    "constants.update({'tauc_method': 'flat'})\n",
    "constants.update({'overwrite_metrics': False}) \n",
    "constants['overwrite_results'] = False\n",
    "#constants['num_train'] = 2_000_000\n",
    "constants['num_train'] = 10\n",
    "\n",
    "pproc = Phase(**constants)\n",
    "pproc.initialize()\n",
    "assert pproc.metric_exp_spl(pproc.min_tau) > 0\n",
    "\n",
    "#### Get samples of each parameter we want to train on ####\n",
    "\n",
    "# Function to return parameter combinations as dicts\n",
    "def product_dict(**kwargs):\n",
    "    keys = kwargs.keys()\n",
    "    for instance in itertools.product(*kwargs.values()):\n",
    "        yield dict(zip(keys, instance))\n",
    "\n",
    "# For sampling from various probability distributions\n",
    "rng = np.random.default_rng()\n",
    "\n",
    "# Theoretical (or ad-hoc) maxima/minima for parameters\n",
    "minima = {\n",
    "    'C': 5.*pproc.ncell_tot,\n",
    "    'ncell': int(0.02*pproc.ncell_tot),\n",
    "    'slice_left': int(0.* pproc.ncell_tot),\n",
    "    'mu_tau': -10.,\n",
    "    'sigm_tau': 0.,\n",
    "    'mu_tauc': -10.,\n",
    "    'sigm_tauc': 0.\n",
    "}\n",
    "maxima = {\n",
    "    'C': 5.*pproc.ncell_tot,\n",
    "    'ncell': int(1. * pproc.slice_right_max),\n",
    "    'slice_left': int(1.*pproc.ncell_tot),\n",
    "    'mu_tau': 0.,\n",
    "    'sigm_tau': 6.,\n",
    "    'mu_tauc': 0.,\n",
    "    'sigm_tauc': 6.\n",
    "}\n",
    "param_keys = np.array(list(minima.keys()))\n",
    "\n",
    "# Start timer to track runtime\n",
    "start_time = timeit.default_timer()\n",
    "\n",
    "# Generate parameter values for training\n",
    "train_x = np.full((pproc.num_train, len(minima)), np.nan)\n",
    "for param_i, ((key1, _min), (key2, _max)) in enumerate(zip(minima.items(), maxima.items())):\n",
    "    assert(key1 == key2); key = key1 = key2\n",
    "\n",
    "    try:\n",
    "        assert (type(_min)==type(_min))\n",
    "        _type = type(_min)\n",
    "    except:\n",
    "        print('hey thats bad', type(_min), type(_min)); sys.exit()\n",
    "\n",
    "    # Skip slice_left for now, sample after ncell has been sampled\n",
    "    if key == 'slice_left': continue\n",
    "\n",
    "    if _type == float:\n",
    "        param_samples = rng.uniform(_min, _max, len(train_x))\n",
    "    elif _type == int:\n",
    "        param_samples = rng.integers(_min, _max, len(train_x))\n",
    "    train_x[:, param_i] = param_samples\n",
    "# Sample slice_left only where feasible given ncell samples\n",
    "ncell_column = np.nonzero(param_keys == 'ncell')[0][0]\n",
    "slice_left_max_vec = pproc.slice_right_max - train_x[:,ncell_column]\n",
    "slice_left_column = np.nonzero(param_keys == 'slice_left')[0][0]\n",
    "train_x[:, slice_left_column] = rng.uniform(0, slice_left_max_vec)\n",
    "\n",
    "\n",
    "\n",
    "pproc.tau_expect = np.tile(pproc.tau_flat, (len(train_x), 1))\n",
    "\n",
    "pproc.mu_tau = train_x[:,3]\n",
    "pproc.sigm_tau = train_x[:,4]\n",
    "pproc.generate_eps_tau_vectorized()\n",
    "pproc.tau_expect += pproc.eps_tau\n",
    "\n",
    "pproc.change_tau_expect_vectorized(train_x[:,0], \n",
    "                                   train_x[:,1].astype(int), \n",
    "                                   train_x[:,2].astype(int),\n",
    "                                   train_x[:,5], \n",
    "                                   train_x[:,6])\n",
    "\n",
    "pproc.calculate_metric_gte(vectorized=True)"
   ]
  },
  {
   "cell_type": "code",
   "execution_count": 2,
   "id": "0276870b-5eaa-4be3-a660-35deac1bb3e5",
   "metadata": {
    "collapsed": true,
    "jupyter": {
     "outputs_hidden": true
    },
    "tags": []
   },
   "outputs": [
    {
     "name": "stdout",
     "output_type": "stream",
     "text": [
      "[-7.91936959 -5.16604849 -8.79535936] [0.20146092 0.46213721 0.22403708]\n",
      "-7.918597128387139 0.20104905713373694\n",
      "-5.164249140251883 0.4610678024489767\n",
      "-8.794926723822448 0.22387757575244935\n"
     ]
    },
    {
     "data": {
      "image/png": "[encoded data removed]",
      "text/plain": [
       "<Figure size 640x480 with 1 Axes>"
      ]
     },
     "metadata": {},
     "output_type": "display_data"
    }
   ],
   "source": [
    "print(pproc.mu_tau, pproc.sigm_tau)\n",
    "for i in range(len(train_x)):\n",
    "    plt.hist(pproc.eps_tau[i,:], alpha=0.5);\n",
    "    print(np.mean(pproc.eps_tau[i,:]), np.std(pproc.eps_tau[i,:]))"
   ]
  },
  {
   "cell_type": "code",
   "execution_count": 13,
   "id": "afd1ab38-4d05-46f8-88dd-491a8ee065bb",
   "metadata": {
    "tags": []
   },
   "outputs": [
    {
     "data": {
      "image/png": "[encoded data removed]",
      "text/plain": [
       "<Figure size 640x480 with 1 Axes>"
      ]
     },
     "metadata": {},
     "output_type": "display_data"
    }
   ],
   "source": [
    "for i in range(len(train_x)):\n",
    "    plt.hist(pproc.tau_expect[i,:], alpha=0.5, bins=80);\n",
    "    # plt.show()"
   ]
  },
  {
   "cell_type": "code",
   "execution_count": 8,
   "id": "3bea431d-963e-466c-bb9d-975a1b41e377",
   "metadata": {
    "collapsed": true,
    "jupyter": {
     "outputs_hidden": true
    },
    "tags": []
   },
   "outputs": [
    {
     "ename": "IndexError",
     "evalue": "index 38422 is out of bounds for axis 0 with size 3",
     "output_type": "error",
     "traceback": [
      "\u001b[0;31m---------------------------------------------------------------------------\u001b[0m",
      "\u001b[0;31mIndexError\u001b[0m                                Traceback (most recent call last)",
      "Cell \u001b[0;32mIn[8], line 8\u001b[0m\n\u001b[1;32m      5\u001b[0m pproc\u001b[38;5;241m.\u001b[39msigm_tauc \u001b[38;5;241m=\u001b[39m train_x[\u001b[38;5;241m0\u001b[39m,\u001b[38;5;241m6\u001b[39m]\n\u001b[1;32m      7\u001b[0m slice_indices \u001b[38;5;241m=\u001b[39m pproc\u001b[38;5;241m.\u001b[39mtau_argsort_ref[slice_left:slice_left \u001b[38;5;241m+\u001b[39m ncell]\n\u001b[0;32m----> 8\u001b[0m tau_slice \u001b[38;5;241m=\u001b[39m pproc\u001b[38;5;241m.\u001b[39mtau_expect[slice_indices]\n\u001b[1;32m      9\u001b[0m \u001b[38;5;66;03m# Set max tauc per cell\u001b[39;00m\n\u001b[1;32m     10\u001b[0m final_max_tauc \u001b[38;5;241m=\u001b[39m pproc\u001b[38;5;241m.\u001b[39mfinal_max_tau \u001b[38;5;241m-\u001b[39m tau_slice\n",
      "\u001b[0;31mIndexError\u001b[0m: index 38422 is out of bounds for axis 0 with size 3"
     ]
    }
   ],
   "source": [
    "C = train_x[0,0]\n",
    "ncell = int(train_x[0,1])\n",
    "slice_left = int(train_x[0,2])\n",
    "pproc.mu_tauc = train_x[0,5]\n",
    "pproc.sigm_tauc = train_x[0,6]\n",
    "\n",
    "def change_tau_expect(pproc, C, ncell, slice_left)\n",
    "    slice_indices = pproc.tau_argsort_ref[slice_left:slice_left + ncell]\n",
    "    tau_slice = pproc.tau_expect[slice_indices]\n",
    "    # Set max tauc per cell\n",
    "    final_max_tauc = pproc.final_max_tau - tau_slice\n",
    "    # First create array of replacement tau\n",
    "    replacement_tau = np.ones(ncell) #Initialize\n",
    "\n",
    "    tauc = C / ncell\n",
    "    tauc_slice = np.repeat(tauc, ncell)\n",
    "\n",
    "    # Add uncertainty to tauc slice\n",
    "    pproc.eps_tauc = pproc.rng.normal(loc=pproc.mu_tauc, scale=pproc.sigm_tauc, size=ncell) \n",
    "    tauc_slice = tauc_slice + pproc.eps_tauc\n",
    "\n",
    "    # Find where tauc will push tau beyond max\n",
    "    xs_filt = (tauc_slice > final_max_tauc) \n",
    "    replacement_tau[xs_filt] = pproc.final_max_tau\n",
    "    replacement_tau[xs_filt==False] = (tau_slice + tauc_slice)[xs_filt==False]\n",
    "\n",
    "    # Now replace them in the full array of tau\n",
    "    pproc.tau_expect[slice_indices] = replacement_tau \n",
    "\n",
    "    # Replace any tau lt min with min\n",
    "    pproc.tau_expect = np.where(pproc.tau_expect < pproc.min_tau, pproc.min_tau, pproc.tau_expect)"
   ]
  },
  {
   "cell_type": "code",
   "execution_count": 2,
   "id": "8e3a0e8e-968e-42bb-bfd0-64f7d5b2d81e",
   "metadata": {
    "tags": []
   },
   "outputs": [],
   "source": [
    "def change_tau_expect_vectorized(pproc, C_vec, ncell_vec, slice_left_vec, mu_tauc_vec, sigm_tauc_vec):\n",
    "    \"\"\"\n",
    "    Vectorized-over-samples but looped-per-sample tau update.\n",
    "\n",
    "    Parameters:\n",
    "        pproc: An object with:\n",
    "            - tau_expect: ndarray (n_samples, ncell_tot)\n",
    "            - tau_argsort_ref: 1D array of shape (ncell_tot,)\n",
    "            - final_max_tau: scalar\n",
    "            - min_tau: scalar\n",
    "            - rng: NumPy-compatible RNG with normal()\n",
    "        C_vec: (n_samples,) array\n",
    "        ncell_vec: (n_samples,) array of ints\n",
    "        slice_left_vec: (n_samples,) array of ints\n",
    "        mu_tauc_vec: (n_samples,) array\n",
    "        sigm_tauc_vec: (n_samples,) array\n",
    "    \"\"\"\n",
    "    n_samples = len(C_vec)\n",
    "    tau_expect_out = np.copy(pproc.tau_expect)\n",
    "\n",
    "    for i in range(n_samples):\n",
    "        C = C_vec[i]\n",
    "        ncell = ncell_vec[i]\n",
    "        slice_left = slice_left_vec[i]\n",
    "        mu_tauc = mu_tauc_vec[i]\n",
    "        sigm_tauc = sigm_tauc_vec[i]\n",
    "\n",
    "        # 1. Get indices for this sample\n",
    "        slice_indices = pproc.tau_argsort_ref[slice_left:slice_left + ncell]\n",
    "\n",
    "        # 2. Extract current tau slice\n",
    "        tau_slice = tau_expect_out[i, slice_indices]\n",
    "        final_max_tauc = pproc.final_max_tau - tau_slice\n",
    "\n",
    "        # 3. Compute tauc with noise\n",
    "        tauc = C / ncell\n",
    "        tauc_slice = np.full(ncell, tauc)\n",
    "        eps_tauc = pproc.rng.normal(loc=mu_tauc, scale=sigm_tauc, size=ncell)\n",
    "        tauc_slice += eps_tauc\n",
    "\n",
    "        # 4. Apply capping logic\n",
    "        replacement_tau = np.where(\n",
    "            tauc_slice > final_max_tauc,\n",
    "            pproc.final_max_tau,\n",
    "            tau_slice + tauc_slice\n",
    "        )\n",
    "\n",
    "        # 5. Insert back into tau_expect\n",
    "        tau_expect_out[i, slice_indices] = replacement_tau\n",
    "\n",
    "    # 6. Clip with min_tau\n",
    "    pproc.tau_expect = np.where(tau_expect_out < pproc.min_tau, pproc.min_tau, tau_expect_out)"
   ]
  },
  {
   "cell_type": "code",
   "execution_count": 24,
   "id": "f85a1311-a414-4192-8c2d-8264c745ca14",
   "metadata": {
    "tags": []
   },
   "outputs": [],
   "source": [
    "import numba\n",
    "\n",
    "@numba.njit\n",
    "def change_tau_expect_numba(\n",
    "    tau_expect, tau_argsort_ref, C_vec, ncell_vec, slice_left_vec,\n",
    "    mu_tauc_vec, sigm_tauc_vec, final_max_tau, min_tau, eps_tauc_all\n",
    "):\n",
    "    n_samples, ncell_tot = tau_expect.shape\n",
    "\n",
    "    for i in range(n_samples):\n",
    "        C = C_vec[i]\n",
    "        ncell = ncell_vec[i]\n",
    "        slice_left = slice_left_vec[i]\n",
    "        mu_tauc = mu_tauc_vec[i]\n",
    "        sigm_tauc = sigm_tauc_vec[i]\n",
    "\n",
    "        slice_indices = tau_argsort_ref[slice_left:slice_left + ncell]\n",
    "        tau_slice = tau_expect[i, slice_indices]\n",
    "        final_max_tauc = final_max_tau - tau_slice\n",
    "\n",
    "        tauc = C / ncell\n",
    "        tauc_slice = np.full(ncell, tauc)\n",
    "        tauc_slice += eps_tauc_all[i, :ncell]\n",
    "\n",
    "        replacement_tau = np.empty(ncell)\n",
    "        for j in range(ncell):\n",
    "            if tauc_slice[j] > final_max_tauc[j]:\n",
    "                replacement_tau[j] = final_max_tau\n",
    "            else:\n",
    "                replacement_tau[j] = tau_slice[j] + tauc_slice[j]\n",
    "\n",
    "        for j in range(ncell):\n",
    "            tau_expect[i, slice_indices[j]] = replacement_tau[j]\n",
    "\n",
    "    # Clip to min_tau\n",
    "    for i in range(n_samples):\n",
    "        for j in range(ncell_tot):\n",
    "            if tau_expect[i, j] < min_tau:\n",
    "                tau_expect[i, j] = min_tau\n",
    "\n",
    "    return tau_expect"
   ]
  },
  {
   "cell_type": "code",
   "execution_count": 67,
   "id": "f60a3dd8-79b2-43f4-9622-667c377c5b78",
   "metadata": {
    "tags": []
   },
   "outputs": [
    {
     "name": "stdout",
     "output_type": "stream",
     "text": [
      "0.6186176250048447 seconds\n",
      "0.532380375007051 seconds\n"
     ]
    }
   ],
   "source": [
    "# Reset tau_expect before calculation\n",
    "pproc.tau_expect = np.tile(pproc.tau_flat, (len(train_x), 1))\n",
    "pproc.generate_eps_tau_vectorized()\n",
    "pproc.tau_expect += pproc.eps_tau\n",
    "\n",
    "start_time = timeit.default_timer()\n",
    "change_tau_expect_vectorized(pproc, train_x[:,0], train_x[:,1].astype(int), train_x[:,2].astype(int), \n",
    "                             train_x[:,5], train_x[:,6])\n",
    "print(f\"{timeit.default_timer() - start_time} seconds\")\n",
    "\n",
    "# for i in range(len(train_x)):\n",
    "#     plt.hist(pproc.tau_expect[i,:], alpha=0.5, bins=80);\n",
    "# plt.show()\n",
    "\n",
    "\n",
    "C_vec = train_x[:,0]\n",
    "ncell_vec = train_x[:,1].astype(int)\n",
    "slice_left_vec = train_x[:,2].astype(int)\n",
    "mu_tauc_vec = train_x[:,5]\n",
    "sigm_tauc_vec = train_x[:,6]\n",
    "\n",
    "# Reset tau_expect before calculation\n",
    "pproc.tau_expect = np.tile(pproc.tau_flat, (len(train_x), 1))\n",
    "pproc.generate_eps_tau_vectorized()\n",
    "pproc.tau_expect += pproc.eps_tau\n",
    "\n",
    "start_time = timeit.default_timer()\n",
    "\n",
    "eps_tauc_all = np.array([\n",
    "    pproc.rng.normal(loc=mu, scale=sig, size=ncell)\n",
    "    for mu, sig, ncell in zip(mu_tauc_vec, sigm_tauc_vec, ncell_vec)\n",
    "], dtype=object)\n",
    "\n",
    "# Convert to 2D padded array (max_ncell), or preallocate with max shape\n",
    "max_ncell = max(ncell_vec)\n",
    "eps_tauc_pad = np.zeros((len(ncell_vec), max_ncell))\n",
    "for i, eps in enumerate(eps_tauc_all):\n",
    "    eps_tauc_pad[i, :len(eps)] = eps  # pad with zeros (or sentinel)\n",
    "\n",
    "# Call compiled version\n",
    "pproc.tau_expect = change_tau_expect_numba(\n",
    "    pproc.tau_expect.copy(),\n",
    "    pproc.tau_argsort_ref,\n",
    "    C_vec,\n",
    "    ncell_vec,\n",
    "    slice_left_vec,\n",
    "    mu_tauc_vec,\n",
    "    sigm_tauc_vec,\n",
    "    pproc.final_max_tau,\n",
    "    pproc.min_tau,\n",
    "    eps_tauc_pad,\n",
    ")\n",
    "\n",
    "print(f\"{timeit.default_timer() - start_time} seconds\")\n",
    "\n",
    "# for i in range(len(train_x)):\n",
    "#     plt.hist(pproc.tau_expect[i,:], alpha=0.5, bins=80);\n",
    "# plt.show()"
   ]
  },
  {
   "cell_type": "code",
   "execution_count": null,
   "id": "20e0f950-935b-4e0d-83b0-08b13ef1b9e0",
   "metadata": {},
   "outputs": [],
   "source": []
  }
 ],
 "metadata": {
  "kernelspec": {
   "display_name": "Python [conda env:sbi_env]",
   "language": "python",
   "name": "conda-env-sbi_env-py"
  },
  "language_info": {
   "codemirror_mode": {
    "name": "ipython",
    "version": 3
   },
   "file_extension": ".py",
   "mimetype": "text/x-python",
   "name": "python",
   "nbconvert_exporter": "python",
   "pygments_lexer": "ipython3",
   "version": "3.11.7"
  }
 },
 "nbformat": 4,
 "nbformat_minor": 5
}
