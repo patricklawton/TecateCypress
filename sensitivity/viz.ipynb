{
 "cells": [
  {
   "cell_type": "code",
   "execution_count": null,
   "id": "6c8b2da8-68b7-4f4e-becd-709b8210d6a8",
   "metadata": {
    "tags": []
   },
   "outputs": [],
   "source": [
    "import numpy as np\n",
    "from matplotlib import colors\n",
    "from matplotlib import cm\n",
    "from matplotlib import pyplot as plt\n",
    "from matplotlib import rc\n",
    "import pickle\n",
    "import signac as sg\n",
    "from scipy.special import gamma\n",
    "import copy as copy\n",
    "import scipy\n",
    "from global_functions import adjustmaps\n",
    "import h5py\n",
    "from scipy.interpolate import make_lsq_spline\n",
    "from itertools import product"
   ]
  },
  {
   "cell_type": "code",
   "execution_count": null,
   "id": "04d88b10-25e5-413b-9eae-82591ef5253c",
   "metadata": {
    "tags": []
   },
   "outputs": [],
   "source": [
    "# Update global plotting parameters\n",
    "rc('axes', labelsize=16)  # Font size for x and y labels\n",
    "rc('axes', titlesize=16)\n",
    "rc('xtick', labelsize=15)  # Font size for x-axis tick labels\n",
    "rc('ytick', labelsize=15)  # Font size for y-axis tick labels\n",
    "rc('lines', markersize=12)  # Set the default marker size to 10 points\n",
    "rc('legend', fontsize=14)\n",
    "\n",
    "# Define/load things non-specific to a given set of results\n",
    "metric = \"P_s\"\n",
    "Aeff = 1.0\n",
    "t_final = 600\n",
    "ncell_tot = 87_993\n",
    "c = 1.42\n",
    "with sg.H5Store('shared_data.h5').open(mode='r') as sd:\n",
    "    b_vec = np.array(sd['b_vec'])\n",
    "tau_vec = b_vec * gamma(1+1/c)\n",
    "tau_step = np.diff(tau_vec)[0] / 2\n",
    "tau_edges = np.concatenate(([0], np.arange(tau_step/2, tau_vec[-1]+tau_step, tau_step)))\n",
    "tauc_methods = [\"flat\"]"
   ]
  },
  {
   "cell_type": "code",
   "execution_count": null,
   "id": "acba4b59-ec2c-4ac7-9c2b-14ea355fafe5",
   "metadata": {
    "tags": []
   },
   "outputs": [],
   "source": [
    "def set_globals(results_pre):\n",
    "    if results_pre == 'meta_mean_results':\n",
    "        globals()['metric_lab'] = f'$<{metric}>_{{meta}}$'\n",
    "    else:\n",
    "        globals()['metric_lab'] = f'$P(<{metric}>_k \\geq 0.5)$'\n",
    "    globals()['fn_prefix'] = f\"{results_pre}/data/Aeff_{Aeff}/tfinal_{t_final}/metric_{metric}/\"\n",
    "    globals()['fig_prefix'] = f\"{results_pre}/figs/Aeff_{Aeff}/tfinal_{t_final}/metric_{metric}/\"\n",
    "\n",
    "    # Load things saved specific to these results\n",
    "    with open(fn_prefix + 'metric_data.pkl', 'rb') as handle:\n",
    "        globals()['metric_data'] = pickle.load(handle)\n",
    "    globals()['all_metric'] = metric_data['all_metric']\n",
    "    globals()['all_tau'] = np.load(f\"{results_pre}/data/Aeff_{Aeff}/tfinal_{t_final}/all_tau.npy\")\n",
    "    globals()['C_vec'] = np.load(fn_prefix + \"C_vec.npy\")\n",
    "    globals()['ncell_vec'] = np.load(fn_prefix + \"ncell_vec.npy\")\n",
    "    globals()['slice_left_all'] = np.load(fn_prefix + \"slice_left_all.npy\")\n",
    "    eps_axes = {}\n",
    "    with h5py.File(fn_prefix + \"/eps_axes.h5\", \"r\") as handle:\n",
    "        for key in handle.keys():\n",
    "            eps_axes.update({key: handle[key][()]})\n",
    "    globals()['eps_axes'] = eps_axes"
   ]
  },
  {
   "cell_type": "code",
   "execution_count": null,
   "id": "25694cff-a2cb-4cd6-b2db-e7b25ab1e516",
   "metadata": {
    "jupyter": {
     "source_hidden": true
    },
    "tags": []
   },
   "outputs": [],
   "source": [
    "# Define set of results\n",
    "# results_pre = 'meta_mean_results'\n",
    "results_pre = 'gte_thresh_results'\n",
    "if results_pre == 'meta_mean_results':\n",
    "    metric_lab = f'$<{metric}>_{{meta}}$'\n",
    "else:\n",
    "    metric_lab = f'$P(<{metric}>_k \\geq 0.5)$'\n",
    "fn_prefix = f\"{results_pre}/data/Aeff_{Aeff}/tfinal_{t_final}/metric_{metric}/\"\n",
    "fig_prefix = f\"{results_pre}/figs/Aeff_{Aeff}/tfinal_{t_final}/metric_{metric}/\"\n",
    "\n",
    "# Load things saved specific to these results\n",
    "with open(fn_prefix + 'metric_data.pkl', 'rb') as handle:\n",
    "    metric_data = pickle.load(handle)\n",
    "all_metric = metric_data['all_metric']\n",
    "all_tau = np.load(f\"{results_pre}/data/Aeff_{Aeff}/tfinal_{t_final}/all_tau.npy\")\n",
    "C_vec = np.load(fn_prefix + \"C_vec.npy\")\n",
    "ncell_vec = np.load(fn_prefix + \"ncell_vec.npy\")\n",
    "slice_left_all = np.load(fn_prefix + \"slice_left_all.npy\")\n",
    "eps_axes = {}\n",
    "with h5py.File(fn_prefix + \"/eps_axes.h5\", \"r\") as handle:\n",
    "    for key in handle.keys():\n",
    "        eps_axes.update({key: handle[key][()]})"
   ]
  },
  {
   "cell_type": "markdown",
   "id": "3fe77faa-ef23-4683-80e1-b66a7d0cfc5b",
   "metadata": {
    "jp-MarkdownHeadingCollapsed": true,
    "tags": []
   },
   "source": [
    "### Preprocess robustness"
   ]
  },
  {
   "cell_type": "code",
   "execution_count": null,
   "id": "2eac8348-895b-47df-81e8-bf85f1f246a8",
   "metadata": {
    "tags": []
   },
   "outputs": [],
   "source": [
    "# for results_pre in ['meta_mean_results', 'gte_thresh_results']:\n",
    "for results_pre in ['gte_thresh_results']:\n",
    "    # Load things saved specific to these results\n",
    "    set_globals(results_pre)\n",
    "\n",
    "    # Collect <metric> across all state variables and uncertainty parameterizations\n",
    "    shape = [len(eps_axes[key]) for key in eps_axes.keys()] \n",
    "    shape += [len(C_vec), len(ncell_vec), len(slice_left_all)]\n",
    "    phase_full = np.ones((shape)) * np.nan\n",
    "    with h5py.File(fn_prefix + \"phase_flat.h5\", \"r\") as phase_handle:\n",
    "        for eps_params in product(*eps_axes.values()):\n",
    "            # Create a dictionary of indices along with values for the current combination\n",
    "            eps_params_dict = {\n",
    "                key: (index, np.round(value, 3)) for key, values in zip(eps_axes.keys(), eps_axes.values())\n",
    "                for index, value in enumerate(values) if value == eps_params[list(eps_axes.keys()).index(key)]\n",
    "            }\n",
    "\n",
    "            # Get phase slice at this epsilon parameterization\n",
    "            data_key = f\"{eps_params_dict['mu_tau'][1]}/{eps_params_dict['sigm_tau'][1]}/\"\n",
    "            data_key += f\"{eps_params_dict['mu_tauc'][1]}/{eps_params_dict['sigm_tauc'][1]}/phase\"\n",
    "            phase_slice = phase_handle[data_key][:]\n",
    "\n",
    "            # Add them to collective phase_all\n",
    "            eps_indices = [val[0] for val in eps_params_dict.values()]\n",
    "            index_tuple = tuple(eps_indices) + (slice(None), slice(None), slice(None))\n",
    "            phase_full[index_tuple] = phase_slice\n",
    "    # Save full phase matrix to file\n",
    "    np.save(fn_prefix + \"phase_full.npy\", phase_full)\n",
    "\n",
    "    rob_thresh_vec = np.linspace(min(phase_full.flatten()), max(phase_full.flatten()), 100)\n",
    "    np.save(fn_prefix + \"rob_thresh_vec.npy\", rob_thresh_vec)\n",
    "    allrob = np.ones((rob_thresh_vec.size, C_vec.size, ncell_vec.size, slice_left_all.size)) * np.nan\n",
    "    maxrob = np.ones((len(rob_thresh_vec), len(C_vec))) * np.nan\n",
    "    argmaxrob = np.ones((len(rob_thresh_vec), len(C_vec), 2)) * np.nan\n",
    "    tot_eps_samples = np.cumprod([len(axis) for axis in eps_axes.values()])[-1]\n",
    "    zero_eps_i = [np.argwhere(ax == 0)[0][0] for ax in eps_axes.values()]\n",
    "    for (thresh_i, thresh), (C_i, C) in product(enumerate(rob_thresh_vec), \n",
    "                                                enumerate(C_vec)):\n",
    "        rob_slice = np.ones((len(ncell_vec), len(slice_left_all))) * np.nan\n",
    "        for (ncell_i, ncell), (sl_i, sl) in product(enumerate(ncell_vec),\n",
    "                                                    enumerate(slice_left_all)):\n",
    "            # First, check that this result is feasible with zero uncertainty\n",
    "            # Skip and keep at nan if not feasible\n",
    "            metric_zero_eps = phase_full[tuple(zero_eps_i + [C_i, ncell_i, sl_i])]\n",
    "            if np.isnan(metric_zero_eps) or (metric_zero_eps < thresh): continue\n",
    "            # Now, get the robstness at this (C,ncell,slice_left) coordinate and store\n",
    "            counts = np.count_nonzero(phase_full[..., C_i, ncell_i, sl_i] >= thresh)\n",
    "            robustness = counts / tot_eps_samples\n",
    "            rob_slice[ncell_i, sl_i] = robustness\n",
    "        allrob[thresh_i, C_i] = rob_slice\n",
    "        if np.any(~np.isnan(rob_slice)):\n",
    "            # Store the max robustness at this (thresh, C) coordinate\n",
    "            maxrob[thresh_i, C_i] = np.nanmax(rob_slice)\n",
    "            # Also store the optimal param indices\n",
    "            optimal_param_i = np.unravel_index(np.nanargmax(rob_slice, axis=None), rob_slice.shape)\n",
    "            argmaxrob[thresh_i, C_i] = optimal_param_i\n",
    "    # Save maxrob and argmaxrob to files\n",
    "    np.save(fn_prefix + \"maxrob.npy\", maxrob)\n",
    "    np.save(fn_prefix + \"argmaxrob.npy\", argmaxrob)"
   ]
  },
  {
   "cell_type": "markdown",
   "id": "2ae08534-f319-4c8f-bd37-3297d848ea7d",
   "metadata": {
    "tags": []
   },
   "source": [
    "### $\\text{max}(\\omega)$ vs target $<\\text{metric}_{meta}>$"
   ]
  },
  {
   "cell_type": "code",
   "execution_count": null,
   "id": "e0872005-8502-45bd-91f1-df4b6e5275c1",
   "metadata": {
    "tags": []
   },
   "outputs": [],
   "source": [
    "set_globals('gte_thresh_results')\n",
    "maxrob = np.load(fn_prefix + \"maxrob.npy\")\n",
    "argmaxrob = np.load(fn_prefix + \"argmaxrob.npy\")\n",
    "rob_thresh_vec = np.load(fn_prefix + \"rob_thresh_vec.npy\")\n",
    "\n",
    "cbar_labels = [fr\"optimally robust range fraction for intervention\",\n",
    "               fr\"optimally robust slice left for intervention\"]\n",
    "for opt_i in range(2):\n",
    "    fig, ax = plt.subplots(1, figsize=(11,7))\n",
    "    colormap = copy.copy(cm.RdPu_r)\n",
    "    if opt_i == 0:\n",
    "        vmax = 1; vmin = 0\n",
    "    else:\n",
    "        # vmax = max(slice_left_all); vmin = min(slice_left_all)\n",
    "        # vmax = slice_left_all[np.nanmax(argmaxrob[:,9,1]).astype(int)] / ncell_tot; vmin=0\n",
    "        vmax = 1; vmin = 0\n",
    "    normalize = colors.Normalize(vmin=vmin, vmax=vmax)\n",
    "\n",
    "    all_markers = ['o','^','s','D']\n",
    "    all_linestyles = ['dotted', 'dashdot', 'dashed', 'solid']\n",
    "    C_i_samples = [0,3,6,9]\n",
    "    # C_i_samples = [9]\n",
    "    for line_i, C_i in enumerate(C_i_samples):\n",
    "        plot_vec = np.ones(len(rob_thresh_vec)) * np.nan\n",
    "        c_vec = np.ones(len(rob_thresh_vec)) * np.nan\n",
    "        for thresh_i, thresh in enumerate(rob_thresh_vec):\n",
    "            if thresh_i % 2 == 0: continue\n",
    "            # Get the maximum robustness across (ncell, sl) at this C \n",
    "            if maxrob[thresh_i, C_i] < 1:\n",
    "                plot_vec[thresh_i] = maxrob[thresh_i, C_i]\n",
    "            if not np.isnan(plot_vec[thresh_i]):\n",
    "                if opt_i == 0:\n",
    "                    c_vec[thresh_i] = ncell_vec[int(argmaxrob[thresh_i, C_i][opt_i])] / ncell_tot\n",
    "                else:\n",
    "                    c_vec[thresh_i] = slice_left_all[int(argmaxrob[thresh_i, C_i][opt_i])] / ncell_tot\n",
    "        scatter = ax.scatter(rob_thresh_vec, plot_vec, cmap=colormap, norm=normalize,\n",
    "                            c=c_vec, marker=all_markers[line_i])#, s=60)\n",
    "        ax.scatter([], [], label=fr\"$C~/~k_{{max}}=${np.round(C_vec[C_i]/ncell_tot, 1)}\", \n",
    "                   s=60, c='black', marker=all_markers[line_i])\n",
    "    cbar = fig.colorbar(scatter, ax=ax, location=\"right\", shrink=0.8)\n",
    "    cbar.set_label(cbar_labels[opt_i], rotation=-90, labelpad=30)\n",
    "    ax.set_ylabel(fr\"$\\text{{max}}(\\omega)$\")\n",
    "    ax.set_xlabel(fr\"target {metric_lab}\")\n",
    "    ax.legend()\n",
    "    ax.axvline(0.5, ls='--', c='k', lw=5)\n",
    "    fn = fig_prefix + f\"/maxrob_{opt_i}.png\"\n",
    "    fig.savefig(fn, bbox_inches='tight')"
   ]
  },
  {
   "cell_type": "code",
   "execution_count": null,
   "id": "47662c80-5486-4e51-be00-db91064ee01c",
   "metadata": {
    "tags": []
   },
   "outputs": [],
   "source": [
    "cbar_labels = [fr\"optimal range fraction for intervention\",\n",
    "               fr\"optimal slice left for intervention\"]\n",
    "for opt_i in range(2):\n",
    "    fig, ax = plt.subplots(1, figsize=(11,7))\n",
    "    colormap = copy.copy(cm.RdPu_r)\n",
    "    if opt_i == 0:\n",
    "        vmax = 1; vmin = 0\n",
    "    else:\n",
    "        # vmax = max(slice_left_all); vmin = min(slice_left_all)\n",
    "        # vmax = slice_left_all[np.nanmax(argmaxrob[:,9,1]).astype(int)] / ncell_tot; vmin=0\n",
    "        vmax = 1; vmin = 0\n",
    "    normalize = colors.Normalize(vmin=vmin, vmax=vmax)\n",
    "\n",
    "    all_markers = ['o','^','s','D']\n",
    "    all_linestyles = ['dotted', 'dashdot', 'dashed', 'solid']\n",
    "    C_i_samples = [0,3,6,9]\n",
    "    # C_i_samples = [9]\n",
    "    for line_i, C_i in enumerate(C_i_samples):\n",
    "        plot_vec = np.ones(len(rob_thresh_vec)) * np.nan\n",
    "        c_vec = np.ones(len(rob_thresh_vec)) * np.nan\n",
    "        for thresh_i, thresh in enumerate(rob_thresh_vec):\n",
    "            if thresh_i % 2 == 0: continue\n",
    "            # Get the maximum robustness across (ncell, sl) at this C \n",
    "            if maxrob[thresh_i, C_i] < 1:\n",
    "                plot_vec[thresh_i] = maxrob[thresh_i, C_i]\n",
    "            if not np.isnan(plot_vec[thresh_i]):\n",
    "                if opt_i == 0:\n",
    "                    c_vec[thresh_i] = ncell_vec[int(argmaxrob[thresh_i, C_i][opt_i])] / ncell_tot\n",
    "                else:\n",
    "                    c_vec[thresh_i] = slice_left_all[int(argmaxrob[thresh_i, C_i][opt_i])] / ncell_tot\n",
    "        scatter = ax.scatter(plot_vec, rob_thresh_vec, cmap=colormap, norm=normalize,\n",
    "                            c=c_vec, marker=all_markers[line_i])#, s=60)\n",
    "        ax.scatter([], [], label=fr\"$C~/~k_{{max}}=${np.round(C_vec[C_i]/ncell_tot, 1)}\", \n",
    "                   s=60, c='black', marker=all_markers[line_i])\n",
    "    cbar = fig.colorbar(scatter, ax=ax, location=\"right\", shrink=0.8)\n",
    "    cbar.set_label(cbar_labels[opt_i], rotation=-90, labelpad=30)\n",
    "    ax.set_xlabel(fr\"$\\omega$ requirement\")\n",
    "    ax.set_ylabel(fr\"max(target {metric_lab})\")\n",
    "    ax.legend()\n",
    "    # ax.axvline(0.5, ls='--', c='k', lw=5)\n",
    "    # fn = fig_prefix + f\"/maxrob_{opt_i}.png\"\n",
    "    # fig.savefig(fn, bbox_inches='tight')"
   ]
  },
  {
   "cell_type": "markdown",
   "id": "0ee4e6a3-e227-48b5-9a21-25b664383c85",
   "metadata": {
    "tags": []
   },
   "source": [
    "### Compare optimal strategies between metapop metrics"
   ]
  },
  {
   "cell_type": "code",
   "execution_count": null,
   "id": "c7111c54-2a1a-41e4-adc6-4f0a577b646f",
   "metadata": {
    "tags": []
   },
   "outputs": [],
   "source": [
    "fig, ax = plt.subplots(1, figsize=(11,7))\n",
    "# colormap = copy.copy(cm.RdPu_r)\n",
    "# colormap = copy.copy(cm.PuBu_r)\n",
    "colormap = copy.copy(cm.copper)\n",
    "vmin = 0; vmax = 1\n",
    "normalize = colors.Normalize(vmin=vmin, vmax=vmax)\n",
    "colormap_2 = copy.copy(cm.YlGn_r)\n",
    "normalize_2 = colors.Normalize(vmin=vmin, vmax=vmax)\n",
    "C_i = 9\n",
    "markers = ['o', '^']\n",
    "res_labs = [f'$<{metric}>_{{meta}}$', f'$P(<{metric}>_k \\geq 0.5)$']\n",
    "# for res_i, results_pre in enumerate(['meta_mean_results']):#, 'gte_thresh_results']):\n",
    "for res_i, results_pre in enumerate(['meta_mean_results', 'gte_thresh_results']):\n",
    "    set_globals(results_pre)\n",
    "    maxrob = np.load(fn_prefix + \"maxrob.npy\")\n",
    "    argmaxrob = np.load(fn_prefix + \"argmaxrob.npy\")\n",
    "    rob_thresh_vec = np.load(fn_prefix + \"rob_thresh_vec.npy\")\n",
    "    \n",
    "    opt_ncell = np.ones_like(rob_thresh_vec) * np.nan\n",
    "    opt_sl = np.ones_like(rob_thresh_vec) * np.nan\n",
    "    for thresh_i, thresh in enumerate(rob_thresh_vec):\n",
    "        if maxrob[thresh_i, C_i] < 1:\n",
    "            opt_ncell[thresh_i] = ncell_vec[int(argmaxrob[thresh_i, C_i][0])]\n",
    "            opt_sl[thresh_i] = slice_left_all[int(argmaxrob[thresh_i, C_i][1])]\n",
    "    opt_ncell = opt_ncell / ncell_tot\n",
    "    opt_sl = opt_sl / ncell_tot\n",
    "    ax.plot(opt_ncell, opt_sl, c='k', zorder=-1)\n",
    "    # scatter = ax.scatter(opt_ncell, opt_sl, cmap=colormap_2, norm=normalize_2, c=rob_thresh_vec, marker=markers[res_i], s=600)\n",
    "    scatter = ax.scatter(opt_ncell, opt_sl, cmap=colormap, norm=normalize, c=maxrob[:, C_i], marker=markers[res_i], s=200)\n",
    "    ax.scatter([], [], c='k', marker=markers[res_i], label=res_labs[res_i])\n",
    "cbar = fig.colorbar(scatter, ax=ax, location=\"right\", shrink=0.8)\n",
    "cbar.set_label(r\"$\\omega$ requirement\", rotation=-90, labelpad=30)\n",
    "ax.set_xlabel(fr\"optimal $n_{{cell}}$\")\n",
    "ax.set_ylabel(fr\"optimal $sl$\")\n",
    "ax.legend()\n",
    "# ymin = -0.05; ymax = 1\n",
    "ymin = min(slice_left_all/ncell_tot) - np.diff(slice_left_all/ncell_tot)[0]\n",
    "ymax = max(slice_left_all/ncell_tot)\n",
    "# ymax = 0.6\n",
    "ax.set_ylim(ymin,ymax)\n",
    "xmin = min(ncell_vec/ncell_tot)\n",
    "# xmin = ncell_vec[5]/ncell_tot\n",
    "xmax = max(ncell_vec/ncell_tot)\n",
    "ax.set_xlim(xmin, xmax)\n",
    "grid_style = {\n",
    "    'color': 'k', \n",
    "    'linewidth': 1, \n",
    "    'linestyle': '-',\n",
    "    'alpha': 0.2\n",
    "}\n",
    "ax.vlines(ncell_vec/ncell_tot, ymin, ymax, zorder=-1, **grid_style)\n",
    "ax.hlines(slice_left_all/ncell_tot, xmin, xmax, zorder=-1, **grid_style)\n",
    "sl_constraint = 1-(ncell_vec/ncell_tot)\n",
    "# ax.plot(ncell_vec/ncell_tot, sl_constraint)\n",
    "ax.fill_between(ncell_vec/ncell_tot, np.repeat(1, ncell_vec.size), sl_constraint, where=(1 > sl_constraint), color='gray', alpha=1, label='Shaded Area')"
   ]
  },
  {
   "cell_type": "code",
   "execution_count": null,
   "id": "d83318d2-3357-4abf-b3ee-a236fc9b4315",
   "metadata": {
    "tags": []
   },
   "outputs": [],
   "source": [
    "fig, ax = plt.subplots(1, figsize=(11,7))\n",
    "# colormap = copy.copy(cm.RdPu_r)\n",
    "# colormap = copy.copy(cm.PuBu_r)\n",
    "colormap = copy.copy(cm.copper)\n",
    "vmin = 0; vmax = 0.6\n",
    "normalize = colors.Normalize(vmin=vmin, vmax=vmax)\n",
    "C_i = 9\n",
    "markers = ['o', '^']\n",
    "res_labs = [f'$<{metric}>_{{meta}}$', f'$P(<{metric}>_k \\geq 0.5)$']\n",
    "for res_i, results_pre in enumerate(['meta_mean_results', 'gte_thresh_results']):\n",
    "    set_globals(results_pre)\n",
    "    maxrob = np.load(fn_prefix + \"maxrob.npy\")\n",
    "    argmaxrob = np.load(fn_prefix + \"argmaxrob.npy\")\n",
    "    rob_thresh_vec = np.load(fn_prefix + \"rob_thresh_vec.npy\")\n",
    "    \n",
    "    opt_ncell = np.ones_like(rob_thresh_vec) * np.nan\n",
    "    opt_sl = np.ones_like(rob_thresh_vec) * np.nan\n",
    "    # max_target= np.ones_like(rob_thresh_vec) * np.nan\n",
    "    for thresh_i, thresh in enumerate(rob_thresh_vec):\n",
    "        if maxrob[thresh_i, C_i] < 1:\n",
    "            # max_target[thresh_i] = maxrob[thresh_i, C_i]\n",
    "            opt_ncell[thresh_i] = ncell_vec[int(argmaxrob[thresh_i, C_i][0])]\n",
    "            opt_sl[thresh_i] = slice_left_all[int(argmaxrob[thresh_i, C_i][1])]\n",
    "    opt_ncell = opt_ncell / ncell_tot\n",
    "    opt_sl = opt_sl / ncell_tot\n",
    "    ax.plot(maxrob[:, C_i], opt_ncell, c='k', zorder=-1)\n",
    "    scatter = ax.scatter(maxrob[:, C_i], opt_ncell, cmap=colormap, norm=normalize, c=opt_sl, marker=markers[res_i])\n",
    "    ax.scatter([], [], c='k', marker=markers[res_i], label=res_labs[res_i])\n",
    "    # scatter = ax.scatter(opt_ncell/ncell_tot, opt_sl/ncell_tot, cmap=colormap, norm=normalize, c=maxrob[:, C_i])\n",
    "cbar = fig.colorbar(scatter, ax=ax, location=\"right\", shrink=0.8)\n",
    "cbar.set_label(fr\"optimal $sl$\", rotation=-90, labelpad=30)\n",
    "ax.set_ylabel(fr\"optimal $n_{{cell}}$\")\n",
    "ax.set_xlabel(r\"$\\omega$ requirement\")\n",
    "ax.legend()"
   ]
  },
  {
   "cell_type": "code",
   "execution_count": null,
   "id": "b7c66a03-45db-49c8-aebc-ced374d3d63e",
   "metadata": {
    "tags": []
   },
   "outputs": [],
   "source": [
    "cbar_labels = [fr\"optimal range fraction for intervention\",\n",
    "               fr\"optimal slice left for intervention\"]\n",
    "for opt_i in range(2):\n",
    "    fig, ax = plt.subplots(1, figsize=(11,7))\n",
    "    colormap = copy.copy(cm.RdPu_r)\n",
    "    if opt_i == 0:\n",
    "        vmax = 1; vmin = 0\n",
    "    else:\n",
    "        # vmax = max(slice_left_all); vmin = min(slice_left_all)\n",
    "        # vmax = slice_left_all[np.nanmax(argmaxrob[:,9,1]).astype(int)] / ncell_tot; vmin=0\n",
    "        vmax = 1; vmin = 0\n",
    "    normalize = colors.Normalize(vmin=vmin, vmax=vmax)\n",
    "\n",
    "    all_markers = ['o','^','s','D']\n",
    "    all_linestyles = ['dotted', 'dashdot', 'dashed', 'solid']\n",
    "    C_i = 9\n",
    "    # for line_i, C_i in enumerate(C_i_samples):\n",
    "    for res_i, results_pre in enumerate(['meta_mean_results', 'gte_thresh_results']):\n",
    "        set_globals(results_pre)\n",
    "        maxrob = np.load(fn_prefix + \"maxrob.npy\")\n",
    "        argmaxrob = np.load(fn_prefix + \"argmaxrob.npy\")\n",
    "        rob_thresh_vec = np.load(fn_prefix + \"rob_thresh_vec.npy\")\n",
    "        \n",
    "        plot_vec = np.ones(len(rob_thresh_vec)) * np.nan\n",
    "        c_vec = np.ones(len(rob_thresh_vec)) * np.nan\n",
    "        for thresh_i, thresh in enumerate(rob_thresh_vec):\n",
    "            if thresh_i % 2 == 0: continue\n",
    "            # Get the maximum robustness across (ncell, sl) at this C \n",
    "            if maxrob[thresh_i, C_i] < 1:\n",
    "                plot_vec[thresh_i] = maxrob[thresh_i, C_i]\n",
    "            if not np.isnan(plot_vec[thresh_i]):\n",
    "                if opt_i == 0:\n",
    "                    c_vec[thresh_i] = ncell_vec[int(argmaxrob[thresh_i, C_i][opt_i])] / ncell_tot\n",
    "                else:\n",
    "                    c_vec[thresh_i] = slice_left_all[int(argmaxrob[thresh_i, C_i][opt_i])] / ncell_tot\n",
    "        scatter = ax.scatter(plot_vec, rob_thresh_vec, cmap=colormap, norm=normalize,\n",
    "                            c=c_vec, marker=all_markers[res_i])#, s=60)\n",
    "        ax.scatter([], [], label=fr\"{metric_lab}\", \n",
    "                   s=60, c='black', marker=all_markers[res_i])\n",
    "    cbar = fig.colorbar(scatter, ax=ax, location=\"right\", shrink=0.8)\n",
    "    cbar.set_label(cbar_labels[opt_i], rotation=-90, labelpad=30)\n",
    "    ax.set_xlabel(fr\"$\\omega$ requirement\")\n",
    "    ax.set_ylabel(fr\"max(target meta metric)\")\n",
    "    ax.legend()\n",
    "    # ax.axvline(0.5, ls='--', c='k', lw=5)\n",
    "    # fn = fig_prefix + f\"/maxrob_{opt_i}.png\"\n",
    "    # fig.savefig(fn, bbox_inches='tight')"
   ]
  },
  {
   "cell_type": "markdown",
   "id": "2160faea-1956-40b9-9ac7-7bbe07aa36b4",
   "metadata": {
    "jp-MarkdownHeadingCollapsed": true,
    "tags": []
   },
   "source": [
    "### $\\epsilon$ correlations"
   ]
  },
  {
   "cell_type": "code",
   "execution_count": null,
   "id": "4c89dfad-4f62-445a-89e3-03f9e23e1114",
   "metadata": {
    "tags": []
   },
   "outputs": [],
   "source": [
    "fig, ax = plt.subplots(1, figsize=(8,6))\n",
    "C_i = 9\n",
    "num_eps = len(eps_axes.items())\n",
    "eps_labels = [\"|$\\mu_T$|\", \"$|\\mu_{\\hat{T}}|$\", \"$\\sigma_T$\", \"$\\sigma_{\\hat{T}}$\"]\n",
    "color_vec = ['#66CCEE', '#EE6677', '#4477AA', '#AA3377']\n",
    "for eps_ax_i, eps_ax in enumerate(eps_axes.values()):\n",
    "    plot_vec = np.ones(ncell_vec.size) * np.nan\n",
    "    for ncell_i, ncell in enumerate(ncell_vec):\n",
    "        all_x = []\n",
    "        all_y = []\n",
    "        for eps_val_i, eps_val in enumerate(eps_ax):\n",
    "            eps_slice = tuple([slice(None) if i != eps_ax_i else eps_val_i for i in range(num_eps)])\n",
    "            full_slice = eps_slice + (C_i, ncell_i, slice(None))\n",
    "            phase_slice = phase_full[full_slice]\n",
    "            flat_nonan = phase_slice.ravel()[~np.isnan(phase_slice.ravel())]\n",
    "            all_y.append(flat_nonan.tolist())\n",
    "            all_x.append(np.repeat(np.abs(eps_val), len(flat_nonan)).tolist())\n",
    "        spear = scipy.stats.spearmanr(a=np.array(all_x).flatten(), b=np.array(all_y).flatten())\n",
    "        plot_vec[ncell_i] = spear.statistic\n",
    "    ax.plot(ncell_vec/ncell_tot, plot_vec, label=eps_labels[eps_ax_i], marker='o', color=color_vec[eps_ax_i])\n",
    "ax.axhline(0, ls='--', c='k')\n",
    "ax.legend()\n",
    "ax.set_xlim(0, 1)\n",
    "ax.set_xlabel(r\"fraction of species range where $\\tau$ altered\")\n",
    "ax.set_ylabel(rf\"{metric_lab} correlation to $\\epsilon$ axes\")\n",
    "ax.set_title(fr\"$C~/~k_{{max}}=${np.round(C_vec[C_i]/ncell_tot, 1)}\")\n",
    "fn = fig_prefix + f\"epscorr.png\"\n",
    "fig.savefig(fn, bbox_inches='tight')"
   ]
  },
  {
   "cell_type": "markdown",
   "id": "f5843c44-fd93-416e-8194-6575b5e5b859",
   "metadata": {
    "jp-MarkdownHeadingCollapsed": true,
    "tags": []
   },
   "source": [
    "### $\\text{max}(<\\text{metric}_{meta}>$ under $\\epsilon=0$"
   ]
  },
  {
   "cell_type": "code",
   "execution_count": null,
   "id": "40e157d4-fa6e-499a-b8f9-c97a8d43f383",
   "metadata": {
    "tags": []
   },
   "outputs": [],
   "source": [
    "with h5py.File(fn_prefix + \"/phase_flat.h5\", \"r\") as phase_handle:\n",
    "    data_key = \"0.0/0.0/0.0/0.0/phase\"\n",
    "    phase_slice_zeroeps = phase_handle[data_key][:]\n",
    "    nochange_zeroeps = phase_handle[\"0.0/0.0/0.0/0.0/metric_nochange\"][()]"
   ]
  },
  {
   "cell_type": "code",
   "execution_count": null,
   "id": "9b04f5b1-1571-4878-ab84-8d89bef94613",
   "metadata": {
    "tags": []
   },
   "outputs": [],
   "source": [
    "fig, ax = plt.subplots(1, figsize=(11,8))\n",
    "\n",
    "plot_vec = np.ones_like(C_vec) * np.nan\n",
    "c_vec = np.ones_like(C_vec) * np.nan\n",
    "for C_i, C in enumerate(C_vec):\n",
    "    argmax = np.nanargmax(phase_slice_zeroeps[C_i, :, :])\n",
    "    optimal_param_i = np.unravel_index(argmax, phase_slice_zeroeps.shape[1:])\n",
    "    # print(C_i, optimal_param_i)\n",
    "    plot_vec[C_i] = phase_slice_zeroeps[C_i, optimal_param_i[0], optimal_param_i[1]]\n",
    "    c_vec[C_i] = ncell_vec[optimal_param_i[0]]\n",
    "c_vec = c_vec / ncell_tot\n",
    "vmax = np.nanmax(c_vec); vmin = np.nanmin(c_vec)\n",
    "vmin = 0; vmax = 1\n",
    "vmin = min(ncell_vec) / ncell_tot; vmax = max(ncell_vec) / ncell_tot\n",
    "norm = colors.Normalize(vmin=vmin, vmax=vmax)\n",
    "colormap = copy.copy(cm.RdPu_r)\n",
    "sm = cm.ScalarMappable(cmap=colormap, norm=norm)\n",
    "bar_colors = colormap(norm(c_vec))\n",
    "bar = ax.bar(np.arange(C_vec.size), plot_vec, color=bar_colors)\n",
    "cbar = plt.colorbar(sm, label='Color Scale Value', ax=ax)\n",
    "cbar.set_label(fr\"optimal fraction of range for intervention\", rotation=-90, labelpad=30)\n",
    "ax.set_ylim(nochange_zeroeps, 1.05*np.max(plot_vec))\n",
    "ax.set_ylabel(fr\"$\\text{{max}}(${metric_lab}$)$\")\n",
    "xtick_spacing = 1\n",
    "xticks = np.arange(0, len(C_vec), xtick_spacing)\n",
    "ax.set_xticks(xticks, labels=np.round((C_vec/(ncell_tot))[::xtick_spacing], 1));\n",
    "ax.set_xlabel(r\"shift in $\\tau$ per cell if spread across entire range $({C}~/~{k_{max}})$\")\n",
    "\n",
    "fn = fig_prefix + f\"maxmetric_C_zeroeps.png\"\n",
    "fig.savefig(fn, bbox_inches='tight')"
   ]
  },
  {
   "cell_type": "markdown",
   "id": "f4237536-ac82-4f5e-914a-65b5c0bdf63e",
   "metadata": {
    "jp-MarkdownHeadingCollapsed": true,
    "tags": []
   },
   "source": [
    "### Visualize fire regime change"
   ]
  },
  {
   "cell_type": "code",
   "execution_count": null,
   "id": "ce396d68-9676-4b5f-a06e-492bef9ad9fc",
   "metadata": {
    "tags": []
   },
   "outputs": [],
   "source": [
    "# Read in maps and convert fdm to tau\n",
    "ul_coord = [1500, 2800]\n",
    "lr_coord = [2723, 3905]\n",
    "usecols = np.arange(ul_coord[0],lr_coord[0])\n",
    "sdmfn = \"../shared_maps/SDM_1995.asc\"\n",
    "sdm = np.loadtxt(sdmfn,skiprows=6+ul_coord[1],\n",
    "                         max_rows=lr_coord[1], usecols=usecols)\n",
    "fdmfn = '../shared_maps/FDE_current_allregions.asc'\n",
    "fdm = np.loadtxt(fdmfn,skiprows=6+ul_coord[1], \n",
    "                         max_rows=lr_coord[1], usecols=usecols)\n",
    "sdm, fdm = adjustmaps([sdm, fdm])\n",
    "delta_t = 30\n",
    "b_raster = delta_t / np.power(-np.log(1-fdm), 1/c)\n",
    "tau_raster = b_raster * gamma(1+1/c)\n",
    "maps_filt = (sdm > 0) & (fdm > 0)\n",
    "tau_flat = tau_raster[maps_filt] #+ (max(C_vec)/ncell_tot)\n",
    "tau_flat[tau_flat > max(tau_vec)] = max(tau_vec)\n",
    "tau_argsort = np.argsort(tau_flat)"
   ]
  },
  {
   "cell_type": "markdown",
   "id": "8a0c9642-5927-4c3b-9929-2baad3f9307a",
   "metadata": {
    "jp-MarkdownHeadingCollapsed": true,
    "tags": []
   },
   "source": [
    "#### Shift examples"
   ]
  },
  {
   "cell_type": "code",
   "execution_count": null,
   "id": "99273f99-f03f-47a7-822c-1a6187396764",
   "metadata": {
    "tags": []
   },
   "outputs": [],
   "source": [
    "figsize = (9,6)\n",
    "fig, ax = plt.subplots(1, figsize=figsize)\n",
    "tau_max = 80\n",
    "color = 'orangered'\n",
    "tau_step = np.diff(tau_vec)[0] / 2\n",
    "tau_edges = np.concatenate(([0], np.arange(tau_step/2, tau_vec[-1]+tau_step, tau_step)))\n",
    "ax.hist(tau_flat, bins=tau_edges, color=color, histtype='step', lw=3.5); \n",
    "ncell = 50_000\n",
    "# ncell = 19_000\n",
    "sl = 11_000\n",
    "tau_slice = tau_flat[tau_argsort][sl:sl+ncell]\n",
    "ax.hist(tau_slice, bins=tau_edges, color=color, alpha=0.5);\n",
    "ax.set_yticks([])\n",
    "ax.set_ylabel(r\"$\\tau$ prevalence within species range\")\n",
    "ax.set_xlabel(r\"$\\tau$\")\n",
    "ax.set_xlim(15, tau_max);\n",
    "# fn = f\"figs/Aeff_{Aeff}/tfinal_{t_final}/metric_{metric}/maxmetric_C_zeroeps.png\"\n",
    "fn = f\"{results_pre}/figs/taudist_preshift_{ncell}.png\"\n",
    "fig.savefig(fn, bbox_inches='tight')\n",
    "\n",
    "fig, ax = plt.subplots(1, figsize=figsize)\n",
    "tauc = max(C_vec) / ncell\n",
    "tau_shifted = tau_flat[tau_argsort].copy()\n",
    "tau_shifted[sl:sl+ncell] += tauc\n",
    "ax.hist(tau_shifted, bins=tau_edges, color=color, histtype='step', lw=3.5); \n",
    "ax.hist(tau_slice+tauc, bins=tau_edges, color=color, alpha=0.5);\n",
    "ax.set_yticks([])\n",
    "ax.set_ylabel(r\"$\\tau$ prevalence within species range\")\n",
    "ax.set_xlabel(r\"$\\tau$\")\n",
    "ax.set_xlim(15, tau_max);\n",
    "fn = f\"{results_pre}/figs/taudist_postshift_{ncell}.png\"\n",
    "fig.savefig(fn, bbox_inches='tight')"
   ]
  },
  {
   "cell_type": "code",
   "execution_count": null,
   "id": "88dab2aa-eded-4963-b16c-094847c681b8",
   "metadata": {
    "tags": []
   },
   "outputs": [],
   "source": [
    "# Make Bspline interpolation for <metric>\n",
    "metric_expect_vec = np.ones(tau_vec.size) * np.nan\n",
    "for tau_i, tau in enumerate(tau_vec):\n",
    "    tau_filt = (all_tau == tau)\n",
    "    metric_slice = all_metric[tau_filt]\n",
    "    metric_expect_vec[tau_i] = np.mean(metric_slice)\n",
    "t = tau_vec[2:-2:1] \n",
    "k = 3\n",
    "t = np.r_[(0,)*(k+1), t, (tau_vec[-1],)*(k+1)]\n",
    "spl = make_lsq_spline(tau_vec[1:], metric_expect_vec[1:], t, k)\n",
    "\n",
    "# Vizualise distribution of $<\\text{metric}>$\n",
    "figsize = (9,6)\n",
    "fig, ax = plt.subplots(1, figsize=figsize)\n",
    "color = 'limegreen'\n",
    "mlab = \"$<P_s>_k$\"\n",
    "ax.hist(spl(tau_flat[tau_flat < tau_max]), bins=120, color=color, histtype='step', lw=3.5); \n",
    "ax.set_yticks([])\n",
    "ax.set_ylabel(rf\"{mlab} frequency\")\n",
    "ax.set_xlabel(rf\"{mlab}\")\n",
    "fn = fig_prefix + f\"metricdist_preshift_{ncell}.png\"\n",
    "fig.savefig(fn, bbox_inches='tight')\n",
    "\n",
    "fig, ax = plt.subplots(1, figsize=figsize)\n",
    "ax.hist(spl(tau_shifted[tau_shifted < tau_max]), bins=120, color=color, histtype='step', lw=3.5); \n",
    "ax.set_yticks([])\n",
    "ax.set_ylabel(rf\"{mlab} frequency\")\n",
    "ax.set_xlabel(rf\"{mlab}\")\n",
    "fn = fig_prefix + f\"/metricdist_postshift_{ncell}.png\"\n",
    "fig.savefig(fn, bbox_inches='tight')"
   ]
  },
  {
   "cell_type": "markdown",
   "id": "e1f5f023-fba0-45e2-b01a-71f9ac7273fd",
   "metadata": {
    "tags": []
   },
   "source": [
    "#### Map change optimizing $\\omega$ instead of $\\text{metric}_\\text{meta}$"
   ]
  },
  {
   "cell_type": "code",
   "execution_count": null,
   "id": "dbbcaec8-e349-4cf3-9b42-21ad11fdea7e",
   "metadata": {
    "tags": []
   },
   "outputs": [],
   "source": [
    "mapindices = np.argwhere(maps_filt)\n",
    "C_i = 9\n",
    "num_samples = 5\n",
    "\n",
    "flat = phase_slice_zeroeps[C_i].ravel()\n",
    "non_nan_i = np.where(~np.isnan(flat))[0]\n",
    "flat_sort = non_nan_i[np.argsort(flat[non_nan_i])]\n",
    "phase_sorted_i = np.unravel_index(flat_sort, phase_slice_zeroeps[C_i].shape)\n",
    "phase_sorted_i = list((zip(phase_sorted_i[0], phase_sorted_i[1])))\n",
    "tot_samples = len(phase_sorted_i)\n",
    "# num_samples = int(tot_samples * 0.025)\n",
    "print(num_samples)\n",
    "print(phase_sorted_i[-num_samples:])\n",
    "tot_tauc_k = np.zeros(maps_filt.shape)\n",
    "n_k = np.zeros(maps_filt.shape)\n",
    "tauc_relative = np.zeros(maps_filt.shape)\n",
    "for i in range(tot_samples - num_samples, tot_samples):\n",
    "    ncell = ncell_vec[phase_sorted_i[i][0]]\n",
    "    sl = slice_left_all[phase_sorted_i[i][1]]\n",
    "    map_slice = mapindices[tau_argsort][sl:sl+ncell]\n",
    "    for map_i in map_slice:\n",
    "        tot_tauc_k[map_i[0],map_i[1]] += (C_vec[C_i] / ncell)\n",
    "        n_k[map_i[0],map_i[1]] += 1\n",
    "        tauc_relative[map_i[0],map_i[1]] += (C_vec[C_i] / ncell) / tau_raster[map_i[0],map_i[1]]\n",
    "avg_tauc_k = tot_tauc_k / n_k\n",
    "tauc_relative = tauc_relative / n_k\n",
    "np.save(fn_prefix + 'avg_tauc_k.npy', avg_tauc_k)\n",
    "np.save(fn_prefix + 'tauc_relative.npy', tauc_relative)\n",
    "\n",
    "target = 0.5\n",
    "target_i = np.argmin(np.abs(rob_thresh_vec - target))\n",
    "target = rob_thresh_vec[target_i]\n",
    "flat = allrob[target_i, C_i].ravel()\n",
    "non_nan_i = np.where(~np.isnan(flat))[0]\n",
    "flat_sort = non_nan_i[np.argsort(flat[non_nan_i])]\n",
    "rob_sorted_i = np.unravel_index(flat_sort, allrob[target_i, C_i].shape)\n",
    "rob_sorted_i = list((zip(rob_sorted_i[0], rob_sorted_i[1])))\n",
    "tot_samples = len(rob_sorted_i)\n",
    "# num_samples = int(tot_samples * 0.05)\n",
    "print(num_samples)\n",
    "print(rob_sorted_i[-num_samples:])\n",
    "tot_tauc_k_rob = np.zeros(maps_filt.shape)\n",
    "n_k_rob = np.zeros(maps_filt.shape)\n",
    "tauc_relative_rob = np.zeros(maps_filt.shape)\n",
    "for i in range(tot_samples - num_samples, tot_samples):\n",
    "    ncell = ncell_vec[rob_sorted_i[i][0]]\n",
    "    sl = slice_left_all[rob_sorted_i[i][1]]\n",
    "    map_slice = mapindices[tau_argsort][sl:sl+ncell]\n",
    "    for map_i in map_slice:\n",
    "        tot_tauc_k_rob[map_i[0],map_i[1]] += (C_vec[C_i] / ncell)\n",
    "        n_k_rob[map_i[0],map_i[1]] += 1\n",
    "        tauc_relative_rob[map_i[0],map_i[1]] += (C_vec[C_i] / ncell) / tau_raster[map_i[0],map_i[1]]\n",
    "avg_tauc_k_rob = tot_tauc_k_rob / n_k_rob\n",
    "tauc_relative_rob = tauc_relative_rob / n_k_rob\n",
    "np.save(fn_prefix + 'avg_tauc_k_rob.npy', avg_tauc_k_rob)\n",
    "np.save(fn_prefix + 'tauc_relative_rob.npy', tauc_relative_rob)"
   ]
  },
  {
   "cell_type": "code",
   "execution_count": null,
   "id": "9bb440c5-a585-4488-864f-0e6ff5fa4645",
   "metadata": {},
   "outputs": [],
   "source": [
    "[(7, 17), (8, 14), (8, 15), (8, 17), (8, 16)]"
   ]
  },
  {
   "cell_type": "code",
   "execution_count": null,
   "id": "18b00c9c-edc2-47ca-bc9f-33fd6f38719c",
   "metadata": {
    "tags": []
   },
   "outputs": [],
   "source": [
    "figsize = (9,6)\n",
    "fig, ax = plt.subplots(1, figsize=figsize)\n",
    "tau_max = 80\n",
    "\n",
    "ax.hist(tau_flat, bins=tau_edges, color='orangered', histtype='step', lw=3.5); \n",
    "\n",
    "ncell_i, sl_i = phase_sorted_i[-1]\n",
    "ncell = ncell_vec[ncell_i]\n",
    "sl = slice_left_all[sl_i]\n",
    "tau_slice = tau_flat[tau_argsort][sl:sl+ncell]\n",
    "ax.hist(tau_slice, bins=tau_edges, color='red', alpha=0.5,\n",
    "        label=rf'optimizing {metric_lab}');\n",
    "\n",
    "ncell_i, sl_i = rob_sorted_i[-1]\n",
    "ncell = ncell_vec[ncell_i]\n",
    "sl = slice_left_all[sl_i]\n",
    "tau_slice = tau_flat[tau_argsort][sl:sl+ncell]\n",
    "ax.hist(tau_slice, bins=tau_edges, color='blue', alpha=0.5, \n",
    "        label=rf'optimizing $\\omega$ at {metric_lab}$=${np.round(target, 2)}');\n",
    "\n",
    "ax.set_yticks([])\n",
    "ax.set_ylabel(r\"$\\tau$ prevalence within species range\")\n",
    "ax.set_xlabel(r\"$\\tau$\")\n",
    "ax.set_xlim(15, tau_max);\n",
    "ax.legend()\n",
    "fn = fig_prefix + f\"optimization_diff.png\"\n",
    "fig.savefig(fn, bbox_inches='tight')"
   ]
  },
  {
   "cell_type": "code",
   "execution_count": null,
   "id": "f4831d2b-8dfc-484c-aa14-69f5453d8b5b",
   "metadata": {
    "tags": []
   },
   "outputs": [],
   "source": [
    "fig, ax = plt.subplots(1, figsize=(10,10))\n",
    "\n",
    "# First replace nans with 0 so we can subtract\n",
    "imshow_mat = np.where(np.isnan(tauc_relative_rob), 0, tauc_relative_rob) - np.where(np.isnan(tauc_relative), 0, tauc_relative)\n",
    "# Now make pixels not in either map nan\n",
    "nan_pixel_filt = np.isnan(tauc_relative_rob) & np.isnan(tauc_relative)\n",
    "imshow_mat[nan_pixel_filt] = np.nan\n",
    "# Multiply by 100 to get % change\n",
    "imshow_mat = imshow_mat * 100\n",
    "# Crop out border where all nans\n",
    "nonzero_indices = np.nonzero(~np.isnan(imshow_mat))\n",
    "row_min, row_max = nonzero_indices[0].min(), nonzero_indices[0].max()\n",
    "col_min, col_max = nonzero_indices[1].min(), nonzero_indices[1].max()\n",
    "imshow_mat = imshow_mat[row_min:row_max + 1, col_min:col_max + 1]\n",
    "\n",
    "vmin = np.nanmin(imshow_mat); vmax = np.nanmax(imshow_mat)\n",
    "vlim = max([np.abs(extrema) for extrema in [vmin, vmax]])\n",
    "center = 0\n",
    "cmap = cm.PuOr.copy()\n",
    "# cmap = cm.PiYG.copy()\n",
    "norm = colors.TwoSlopeNorm(vmin=-vlim, vcenter=center, vmax=vlim)\n",
    "cmap.set_bad(color='black', alpha=0.3)\n",
    "imshow = ax.imshow(imshow_mat, cmap=cmap, norm=norm)\n",
    "cbar = fig.colorbar(imshow, ax=ax, location=\"right\", shrink=0.8)\n",
    "ax.set_xlabel(fr\"% change in $\\tau$ optimizing robustness instead of stability\")\n",
    "ax.set_xticks([])\n",
    "ax.set_yticks([])\n",
    "fn = fig_prefix + f\"map_example_1.png\"\n",
    "fig.savefig(fn, bbox_inches='tight')"
   ]
  },
  {
   "cell_type": "code",
   "execution_count": null,
   "id": "293ffe1b-b722-41bf-ae91-411b8a6986f7",
   "metadata": {
    "tags": []
   },
   "outputs": [],
   "source": [
    "fig, ax = plt.subplots(1, figsize=(10,10))\n",
    "\n",
    "# First replace nans with 0 so we can subtract\n",
    "imshow_mat = np.where(np.isnan(avg_tauc_k_rob), 0, avg_tauc_k_rob) - np.where(np.isnan(avg_tauc_k), 0, avg_tauc_k)\n",
    "# Now make pixels not in either map nan\n",
    "nan_pixel_filt = np.isnan(avg_tauc_k_rob) & np.isnan(avg_tauc_k)\n",
    "imshow_mat[nan_pixel_filt] = np.nan\n",
    "# Crop out border where all nans\n",
    "nonzero_indices = np.nonzero(~np.isnan(imshow_mat))\n",
    "row_min, row_max = nonzero_indices[0].min(), nonzero_indices[0].max()\n",
    "col_min, col_max = nonzero_indices[1].min(), nonzero_indices[1].max()\n",
    "imshow_mat = imshow_mat[row_min:row_max + 1, col_min:col_max + 1]\n",
    "\n",
    "vmin = np.nanmin(imshow_mat); vmax = np.nanmax(imshow_mat)\n",
    "vlim = max([np.abs(extrema) for extrema in [vmin, vmax]])\n",
    "center = 0\n",
    "cmap = cm.PuOr.copy()\n",
    "# cmap = cm.PiYG.copy()\n",
    "norm = colors.TwoSlopeNorm(vmin=-vlim, vcenter=center, vmax=vlim)\n",
    "cmap.set_bad(color='black', alpha=0.3)\n",
    "imshow = ax.imshow(imshow_mat, cmap=cmap, norm=norm)\n",
    "cbar = fig.colorbar(imshow, ax=ax, location=\"right\", shrink=0.8)\n",
    "ax.set_xlabel(fr\"Change in $\\hat{{\\tau}}$ optimizing robustness instead of stability\")\n",
    "ax.set_xticks([])\n",
    "ax.set_yticks([])\n",
    "fn = fig_prefix + f\"map_example.png\"\n",
    "fig.savefig(fn, bbox_inches='tight')"
   ]
  },
  {
   "cell_type": "code",
   "execution_count": null,
   "id": "a96a6fcf-7d98-4014-9d0d-205df1ee7d6a",
   "metadata": {
    "tags": []
   },
   "outputs": [],
   "source": [
    "fig, ax = plt.subplots(1, figsize=(10,10))\n",
    "imshow_mat = np.where(maps_filt, tau_raster, np.nan)\n",
    "# ax.imshow(imshow_mat, norm=colors.LogNorm(vmin=np.nanmin(imshow_mat), vmax=np.nanmax(imshow_mat)-160))\n",
    "ax.imshow(np.where(maps_filt, fdm, np.nan))"
   ]
  },
  {
   "cell_type": "code",
   "execution_count": null,
   "id": "90312492-b47e-417d-bc72-5464364c638a",
   "metadata": {
    "tags": []
   },
   "outputs": [],
   "source": [
    "plt.hist(np.where(maps_filt, fdm, np.nan).ravel(), bins=30);"
   ]
  },
  {
   "cell_type": "markdown",
   "id": "e5c0aeac-781f-4158-a789-887f89590509",
   "metadata": {
    "jp-MarkdownHeadingCollapsed": true,
    "tags": []
   },
   "source": [
    "### Map change in optimal strategies between results"
   ]
  },
  {
   "cell_type": "code",
   "execution_count": null,
   "id": "b5b6406e-fc42-4491-a3dd-f7ae5885490e",
   "metadata": {
    "tags": []
   },
   "outputs": [],
   "source": [
    "fn = f\"meta_mean_results/data/Aeff_{Aeff}/tfinal_{t_final}/metric_{metric}/avg_tauc_k_rob.npy\"\n",
    "avg_tauc_k_rob_mmean = np.load(fn)\n",
    "fn = f\"gte_thresh_results/data/Aeff_{Aeff}/tfinal_{t_final}/metric_{metric}/avg_tauc_k_rob.npy\"\n",
    "avg_tauc_k_rob_gtet = np.load(fn)\n",
    "\n",
    "fig, ax = plt.subplots(1, figsize=(10,10))\n",
    "\n",
    "# First replace nans with 0 so we can subtract\n",
    "imshow_mat = np.where(np.isnan(avg_tauc_k_rob_gtet), 0, avg_tauc_k_rob_gtet) - np.where(np.isnan(avg_tauc_k_rob_mmean), 0, avg_tauc_k_rob_mmean)\n",
    "# Now make pixels not in either map nan\n",
    "nan_pixel_filt = np.isnan(avg_tauc_k_rob_gtet) & np.isnan(avg_tauc_k_rob_mmean)\n",
    "imshow_mat[nan_pixel_filt] = np.nan\n",
    "# Crop out border where all nans\n",
    "nonzero_indices = np.nonzero(~np.isnan(imshow_mat))\n",
    "row_min, row_max = nonzero_indices[0].min(), nonzero_indices[0].max()\n",
    "col_min, col_max = nonzero_indices[1].min(), nonzero_indices[1].max()\n",
    "imshow_mat = imshow_mat[row_min:row_max + 1, col_min:col_max + 1]\n",
    "\n",
    "vmin = np.nanmin(imshow_mat); vmax = np.nanmax(imshow_mat)\n",
    "center = 0\n",
    "cmap = cm.PuOr.copy()\n",
    "# cmap = cm.PiYG.copy()\n",
    "norm = colors.TwoSlopeNorm(vmin=vmin, vcenter=center, vmax=vmax)\n",
    "cmap.set_bad(color='black', alpha=0.3)\n",
    "imshow = ax.imshow(imshow_mat, cmap=cmap, norm=norm)\n",
    "cbar = fig.colorbar(imshow, ax=ax, location=\"right\", shrink=0.8)\n",
    "ax.set_xlabel(fr\"Change in $\\hat{{\\tau}}$ gte thresh minus mean\")\n",
    "ax.set_xticks([])\n",
    "ax.set_yticks([])\n",
    "# fn = fig_prefix + f\"map_example.png\"\n",
    "# fig.savefig(fn, bbox_inches='tight')"
   ]
  },
  {
   "cell_type": "markdown",
   "id": "ccda1a64-4535-475b-b7d1-f036fa594ea6",
   "metadata": {
    "jp-MarkdownHeadingCollapsed": true,
    "tags": []
   },
   "source": [
    "### Visualize $P(\\text{metric}|\\tau)$"
   ]
  },
  {
   "cell_type": "code",
   "execution_count": null,
   "id": "0f5b34dd-9e3b-408e-b757-66089de89453",
   "metadata": {
    "tags": []
   },
   "outputs": [],
   "source": [
    "metric_edges = np.linspace(0, 1, 50)\n",
    "metric_hist = np.histogram2d(all_tau, all_metric, bins=[tau_edges[::2], metric_edges], density=False)\n",
    "fig, ax = plt.subplots(figsize=(10,8))\n",
    "cmap = copy.copy(cm.YlGn)\n",
    "cmap.set_bad(cmap(0.0))\n",
    "imshow_mat = np.flip(np.transpose(metric_hist[0]), axis=0)\n",
    "samples_per_tau = int(len(all_metric)/len(b_vec))\n",
    "imshow_mat = imshow_mat / samples_per_tau\n",
    "smoothed = scipy.ndimage.gaussian_filter(imshow_mat, sigma=0.125)\n",
    "im = ax.imshow(imshow_mat, cmap=cmap,\n",
    "              norm=colors.LogNorm(vmax=1), interpolation=\"nearest\")\n",
    "cbar = ax.figure.colorbar(im, ax=ax, location=\"right\", shrink=0.6)\n",
    "cbar.ax.set_ylabel(rf'Frequency of $P_s$ given ${{\\tau}}$', \n",
    "                   rotation=-90, labelpad=20)\n",
    "ytick_spacing = 10\n",
    "ytick_labels = np.flip(metric_hist[2])[::ytick_spacing]\n",
    "yticks = np.arange(0,len(metric_hist[2]),ytick_spacing)\n",
    "ax.set_yticks(yticks, labels=np.round(ytick_labels, decimals=1));\n",
    "ax.set_ylabel(rf'$P_s$')\n",
    "xtick_spacing = 10\n",
    "xtick_labels = np.round(metric_hist[1][::xtick_spacing],1)\n",
    "xticks = np.arange(0,len(metric_hist[1]),xtick_spacing)\n",
    "ax.set_xticks(xticks, labels=xtick_labels);\n",
    "ax.set_xlabel(r'$\\tau$')\n",
    "ax.set_xlim(1, imshow_mat.shape[1]-1)\n",
    "fn = fig_prefix + f\"Pmetric_given_tau.png\"\n",
    "fig.savefig(fn, bbox_inches='tight')"
   ]
  },
  {
   "cell_type": "code",
   "execution_count": null,
   "id": "5d624882-8446-48cc-88af-838899b0d517",
   "metadata": {},
   "outputs": [],
   "source": []
  }
 ],
 "metadata": {
  "kernelspec": {
   "display_name": "Python [conda env:sbi_env]",
   "language": "python",
   "name": "conda-env-sbi_env-py"
  },
  "language_info": {
   "codemirror_mode": {
    "name": "ipython",
    "version": 3
   },
   "file_extension": ".py",
   "mimetype": "text/x-python",
   "name": "python",
   "nbconvert_exporter": "python",
   "pygments_lexer": "ipython3",
   "version": "3.11.7"
  }
 },
 "nbformat": 4,
 "nbformat_minor": 5
}
