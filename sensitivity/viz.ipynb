{
 "cells": [
  {
   "cell_type": "code",
   "execution_count": 1,
   "id": "6c8b2da8-68b7-4f4e-becd-709b8210d6a8",
   "metadata": {
    "tags": []
   },
   "outputs": [],
   "source": [
    "import numpy as np\n",
    "from matplotlib import colors\n",
    "from matplotlib import cm\n",
    "from matplotlib import pyplot as plt\n",
    "from matplotlib import rc\n",
    "from matplotlib.gridspec import GridSpec\n",
    "import pickle\n",
    "import signac as sg\n",
    "from scipy.special import gamma\n",
    "import copy as copy\n",
    "import scipy\n",
    "from global_functions import adjustmaps, lambda_s\n",
    "import h5py\n",
    "from scipy.interpolate import make_lsq_spline\n",
    "from itertools import product"
   ]
  },
  {
   "cell_type": "code",
   "execution_count": 2,
   "id": "04d88b10-25e5-413b-9eae-82591ef5253c",
   "metadata": {
    "tags": []
   },
   "outputs": [],
   "source": [
    "# Update global plotting parameters\n",
    "rc('axes', labelsize=16)  # Font size for x and y labels\n",
    "rc('axes', titlesize=16)\n",
    "rc('xtick', labelsize=15)  # Font size for x-axis tick labels\n",
    "rc('ytick', labelsize=15)  # Font size for y-axis tick labels\n",
    "rc('lines', markersize=12)  # Set the default marker size to 10 points\n",
    "rc('legend', fontsize=14)\n",
    "\n",
    "# Define/load things non-specific to a given set of results\n",
    "# metric = \"P_s\"\n",
    "metric = \"lambda_s\"\n",
    "# metric = 's'\n",
    "Aeff = 7.29\n",
    "t_final = 300\n",
    "ncell_tot = 87_993\n",
    "c = 1.42\n",
    "tauc_methods = [\"flat\"]\n",
    "with sg.H5Store('shared_data.h5').open(mode='r') as sd:\n",
    "    b_vec = np.array(sd['b_vec'])\n",
    "tau_vec = b_vec * gamma(1+1/c)\n",
    "# tau_step = np.diff(tau_vec)[0] / 2\n",
    "# tau_edges = np.concatenate(([0], np.arange(tau_step/2, tau_vec[-1]+tau_step, tau_step)))\n",
    "# tau_step = np.diff(tau_vec)[1] / 2\n",
    "# tau_edges = np.concatenate(([0], np.arange(tau_step/2, tau_vec[-1]+tau_step, tau_step)))\n",
    "tau_diffs = np.diff(tau_vec)\n",
    "tau_step = tau_diffs[1]\n",
    "tau_edges = np.concatenate((\n",
    "                [tau_vec[0]],\n",
    "                [tau_diffs[0]/2],\n",
    "                np.arange(tau_vec[1]+tau_step/2, tau_vec[-1]+tau_step, tau_step)\n",
    "                           ))\n",
    "\n",
    "def set_globals(results_pre):\n",
    "    if results_pre == 'meta_mean_results':\n",
    "        globals()['metric_lab'] = f'$<{metric}>_{{meta}}$'\n",
    "    else:\n",
    "        globals()['metric_lab'] = f'$P(<{metric}>_k \\geq 0.5)$'\n",
    "    globals()['fn_prefix'] = f\"{results_pre}/data/Aeff_{Aeff}/tfinal_{t_final}/metric_{metric}/\"\n",
    "    globals()['fig_prefix'] = f\"{results_pre}/figs/Aeff_{Aeff}/tfinal_{t_final}/metric_{metric}/\"\n",
    "\n",
    "    # Load things saved specific to these results\n",
    "    with open(fn_prefix + 'metric_data.pkl', 'rb') as handle:\n",
    "        globals()['metric_data'] = pickle.load(handle)\n",
    "    globals()['all_metric'] = metric_data['all_metric']\n",
    "    globals()['all_tau'] = np.load(f\"{results_pre}/data/Aeff_{Aeff}/tfinal_{t_final}/all_tau.npy\")\n",
    "    globals()['C_vec'] = np.load(fn_prefix + \"C_vec.npy\")\n",
    "    globals()['ncell_vec'] = np.load(fn_prefix + \"ncell_vec.npy\")\n",
    "    globals()['slice_left_all'] = np.load(fn_prefix + \"slice_left_all.npy\")\n",
    "    eps_axes = {}\n",
    "    with h5py.File(fn_prefix + \"/eps_axes.h5\", \"r\") as handle:\n",
    "        for key in handle.keys():\n",
    "            eps_axes.update({key: handle[key][()]})\n",
    "    globals()['eps_axes'] = eps_axes"
   ]
  },
  {
   "cell_type": "markdown",
   "id": "df945408-d839-4e59-98c8-a4a26ea03b5a",
   "metadata": {
    "tags": []
   },
   "source": [
    "### Testing"
   ]
  },
  {
   "cell_type": "code",
   "execution_count": null,
   "id": "715a87d8-cb82-40c2-8b31-38eccd53df99",
   "metadata": {},
   "outputs": [],
   "source": [
    "import torch\n",
    "import torch.nn as nn\n",
    "import torch.optim as optim\n",
    "from botorch.models.model import Model\n",
    "from botorch.acquisition import ExpectedImprovement\n",
    "from botorch.optim import optimize_acqf\n",
    "from gpytorch.mlls import ExactMarginalLogLikelihood\n",
    "\n",
    "# Define a Bayesian Neural Network (BNN) model\n",
    "class BayesianNN(Model):  # Inherits from BoTorch's Model class\n",
    "    def __init__(self, input_dim):\n",
    "        \"\"\"\n",
    "        Initialize the Bayesian Neural Network.\n",
    "        \n",
    "        Args:\n",
    "        - input_dim (int): Number of input dimensions.\n",
    "        \"\"\"\n",
    "        super().__init__()  # Call parent class constructor\n",
    "        \n",
    "        # Define a hidden layer with 50 neurons\n",
    "        self.hidden = nn.Linear(input_dim, 50)\n",
    "        \n",
    "        # Define the output layer (maps to 1 output value)\n",
    "        self.out = nn.Linear(50, 1)\n",
    "        \n",
    "        # Activation function (ReLU introduces non-linearity)\n",
    "        self.relu = nn.ReLU()\n",
    "        \n",
    "        # Learnable log noise parameter (used to model aleatoric uncertainty)\n",
    "        self.log_noise = nn.Parameter(torch.tensor([0.1]))  \n",
    "\n",
    "    def forward(self, X):\n",
    "        \"\"\"\n",
    "        Forward pass through the network.\n",
    "        \n",
    "        Args:\n",
    "        - X (torch.Tensor): Input tensor of shape (batch_size, input_dim).\n",
    "        \n",
    "        Returns:\n",
    "        - torch.Tensor: Output predictions of shape (batch_size, 1).\n",
    "        \"\"\"\n",
    "        h = self.relu(self.hidden(X))  # Pass input through hidden layer + ReLU\n",
    "        return self.out(h)  # Compute final output\n",
    "\n",
    "    def posterior(self, X, observation_noise=False):\n",
    "        \"\"\"\n",
    "        Compute the posterior distribution of the model at given input points.\n",
    "        \n",
    "        Args:\n",
    "        - X (torch.Tensor): Input points of shape (batch_size, input_dim).\n",
    "        - observation_noise (bool): If True, adds observation noise (default: False).\n",
    "        \n",
    "        Returns:\n",
    "        - mean (torch.Tensor): Mean prediction of the model.\n",
    "        - noise (torch.Tensor): Estimated noise level.\n",
    "        \"\"\"\n",
    "        mean = self.forward(X)  # Compute mean prediction\n",
    "        noise = self.log_noise.exp()  # Convert log noise to positive scale\n",
    "        return mean, noise  # Return both mean and noise\n",
    "\n",
    "# Define noisy objective function\n",
    "def expensive_function(x):\n",
    "    \"\"\"Noisy function with uniform noise.\"\"\"\n",
    "    x = torch.tensor(x, dtype=torch.float32).reshape(-1, 1)\n",
    "    true_value = torch.sin(5 * x) * (1 - torch.tanh(x ** 2))\n",
    "    noise = torch.rand_like(true_value) * 0.2 - 0.1  # Uniform noise in [-0.1, 0.1]\n",
    "    return true_value + noise"
   ]
  },
  {
   "cell_type": "code",
   "execution_count": 23,
   "id": "479bd33d-0f3a-4d4e-abc7-4b774212a7df",
   "metadata": {
    "tags": []
   },
   "outputs": [
    {
     "name": "stdout",
     "output_type": "stream",
     "text": [
      "Next query point: -0.03453481197357178\n"
     ]
    },
    {
     "name": "stderr",
     "output_type": "stream",
     "text": [
      "/var/folders/cs/tn4zg_3d3zq1k5vgjm1ty_vc0000gn/T/ipykernel_70283/3785408083.py:64: UserWarning: To copy construct from a tensor, it is recommended to use sourceTensor.clone().detach() or sourceTensor.clone().detach().requires_grad_(True), rather than torch.tensor(sourceTensor).\n",
      "  x = torch.tensor(x, dtype=torch.float32).reshape(-1, 1)\n",
      "/Users/patrick/miniconda3/envs/sbi_env/lib/python3.11/site-packages/botorch/optim/optimize.py:326: BadInitialCandidatesWarning: Unable to find non-zero acquisition function values - initial conditions are being selected randomly.\n",
      "  generated_initial_conditions = opt_inputs.get_ic_generator()(\n"
     ]
    }
   ],
   "source": [
    "# Generate initial training data\n",
    "train_x = torch.linspace(-2, 2, 10).reshape(-1, 1)\n",
    "train_y = expensive_function(train_x)\n",
    "\n",
    "# Define and train Bayesian Neural Network\n",
    "bnn = BayesianNN(input_dim=1)\n",
    "optimizer = optim.Adam(bnn.parameters(), lr=0.01)\n",
    "loss_fn = nn.MSELoss()\n",
    "\n",
    "for epoch in range(500):\n",
    "    optimizer.zero_grad()\n",
    "    output, _ = bnn.posterior(train_x)\n",
    "    loss = loss_fn(output, train_y)\n",
    "    loss.backward()\n",
    "    optimizer.step()\n",
    "\n",
    "# Define acquisition function (Expected Improvement)\n",
    "def acquisition(X):\n",
    "    mean, noise = bnn.posterior(X)\n",
    "    best_f = train_y.max()\n",
    "    improvement = (mean - best_f).clamp(min=0)\n",
    "    return improvement / (noise + 1e-6)\n",
    "\n",
    "# Optimize acquisition function to propose next query point\n",
    "bounds = torch.tensor([[-2.0], [2.0]])\n",
    "candidate, _ = optimize_acqf(acquisition, bounds=bounds, q=1, num_restarts=5, raw_samples=20)\n",
    "\n",
    "print(f\"Next query point: {candidate.item()}\")"
   ]
  },
  {
   "cell_type": "code",
   "execution_count": 24,
   "id": "e37ee7e2-233b-462c-89cb-1e4ee02c8589",
   "metadata": {
    "tags": []
   },
   "outputs": [
    {
     "name": "stdout",
     "output_type": "stream",
     "text": [
      "Next query point: 0.324800968170166\n"
     ]
    },
    {
     "name": "stderr",
     "output_type": "stream",
     "text": [
      "/Users/patrick/miniconda3/envs/sbi_env/lib/python3.11/site-packages/botorch/optim/optimize.py:326: BadInitialCandidatesWarning: Unable to find non-zero acquisition function values - initial conditions are being selected randomly.\n",
      "  generated_initial_conditions = opt_inputs.get_ic_generator()(\n"
     ]
    }
   ],
   "source": [
    "# Optimize acquisition function to propose next query point\n",
    "bounds = torch.tensor([[-2.0], [2.0]])\n",
    "candidate, _ = optimize_acqf(acquisition, bounds=bounds, q=1, num_restarts=5, raw_samples=20)\n",
    "\n",
    "print(f\"Next query point: {candidate.item()}\")"
   ]
  },
  {
   "cell_type": "code",
   "execution_count": 246,
   "id": "4a85ce09-e26a-40b3-8174-4f8c1bc255b9",
   "metadata": {
    "tags": []
   },
   "outputs": [],
   "source": [
    "# Define noisy objective function\n",
    "def expensive_function(x, eps=2):\n",
    "    \"\"\"Noisy function with uniform noise.\"\"\"\n",
    "    x = torch.tensor(x, dtype=torch.float32).reshape(-1, 1)\n",
    "    true_value = torch.where(x >= 0, torch.sqrt(x), -x)\n",
    "    noise = torch.empty_like(x).uniform_(-1,1) * eps\n",
    "    # print(true_value)\n",
    "    # print([])\n",
    "    return true_value + noise"
   ]
  },
  {
   "cell_type": "code",
   "execution_count": 247,
   "id": "dc847980-75cf-4541-aaa1-58f5cfd16d19",
   "metadata": {
    "tags": []
   },
   "outputs": [
    {
     "data": {
      "text/plain": [
       "tensor([[ 1.2340],\n",
       "        [ 2.2415],\n",
       "        [-1.6171],\n",
       "        [ 1.4699],\n",
       "        [-0.4754]])"
      ]
     },
     "execution_count": 247,
     "metadata": {},
     "output_type": "execute_result"
    }
   ],
   "source": [
    "x_example = [-2, -1,0,1,2]\n",
    "test = expensive_function(x_example); test"
   ]
  },
  {
   "cell_type": "code",
   "execution_count": 248,
   "id": "11a4cb6a-88c1-44b7-8391-861f155aa265",
   "metadata": {
    "tags": []
   },
   "outputs": [],
   "source": [
    "def objective(x, num_samples=10):\n",
    "    samples = torch.stack([expensive_function(x) for _ in range(num_samples)])\n",
    "    maxima = torch.max(samples, axis=0).values\n",
    "    return maxima"
   ]
  },
  {
   "cell_type": "code",
   "execution_count": 249,
   "id": "4b46636a-0b0e-46f1-b51c-6bedb1b078e0",
   "metadata": {
    "tags": []
   },
   "outputs": [
    {
     "data": {
      "text/plain": [
       "tensor([[3.0885],\n",
       "        [2.9042],\n",
       "        [1.9720],\n",
       "        [2.6104],\n",
       "        [3.2225]])"
      ]
     },
     "execution_count": 249,
     "metadata": {},
     "output_type": "execute_result"
    }
   ],
   "source": [
    "obj_test = objective(x_example);obj_test"
   ]
  },
  {
   "cell_type": "code",
   "execution_count": 214,
   "id": "d4f4130a-267d-4881-83a2-08fa705ac905",
   "metadata": {
    "tags": []
   },
   "outputs": [
    {
     "data": {
      "text/plain": [
       "torch.Size([])"
      ]
     },
     "execution_count": 214,
     "metadata": {},
     "output_type": "execute_result"
    }
   ],
   "source": [
    "obj_test.shape"
   ]
  },
  {
   "cell_type": "code",
   "execution_count": 202,
   "id": "99306a97-b9f7-4fc2-8d8d-4064e5360b30",
   "metadata": {
    "tags": []
   },
   "outputs": [
    {
     "data": {
      "text/plain": [
       "tensor([[ 2.7810],\n",
       "        [ 1.5913],\n",
       "        [-0.1430],\n",
       "        [ 0.8522],\n",
       "        [ 1.9621]])"
      ]
     },
     "execution_count": 202,
     "metadata": {},
     "output_type": "execute_result"
    }
   ],
   "source": [
    "torch.max(obj_test, axis=0).values"
   ]
  },
  {
   "cell_type": "code",
   "execution_count": 250,
   "id": "0c3c9e06-6300-4176-b249-88eeaf8d2704",
   "metadata": {
    "tags": []
   },
   "outputs": [],
   "source": [
    "import numpy as np"
   ]
  },
  {
   "cell_type": "code",
   "execution_count": 256,
   "id": "38533b14-f08d-4d0c-a2db-26fca1bf5605",
   "metadata": {
    "tags": []
   },
   "outputs": [
    {
     "data": {
      "text/plain": [
       "(5,)"
      ]
     },
     "execution_count": 256,
     "metadata": {},
     "output_type": "execute_result"
    }
   ],
   "source": [
    "np.random.uniform(-1,1, len(x_example)).shape"
   ]
  },
  {
   "cell_type": "code",
   "execution_count": 258,
   "id": "f2434fbb-ac7d-46bc-b5cc-b99325cb6c4a",
   "metadata": {
    "tags": []
   },
   "outputs": [
    {
     "data": {
      "text/plain": [
       "array(1)"
      ]
     },
     "execution_count": 258,
     "metadata": {},
     "output_type": "execute_result"
    }
   ],
   "source": [
    "test = np.array(1); test"
   ]
  },
  {
   "cell_type": "code",
   "execution_count": 260,
   "id": "8d540fd4-9687-4f3e-a358-b0ec1e4102a6",
   "metadata": {
    "tags": []
   },
   "outputs": [
    {
     "ename": "IndexError",
     "evalue": "too many indices for array: array is 0-dimensional, but 1 were indexed",
     "output_type": "error",
     "traceback": [
      "\u001b[0;31m---------------------------------------------------------------------------\u001b[0m",
      "\u001b[0;31mIndexError\u001b[0m                                Traceback (most recent call last)",
      "Cell \u001b[0;32mIn[260], line 1\u001b[0m\n\u001b[0;32m----> 1\u001b[0m test[\u001b[38;5;241m0\u001b[39m]\n",
      "\u001b[0;31mIndexError\u001b[0m: too many indices for array: array is 0-dimensional, but 1 were indexed"
     ]
    }
   ],
   "source": [
    "test[0]"
   ]
  },
  {
   "cell_type": "code",
   "execution_count": 173,
   "id": "161ba813-fa70-4b31-8701-e181d5db3238",
   "metadata": {
    "tags": []
   },
   "outputs": [
    {
     "name": "stdout",
     "output_type": "stream",
     "text": [
      "\n",
      "Original tensor:\n",
      "tensor([[-0.3444,  1.4623, -1.0322],\n",
      "        [ 0.4351,  2.2117, -0.9350]])\n",
      "Shape: torch.Size([2, 3])\n",
      "\n",
      "Stacked tensor:\n",
      "tensor([[[-0.3444,  1.4623, -1.0322],\n",
      "         [ 0.4351,  2.2117, -0.9350]],\n",
      "\n",
      "        [[-0.3444,  1.4623, -1.0322],\n",
      "         [ 0.4351,  2.2117, -0.9350]]])\n",
      "Shape: torch.Size([2, 2, 3])\n"
     ]
    }
   ],
   "source": [
    "# Example with 2D tensors\n",
    "x = torch.randn(2, 3)\n",
    "print(\"\\nOriginal tensor:\")\n",
    "print(x)\n",
    "print(\"Shape:\", x.shape)\n",
    "\n",
    "stacked_x = torch.stack((x, x))\n",
    "print(\"\\nStacked tensor:\")\n",
    "print(stacked_x)\n",
    "print(\"Shape:\", stacked_x.shape)"
   ]
  },
  {
   "cell_type": "code",
   "execution_count": 31,
   "id": "c7765108-e910-4bf0-869f-6a3b538662f0",
   "metadata": {
    "tags": []
   },
   "outputs": [],
   "source": [
    "# from opttest_2 import expensive_function, objective\n",
    "import numpy as np\n",
    "from matplotlib import pyplot as plt\n",
    "# Define function with uniform noise\n",
    "def expensive_function(x, eps=2):\n",
    "    \"\"\"Noisy function where noise is non-Gaussian (e.g., Uniformly distributed).\"\"\"\n",
    "    x = np.array(x)\n",
    "    #true_value = np.sin(5 * x[0]) * (1 - np.tanh(x[0] ** 2))\n",
    "    #noise = np.random.uniform(-0.2, 0.2)  # Uniform noise\n",
    "    #return true_value + noise\n",
    "\n",
    "    noise = np.random.uniform(-1, 1) * eps\n",
    "    newx = x[0] + noise\n",
    "    noised_value = np.sqrt(newx) if newx >= 0 else -newx\n",
    "    return noised_value\n",
    "\n",
    "def objective(x, num_samples=40):\n",
    "    samples = np.stack([expensive_function(x) for _ in range(num_samples)])\n",
    "    maxima = np.max(samples, axis=0)\n",
    "    return maxima\n"
   ]
  },
  {
   "cell_type": "code",
   "execution_count": 35,
   "id": "98b49a50-4e82-4c45-9c22-d6898dad1737",
   "metadata": {
    "tags": []
   },
   "outputs": [
    {
     "data": {
      "image/png": "[encoded data removed]",
      "text/plain": [
       "<Figure size 640x480 with 1 Axes>"
      ]
     },
     "metadata": {},
     "output_type": "display_data"
    }
   ],
   "source": [
    "for _ in range(10):\n",
    "    x_test = np.linspace(-2,2,12).reshape(-1,1)\n",
    "    non_rob = [expensive_function(x) for x in x_test]\n",
    "    rob = [objective(x) for x in x_test]\n",
    "    # plt.plot(x_test, non_rob)\n",
    "    plt.plot(x_test, rob, marker='o')\n",
    "    plt.ylim(0, 4)"
   ]
  },
  {
   "cell_type": "code",
   "execution_count": 48,
   "id": "c24ad144-a390-4421-a5c0-65baba77f976",
   "metadata": {
    "tags": []
   },
   "outputs": [
    {
     "data": {
      "text/plain": [
       "tensor([-2.3026])"
      ]
     },
     "execution_count": 48,
     "metadata": {},
     "output_type": "execute_result"
    }
   ],
   "source": [
    "torch.log(torch.Tensor([0.1]))"
   ]
  },
  {
   "cell_type": "code",
   "execution_count": 17,
   "id": "abe48722-f215-4c98-b7e2-8b641d2a3789",
   "metadata": {
    "tags": []
   },
   "outputs": [
    {
     "data": {
      "text/plain": [
       "array([ 1.36723484,  0.91932842, -1.69595912, -1.79564869, -1.73437196,\n",
       "        1.1077638 ,  1.07091692,  1.74453827, -1.93259112, -0.52370399,\n",
       "       -1.90396384,  1.77330209, -0.36144525,  1.46287114,  0.16047842,\n",
       "        0.66342746, -0.7607795 , -1.97273344, -1.16597134,  0.0353843 ,\n",
       "        1.2888423 , -1.49304103,  0.50192   ,  0.34946969, -0.83863914,\n",
       "        0.45017173, -0.6931432 ,  0.45000278,  1.97135407,  0.2585072 ])"
      ]
     },
     "execution_count": 17,
     "metadata": {},
     "output_type": "execute_result"
    }
   ],
   "source": [
    "np.random.uniform(-1,1, 30)*2"
   ]
  },
  {
   "cell_type": "code",
   "execution_count": 279,
   "id": "48cf7b47-8347-455f-b00e-6914c39a45e0",
   "metadata": {
    "tags": []
   },
   "outputs": [],
   "source": []
  },
  {
   "cell_type": "code",
   "execution_count": 280,
   "id": "0487a66d-4c4e-48c2-9092-e03f378a8362",
   "metadata": {
    "tags": []
   },
   "outputs": [
    {
     "data": {
      "text/plain": [
       "[<matplotlib.lines.Line2D at 0x15acb3e90>]"
      ]
     },
     "execution_count": 280,
     "metadata": {},
     "output_type": "execute_result"
    },
    {
     "data": {
      "image/png": "[encoded data removed]",
      "text/plain": [
       "<Figure size 640x480 with 1 Axes>"
      ]
     },
     "metadata": {},
     "output_type": "display_data"
    }
   ],
   "source": []
  },
  {
   "cell_type": "code",
   "execution_count": 5,
   "id": "76e3c978-4a67-4c59-875e-a300fbfddf37",
   "metadata": {
    "tags": []
   },
   "outputs": [
    {
     "ename": "NameError",
     "evalue": "name 'np' is not defined",
     "output_type": "error",
     "traceback": [
      "\u001b[0;31m---------------------------------------------------------------------------\u001b[0m",
      "\u001b[0;31mNameError\u001b[0m                                 Traceback (most recent call last)",
      "Cell \u001b[0;32mIn[5], line 1\u001b[0m\n\u001b[0;32m----> 1\u001b[0m N_tot \u001b[38;5;241m=\u001b[39m np\u001b[38;5;241m.\u001b[39mload(\u001b[38;5;124m'\u001b[39m\u001b[38;5;124mtest_data/N_tot_disc.npy\u001b[39m\u001b[38;5;124m'\u001b[39m)\n\u001b[1;32m      2\u001b[0m N_tot_mean \u001b[38;5;241m=\u001b[39m np\u001b[38;5;241m.\u001b[39mmean(N_tot, axis\u001b[38;5;241m=\u001b[39m\u001b[38;5;241m0\u001b[39m)\n\u001b[1;32m      3\u001b[0m \u001b[38;5;28;01mfor\u001b[39;00m rep \u001b[38;5;129;01min\u001b[39;00m N_tot[::\u001b[38;5;241m100\u001b[39m, :]:\n",
      "\u001b[0;31mNameError\u001b[0m: name 'np' is not defined"
     ]
    }
   ],
   "source": [
    "N_tot = np.load('test_data/N_tot_disc.npy')\n",
    "N_tot_mean = np.mean(N_tot, axis=0)\n",
    "for rep in N_tot[::100, :]:\n",
    "    plt.plot(rep)\n",
    "plt.plot(N_tot_mean, c='k', lw=6)\n",
    "plt.plot(np.median(N_tot, axis=0), c='orange', lw=6)\n",
    "# plt.ylim(0, 1e6)\n",
    "plt.ylim(0, 50_000)\n",
    "# plt.ylim(0, 1000)\n",
    "# plt.xlim(0, 10)"
   ]
  },
  {
   "cell_type": "code",
   "execution_count": null,
   "id": "ec42b066-8908-41d5-a09d-ac2562b15881",
   "metadata": {
    "tags": []
   },
   "outputs": [],
   "source": [
    "lam_all = lambda_s(N_tot, compressed=False)\n",
    "print(np.mean(lam_all))\n",
    "# print(np.mean(lambda_s(N_tot[:, :-4900], compressed=False)))"
   ]
  },
  {
   "cell_type": "code",
   "execution_count": null,
   "id": "7b7ab675-fc89-4e1c-a3f4-d87c2f84e77a",
   "metadata": {
    "tags": []
   },
   "outputs": [],
   "source": [
    "results_pre = 'gte_thresh'\n",
    "set_globals(results_pre)\n",
    "project = sg.get_project()\n",
    "jobs = project.find_jobs({'doc.simulated': True})\n",
    "b_samples = [66]\n",
    "for b in b_samples:\n",
    "    for job_i, job in enumerate(jobs):\n",
    "        with job.data as data:\n",
    "            N_tot = np.array(data[f'N_tot/{b}'])\n",
    "            census_t = np.array(data['census_t'])\n",
    "\n",
    "        # for rep in N_tot[::10]:\n",
    "        #     plt.plot(census_t, rep, alpha=0.1)\n",
    "        # # plt.ylim(0, job.sp.params.K_adult*10)\n",
    "        # plt.ylim(0, job.sp.params.K_adult*1000)\n",
    "\n",
    "        valid_mask = N_tot > 0\n",
    "        valid_timesteps = np.sum(valid_mask, axis=1) - 1\n",
    "        final_N = np.take_along_axis(N_tot, valid_timesteps[..., None], axis=1)[:, 0]\n",
    "        \n",
    "        bin_join = job.sp.params.K_adult\n",
    "        bins1 = np.arange(0, bin_join, job.sp.params.K_adult/100)\n",
    "        bins2 = np.arange(bin_join, job.sp.params.K_adult*10, job.sp.params.K_adult)\n",
    "        bins = np.concatenate((bins1, bins2, [job.sp.params.K_adult*1e3]))\n",
    "        plt.hist(final_N, bins=bins)\n",
    "        plt.xscale('log')\n",
    "        plt.xlim(0, 100)\n",
    "        break"
   ]
  },
  {
   "cell_type": "code",
   "execution_count": null,
   "id": "6786a17d-fe7a-4471-8a9d-8e8e23e3fcfa",
   "metadata": {
    "tags": []
   },
   "outputs": [],
   "source": [
    "Nf = 0.5\n",
    "T = 300\n",
    "(Nf/job.sp.params.K_adult)**(1/T)"
   ]
  },
  {
   "cell_type": "code",
   "execution_count": null,
   "id": "3b1559a8-d0f2-4582-871b-cd824dc25f74",
   "metadata": {
    "tags": []
   },
   "outputs": [],
   "source": [
    "# Nf_rng = np.arange(0.1, 1.1, 0.05)\n",
    "Nf_rng = np.arange(1, job.sp.params.K_adult+21, 20)\n",
    "T_rng = np.arange(30, 330, 15)\n",
    "# T_rng = np.arange(10, 130, 10)\n",
    "\n",
    "Nf, T = np.meshgrid(Nf_rng, T_rng)\n",
    "lam = (Nf / job.sp.params.K_adult) ** (1/T)\n",
    "\n",
    "plt.pcolormesh(Nf, T, lam, shading='auto', cmap='viridis', vmin=0.68, vmax=1) \n",
    "plt.colorbar()\n",
    "plt.xlabel('Nf')\n",
    "plt.ylabel('T')"
   ]
  },
  {
   "cell_type": "code",
   "execution_count": null,
   "id": "90060730-168b-43b3-b9e5-81553a308c8b",
   "metadata": {
    "tags": []
   },
   "outputs": [],
   "source": [
    "fig, ax = plt.subplots(1, figsize=(6,5))\n",
    "# Nf_rng = np.arange(0.01, 1.1, 0.005)\n",
    "step = 0.001\n",
    "Nf_rng = np.arange(step, 1+step, step)\n",
    "# Nf_rng = np.arange(step, job.sp.params.K_adult*1 + step, step)\n",
    "ax.set_xscale('log')\n",
    "T_rng = np.arange(30, 330, 15)\n",
    "\n",
    "Nf, T = np.meshgrid(Nf_rng, T_rng)\n",
    "lam = (Nf / job.sp.params.K_adult) ** (1/T)\n",
    "\n",
    "im = ax.pcolormesh(Nf, T, lam, shading='auto', cmap='viridis', vmin=0.68, vmax=1) \n",
    "plt.colorbar(im)\n",
    "ax.set_xlabel('Nf')\n",
    "ax.set_ylabel('T')"
   ]
  },
  {
   "cell_type": "code",
   "execution_count": null,
   "id": "59368791-8bb2-4562-bc74-fa832d69aa69",
   "metadata": {
    "tags": []
   },
   "outputs": [],
   "source": [
    "np.min(lam)"
   ]
  },
  {
   "cell_type": "code",
   "execution_count": null,
   "id": "45f8783e-fca1-4f92-872c-b183853ae34a",
   "metadata": {
    "tags": []
   },
   "outputs": [],
   "source": [
    "indices = np.nonzero(final_N == 1)[0]\n",
    "for i in indices[::20]:\n",
    "    plt.plot(N_tot[i, :], marker='')\n",
    "    # plt.ylim(0,job.sp.params.K_adult)\n",
    "    plt.ylim(0,10)"
   ]
  },
  {
   "cell_type": "code",
   "execution_count": null,
   "id": "72bbc43e-52f1-4eef-b00e-1910587f2e12",
   "metadata": {
    "tags": []
   },
   "outputs": [],
   "source": []
  },
  {
   "cell_type": "code",
   "execution_count": null,
   "id": "e8c2959a-4de8-4279-b9ed-c39bcaba12af",
   "metadata": {
    "tags": []
   },
   "outputs": [],
   "source": [
    "results_pre = 'gte_thresh'\n",
    "set_globals(results_pre)\n",
    "project = sg.get_project()\n",
    "jobs = project.find_jobs({'doc.simulated': True})\n",
    "# b_samples = [18, 66]\n",
    "b_samples = b_vec[::3]\n",
    "for b in b_samples:\n",
    "    print(f'b={b}')\n",
    "    for job_i, job in enumerate(jobs):\n",
    "        # print(job.id)\n",
    "        with job.data as data:\n",
    "            lam_all = np.array(data[f'lambda_s_all/{b}'])\n",
    "            plt.hist(lam_all, bins=30, density=True, alpha=1)\n",
    "            # plt.axvline(np.mean(lam_all), ls='--')\n",
    "    plt.show()\n",
    "        # break\n",
    "        # if job_i > 5: continue "
   ]
  },
  {
   "cell_type": "code",
   "execution_count": null,
   "id": "86d765d1-686f-4e06-8d03-a50ced691422",
   "metadata": {
    "tags": []
   },
   "outputs": [],
   "source": [
    "results_pre = 'gte_thresh'\n",
    "set_globals(results_pre)\n",
    "with h5py.File(fn_prefix + \"/phase_flat.h5\", \"r\") as phase_handle:\n",
    "    data_key = \"0.0/0.0/0.0/0.0/phase\"\n",
    "    phase_slice_zeroeps = phase_handle[data_key][:]\n",
    "    nochange_zeroeps = phase_handle[\"0.0/0.0/0.0/0.0/metric_nochange\"][()]\n",
    "    \n",
    "# Read in maps and convert fdm to tau\n",
    "ul_coord = [1500, 2800]\n",
    "lr_coord = [2723, 3905]\n",
    "usecols = np.arange(ul_coord[0],lr_coord[0])\n",
    "sdmfn = \"../shared_maps/SDM_1995.asc\"\n",
    "sdm = np.loadtxt(sdmfn,skiprows=6+ul_coord[1],\n",
    "                         max_rows=lr_coord[1], usecols=usecols)\n",
    "fdmfn = '../shared_maps/FDE_current_allregions.asc'\n",
    "fdm = np.loadtxt(fdmfn,skiprows=6+ul_coord[1], \n",
    "                         max_rows=lr_coord[1], usecols=usecols)\n",
    "sdm, fdm = adjustmaps([sdm, fdm])\n",
    "delta_t = 30\n",
    "b_raster = delta_t / np.power(-np.log(1-fdm), 1/c)\n",
    "tau_raster = b_raster * gamma(1+1/c)\n",
    "maps_filt = (sdm > 0) & (fdm > 0)\n",
    "tau_flat = tau_raster[maps_filt]\n",
    "tau_argsort_ref = np.argsort(tau_flat)\n",
    "tau_sorted = tau_flat[tau_argsort_ref]\n",
    "\n",
    "density = False\n",
    "all_ncell = np.zeros(C_vec.size)\n",
    "all_maxima = np.zeros(C_vec.size)\n",
    "for C_i, C in enumerate(C_vec):\n",
    "    all_maxima[C_i] = np.nanmax(phase_slice_zeroeps[C_i, :, :])\n",
    "    plt.hist(tau_flat, bins=tau_edges, histtype='step', color='k', lw=3, density=False)\n",
    "    argmax = np.nanargmax(phase_slice_zeroeps[C_i, :, :])\n",
    "    optimal_param_i = np.unravel_index(argmax, phase_slice_zeroeps.shape[1:])\n",
    "    ncell, k0 = (ncell_vec[optimal_param_i[0]], slice_left_all[optimal_param_i[1]])\n",
    "    all_ncell[C_i] = ncell\n",
    "    tau_i = tau_sorted[k0]\n",
    "    tau_f = tau_sorted[k0+ncell]\n",
    "    bin_i = np.argmin(np.abs(tau_edges - tau_i))\n",
    "    bin_f = np.argmin(np.abs(tau_edges - tau_f))\n",
    "    plt.hist(tau_flat[(tau_flat >= tau_edges[bin_i]) & (tau_flat < tau_edges[bin_f])],\n",
    "            bins=tau_edges, color='k', alpha=0.75, density=density)\n",
    "    plt.xlim(15,80)\n",
    "    plt.savefig(f'test/Ci{C_i}.png')\n",
    "    plt.show();\n",
    "    # break"
   ]
  },
  {
   "cell_type": "code",
   "execution_count": null,
   "id": "9880d358-c8eb-4489-b6b6-ccee6e070540",
   "metadata": {
    "tags": []
   },
   "outputs": [],
   "source": [
    "plt.plot(np.diff(all_ncell), marker='o')"
   ]
  },
  {
   "cell_type": "code",
   "execution_count": null,
   "id": "5ccc5c99-4f6d-437e-ac4e-3c3319ea7649",
   "metadata": {
    "tags": []
   },
   "outputs": [],
   "source": [
    "plt.plot(np.diff(all_maxima), marker='o')"
   ]
  },
  {
   "cell_type": "code",
   "execution_count": null,
   "id": "950beb2e-d855-4812-801f-a320c101e95c",
   "metadata": {
    "tags": []
   },
   "outputs": [],
   "source": [
    "# project = sg.get_project()\n",
    "# job = project.get_job('workspace/a0b3e8eb9b6aab04c5c5f02bd5718f21')\n",
    "# params = job.sp.params\n",
    "\n",
    "disc = np.load('test_data/N_tot_mean_discrete.npy')\n",
    "N_tot_disc = np.load('test_data/N_tot_disc.npy')\n",
    "nint = np.load('test_data/N_tot_mean_nint.npy')\n",
    "N_tot_nint = np.load('test_data/N_tot_nint.npy')\n",
    "census_t = np.load('test_data/census_t.npy')\n",
    "plt.plot(census_t, disc, c='k')\n",
    "plt.plot(census_t, nint, c='g')\n",
    "# for c, N_tot in zip(['k','g'], [N_tot_disc, N_tot_nint]):\n",
    "for c, N_tot in zip(['k'], [N_tot_disc]):\n",
    "# for c, N_tot in zip(['g'], [N_tot_nint]):\n",
    "    for rep in N_tot[::10]:\n",
    "        plt.plot(census_t, rep, c=c, alpha=0.1)\n",
    "# plt.ylim(0,100_000_000)\n",
    "plt.ylim(0,1_000)"
   ]
  },
  {
   "cell_type": "code",
   "execution_count": null,
   "id": "7cb42003-b800-4f91-99f6-e7dbbe37a205",
   "metadata": {
    "tags": []
   },
   "outputs": [],
   "source": [
    "project = sg.get_project()\n",
    "jobs = project.find_jobs({'doc.simulated': True})\n",
    "sd_fn = project.fn('shared_data.h5')\n",
    "with sg.H5Store(sd_fn).open(mode='r') as sd:\n",
    "    b_vec = np.array(sd['b_vec'])\n",
    "\n",
    "for job in jobs:\n",
    "    with job.data:\n",
    "        Ps_vec = []\n",
    "        for b in b_vec:\n",
    "            Ps = 1 - float(job.data['frac_extirpated'][str(b)][299])\n",
    "            Ps_vec.append(Ps)\n",
    "    plt.plot(b_vec, Ps_vec)"
   ]
  },
  {
   "cell_type": "markdown",
   "id": "421fc819-265e-4f68-8fa7-24eee6bbf533",
   "metadata": {
    "jp-MarkdownHeadingCollapsed": true,
    "tags": []
   },
   "source": [
    "### Sensitivity to initial conditions"
   ]
  },
  {
   "cell_type": "code",
   "execution_count": null,
   "id": "4c9a4917-9732-44c9-a115-cfde2d3c4a77",
   "metadata": {
    "tags": []
   },
   "outputs": [],
   "source": [
    "from ipywidgets import interact"
   ]
  },
  {
   "cell_type": "code",
   "execution_count": null,
   "id": "a48adaed-fbbd-494b-a87c-6d8fe1b0ce25",
   "metadata": {
    "tags": []
   },
   "outputs": [],
   "source": [
    "metric_evals = np.load(f'checkinits_data/metric_evals_{metric}.npy')\n",
    "with open(f'checkinits_data/ranges.pkl', 'rb') as handle:\n",
    "    ranges = pickle.load(handle)\n",
    "\n",
    "def plt_partials(b_i):\n",
    "    # b_i = 1\n",
    "    bax = list(ranges.keys()).index('b')\n",
    "    slc = [b_i if (i == bax) else slice(None) for i in range(len(ranges))]\n",
    "    slc = tuple(slc)\n",
    "    evals_slice = metric_evals[slc]\n",
    "\n",
    "    otherax = np.delete(np.arange(len(ranges)), bax)\n",
    "    # otherax[otherax > bax] -= 1\n",
    "    fig, axes = plt.subplots(3, figsize=(5,7))\n",
    "    for xax_i, xax in enumerate(otherax):\n",
    "        meanaxes = np.delete(otherax, xax_i) # Axes to compute mean over\n",
    "        meanaxes[meanaxes > bax] -= 1\n",
    "        means = np.mean(evals_slice, axis=tuple(meanaxes))\n",
    "        stdevs = np.std(evals_slice, axis=tuple(meanaxes))\n",
    "        rangekey = list(ranges.keys())[xax]\n",
    "        rangevals = list(ranges.values())[xax]\n",
    "        # ax.plot(rangevals, means, marker='o')\n",
    "        axes[xax_i].errorbar(rangevals, means, yerr=stdevs, marker='o')\n",
    "        axes[xax_i].set_xlabel(rangekey)\n",
    "        axes[xax_i].set_ylim(np.min(evals_slice), np.max(evals_slice))\n",
    "        # axes[xax_i].set_ylim(0.2, 1)\n",
    "        if xax_i == 0:\n",
    "            # b = ranges['b'][b_i]\n",
    "            tau = np.round(ranges['b'][b_i] * gamma(1+1/c), 3)\n",
    "            axes[xax_i].set_title(rf'$\\tau$={tau}')\n",
    "    fig.tight_layout(h_pad=0.8)\n",
    "    # fig.s(rf'$\\tau$={1}')\n",
    "interact(plt_partials, b_i=(0,ranges['b'].size-1,1))"
   ]
  },
  {
   "cell_type": "code",
   "execution_count": null,
   "id": "7d3ac6a8-7a04-4400-aa81-dbfc9ca884e1",
   "metadata": {
    "tags": []
   },
   "outputs": [],
   "source": [
    "fig, ax = plt.subplots(1, figsize=(7,5))\n",
    "rangekeys = list(ranges.keys())\n",
    "bax = rangekeys.index('b')\n",
    "otherax = np.delete(np.arange(len(ranges)), bax)\n",
    "metricranges = {rangekeys[i]: [] for i in otherax}\n",
    "for b_i in range(ranges['b'].size):\n",
    "    slc = [b_i if (i == bax) else slice(None) for i in range(len(ranges))]\n",
    "    slc = tuple(slc)\n",
    "    evals_slice = metric_evals[slc]\n",
    "\n",
    "    for xax_i, xax in enumerate(otherax):\n",
    "        meanaxes = np.delete(otherax, xax_i) # Axes to compute mean over\n",
    "        meanaxes[meanaxes > bax] -= 1\n",
    "        means = np.mean(evals_slice, axis=tuple(meanaxes))\n",
    "        rangekey = list(ranges.keys())[xax]\n",
    "        # rangevals = list(ranges.values())[xax]\n",
    "        metricranges[rangekey].append(means.max() - means.min())\n",
    "\n",
    "for key, vec in metricranges.items():\n",
    "    ax.plot(ranges['b'] * gamma(1+1/c), vec, label=key, marker='o', markersize=6)\n",
    "ax.legend()\n",
    "ax.set_xlabel(r'$\\tau$')\n",
    "ax.set_ylabel(r'range of mean $\\lambda$ across parameter');\n",
    "# ax.set_xlim(0, 55)"
   ]
  },
  {
   "cell_type": "markdown",
   "id": "3fe77faa-ef23-4683-80e1-b66a7d0cfc5b",
   "metadata": {
    "jp-MarkdownHeadingCollapsed": true,
    "tags": []
   },
   "source": [
    "### Preprocess robustness"
   ]
  },
  {
   "cell_type": "code",
   "execution_count": null,
   "id": "2eac8348-895b-47df-81e8-bf85f1f246a8",
   "metadata": {
    "tags": []
   },
   "outputs": [],
   "source": [
    "# for results_pre in ['meta_mean_result/s', 'gte_thresh_results']:\n",
    "for results_pre in ['distribution_avg']:\n",
    "# for results_pre in ['gte_threshold']:\n",
    "    # Load things saved specific to these results\n",
    "    set_globals(results_pre)\n",
    "\n",
    "    # Collect <metric> across all state variables and uncertainty parameterizations\n",
    "    shape = [len(eps_axes[key]) for key in eps_axes.keys()] \n",
    "    shape += [len(C_vec), len(ncell_vec), len(slice_left_all)]\n",
    "    phase_full = np.ones((shape)) * np.nan\n",
    "    with h5py.File(fn_prefix + \"phase_flat.h5\", \"r\") as phase_handle:\n",
    "        for eps_params in product(*eps_axes.values()):\n",
    "            # Create a dictionary of indices along with values for the current combination\n",
    "            eps_params_dict = {\n",
    "                key: (index, np.round(value, 3)) for key, values in zip(eps_axes.keys(), eps_axes.values())\n",
    "                for index, value in enumerate(values) if value == eps_params[list(eps_axes.keys()).index(key)]\n",
    "            }\n",
    "\n",
    "            # Get phase slice at this epsilon parameterization\n",
    "            data_key = f\"{eps_params_dict['mu_tau'][1]}/{eps_params_dict['sigm_tau'][1]}/\"\n",
    "            data_key += f\"{eps_params_dict['mu_tauc'][1]}/{eps_params_dict['sigm_tauc'][1]}/phase\"\n",
    "            phase_slice = phase_handle[data_key][:]\n",
    "\n",
    "            # Add them to collective phase_all\n",
    "            eps_indices = [val[0] for val in eps_params_dict.values()]\n",
    "            index_tuple = tuple(eps_indices) + (slice(None), slice(None), slice(None))\n",
    "            phase_full[index_tuple] = phase_slice\n",
    "    # Save full phase matrix to file\n",
    "    np.save(fn_prefix + \"phase_full.npy\", phase_full)\n",
    "\n",
    "    rob_thresh_vec = np.linspace(min(phase_full.flatten()), max(phase_full.flatten()), 100)\n",
    "    np.save(fn_prefix + \"rob_thresh_vec.npy\", rob_thresh_vec)\n",
    "    allrob = np.ones((rob_thresh_vec.size, C_vec.size, ncell_vec.size, slice_left_all.size)) * np.nan\n",
    "    maxrob = np.ones((len(rob_thresh_vec), len(C_vec))) * np.nan\n",
    "    argmaxrob = np.ones((len(rob_thresh_vec), len(C_vec), 2)) * np.nan\n",
    "    tot_eps_samples = np.cumprod([len(axis) for axis in eps_axes.values()])[-1]\n",
    "    zero_eps_i = [np.argwhere(ax == 0)[0][0] for ax in eps_axes.values()]\n",
    "    for (thresh_i, thresh), (C_i, C) in product(enumerate(rob_thresh_vec), \n",
    "                                                enumerate(C_vec)):\n",
    "        rob_slice = np.ones((len(ncell_vec), len(slice_left_all))) * np.nan\n",
    "        for (ncell_i, ncell), (sl_i, sl) in product(enumerate(ncell_vec),\n",
    "                                                    enumerate(slice_left_all)):\n",
    "            # First, check that this result is feasible with zero uncertainty\n",
    "            # Skip and keep at nan if not feasible\n",
    "            metric_zero_eps = phase_full[tuple(zero_eps_i + [C_i, ncell_i, sl_i])]\n",
    "            if np.isnan(metric_zero_eps) or (metric_zero_eps < thresh): continue\n",
    "            # Now, get the robstness at this (C,ncell,slice_left) coordinate and store\n",
    "            counts = np.count_nonzero(phase_full[..., C_i, ncell_i, sl_i] >= thresh)\n",
    "            robustness = counts / tot_eps_samples\n",
    "            rob_slice[ncell_i, sl_i] = robustness\n",
    "        allrob[thresh_i, C_i] = rob_slice\n",
    "        if np.any(~np.isnan(rob_slice)):\n",
    "            # Store the max robustness at this (thresh, C) coordinate\n",
    "            maxrob[thresh_i, C_i] = np.nanmax(rob_slice)\n",
    "            # Also store the optimal param indices\n",
    "            optimal_param_i = np.unravel_index(np.nanargmax(rob_slice, axis=None), rob_slice.shape)\n",
    "            argmaxrob[thresh_i, C_i] = optimal_param_i\n",
    "    # Save maxrob and argmaxrob to files\n",
    "    np.save(fn_prefix + \"maxrob.npy\", maxrob)\n",
    "    np.save(fn_prefix + \"argmaxrob.npy\", argmaxrob)"
   ]
  },
  {
   "cell_type": "code",
   "execution_count": null,
   "id": "4bc88410-1458-4d99-91d0-2dbd91ef5269",
   "metadata": {
    "tags": []
   },
   "outputs": [],
   "source": [
    "rob_thresh_vec"
   ]
  },
  {
   "cell_type": "markdown",
   "id": "2ae08534-f319-4c8f-bd37-3297d848ea7d",
   "metadata": {
    "jp-MarkdownHeadingCollapsed": true,
    "tags": []
   },
   "source": [
    "### $\\text{max}(\\omega)$ vs target $<\\text{metric}_{meta}>$"
   ]
  },
  {
   "cell_type": "code",
   "execution_count": null,
   "id": "e0872005-8502-45bd-91f1-df4b6e5275c1",
   "metadata": {
    "tags": []
   },
   "outputs": [],
   "source": [
    "'''Should check for multiple optima (i.e. multiple points where omega=1) rather than\n",
    "   just cutting curves off when omega=1'''\n",
    "set_globals('gte_threshold')\n",
    "maxrob = np.load(fn_prefix + \"maxrob.npy\")\n",
    "argmaxrob = np.load(fn_prefix + \"argmaxrob.npy\")\n",
    "rob_thresh_vec = np.load(fn_prefix + \"rob_thresh_vec.npy\")\n",
    "\n",
    "cbar_labels = [fr\"optimally robust range fraction for intervention\",\n",
    "               fr\"optimally robust slice left for intervention\"]\n",
    "for opt_i in range(2):\n",
    "    fig, ax = plt.subplots(1, figsize=(11,7))\n",
    "    colormap = copy.copy(cm.RdPu_r)\n",
    "    if opt_i == 0:\n",
    "        vmax = 1; vmin = 0\n",
    "    else:\n",
    "        # vmax = max(slice_left_all); vmin = min(slice_left_all)\n",
    "        # vmax = slice_left_all[np.nanmax(argmaxrob[:,9,1]).astype(int)] / ncell_tot; vmin=0\n",
    "        vmax = 1; vmin = 0\n",
    "    normalize = colors.Normalize(vmin=vmin, vmax=vmax)\n",
    "\n",
    "    all_markers = ['o','^','s','D']\n",
    "    all_linestyles = ['dotted', 'dashdot', 'dashed', 'solid']\n",
    "    C_i_samples = [0,3,6,9]\n",
    "    # C_i_samples = [9]\n",
    "    for line_i, C_i in enumerate(C_i_samples):\n",
    "        plot_vec = np.ones(len(rob_thresh_vec)) * np.nan\n",
    "        c_vec = np.ones(len(rob_thresh_vec)) * np.nan\n",
    "        for thresh_i, thresh in enumerate(rob_thresh_vec):\n",
    "            if thresh_i % 2 == 0: continue\n",
    "            # Get the maximum robustness across (ncell, sl) at this C \n",
    "            if maxrob[thresh_i, C_i] < 1:\n",
    "                plot_vec[thresh_i] = maxrob[thresh_i, C_i]\n",
    "            if not np.isnan(plot_vec[thresh_i]):\n",
    "                if opt_i == 0:\n",
    "                    c_vec[thresh_i] = ncell_vec[int(argmaxrob[thresh_i, C_i][opt_i])] / ncell_tot\n",
    "                else:\n",
    "                    c_vec[thresh_i] = slice_left_all[int(argmaxrob[thresh_i, C_i][opt_i])] / ncell_tot\n",
    "        scatter = ax.scatter(rob_thresh_vec, plot_vec, cmap=colormap, norm=normalize,\n",
    "                            c=c_vec, marker=all_markers[line_i])#, s=60)\n",
    "        ax.scatter([], [], label=fr\"$C~/~k_{{max}}=${np.round(C_vec[C_i]/ncell_tot, 1)}\", \n",
    "                   s=60, c='black', marker=all_markers[line_i])\n",
    "    cbar = fig.colorbar(scatter, ax=ax, location=\"right\", shrink=0.8)\n",
    "    cbar.set_label(cbar_labels[opt_i], rotation=-90, labelpad=30)\n",
    "    ax.set_ylabel(fr\"$\\text{{max}}(\\omega)$\")\n",
    "    ax.set_xlabel(fr\"target {metric_lab}\")\n",
    "    ax.legend()\n",
    "    # ax.axvline(0.5, ls='--', c='k', lw=5)\n",
    "    fn = fig_prefix + f\"/maxrob_{opt_i}.png\"\n",
    "    # fig.savefig(fn, bbox_inches='tight')"
   ]
  },
  {
   "cell_type": "code",
   "execution_count": null,
   "id": "47662c80-5486-4e51-be00-db91064ee01c",
   "metadata": {
    "tags": []
   },
   "outputs": [],
   "source": [
    "set_globals('gte_thresh_results')\n",
    "maxrob = np.load(fn_prefix + \"maxrob.npy\")\n",
    "argmaxrob = np.load(fn_prefix + \"argmaxrob.npy\")\n",
    "rob_thresh_vec = np.load(fn_prefix + \"rob_thresh_vec.npy\")\n",
    "\n",
    "with h5py.File(fn_prefix + \"/phase_flat.h5\", \"r\") as phase_handle:\n",
    "    data_key = \"0.0/0.0/0.0/0.0/phase\"\n",
    "    phase_slice_zeroeps = phase_handle[data_key][:]\n",
    "    nochange_zeroeps = phase_handle[\"0.0/0.0/0.0/0.0/metric_nochange\"][()]\n",
    "\n",
    "cbar_labels = [fr\"optimal range fraction for intervention\",\n",
    "               fr\"optimal slice left for intervention\"]\n",
    "for opt_i in range(2):\n",
    "    fig, ax = plt.subplots(1, figsize=(11,7))\n",
    "    colormap = copy.copy(cm.RdPu_r)\n",
    "    if opt_i == 0:\n",
    "        vmax = 1; vmin = 0\n",
    "    else:\n",
    "        # vmax = max(slice_left_all); vmin = min(slice_left_all)\n",
    "        # vmax = slice_left_all[np.nanmax(argmaxrob[:,9,1]).astype(int)] / ncell_tot; vmin=0\n",
    "        vmax = 1; vmin = 0\n",
    "    normalize = colors.Normalize(vmin=vmin, vmax=vmax)\n",
    "\n",
    "    all_markers = ['o','^','s','D', 'H']\n",
    "    all_linestyles = ['dotted', 'dashdot', 'dashed', 'solid']\n",
    "    # C_i_samples = [2,4,6,9]\n",
    "    C_i_samples = [1,5,9]\n",
    "    # C_i_samples = [1,3,5,7,9]\n",
    "    # C_i_samples = [9]\n",
    "    for line_i, C_i in enumerate(C_i_samples):\n",
    "        plot_vec = np.ones(len(rob_thresh_vec)) * np.nan\n",
    "        c_vec = np.ones(len(rob_thresh_vec)) * np.nan\n",
    "        for thresh_i, thresh in enumerate(rob_thresh_vec):\n",
    "            # if thresh_i % 2 == 0: continue\n",
    "            # Get the maximum robustness across (ncell, sl) at this C \n",
    "            if maxrob[thresh_i, C_i] < 1:\n",
    "                plot_vec[thresh_i] = maxrob[thresh_i, C_i]\n",
    "            if not np.isnan(plot_vec[thresh_i]):\n",
    "                if opt_i == 0:\n",
    "                    c_vec[thresh_i] = ncell_vec[int(argmaxrob[thresh_i, C_i][opt_i])] / ncell_tot\n",
    "                else:\n",
    "                    c_vec[thresh_i] = slice_left_all[int(argmaxrob[thresh_i, C_i][opt_i])] / ncell_tot\n",
    "        scatter = ax.scatter(plot_vec, rob_thresh_vec, cmap=colormap, norm=normalize,\n",
    "                            c=c_vec, marker=all_markers[line_i])#, s=60)\n",
    "        ax.scatter([], [], label=fr\"$C~/~k_{{max}}=${np.round(C_vec[C_i]/ncell_tot, 1)}\", \n",
    "                   s=60, c='black', marker=all_markers[line_i])\n",
    "    cbar = fig.colorbar(scatter, ax=ax, location=\"right\", shrink=0.8)\n",
    "    cbar.set_label(cbar_labels[opt_i], rotation=-90, labelpad=30)\n",
    "    ax.set_xlabel(fr\"$\\omega$ requirement\")\n",
    "    ax.set_ylabel(fr\"max(target {metric_lab})\")\n",
    "    # ax.legend()\n",
    "    handles, labels = ax.get_legend_handles_labels()\n",
    "    ax.legend(handles[::-1], labels[::-1])\n",
    "    ax.axhline(nochange_zeroeps, ls='--', c='k', lw=5)\n",
    "    # fn = fig_prefix + f\"/maxrob_{opt_i}.png\"\n",
    "    # fig.savefig(fn, bbox_inches='tight')"
   ]
  },
  {
   "cell_type": "code",
   "execution_count": null,
   "id": "956e7186-b533-4965-9677-6610ce79756b",
   "metadata": {
    "tags": []
   },
   "outputs": [],
   "source": [
    "ax.gca()"
   ]
  },
  {
   "cell_type": "code",
   "execution_count": null,
   "id": "0a83ba59-e2bb-47fc-a1c0-b98c4b88da57",
   "metadata": {
    "tags": []
   },
   "outputs": [],
   "source": [
    "import matplotlib.pyplot as plt\n",
    "# Create the figure\n",
    "fig, axes = plt.subplots(2, 2, figsize=(8, 6))\n",
    "\n",
    "# Adding the colorbar to the bottom right subplot\n",
    "sm = cm.ScalarMappable(cmap='viridis')\n",
    "cbar = fig.colorbar(sm, ax=axes[1,:])"
   ]
  },
  {
   "cell_type": "code",
   "execution_count": null,
   "id": "c2f720f3-e7cc-4fc6-9c64-2b1f87da5462",
   "metadata": {
    "tags": []
   },
   "outputs": [],
   "source": [
    "import matplotlib.pyplot as plt\n",
    "from matplotlib import cm\n",
    "\n",
    "# Create the figure\n",
    "fig, axes = plt.subplots(2, 2, figsize=(8, 6))\n",
    "\n",
    "# Adjust the overall layout to allocate more space to the subplots\n",
    "fig.subplots_adjust(left=0.1, right=0.88, bottom=0.1, top=0.9, wspace=0.3, hspace=0.3)\n",
    "\n",
    "# Adding the colorbar to the bottom right subplot, reducing its width and moving it closer\n",
    "sm = cm.ScalarMappable(cmap='viridis')\n",
    "cbar_ax = fig.add_axes([0.89, 0.15, 0.02, 0.7])  # [left, bottom, width, height]\n",
    "fig.colorbar(sm, cax=cbar_ax, label='colorbar label')\n",
    "\n",
    "# Optional: Titles or labels for clarity\n",
    "axes[0, 0].set_title(\"Top Left\")\n",
    "axes[0, 1].set_title(\"Top Right\")\n",
    "axes[1, 0].set_title(\"Bottom Left\")\n",
    "axes[1, 1].set_title(\"Bottom Right\")\n",
    "\n",
    "plt.show()"
   ]
  },
  {
   "cell_type": "code",
   "execution_count": null,
   "id": "46b64384-b043-4f76-b8c8-98d0f2ea9dc2",
   "metadata": {
    "tags": []
   },
   "outputs": [],
   "source": [
    "import matplotlib.pyplot as plt\n",
    "import numpy as np\n",
    "\n",
    "# Create subplots\n",
    "fig, axs = plt.subplots(2, 2)\n",
    "\n",
    "# Plot data in each subplot\n",
    "for ax in axs.flat:\n",
    "    im = ax.pcolormesh(np.random.random((10, 10)), cmap='viridis')\n",
    "    ax.set_xlabel('some shit')\n",
    "\n",
    "# Create a colorbar for the bottom row\n",
    "cbar_ax = fig.add_axes([0.15, -0.1, 0.7, 0.05])  # [left, bottom, width, height]\n",
    "fig.colorbar(im, cax=cbar_ax, orientation='horizontal', label='colorbar label')\n",
    "\n",
    "plt.show()"
   ]
  },
  {
   "cell_type": "code",
   "execution_count": null,
   "id": "ba8db344-8cce-4e1b-9cae-1ff49113cc56",
   "metadata": {
    "tags": []
   },
   "outputs": [],
   "source": [
    "set_globals('gte_thresh_results')\n",
    "maxrob = np.load(fn_prefix + \"maxrob.npy\")\n",
    "argmaxrob = np.load(fn_prefix + \"argmaxrob.npy\")\n",
    "rob_thresh_vec = np.load(fn_prefix + \"rob_thresh_vec.npy\")\n",
    "omega_samples = np.linspace(0, 1, 40)\n",
    "\n",
    "with h5py.File(fn_prefix + \"/phase_flat.h5\", \"r\") as phase_handle:\n",
    "    data_key = \"0.0/0.0/0.0/0.0/phase\"\n",
    "    phase_slice_zeroeps = phase_handle[data_key][:]\n",
    "    nochange_zeroeps = phase_handle[\"0.0/0.0/0.0/0.0/metric_nochange\"][()]\n",
    "\n",
    "cbar_labels = [fr\"optimal range fraction for intervention\",\n",
    "               fr\"optimal slice left for intervention\"]\n",
    "for opt_i in range(2):\n",
    "    fig, ax = plt.subplots(1, figsize=(11,7))\n",
    "    colormap = copy.copy(cm.RdPu_r)\n",
    "    if opt_i == 0:\n",
    "        vmax = 1; vmin = 0\n",
    "    else:\n",
    "        # vmax = max(slice_left_all); vmin = min(slice_left_all)\n",
    "        # vmax = slice_left_all[np.nanmax(argmaxrob[:,9,1]).astype(int)] / ncell_tot; vmin=0\n",
    "        vmax = 1; vmin = 0\n",
    "    normalize = colors.Normalize(vmin=vmin, vmax=vmax)\n",
    "\n",
    "    all_markers = ['o','^','s','D']\n",
    "    all_linestyles = ['dotted', 'dashdot', 'dashed', 'solid']\n",
    "    # C_i_samples = [0,3,6,9]\n",
    "    C_i_samples = [9]\n",
    "    for line_i, C_i in enumerate(C_i_samples):\n",
    "        # Select metric threshold indices as close as possible to desired omega samples\n",
    "        closest_thresh_i = np.array([np.abs(maxrob[:,C_i] - val).argmin() for val in omega_samples])\n",
    "        closest_thresh_i = []\n",
    "        for i, omega in enumerate(omega_samples):\n",
    "            closest_i = np.abs(maxrob[:,C_i] - omega).argmin()\n",
    "            if maxrob[closest_i, C_i] == 1: continue\n",
    "            closest_thresh_i.append(closest_i)\n",
    "        closest_thresh_i = np.array(closest_thresh_i)\n",
    "        # Filter out any repeats\n",
    "        rpt_filt = np.concatenate(((np.diff(closest_thresh_i) == 0), [False]))\n",
    "        closest_thresh_i = closest_thresh_i[~rpt_filt]\n",
    "        \n",
    "        plot_vec = np.ones(len(rob_thresh_vec)) * np.nan\n",
    "        c_vec = np.ones(len(rob_thresh_vec)) * np.nan\n",
    "        \n",
    "        # for thresh_i, thresh in enumerate(rob_thresh_vec):\n",
    "        #     if thresh_i % 2 == 0: continue\n",
    "        for thresh_i in closest_thresh_i:\n",
    "            # Get the maximum robustness across (ncell, sl) at this C \n",
    "            if maxrob[thresh_i, C_i] < 1:\n",
    "                plot_vec[thresh_i] = maxrob[thresh_i, C_i]\n",
    "            if not np.isnan(plot_vec[thresh_i]):\n",
    "                if opt_i == 0:\n",
    "                    c_vec[thresh_i] = ncell_vec[int(argmaxrob[thresh_i, C_i][opt_i])] / ncell_tot\n",
    "                else:\n",
    "                    c_vec[thresh_i] = slice_left_all[int(argmaxrob[thresh_i, C_i][opt_i])] / ncell_tot\n",
    "        \n",
    "        sm = cm.ScalarMappable(cmap=colormap, norm=norm)\n",
    "        bar_colors = colormap(norm(c_vec))\n",
    "        bar = ax.bar(plot_vec, rob_thresh_vec, color=bar_colors, width=0.03) \n",
    "\n",
    "    cbar = plt.colorbar(sm, label=cbar_labels[opt_i], ax=ax)\n",
    "    ax.set_xlabel(fr\"$\\omega$ requirement\")\n",
    "    ax.set_ylabel(fr\"max(target {metric_lab})\")\n",
    "    ax.set_ylim(nochange_zeroeps, 1.025)\n",
    "    # ax.legend()\n",
    "    # fn = fig_prefix + f\"/maxrob_{opt_i}.png\"\n",
    "    # fig.savefig(fn, bbox_inches='tight')"
   ]
  },
  {
   "cell_type": "markdown",
   "id": "0ee4e6a3-e227-48b5-9a21-25b664383c85",
   "metadata": {
    "jp-MarkdownHeadingCollapsed": true,
    "tags": []
   },
   "source": [
    "### Compare optimal strategies between metapop metrics"
   ]
  },
  {
   "cell_type": "code",
   "execution_count": null,
   "id": "7b4e837e-7f9e-4882-9850-ebd03776c8b3",
   "metadata": {
    "tags": []
   },
   "outputs": [],
   "source": [
    "fig, ax = plt.subplots(1, figsize=(11,7))\n",
    "# colormap = copy.copy(cm.RdPu_r)\n",
    "# colormap = copy.copy(cm.PuBu_r)\n",
    "colormap = copy.copy(cm.copper)\n",
    "vmin = 0; vmax = 1\n",
    "normalize = colors.Normalize(vmin=vmin, vmax=vmax)\n",
    "colormap_2 = copy.copy(cm.YlGn_r)\n",
    "normalize_2 = colors.Normalize(vmin=vmin, vmax=vmax)\n",
    "C_i = 9\n",
    "markers = ['o', '^']\n",
    "res_labs = [f'$<{metric}>_{{meta}}$', f'$P(<{metric}>_k \\geq 0.5)$']\n",
    "# for res_i, results_pre in enumerate(['meta_mean_results']):#, 'gte_thresh_results']):\n",
    "for res_i, results_pre in enumerate(['meta_mean_results', 'gte_thresh_results']):\n",
    "    set_globals(results_pre)\n",
    "    maxrob = np.load(fn_prefix + \"maxrob.npy\")\n",
    "    argmaxrob = np.load(fn_prefix + \"argmaxrob.npy\")\n",
    "    rob_thresh_vec = np.load(fn_prefix + \"rob_thresh_vec.npy\")\n",
    "    \n",
    "    opt_ncell = np.ones_like(rob_thresh_vec) * np.nan\n",
    "    opt_sl = np.ones_like(rob_thresh_vec) * np.nan\n",
    "    for thresh_i, thresh in enumerate(rob_thresh_vec):\n",
    "        if maxrob[thresh_i, C_i] < 1:\n",
    "            opt_ncell[thresh_i] = ncell_vec[int(argmaxrob[thresh_i, C_i][0])]\n",
    "            opt_sl[thresh_i] = slice_left_all[int(argmaxrob[thresh_i, C_i][1])]\n",
    "    opt_ncell = opt_ncell / ncell_tot\n",
    "    opt_sl = opt_sl / ncell_tot\n",
    "    # ax.plot(opt_sl, opt_ncell, c='k', zorder=-1)\n",
    "    scatter = ax.scatter(opt_sl, opt_ncell, cmap=colormap, norm=normalize, c=maxrob[:, C_i], marker=markers[res_i], s=200)\n",
    "    ax.scatter([], [], c='k', marker=markers[res_i], label=res_labs[res_i])\n",
    "cbar = fig.colorbar(scatter, ax=ax, location=\"right\", shrink=0.8)\n",
    "cbar.set_label(r\"$\\omega$ requirement\", rotation=-90, labelpad=30)\n",
    "# ax.set_xlabel(fr\"optimal $n_{{cell}}$\")\n",
    "ax.set_ylabel(fr\"optimal range fraction for intervention\")\n",
    "# ax.set_ylabel(fr\"optimal $sl$\")\n",
    "ax.set_xlabel(fr\"optimal slice starting point\")\n",
    "ax.legend()\n",
    "# ymin = -0.05; ymax = 1\n",
    "xmin = min(slice_left_all/ncell_tot) - np.diff(slice_left_all/ncell_tot)[0]\n",
    "# xmax = max(slice_left_all/ncell_tot)\n",
    "xmax = slice_left_all[-23]/ncell_tot\n",
    "ax.set_xlim(xmin,xmax)\n",
    "# ymin = min(ncell_vec/ncell_tot)\n",
    "# ymax = max(ncell_vec/ncell_tot)\n",
    "ymin = ncell_vec[6] / ncell_tot\n",
    "ymax = ncell_vec[-5] / ncell_tot\n",
    "ax.set_ylim(ymin, ymax)\n",
    "grid_style = {\n",
    "    'color': 'k', \n",
    "    'linewidth': 1, \n",
    "    'linestyle': '-',\n",
    "    'alpha': 0.15\n",
    "}\n",
    "ax.hlines(ncell_vec/ncell_tot, xmin, xmax, zorder=-1, **grid_style)\n",
    "ax.vlines(slice_left_all[::2]/ncell_tot, ymin, ymax, zorder=-1, **grid_style)\n",
    "# sl_constraint = 1-(ncell_vec/ncell_tot)\n",
    "ncell_constraint = 1 - (slice_left_all/ncell_tot)\n",
    "# ax.fill_between(ncell_vec/ncell_tot, np.repeat(1, ncell_vec.size), sl_constraint, where=(1 > sl_constraint), color='gray', alpha=1, label='Shaded Area')\n",
    "ax.fill_between(slice_left_all/ncell_tot, np.repeat(1, slice_left_all.size), ncell_constraint, where=(1 > ncell_constraint), color='gray', alpha=1, label='Shaded Area')\n",
    "fn = f\"shared_figs/comparing_optima.png\"\n",
    "fig.savefig(fn, bbox_inches='tight')"
   ]
  },
  {
   "cell_type": "markdown",
   "id": "4fe72d5b-6bde-4268-aa90-c629e43406b9",
   "metadata": {
    "jp-MarkdownHeadingCollapsed": true,
    "tags": []
   },
   "source": [
    "#### Remake with tau_i on x axis"
   ]
  },
  {
   "cell_type": "code",
   "execution_count": null,
   "id": "666c2bd2-59b0-4722-bfc1-0c7fb9b78b74",
   "metadata": {
    "tags": []
   },
   "outputs": [],
   "source": [
    "fig, ax = plt.subplots(1, figsize=(11,7))\n",
    "colormap = copy.copy(cm.copper)\n",
    "vmin = 0; vmax = 1\n",
    "normalize = colors.Normalize(vmin=vmin, vmax=vmax)\n",
    "colormap_2 = copy.copy(cm.YlGn_r)\n",
    "normalize_2 = colors.Normalize(vmin=vmin, vmax=vmax)\n",
    "C_i = 9\n",
    "markers = ['o', '^']\n",
    "res_labs = [f'$<{metric}>_{{meta}}$', f'$P(<{metric}>_k \\geq 0.5)$']\n",
    "for res_i, results_pre in enumerate(['meta_mean_results', 'gte_thresh_results']):\n",
    "    set_globals(results_pre)\n",
    "    maxrob = np.load(fn_prefix + \"maxrob.npy\")\n",
    "    argmaxrob = np.load(fn_prefix + \"argmaxrob.npy\")\n",
    "    rob_thresh_vec = np.load(fn_prefix + \"rob_thresh_vec.npy\")\n",
    "    \n",
    "    opt_ncell = np.ones_like(rob_thresh_vec) * np.nan\n",
    "    opt_sl = np.ones_like(rob_thresh_vec) * np.nan\n",
    "    opt_taui = np.ones_like(rob_thresh_vec) * np.nan\n",
    "    for thresh_i, thresh in enumerate(rob_thresh_vec):\n",
    "        if maxrob[thresh_i, C_i] < 1:\n",
    "            opt_ncell_i = int(argmaxrob[thresh_i, C_i][0])\n",
    "            opt_ncell[thresh_i] = ncell_vec[opt_ncell_i]\n",
    "            opt_sl_i = int(argmaxrob[thresh_i, C_i][1])\n",
    "            opt_sl[thresh_i] = slice_left_all[opt_sl_i]\n",
    "            opt_taui[thresh_i] = np.mean(tau_sorted[opt_sl_i:opt_sl_i+opt_ncell_i])\n",
    "    opt_ncell = opt_ncell / ncell_tot\n",
    "    opt_sl = opt_sl / ncell_tot\n",
    "    scatter = ax.scatter(opt_taui, opt_ncell, cmap=colormap, norm=normalize, c=maxrob[:, C_i], marker=markers[res_i], s=200)\n",
    "    ax.scatter([], [], c='k', marker=markers[res_i], label=res_labs[res_i])\n",
    "cbar = fig.colorbar(scatter, ax=ax, location=\"right\", shrink=0.8)\n",
    "cbar.set_label(r\"$\\omega$ requirement\", rotation=-90, labelpad=30)\n",
    "ax.set_ylabel(fr\"optimal range fraction for intervention\")\n",
    "ax.set_xlabel(fr\"optimal average initial tau\")\n",
    "ax.legend()\n",
    "# ymin = -0.05; ymax = 1\n",
    "xmin = min(slice_left_all/ncell_tot) - np.diff(slice_left_all/ncell_tot)[0]\n",
    "# xmax = max(slice_left_all/ncell_tot)\n",
    "xmax = slice_left_all[-23]/ncell_tot\n",
    "# ax.set_xlim(xmin,xmax)\n",
    "# ymin = min(ncell_vec/ncell_tot)\n",
    "# ymax = max(ncell_vec/ncell_tot)\n",
    "ymin = ncell_vec[6] / ncell_tot\n",
    "ymax = ncell_vec[-5] / ncell_tot\n",
    "ax.set_ylim(ymin, ymax)\n",
    "ncell_constraint = 1 - (slice_left_all/ncell_tot)\n",
    "# fn = f\"shared_figs/comparing_optima.png\"\n",
    "# fig.savefig(fn, bbox_inches='tight')"
   ]
  },
  {
   "cell_type": "markdown",
   "id": "44406a43-acfb-4865-854c-17b96bff8504",
   "metadata": {
    "jp-MarkdownHeadingCollapsed": true,
    "tags": []
   },
   "source": [
    "#### max meta metric vs $\\omega$ with both metrics on same plot"
   ]
  },
  {
   "cell_type": "code",
   "execution_count": null,
   "id": "b7c66a03-45db-49c8-aebc-ced374d3d63e",
   "metadata": {
    "tags": []
   },
   "outputs": [],
   "source": [
    "cbar_labels = [fr\"optimal range fraction for intervention\",\n",
    "               fr\"optimal slice left for intervention\"]\n",
    "for opt_i in range(2):\n",
    "    fig, ax = plt.subplots(1, figsize=(11,7))\n",
    "    colormap = copy.copy(cm.RdPu_r)\n",
    "    if opt_i == 0:\n",
    "        vmax = 1; vmin = 0\n",
    "    else:\n",
    "        # vmax = max(slice_left_all); vmin = min(slice_left_all)\n",
    "        # vmax = slice_left_all[np.nanmax(argmaxrob[:,9,1]).astype(int)] / ncell_tot; vmin=0\n",
    "        vmax = 1; vmin = 0\n",
    "    normalize = colors.Normalize(vmin=vmin, vmax=vmax)\n",
    "\n",
    "    all_markers = ['o','^','s','D']\n",
    "    all_linestyles = ['dotted', 'dashdot', 'dashed', 'solid']\n",
    "    C_i = 9\n",
    "    # for line_i, C_i in enumerate(C_i_samples):\n",
    "    for res_i, results_pre in enumerate(['meta_mean_results', 'gte_thresh_results']):\n",
    "        set_globals(results_pre)\n",
    "        maxrob = np.load(fn_prefix + \"maxrob.npy\")\n",
    "        argmaxrob = np.load(fn_prefix + \"argmaxrob.npy\")\n",
    "        rob_thresh_vec = np.load(fn_prefix + \"rob_thresh_vec.npy\")\n",
    "        \n",
    "        plot_vec = np.ones(len(rob_thresh_vec)) * np.nan\n",
    "        c_vec = np.ones(len(rob_thresh_vec)) * np.nan\n",
    "        for thresh_i, thresh in enumerate(rob_thresh_vec):\n",
    "            if thresh_i % 2 == 0: continue\n",
    "            # Get the maximum robustness across (ncell, sl) at this C \n",
    "            if maxrob[thresh_i, C_i] < 1:\n",
    "                plot_vec[thresh_i] = maxrob[thresh_i, C_i]\n",
    "            if not np.isnan(plot_vec[thresh_i]):\n",
    "                if opt_i == 0:\n",
    "                    c_vec[thresh_i] = ncell_vec[int(argmaxrob[thresh_i, C_i][opt_i])] / ncell_tot\n",
    "                else:\n",
    "                    c_vec[thresh_i] = slice_left_all[int(argmaxrob[thresh_i, C_i][opt_i])] / ncell_tot\n",
    "        scatter = ax.scatter(plot_vec, rob_thresh_vec, cmap=colormap, norm=normalize,\n",
    "                            c=c_vec, marker=all_markers[res_i])#, s=60)\n",
    "        ax.scatter([], [], label=fr\"{metric_lab}\", \n",
    "                   s=60, c='black', marker=all_markers[res_i])\n",
    "    cbar = fig.colorbar(scatter, ax=ax, location=\"right\", shrink=0.8)\n",
    "    cbar.set_label(cbar_labels[opt_i], rotation=-90, labelpad=30)\n",
    "    ax.set_xlabel(fr\"$\\omega$ requirement\")\n",
    "    ax.set_ylabel(fr\"max(target meta metric)\")\n",
    "    ax.legend()\n",
    "    # ax.axvline(0.5, ls='--', c='k', lw=5)\n",
    "    # fn = fig_prefix + f\"/maxrob_{opt_i}.png\"\n",
    "    # fig.savefig(fn, bbox_inches='tight')"
   ]
  },
  {
   "cell_type": "markdown",
   "id": "e5c0aeac-781f-4158-a789-887f89590509",
   "metadata": {
    "jp-MarkdownHeadingCollapsed": true,
    "tags": []
   },
   "source": [
    "#### Map change in optimal strategies between results"
   ]
  },
  {
   "cell_type": "code",
   "execution_count": null,
   "id": "b5b6406e-fc42-4491-a3dd-f7ae5885490e",
   "metadata": {
    "tags": []
   },
   "outputs": [],
   "source": [
    "fn = f\"meta_mean_results/data/Aeff_{Aeff}/tfinal_{t_final}/metric_{metric}/avg_tauc_k_rob.npy\"\n",
    "avg_tauc_k_rob_mmean = np.load(fn)\n",
    "fn = f\"gte_thresh_results/data/Aeff_{Aeff}/tfinal_{t_final}/metric_{metric}/avg_tauc_k_rob.npy\"\n",
    "avg_tauc_k_rob_gtet = np.load(fn)\n",
    "\n",
    "fig, ax = plt.subplots(1, figsize=(10,10))\n",
    "\n",
    "# First replace nans with 0 so we can subtract\n",
    "imshow_mat = np.where(np.isnan(avg_tauc_k_rob_gtet), 0, avg_tauc_k_rob_gtet) - np.where(np.isnan(avg_tauc_k_rob_mmean), 0, avg_tauc_k_rob_mmean)\n",
    "# Now make pixels not in either map nan\n",
    "nan_pixel_filt = np.isnan(avg_tauc_k_rob_gtet) & np.isnan(avg_tauc_k_rob_mmean)\n",
    "imshow_mat[nan_pixel_filt] = np.nan\n",
    "# Crop out border where all nans\n",
    "nonzero_indices = np.nonzero(~np.isnan(imshow_mat))\n",
    "row_min, row_max = nonzero_indices[0].min(), nonzero_indices[0].max()\n",
    "col_min, col_max = nonzero_indices[1].min(), nonzero_indices[1].max()\n",
    "imshow_mat = imshow_mat[row_min:row_max + 1, col_min:col_max + 1]\n",
    "\n",
    "vmin = np.nanmin(imshow_mat); vmax = np.nanmax(imshow_mat)\n",
    "center = 0\n",
    "cmap = cm.PuOr.copy()\n",
    "# cmap = cm.PiYG.copy()\n",
    "norm = colors.TwoSlopeNorm(vmin=vmin, vcenter=center, vmax=vmax)\n",
    "cmap.set_bad(color='black', alpha=0.3)\n",
    "imshow = ax.imshow(imshow_mat, cmap=cmap, norm=norm)\n",
    "cbar = fig.colorbar(imshow, ax=ax, location=\"right\", shrink=0.8)\n",
    "ax.set_xlabel(fr\"Change in $\\hat{{\\tau}}$ gte thresh minus mean\")\n",
    "ax.set_xticks([])\n",
    "ax.set_yticks([])\n",
    "# fn = fig_prefix + f\"map_example.png\"\n",
    "# fig.savefig(fn, bbox_inches='tight')"
   ]
  },
  {
   "cell_type": "markdown",
   "id": "1ce238c2-b70f-4516-9043-cb2c40bf29c8",
   "metadata": {
    "jp-MarkdownHeadingCollapsed": true,
    "tags": []
   },
   "source": [
    "### $\\omega$ sensitivity, map & $\\tau$ axis viz"
   ]
  },
  {
   "cell_type": "code",
   "execution_count": null,
   "id": "e4b1f335-f637-47e9-9b90-015fcb9ec701",
   "metadata": {
    "tags": []
   },
   "outputs": [],
   "source": [
    "# Read in maps and convert fdm to tau\n",
    "ul_coord = [1500, 2800]\n",
    "lr_coord = [2723, 3905]\n",
    "usecols = np.arange(ul_coord[0],lr_coord[0])\n",
    "sdmfn = \"../shared_maps/SDM_1995.asc\"\n",
    "sdm = np.loadtxt(sdmfn,skiprows=6+ul_coord[1],\n",
    "                         max_rows=lr_coord[1], usecols=usecols)\n",
    "fdmfn = '../shared_maps/FDE_current_allregions.asc'\n",
    "fdm = np.loadtxt(fdmfn,skiprows=6+ul_coord[1], \n",
    "                         max_rows=lr_coord[1], usecols=usecols)\n",
    "sdm, fdm = adjustmaps([sdm, fdm])\n",
    "delta_t = 30\n",
    "b_raster = delta_t / np.power(-np.log(1-fdm), 1/c)\n",
    "tau_raster = b_raster * gamma(1+1/c)\n",
    "maps_filt = (sdm > 0) & (fdm > 0)\n",
    "tau_flat = tau_raster[maps_filt]\n",
    "mapindices = np.argwhere(maps_filt)\n",
    "tau_argsort_ref = np.argsort(tau_flat)\n",
    "tau_sorted = tau_flat[tau_argsort_ref]"
   ]
  },
  {
   "cell_type": "code",
   "execution_count": null,
   "id": "79a2aa46-19a8-4f84-bd62-808ab0f45c60",
   "metadata": {
    "tags": []
   },
   "outputs": [],
   "source": [
    "# Define functions used for determining best step fit\n",
    "'''Note these actually are fit for the indices of allowed values, not the y values themselves'''\n",
    "def step_function1(x, threshold, value_low, value_high):\n",
    "    return np.where(x < threshold, value_low, value_high)\n",
    "def step_function2(x, threshold1, threshold2, value_btwn, value_out):\n",
    "    return np.where((x >= threshold1) & (x < threshold2), value_btwn, value_out)\n",
    "\n",
    "def stepfit1(X, y, y0_i):\n",
    "    def mse_loss(params):\n",
    "        \"\"\"Mean squared error for the step function fit.\"\"\"\n",
    "        threshold = params[0]\n",
    "        value_low = allowed_values[int(round(params[1]))]\n",
    "        value_high = allowed_values[int(round(params[2]))]\n",
    "        y_pred = step_function1(X, threshold, value_low, value_high)\n",
    "        return np.mean((y - y_pred) ** 2)\n",
    "    initial_guess = [0.5, 0.5, 0.5]\n",
    "    bounds = [(X.min(), X.max()), (y0_i, y0_i), (0, allowed_values.size - 1)]\n",
    "    result = scipy.optimize.differential_evolution(mse_loss, bounds)\n",
    "    return result\n",
    "def stepfit2(X, y, y0_i):\n",
    "    def mse_loss(params):\n",
    "        threshold1 = params[0]\n",
    "        threshold2 = params[1]\n",
    "        value_btwn = allowed_values[int(round(params[2]))]\n",
    "        value_out = allowed_values[int(round(params[3]))]\n",
    "        y_pred = step_function2(X, threshold1, threshold2, value_btwn, value_out)\n",
    "        return np.mean((y - y_pred) ** 2)\n",
    "    initial_guess = [0.5, 0.5, 0.5, 0.5]\n",
    "    bounds = [(X.min(), X.max()), (X.min(), X.max()), (0, allowed_values.size - 1), (y0_i, y0_i)]\n",
    "    result = scipy.optimize.differential_evolution(mse_loss, bounds)\n",
    "    return result\n",
    "\n",
    "step_funcs = [step_function1, step_function2]\n",
    "allowed_values = np.array([0, 1])"
   ]
  },
  {
   "cell_type": "markdown",
   "id": "5e067019-42f7-47bf-8f2d-1cdee4e9a8f7",
   "metadata": {
    "tags": []
   },
   "source": [
    "#### Compute and store step function fits per cell"
   ]
  },
  {
   "cell_type": "code",
   "execution_count": null,
   "id": "955e2870-e914-4da0-9764-3ffbb65f5fb8",
   "metadata": {
    "tags": []
   },
   "outputs": [],
   "source": [
    "from tqdm import tqdm\n",
    "C_i = 1\n",
    "\n",
    "# First, populate matrix recording which cells are in optima for a range of omega requirement\n",
    "omega_samples = np.linspace(0, 1, 50)\n",
    "# for res_i, results_pre in enumerate(['meta_mean_results', 'gte_thresh_results']):\n",
    "# for res_i, results_pre in enumerate(['distribution_avg']):\n",
    "for res_i, results_pre in enumerate(['gte_threshold']):\n",
    "    set_globals(results_pre)\n",
    "    maxrob = np.load(fn_prefix + \"maxrob.npy\")\n",
    "    argmaxrob = np.load(fn_prefix + \"argmaxrob.npy\")\n",
    "    rob_thresh_vec = np.load(fn_prefix + \"rob_thresh_vec.npy\")\n",
    "    \n",
    "    # Select metric threshold indices as close as possible to desired omega samples\n",
    "    closest_thresh_i = np.array([np.abs(maxrob[:,C_i] - val).argmin() for val in omega_samples])\n",
    "    closest_thresh_i = []\n",
    "    for i, omega in enumerate(omega_samples):\n",
    "        # closest_i = np.abs(maxrob[:,C_i] - omega).argmin()\n",
    "        closest_i = np.nanargmin(np.abs(maxrob[:,C_i] - omega))\n",
    "        # print(closest_i)\n",
    "        # print(maxrob[:,C_i])\n",
    "        if maxrob[closest_i, C_i] == 1: continue\n",
    "        closest_thresh_i.append(closest_i)\n",
    "    closest_thresh_i = np.array(closest_thresh_i)\n",
    "    # Filter out any repeats\n",
    "    rpt_filt = np.concatenate(((np.diff(closest_thresh_i) == 0), [False]))\n",
    "    closest_thresh_i = closest_thresh_i[~rpt_filt]\n",
    "    # plt.plot(rob_thresh_vec, maxrob[:,9])\n",
    "    # plt.scatter(rob_thresh_vec[closest_thresh_i], maxrob[:,C_i][closest_thresh_i])\n",
    "    \n",
    "    # For each omega sample, record which cells are included in optima \n",
    "    inoptima_vec = np.zeros((tau_flat.size, closest_thresh_i.size)).astype('bool')\n",
    "    for omega_sample_i, metric_thresh_i in enumerate(closest_thresh_i):\n",
    "        opt_ncell_i, opt_sl_i = argmaxrob[metric_thresh_i, C_i].astype(int)\n",
    "        opt_ncell = ncell_vec[opt_ncell_i]\n",
    "        opt_sl = slice_left_all[opt_sl_i]\n",
    "        '''Note that we assume the tau axis of inoptima_vec is in sorted order'''\n",
    "        inoptima_vec[opt_sl:opt_sl+opt_ncell, omega_sample_i] = True\n",
    "    np.save(fn_prefix + \"inoptima_vec.npy\", inoptima_vec)\n",
    "    \n",
    "    # Now, fit a step function to each cell's data and store information based on that\n",
    "    stepfit_T1 = np.ones(tau_flat.size) * np.nan\n",
    "    stepfit_T2 = np.ones(tau_flat.size) * np.nan\n",
    "    total_inoptima = np.ones(tau_flat.size) * np.nan\n",
    "    for k in tqdm(range(tau_flat.size)):\n",
    "        # Retrieve and relabel cell k's data for fitting\n",
    "        X = maxrob[:, C_i][closest_thresh_i]\n",
    "        y = inoptima_vec[k]\n",
    "        y0_i = np.argwhere(y[0] == allowed_values)[0][0]\n",
    "        y0 = allowed_values[y0_i]\n",
    "        # Check if always in/ex-cluded from optima\n",
    "        if np.all(y == y0):\n",
    "            # Encode 2 -> always excluded, 3 -> always included\n",
    "            stepfit_T1[k] = y0 + 2\n",
    "            total_inoptima[k] = y0*y.size \n",
    "        # Perform fitting otherwise\n",
    "        else:\n",
    "            # Determine the best fit\n",
    "            # fit_results = [stepfit1(X,y,y0_i), stepfit2(X,y,y0_i)]\n",
    "            # best_fit_i = np.argmin([res.fun for res in fit_results])\n",
    "            # best_fit = fit_results[best_fit_i]\n",
    "            best_fit = stepfit1(X,y,y0_i); best_fit_i = 0\n",
    "            # Use y0 to determine the sign\n",
    "            sign = 1 if y0 == 0 else -1\n",
    "            # Store the threshold values with direction from sign\n",
    "            # stepfit_T1[k] = sign * allowed_values[int(round(best_fit.x[0]))]\n",
    "            stepfit_T1[k] = sign * best_fit.x[0]\n",
    "            if best_fit_i == 1:\n",
    "                # stepfit_T2[k] = sign * allowed_values[int(round(best_fit.x[1]))]\n",
    "                stepfit_T2[k] = sign * best_fit.x[1]\n",
    "            total_inoptima[k] = np.count_nonzero(y == 1)\n",
    "    np.save(fn_prefix + \"stepfit_T1.npy\", stepfit_T1)\n",
    "    np.save(fn_prefix + \"stepfit_T2.npy\", stepfit_T2)\n",
    "    np.save(fn_prefix + \"total_inoptima.npy\", total_inoptima)\n",
    "    np.save(fn_prefix + \"closest_thresh_i.npy\", closest_thresh_i)"
   ]
  },
  {
   "cell_type": "markdown",
   "id": "5612d345-9971-4774-a2d6-96d45994ea4b",
   "metadata": {
    "tags": []
   },
   "source": [
    "##### Interactive step function fitting"
   ]
  },
  {
   "cell_type": "code",
   "execution_count": null,
   "id": "20f35e3f-7ad2-4e9c-8e17-11b60ebb5fc3",
   "metadata": {
    "tags": []
   },
   "outputs": [],
   "source": [
    "from ipywidgets import interact\n",
    "import ipywidgets as widgets\n",
    "\n",
    "# Read in / set constants\n",
    "results_pre = 'gte_thresh'\n",
    "set_globals(results_pre)\n",
    "maxrob = np.load(fn_prefix + \"maxrob.npy\")\n",
    "argmaxrob = np.load(fn_prefix + \"argmaxrob.npy\")\n",
    "rob_thresh_vec = np.load(fn_prefix + \"rob_thresh_vec.npy\")\n",
    "\n",
    "C_i = 2\n",
    "tauhat_min = np.round(C_vec[C_i]/ncell_tot, 2)\n",
    "# stepfit_T1 = np.load(fn_prefix + f\"{tauhat_min}/stepfit_T1.npy\")\n",
    "total_inoptima = np.load(fn_prefix + f\"{tauhat_min}/total_inoptima.npy\")\n",
    "closest_thresh_i = np.load(fn_prefix + f\"{tauhat_min}/closest_thresh_i.npy\")\n",
    "inoptima_vec = np.load(fn_prefix + f\"{tauhat_min}/inoptima_vec.npy\")"
   ]
  },
  {
   "cell_type": "code",
   "execution_count": null,
   "id": "f1c923bc-15ea-4f85-bd1e-40d7f2f1f7b7",
   "metadata": {
    "tags": []
   },
   "outputs": [],
   "source": [
    "'''Note these actually are fit for the indices of allowed values, not the y values themselves'''\n",
    "def step_function1(x, threshold, value_low, value_high):\n",
    "    return np.where(x < threshold, value_low, value_high)\n",
    "def step_function2(x, threshold1, threshold2, value_btwn, value_out):\n",
    "    return np.where((x >= threshold1) & (x < threshold2), value_btwn, value_out)\n",
    "step_funcs = [step_function1, step_function2]\n",
    "allowed_values = np.array([0, 1])\n",
    "def stepfit1(X, y, y0_i):\n",
    "    def mse_loss(params):\n",
    "        \"\"\"Mean squared error for the step function fit.\"\"\"\n",
    "        threshold = params[0]\n",
    "        value_low = allowed_values[int(round(params[1]))]\n",
    "        value_high = allowed_values[int(round(params[2]))]\n",
    "        y_pred = step_function1(X, threshold, value_low, value_high)\n",
    "        return np.mean((y - y_pred) ** 2)\n",
    "    initial_guess = [0.5, 0.5, 0.5]\n",
    "    bounds = [(X.min(), X.max()), (y0_i, y0_i), (0, allowed_values.size - 1)]\n",
    "    result = scipy.optimize.differential_evolution(mse_loss, bounds)\n",
    "    return result\n",
    "def stepfit2(X, y, y0_i):\n",
    "    def mse_loss(params):\n",
    "        threshold1 = params[0]\n",
    "        threshold2 = params[1]\n",
    "        value_btwn = allowed_values[int(round(params[2]))]\n",
    "        value_out = allowed_values[int(round(params[3]))]\n",
    "        y_pred = step_function2(X, threshold1, threshold2, value_btwn, value_out)\n",
    "        return np.mean((y - y_pred) ** 2)\n",
    "    initial_guess = [0.5, 0.5, 0.5, 0.5]\n",
    "    bounds = [(X.min(), X.max()), (X.min(), X.max()), (0, allowed_values.size - 1), (y0_i, y0_i)]\n",
    "    result = scipy.optimize.differential_evolution(mse_loss, bounds)\n",
    "    return result"
   ]
  },
  {
   "cell_type": "code",
   "execution_count": null,
   "id": "f4badde1-e9fe-4ed5-a3f7-69d13fad55df",
   "metadata": {
    "tags": []
   },
   "outputs": [],
   "source": [
    "def plt_bestfit(k):\n",
    "    # Read in data\n",
    "    X = maxrob[:, C_i][closest_thresh_i]\n",
    "    y = inoptima_vec[k]\n",
    "    # Plot the data\n",
    "    plt.scatter(X, y, label='Data', alpha=0.7)\n",
    "    \n",
    "    # Perform step function fitting\n",
    "    y0_i = np.argwhere(y[0] == allowed_values)[0][0]\n",
    "    # fit_results = [stepfit1(X,y,y0_i), stepfit2(X,y,y0_i)]\n",
    "    # best_fit_i = np.argmin([res.fun for res in fit_results])\n",
    "    # best_fit = fit_results[best_fit_i]\n",
    "    best_fit_i = 0\n",
    "    best_fit = stepfit1(X,y,y0_i)\n",
    "\n",
    "    # Plot the fitted step function\n",
    "    if best_fit_i == 0:\n",
    "        plt.plot(\n",
    "            X, \n",
    "            step_funcs[best_fit_i](X, best_fit.x[0], allowed_values[int(round(best_fit.x[1]))], \n",
    "                                   allowed_values[int(round(best_fit.x[2]))]),\n",
    "            color='red', label='Fitted Step Function', linewidth=2\n",
    "        )\n",
    "    # elif best_fit_i == 1:\n",
    "    #     plt.plot(\n",
    "    #         X, \n",
    "    #         step_funcs[best_fit_i](X, best_fit.x[0], best_fit.x[1], \n",
    "    #                                allowed_values[int(round(best_fit.x[2]))], \n",
    "    #                                allowed_values[int(round(best_fit.x[3]))]),\n",
    "    #         color='red', label='Fitted Step Function', linewidth=2\n",
    "    #     )\n",
    "    plt.legend()\n",
    "    plt.xlabel(r'$\\omega$ requirement')\n",
    "    plt.ylabel('In/Out of Optimum')\n",
    "    plt.yticks([0,1])\n",
    "    plt.show()\n",
    "interact(plt_bestfit, k=(0, tau_flat.size-1, 1))"
   ]
  },
  {
   "cell_type": "markdown",
   "id": "dd80e3c7-eb08-4903-9406-959d232a7e70",
   "metadata": {
    "jp-MarkdownHeadingCollapsed": true,
    "tags": []
   },
   "source": [
    "#### Plots"
   ]
  },
  {
   "cell_type": "code",
   "execution_count": null,
   "id": "bc09ff4e-f10a-4f61-8a5b-1f661d37b569",
   "metadata": {
    "tags": []
   },
   "outputs": [],
   "source": [
    "from matplotlib.gridspec import GridSpec\n",
    "C_i = 1\n",
    "cmap = copy.copy(cm.twilight_shifted)\n",
    "vmin = -1; vmax = 1\n",
    "norm = colors.Normalize(vmin=vmin, vmax=vmax)\n",
    "# for res_i, results_pre in enumerate(['distribution_avg']):\n",
    "for res_i, results_pre in enumerate(['gte_threshold']):\n",
    "    fig = plt.figure(figsize=np.array([6.8, 6])*2.)\n",
    "    gs = GridSpec(3, 4, figure=fig, width_ratios=[2, 2, 1.1, 1.1], height_ratios=[1, 1, 1]) \n",
    "    # gs = GridSpec(3, 4, figure=fig, width_ratios=[1, 1, 0.5, 0.5], height_ratios=[1, 1, 1]) \n",
    "    ax1 = fig.add_subplot(gs[0, :2])  # Top-left subplot \n",
    "    ax2 = fig.add_subplot(gs[1:, :2])  # Bottom-left subplot \n",
    "    ax3 = fig.add_subplot(gs[:, 2])  # Right subplot \n",
    "    ax4 = fig.add_subplot(gs[:, 3])  # Right subplot \n",
    "    \n",
    "    # Read in / set constants\n",
    "    set_globals(results_pre)\n",
    "    stepfit_T1 = np.load(fn_prefix + \"stepfit_T1.npy\")\n",
    "    total_inoptima = np.load(fn_prefix + \"total_inoptima.npy\")\n",
    "    closest_thresh_i = np.load(fn_prefix + \"closest_thresh_i.npy\")\n",
    "    \n",
    "    mapi_sorted = mapindices[tau_argsort_ref].T\n",
    "    # Initialize array for sensitivity metric; no changes needed to case of inclusions (T1 > 0)\n",
    "    '''NOTE sampling is only approximately even across omega, could be throwing results off'''\n",
    "    sens_metric = total_inoptima / closest_thresh_i.size    \n",
    "    inclusion_filt = (stepfit_T1 > 0) & (stepfit_T1 <= 1)\n",
    "    # Flip sign and adjust value for cells with exclusions\n",
    "    exclusion_filt = (stepfit_T1 < 0)\n",
    "    sens_metric[exclusion_filt] = -1 * sens_metric[exclusion_filt]\n",
    "    # sens_metric[exclusion_filt] = -1 * (1 - sens_metric[exclusion_filt])\n",
    "    \n",
    "    alwaysex_filt = (stepfit_T1 == 2)\n",
    "    sens_metric[alwaysex_filt] = 0\n",
    "    '''could set this to -1, doesn't matter'''\n",
    "    '''Should split the quantity thats == 1 on top & bottom in the tau plot?'''\n",
    "    alwaysin_filt = (stepfit_T1 == 3)\n",
    "    sens_metric[alwaysin_filt] =-1\n",
    "    \n",
    "    ### INITIAL TAU DISTRIBUTION VIZ ###\n",
    "    colorbar_samples = np.linspace(-1, 1, 51)\n",
    "    line_colors = cmap(norm(colorbar_samples))\n",
    "    tau_edges = np.linspace(min(tau_flat), 44, 80)\n",
    "    tau_step = np.diff(tau_edges)[0]\n",
    "    tau_cntrs = tau_edges + tau_step\n",
    "    all_heights = np.ones((colorbar_samples.size, tau_edges.size)) * np.nan\n",
    "    for tau_edge_i, tau_edge in enumerate(tau_edges):\n",
    "        if tau_edge_i < tau_edges.size - 1:\n",
    "            tau_filt = (tau_sorted >= tau_edge) & (tau_sorted < tau_edges[tau_edge_i+1])\n",
    "        else:\n",
    "            tau_filt = (tau_sorted >= tau_edge)\n",
    "        sensm_slice = sens_metric[tau_filt]\n",
    "        heights = np.ones(colorbar_samples.size) * np.nan\n",
    "        for c_samp_i, c_samp in enumerate(colorbar_samples):\n",
    "            heights[c_samp_i] = np.count_nonzero(sensm_slice <= c_samp) / sensm_slice.size\n",
    "        all_heights[:, tau_edge_i] = heights\n",
    "    '''\n",
    "    density hist initial tau\n",
    "    for each sens metric sample, in reverse order\n",
    "        overplot histogram of corresponding heights multiplied by that bin's density of initial tau, density=False, with corresponding color\n",
    "    '''\n",
    "    tau_densities, _, _ = ax1.hist(tau_flat, bins=tau_edges, color='black', histtype='step', lw=3.5, density=True);\n",
    "    '''Above I include all counts gte the last bin edge in the final bin\n",
    "       Numpy/matplotlib histogram doesnt do that, so I'll just cut off the last bin from above'''\n",
    "    for i, c_samp_i in enumerate(np.flip(np.arange(colorbar_samples.size))):\n",
    "        bar_heights = (all_heights[c_samp_i,:-1] * tau_densities)\n",
    "        bar_colors = cmap(norm(colorbar_samples[c_samp_i]))\n",
    "        ax1.bar(tau_cntrs[:-1], bar_heights, width=np.diff(tau_cntrs[:-1])[0], color=bar_colors)\n",
    "    ax1.set_yticks([])\n",
    "    # ax1.set_ylabel(r\"$\\tau$ prevalence within range\")\n",
    "    ax1.set_xlabel(r\"$\\tau$\")\n",
    "    ax1.set_xlim(tau_edges[0], tau_edges[-2])\n",
    "    ######\n",
    "    \n",
    "    ### GEOGRAPHICAL MAP ###\n",
    "    colored_data = np.ones(maps_filt.shape + (4,)) * np.nan #colors in rgba\n",
    "    colored_data[mapi_sorted[0], mapi_sorted[1]] = cmap(norm(sens_metric))\n",
    "    # Color background\n",
    "    colored_data[maps_filt == False] = colors.to_rgba('black', alpha=0.3)\n",
    "    # Crop out border where all nans\n",
    "    nonzero_indices = np.nonzero(maps_filt)\n",
    "    row_min, row_max = nonzero_indices[0].min(), nonzero_indices[0].max()\n",
    "    col_min, col_max = nonzero_indices[1].min(), nonzero_indices[1].max()\n",
    "    colored_data = colored_data[row_min:row_max + 1, col_min:col_max + 1]\n",
    "    \n",
    "    im = ax2.imshow(colored_data)#, aspect='auto')\n",
    "    ax2.set_yticks([])\n",
    "    ax2.set_xticks([])\n",
    "    ######\n",
    "    \n",
    "    ### COLORMAP ###\n",
    "    cbar_pos = ax3.get_position()  # Get original position of the colorbar\n",
    "    new_cbar_pos = [\n",
    "        cbar_pos.x0 + 0.13,  # Shift right to create left white space\n",
    "        cbar_pos.y0 + 0.04,         # Keep vertical position\n",
    "        cbar_pos.width * 0.25,  # Narrow the width\n",
    "        cbar_pos.height * 0.9\n",
    "    ]\n",
    "    ax3.set_position(new_cbar_pos)  # Apply new position\n",
    "    sm = cm.ScalarMappable(cmap=copy.copy(cm.twilight), norm=norm)\n",
    "    sm.set_array([])\n",
    "    cbar = fig.colorbar(sm, cax=ax3, aspect=60, ticks=[])    \n",
    "    \n",
    "    ax4.axis('off')\n",
    "    ######\n",
    "\n",
    "    fn = f'{results_pre}/figs/fig3_pre.png'\n",
    "    fig.savefig(fn, bbox_inches='tight', dpi=300)"
   ]
  },
  {
   "cell_type": "code",
   "execution_count": null,
   "id": "47d58e2d-011d-49c0-81b5-a12220309f50",
   "metadata": {
    "tags": []
   },
   "outputs": [],
   "source": [
    "from matplotlib import rcParams\n",
    "custom_rc = {\n",
    "    'axes.labelsize': 33,         # Label size\n",
    "    'ytick.labelsize': 33,\n",
    "    'svg.fonttype': 'none',       # Keep text editable in SVG\n",
    "    'lines.linewidth': 7,          # Thicker lines\n",
    "    'lines.markersize': 19\n",
    "}\n",
    "\n",
    "num_samples = 4\n",
    "color = 'k'\n",
    "# switches = [0.25, 0.5, 0.75, 1]\n",
    "switches = [0.5, 1]\n",
    "initials = [0,1]\n",
    "plot_ticker = 0\n",
    "with plt.rc_context(rc=custom_rc):\n",
    "    for initial in initials:\n",
    "        if (np.sign(initial) - 1) < 0:\n",
    "            final = 1\n",
    "        else:\n",
    "            final = 0\n",
    "        for switch in switches:\n",
    "            fig, ax = plt.subplots(1, figsize=(5,3))\n",
    "            x = np.arange(num_samples)\n",
    "            omega = np.linspace(0,1,num_samples)\n",
    "            vals = np.repeat(initial, num_samples)\n",
    "            switch_i = int(switch * num_samples) - 1\n",
    "            vals[x > switch_i] = final\n",
    "            step = np.diff(omega)[0]\n",
    "            if switch < 1:\n",
    "                ax.hlines(initial, xmin=0, xmax=omega[switch_i]+step/2, color=color)\n",
    "                ax.hlines(final, xmin=omega[switch_i]+step/2, xmax=1, color=color)\n",
    "                offset = 0.025\n",
    "                ax.vlines(omega[switch_i]+step/2, ymin=0-offset, ymax=1+offset, color=color)\n",
    "            else:\n",
    "                ax.hlines(initial, xmin=0, xmax=omega[switch_i], color=color)\n",
    "            ax.scatter(omega, vals, color=color)\n",
    "            ax.set_xlabel(r'$\\omega$ requirement')\n",
    "            # ax.set_ylabel('In/Out of Optimum')\n",
    "            # ax.set_yticks([0,1], labels=[\"Excluded from \\noptimum\",\n",
    "            #                              \"Included in \\noptimum\"])\n",
    "            # ax.set_yticks([0,1], labels=[\"not in \\noptimum\",\n",
    "            #                              \"in \\noptimum\"])\n",
    "            ax.set_yticks([0,1], labels=[\"Out\",\n",
    "                                         \"In\"])\n",
    "            # ax.set_xticks(np.round(omega, 2), labels=[])\n",
    "            ax.set_xticks([])\n",
    "            fig.savefig(f'final_figs/cbar_ex_{plot_ticker}.svg', bbox_inches='tight')\n",
    "            plot_ticker += 1"
   ]
  },
  {
   "cell_type": "code",
   "execution_count": null,
   "id": "9469fd11-2f50-4bc3-a1d0-ef3582fd143a",
   "metadata": {
    "tags": []
   },
   "outputs": [],
   "source": [
    "C_i = 3\n",
    "cmap = copy.copy(cm.Purples)\n",
    "vmin = 0; vmax = 1\n",
    "norm = colors.Normalize(vmin=vmin, vmax=vmax)\n",
    "# for res_i, results_pre in enumerate(['meta_mean_results', 'gte_thresh_results']):\n",
    "# for res_i, results_pre in enumerate(['gte_threshold']):\n",
    "for res_i, results_pre in enumerate(['distribution_avg']):\n",
    "    set_globals(results_pre)\n",
    "    stepfit_T1 = np.load(fn_prefix + \"stepfit_T1.npy\")\n",
    "    total_inoptima = np.load(fn_prefix + \"total_inoptima.npy\")\n",
    "    closest_thresh_i = np.load(fn_prefix + \"closest_thresh_i.npy\")\n",
    "    \n",
    "    mapi_sorted = mapindices[tau_argsort_ref].T\n",
    "    # Initialize array for sensitivity metric; no changes needed to case of inclusions (T1 > 0)\n",
    "    '''NOTE sampling is only approximately even across omega, could be throwing results off'''\n",
    "    sens_metric = total_inoptima / closest_thresh_i.size    \n",
    "    \n",
    "    colored_data = np.ones(maps_filt.shape + (4,)) * np.nan #colors in rgba\n",
    "    colored_data[mapi_sorted[0], mapi_sorted[1]] = cmap(norm(sens_metric))\n",
    "    \n",
    "    # Color background\n",
    "    colored_data[maps_filt == False] = colors.to_rgba('black', alpha=0.3)\n",
    "    \n",
    "    # Crop out border where all nans\n",
    "    nonzero_indices = np.nonzero(maps_filt)\n",
    "    row_min, row_max = nonzero_indices[0].min(), nonzero_indices[0].max()\n",
    "    col_min, col_max = nonzero_indices[1].min(), nonzero_indices[1].max()\n",
    "    colored_data = colored_data[row_min:row_max + 1, col_min:col_max + 1]\n",
    "    \n",
    "    fig, ax = plt.subplots(1, figsize=(10,10))\n",
    "    im = ax.imshow(colored_data)\n",
    "    ax.set_yticks([])\n",
    "    ax.set_xticks([])\n",
    "    sm = cm.ScalarMappable(cmap=cmap, norm=norm)\n",
    "    cbar = plt.colorbar(sm, label='', ax=ax, shrink=0.7)"
   ]
  },
  {
   "cell_type": "code",
   "execution_count": null,
   "id": "1d87a79f-3c8f-498c-a69a-385b936a6087",
   "metadata": {
    "tags": []
   },
   "outputs": [],
   "source": [
    "import numpy as np\n",
    "import matplotlib.pyplot as plt\n",
    "\n",
    "# Create a cyclic colormap\n",
    "cmap = plt.cm.twilight_shifted  # Example of a cyclic colormap\n",
    "# n_colors = 50\n",
    "n_colors = 256\n",
    "# n_colors = 512\n",
    "# n_colors = 2000\n",
    "sampled_colors = cmap(np.linspace(0, 1, n_colors))\n",
    "\n",
    "# Parameters for the oval shape\n",
    "theta = np.linspace(0, 2 * np.pi, n_colors)\n",
    "# scale = 0.5(\n",
    "# a_outer, b_outer = 1.0, 0.6  # Outer oval semi-major and semi-minor axes\n",
    "a_outer, b_outer = 1.4, 0.15\n",
    "# a_inner, b_inner = 0.7, 0.4  # Inner oval semi-major and semi-minor axes\n",
    "a_inner, b_inner = 1.15, 0.06\n",
    "\n",
    "# Convert to Cartesian coordinates for the outer and inner boundaries\n",
    "x_outer = a_outer * np.cos(theta)\n",
    "y_outer = b_outer * np.sin(theta)\n",
    "x_inner = a_inner * np.cos(theta)\n",
    "y_inner = b_inner * np.sin(theta)\n",
    "\n",
    "# Apply 90-degree rotation, with -1 factor on x to flip across y axis\n",
    "x_outer_rotated = -1 * (-y_outer)\n",
    "y_outer_rotated = x_outer\n",
    "x_inner_rotated = -1 * (-y_inner)\n",
    "y_inner_rotated = x_inner\n",
    "\n",
    "# Create the figure and plot the oval-shaped ring colormap\n",
    "fig, ax = plt.subplots(figsize=(6, 6), dpi=150)\n",
    "# fig, ax = plt.subplots(figsize=(6, 6), dpi=1000)\n",
    "for i in range(n_colors - 1):\n",
    "    ax.fill(\n",
    "        # [x_outer[i], x_outer[i + 1], x_inner[i + 1], x_inner[i]],\n",
    "        # [y_outer[i], y_outer[i + 1], y_inner[i + 1], y_inner[i]],\n",
    "        [x_outer_rotated[i], x_outer_rotated[i + 1], x_inner_rotated[i + 1], x_inner_rotated[i]],\n",
    "        [y_outer_rotated[i], y_outer_rotated[i + 1], y_inner_rotated[i + 1], y_inner_rotated[i]],\n",
    "        color=sampled_colors[i],\n",
    "        edgecolor=\"none\",\n",
    "        antialiased=True, \n",
    "        rasterized=False\n",
    "    )\n",
    "\n",
    "# Customize the plot\n",
    "ax.set_aspect('equal')  # Ensure the oval ring appears correctly\n",
    "ax.axis('off')          # Turn off axes for a clean look\n",
    "# ax.set_title(\"Cyclic Colormap as an Oval Ring\", fontsize=16)\n",
    "ax.set_rasterization_zorder(1)\n",
    "plt.show()"
   ]
  },
  {
   "cell_type": "markdown",
   "id": "67e3b235-f3fa-4bb6-992d-59c96ca1d5d4",
   "metadata": {
    "jp-MarkdownHeadingCollapsed": true,
    "tags": []
   },
   "source": [
    "##### Overpotted histograms"
   ]
  },
  {
   "cell_type": "code",
   "execution_count": null,
   "id": "c9332446-86a7-4d64-8c32-86aa80504b86",
   "metadata": {},
   "outputs": [],
   "source": [
    "tau_max = 80\n",
    "color = 'orangered'\n",
    "tau_step = np.diff(tau_vec)[0] / 2\n",
    "tau_edges = np.concatenate(([0], np.arange(tau_step/2, tau_vec[-1]+tau_step, tau_step)))\n",
    "\n",
    "colormap = copy.copy(cm.copper)\n",
    "vmin = 0; vmax = 1\n",
    "normalize = colors.Normalize(vmin=vmin, vmax=vmax)\n",
    "\n",
    "for res_i, results_pre in enumerate(['meta_mean_results', 'gte_thresh_results']):\n",
    "    set_globals(results_pre)\n",
    "    maxrob = np.load(fn_prefix + \"maxrob.npy\")\n",
    "    argmaxrob = np.load(fn_prefix + \"argmaxrob.npy\")\n",
    "    rob_thresh_vec = np.load(fn_prefix + \"rob_thresh_vec.npy\")\n",
    "    \n",
    "    figsize = (9,6)\n",
    "    fig, ax = plt.subplots(1, figsize=figsize)\n",
    "\n",
    "    # Plot the initial distribution\n",
    "    ax.hist(tau_flat, bins=tau_edges, color=color, histtype='step', lw=3.5); \n",
    "\n",
    "    # Overplot optimal slices as metric thresh increases (and omega decreases)\n",
    "    opt_ncell_vec = np.ones_like(rob_thresh_vec) * np.nan\n",
    "    opt_sl_vec = np.ones_like(rob_thresh_vec) * np.nan\n",
    "    for thresh_i, thresh in enumerate(rob_thresh_vec):\n",
    "        if maxrob[thresh_i, C_i] < 1:\n",
    "            opt_ncell_i = int(argmaxrob[thresh_i, C_i][0])\n",
    "            opt_ncell_vec[thresh_i] = ncell_vec[opt_ncell_i]\n",
    "            opt_sl_i = int(argmaxrob[thresh_i, C_i][1])\n",
    "            opt_sl_vec[thresh_i] = slice_left_all[opt_sl_i]\n",
    "            \n",
    "    num_omega_samples, alpha = (10, 0.2)\n",
    "    nan_filt = np.where(~np.isnan(opt_ncell_vec))\n",
    "    opt_ncell_vec = opt_ncell_vec[nan_filt].astype(int)\n",
    "    opt_sl_vec = opt_sl_vec[nan_filt].astype(int)\n",
    "    indices = np.linspace(0, opt_ncell_vec.size - 1, num_omega_samples, dtype=int)\n",
    "    # for i in np.arange(0, opt_ncell_vec.size, 1):\n",
    "    for i in np.flip(indices):\n",
    "        omega = maxrob[nan_filt[0][i], C_i]\n",
    "        slice_color = colormap(normalize(omega))\n",
    "        tau_slice = tau_sorted[opt_sl_vec[i]:opt_sl_vec[i]+opt_ncell_vec[i]]\n",
    "        ax.hist(tau_slice, bins=tau_edges, color=color, alpha=alpha);\n",
    "\n",
    "    ax.set_yticks([])\n",
    "    ax.set_ylabel(r\"$\\tau$ prevalence within species range\")\n",
    "    ax.set_xlabel(r\"$\\tau$\")\n",
    "    ax.set_xlim(15, tau_max);"
   ]
  },
  {
   "cell_type": "markdown",
   "id": "2160faea-1956-40b9-9ac7-7bbe07aa36b4",
   "metadata": {
    "jp-MarkdownHeadingCollapsed": true,
    "tags": []
   },
   "source": [
    "### $\\epsilon$ correlations"
   ]
  },
  {
   "cell_type": "markdown",
   "id": "ff94f090-1c4c-4bff-bd49-554e410244af",
   "metadata": {
    "jp-MarkdownHeadingCollapsed": true,
    "tags": []
   },
   "source": [
    "#### Correlations as $n_{cell}$ or $sl$ change"
   ]
  },
  {
   "cell_type": "code",
   "execution_count": null,
   "id": "4c89dfad-4f62-445a-89e3-03f9e23e1114",
   "metadata": {
    "tags": []
   },
   "outputs": [],
   "source": [
    "fig, ax = plt.subplots(1, figsize=(8,6))\n",
    "results_pre = \"meta_mean_results\"\n",
    "set_globals(results_pre)\n",
    "phase_full = np.load(fn_prefix + \"phase_full.npy\")\n",
    "C_i = 9\n",
    "num_eps = len(eps_axes.items())\n",
    "eps_labels = [\"|$\\mu_T$|\", \"$|\\mu_{\\hat{T}}|$\", \"$\\sigma_T$\", \"$\\sigma_{\\hat{T}}$\"]\n",
    "color_vec = ['#66CCEE', '#EE6677', '#4477AA', '#AA3377']\n",
    "for eps_ax_i, eps_ax in enumerate(eps_axes.values()):\n",
    "    plot_vec = np.ones(ncell_vec.size) * np.nan\n",
    "    for ncell_i, ncell in enumerate(ncell_vec):\n",
    "        all_x = []\n",
    "        all_y = []\n",
    "        for eps_val_i, eps_val in enumerate(eps_ax):\n",
    "            eps_slice = tuple([slice(None) if i != eps_ax_i else eps_val_i for i in range(num_eps)])\n",
    "            full_slice = eps_slice + (C_i, ncell_i, slice(None))\n",
    "            phase_slice = phase_full[full_slice]\n",
    "            flat_nonan = phase_slice.ravel()[~np.isnan(phase_slice.ravel())]\n",
    "            all_y.append(flat_nonan.tolist())\n",
    "            all_x.append(np.repeat(np.abs(eps_val), len(flat_nonan)).tolist())\n",
    "        spear = scipy.stats.spearmanr(a=np.array(all_x).flatten(), b=np.array(all_y).flatten())\n",
    "        plot_vec[ncell_i] = spear.statistic\n",
    "    ax.plot(ncell_vec/ncell_tot, plot_vec, label=eps_labels[eps_ax_i], marker='o', color=color_vec[eps_ax_i])\n",
    "ax.axhline(0, ls='--', c='k')\n",
    "ax.legend()\n",
    "ax.set_xlim(0, 1)\n",
    "ax.set_xlabel(r\"fraction of species range where $\\tau$ altered\")\n",
    "ax.set_ylabel(rf\"{metric_lab} correlation to $\\epsilon$ axes\")\n",
    "ax.set_title(fr\"$C~/~k_{{max}}=${np.round(C_vec[C_i]/ncell_tot, 1)}\")\n",
    "fn = fig_prefix + f\"epscorr.png\"\n",
    "fig.savefig(fn, bbox_inches='tight')"
   ]
  },
  {
   "cell_type": "code",
   "execution_count": null,
   "id": "c87bdcdf-b276-4353-bcd0-16a1fcfca51b",
   "metadata": {
    "tags": []
   },
   "outputs": [],
   "source": [
    "fig, ax = plt.subplots(1, figsize=(8,6))\n",
    "results_pre = \"meta_mean_results\"\n",
    "set_globals(results_pre)\n",
    "phase_full = np.load(fn_prefix + \"phase_full.npy\")\n",
    "C_i = 9\n",
    "num_eps = len(eps_axes.items())\n",
    "eps_labels = [\"|$\\mu_T$|\", \"$|\\mu_{\\hat{T}}|$\", \"$\\sigma_T$\", \"$\\sigma_{\\hat{T}}$\"]\n",
    "color_vec = ['#66CCEE', '#EE6677', '#4477AA', '#AA3377']\n",
    "for eps_ax_i, eps_ax in enumerate(eps_axes.values()):\n",
    "    plot_vec = np.ones(slice_left_all.size) * np.nan\n",
    "    for sl_i, sl in enumerate(slice_left_all):\n",
    "        all_x = []\n",
    "        all_y = []\n",
    "        for eps_val_i, eps_val in enumerate(eps_ax):\n",
    "            eps_slice = tuple([slice(None) if i != eps_ax_i else eps_val_i for i in range(num_eps)])\n",
    "            full_slice = eps_slice + (C_i, slice(None), sl_i)\n",
    "            phase_slice = phase_full[full_slice]\n",
    "            flat_nonan = phase_slice.ravel()[~np.isnan(phase_slice.ravel())]\n",
    "            all_y.append(flat_nonan.tolist())\n",
    "            all_x.append(np.repeat(np.abs(eps_val), len(flat_nonan)).tolist())\n",
    "        spear = scipy.stats.spearmanr(a=np.array(all_x).flatten(), b=np.array(all_y).flatten())\n",
    "        plot_vec[sl_i] = spear.statistic\n",
    "    ax.plot(slice_left_all/ncell_tot, plot_vec, label=eps_labels[eps_ax_i], marker='o', color=color_vec[eps_ax_i], alpha=1)\n",
    "ax.axhline(0, ls='--', c='k')\n",
    "ax.legend()\n",
    "ax.set_xlim(0, 1)\n",
    "ax.set_xlabel(r\"initial index of slice where $\\tau$ altered\")\n",
    "ax.set_ylabel(rf\"{metric_lab} correlation to $\\epsilon$ axes\")\n",
    "ax.set_title(fr\"$C~/~k_{{max}}=${np.round(C_vec[C_i]/ncell_tot, 1)}\")\n",
    "fn = fig_prefix + f\"epscorr.png\"\n",
    "# fig.savefig(fn, bbox_inches='tight')"
   ]
  },
  {
   "cell_type": "markdown",
   "id": "46f249e8-c2e5-477b-babb-59170a777145",
   "metadata": {
    "jp-MarkdownHeadingCollapsed": true,
    "tags": []
   },
   "source": [
    "#### Correlations at optima across $\\omega$ requirements"
   ]
  },
  {
   "cell_type": "code",
   "execution_count": null,
   "id": "12f41cd6-39ec-4080-94a6-f0561e94095b",
   "metadata": {
    "tags": []
   },
   "outputs": [],
   "source": [
    "for results_pre in [\"meta_mean_results\", \"gte_thresh_results\"]:\n",
    "    set_globals(results_pre)\n",
    "    fig, ax = plt.subplots(1, figsize=(8,6))\n",
    "    phase_full = np.load(fn_prefix + \"phase_full.npy\")\n",
    "    C_i = 9\n",
    "    num_eps = len(eps_axes.items())\n",
    "    eps_labels = [\"|$\\mu_T$|\", \"$|\\mu_{\\hat{T}}|$\", \"$\\sigma_T$\", \"$\\sigma_{\\hat{T}}$\"]\n",
    "    color_vec = ['#66CCEE', '#EE6677', '#4477AA', '#AA3377']\n",
    "\n",
    "    maxrob = np.load(fn_prefix + \"maxrob.npy\")\n",
    "    argmaxrob = np.load(fn_prefix + \"argmaxrob.npy\")\n",
    "    rob_thresh_vec = np.load(fn_prefix + \"rob_thresh_vec.npy\")\n",
    "\n",
    "    for eps_ax_i, eps_ax in enumerate(eps_axes.values()):\n",
    "        plot_vec = np.ones(rob_thresh_vec.size) * np.nan\n",
    "        for thresh_i, thresh in enumerate(rob_thresh_vec):\n",
    "            # Skip points where max omega = 1 bc can't find optima\n",
    "            if maxrob[thresh_i, C_i] == 1: continue\n",
    "            opt_ncell_i = int(argmaxrob[thresh_i, C_i][0])\n",
    "            opt_sl_i = int(argmaxrob[thresh_i, C_i][1])\n",
    "            all_x = []\n",
    "            all_y = []\n",
    "            for eps_val_i, eps_val in enumerate(eps_ax):\n",
    "                eps_slice = tuple([slice(None) if i != eps_ax_i else eps_val_i for i in range(num_eps)])\n",
    "                full_slice = eps_slice + (C_i, opt_ncell_i, opt_sl_i)\n",
    "                phase_slice = phase_full[full_slice]\n",
    "                flat_nonan = phase_slice.ravel()[~np.isnan(phase_slice.ravel())]\n",
    "                all_y.append(flat_nonan.tolist())\n",
    "                all_x.append(np.repeat(np.abs(eps_val), len(flat_nonan)).tolist())\n",
    "            '''Try normalizing x axis by max val'''\n",
    "            all_x = np.array(all_x).flatten()\n",
    "            all_x = all_x / all_x.max()\n",
    "            spear = scipy.stats.spearmanr(a=all_x, b=np.array(all_y).flatten())\n",
    "            plot_vec[thresh_i] = spear.statistic\n",
    "        # if results_pre == \"meta_mean_results\":\n",
    "        #     spacing = 4\n",
    "        # elif results_pre == \"gte_thresh_results\":\n",
    "        #     spacing = 3\n",
    "        spacing = 1\n",
    "        # ax.plot(rob_thresh_vec[::spacing], plot_vec[::spacing], label=eps_labels[eps_ax_i], marker='o', color=color_vec[eps_ax_i], alpha=1)\n",
    "        ax.plot(maxrob[:, C_i][::spacing], plot_vec[::spacing], label=eps_labels[eps_ax_i], marker='o', color=color_vec[eps_ax_i], alpha=1)\n",
    "    ax.axhline(0, ls='--', c='k')\n",
    "    ax.legend()\n",
    "    ax.set_xlabel(r\"$\\omega$ requirement\")\n",
    "    ax.set_ylabel(rf\"{metric_lab} correlation to $\\epsilon$ axes @ optima\")\n",
    "    ax.set_title(fr\"$C~/~k_{{max}}=${np.round(C_vec[C_i]/ncell_tot, 1)}\")\n",
    "    min_omega_i = np.nonzero(~np.isnan(plot_vec))[0].min()\n",
    "    # ax.set_xlim(rob_thresh_vec[min_omega_i], 1.01)\n",
    "    # fn = fig_prefix + f\"epscorr_omega_{results_pre}.png\"\n",
    "    # fig.savefig(fn, bbox_inches='tight')"
   ]
  },
  {
   "cell_type": "markdown",
   "id": "13361533-a553-4480-b7bf-d1013b2b90b3",
   "metadata": {
    "jp-MarkdownHeadingCollapsed": true,
    "tags": []
   },
   "source": [
    "#### Phase"
   ]
  },
  {
   "cell_type": "code",
   "execution_count": null,
   "id": "e6683342-49a8-4ca0-9ed5-69c0382e790e",
   "metadata": {
    "tags": []
   },
   "outputs": [],
   "source": [
    "results_pre = \"meta_mean_results\"\n",
    "set_globals(results_pre)\n",
    "phase_full = np.load(fn_prefix + \"phase_full.npy\")\n",
    "C_i = 9\n",
    "num_eps = len(eps_axes.items())\n",
    "eps_labels = [\"|$\\mu_T$|\", \"$|\\mu_{\\hat{T}}|$\", \"$\\sigma_T$\", \"$\\sigma_{\\hat{T}}$\"]\n",
    "color_vec = ['#66CCEE', '#EE6677', '#4477AA', '#AA3377']\n",
    "# colormap = copy.copy(cm.RdPu_r)\n",
    "colormap = copy.copy(cm.PiYG)\n",
    "\n",
    "# Get optima points\n",
    "maxrob = np.load(fn_prefix + \"maxrob.npy\")\n",
    "argmaxrob = np.load(fn_prefix + \"argmaxrob.npy\")\n",
    "rob_thresh_vec = np.load(fn_prefix + \"rob_thresh_vec.npy\")\n",
    "opt_ncell_i = np.ones_like(rob_thresh_vec) * np.nan\n",
    "opt_sl_i = np.ones_like(rob_thresh_vec) * np.nan\n",
    "for thresh_i, thresh in enumerate(rob_thresh_vec):\n",
    "    if maxrob[thresh_i, C_i] < 1:\n",
    "        opt_ncell_i[thresh_i] = int(argmaxrob[thresh_i, C_i][0])\n",
    "        opt_sl_i[thresh_i] = int(argmaxrob[thresh_i, C_i][1])\n",
    "colormap_2 = copy.copy(cm.copper)\n",
    "normalize_2 = colors.Normalize(vmin=0, vmax=1)\n",
    "edge_colors = colormap_2(normalize_2(maxrob[:, C_i]))\n",
    "spacing = 4\n",
    "\n",
    "for eps_ax_i, eps_ax in enumerate(eps_axes.values()):\n",
    "    fig, ax = plt.subplots(1, figsize=(10,8))\n",
    "    imshow_mat = np.ones((ncell_vec.size, slice_left_all.size)) * np.nan\n",
    "    for (ncell_i, ncell), (sl_i, sl) in product(enumerate(ncell_vec), enumerate(slice_left_all)):\n",
    "        all_x = []\n",
    "        all_y = []\n",
    "        for eps_val_i, eps_val in enumerate(eps_ax):\n",
    "            eps_slice = tuple([slice(None) if i != eps_ax_i else eps_val_i for i in range(num_eps)])\n",
    "            full_slice = eps_slice + (C_i, ncell_i, sl_i)\n",
    "            phase_slice = phase_full[full_slice]\n",
    "            flat_nonan = phase_slice.ravel()[~np.isnan(phase_slice.ravel())]\n",
    "            all_y.append(flat_nonan.tolist())\n",
    "            all_x.append(np.repeat(np.abs(eps_val), len(flat_nonan)).tolist())\n",
    "        spear = scipy.stats.spearmanr(a=np.array(all_x).flatten(), b=np.array(all_y).flatten())\n",
    "        imshow_mat[ncell_i, sl_i] = spear.statistic\n",
    "    vmin = -1; vmax = 1\n",
    "    normalize = colors.Normalize(vmin=vmin, vmax=vmax)\n",
    "    im = ax.imshow(np.flip(imshow_mat, axis=0), cmap=colormap, norm=normalize)\n",
    "    ax.set_xlabel(r\"initial index of slice where $\\tau$ altered\")\n",
    "    ax.set_ylabel(r\"fraction of range where $\\tau$ altered\")\n",
    "    ytick_spacing = 3\n",
    "    yticks = np.arange(0, len(ncell_vec), ytick_spacing)\n",
    "    ytick_labels = np.flip(np.round(ncell_vec/ncell_tot, 2))\n",
    "    ax.set_yticks(yticks, labels=ytick_labels[::ytick_spacing]);\n",
    "    xtick_spacing = 6\n",
    "    xticks = np.arange(0, len(slice_left_all), xtick_spacing)\n",
    "    xtick_labels = np.round(slice_left_all/ncell_tot, 2)\n",
    "    ax.set_xticks(xticks, labels=xtick_labels[::xtick_spacing]);\n",
    "    ax.set_title(eps_labels[eps_ax_i])\n",
    "    cbar = ax.figure.colorbar(im, ax=ax, location=\"right\", shrink=0.6)\n",
    "    cbar.ax.set_ylabel(rf'Spearman', rotation=-90, labelpad=20)\n",
    "\n",
    "    ax.scatter(opt_sl_i[::spacing], ncell_vec.size - opt_ncell_i[::spacing], \n",
    "                facecolor=edge_colors[::spacing], s=150, \n",
    "                linewidths=2, marker='x')\n",
    "    fn = fig_prefix + f\"eps_corr_phase_{list(eps_axes.keys())[eps_ax_i]}.png\"\n",
    "    fig.savefig(fn, bbox_inches='tight')"
   ]
  },
  {
   "cell_type": "markdown",
   "id": "f5843c44-fd93-416e-8194-6575b5e5b859",
   "metadata": {
    "jp-MarkdownHeadingCollapsed": true,
    "tags": []
   },
   "source": [
    "### $\\text{max}(<\\text{metric}_{meta}>$ under $\\epsilon=0$"
   ]
  },
  {
   "cell_type": "code",
   "execution_count": null,
   "id": "b1da6a34-8c10-4b69-b615-3a285b5e5638",
   "metadata": {
    "tags": []
   },
   "outputs": [],
   "source": [
    "width = 0.875\n",
    "# for results_pre in ['meta_mean_results', 'gte_thresh_results']:\n",
    "for results_pre in ['gte_thresh_results']:\n",
    "    set_globals(results_pre)\n",
    "    with h5py.File(fn_prefix + \"/phase_flat.h5\", \"r\") as phase_handle:\n",
    "        data_key = \"0.0/0.0/0.0/0.0/phase\"\n",
    "        phase_slice_zeroeps = phase_handle[data_key][:]\n",
    "        nochange_zeroeps = phase_handle[\"0.0/0.0/0.0/0.0/metric_nochange\"][()]\n",
    "\n",
    "    param_labels = ['fraction of range', 'slice left']\n",
    "    # for param_i in [0,1]:\n",
    "    for param_i in [0]:\n",
    "        plot_vec = np.ones_like(C_vec) * np.nan\n",
    "        c_vec = np.ones_like(C_vec) * np.nan\n",
    "        for C_i, C in enumerate(C_vec):\n",
    "            argmax = np.nanargmax(phase_slice_zeroeps[C_i, :, :])\n",
    "            optimal_param_i = np.unravel_index(argmax, phase_slice_zeroeps.shape[1:])\n",
    "            # print(C_i, optimal_param_i)\n",
    "            plot_vec[C_i] = phase_slice_zeroeps[C_i, optimal_param_i[0], optimal_param_i[1]]\n",
    "            if param_i == 0:\n",
    "                c_vec[C_i] = ncell_vec[optimal_param_i[param_i]]\n",
    "            else:\n",
    "                c_vec[C_i] = slice_left_all[optimal_param_i[param_i]]\n",
    "        c_vec = c_vec / ncell_tot\n",
    "\n",
    "        fig, ax = plt.subplots(1, figsize=(11,8))\n",
    "        vmin = 0; vmax = 1\n",
    "        # vmin = min(ncell_vec) / ncell_tot; vmax = max(ncell_vec) / ncell_tot\n",
    "        norm = colors.Normalize(vmin=vmin, vmax=vmax)\n",
    "        colormap = copy.copy(cm.RdPu_r)\n",
    "        sm = cm.ScalarMappable(cmap=colormap, norm=norm)\n",
    "        bar_colors = colormap(norm(c_vec))\n",
    "        bar = ax.bar(np.arange(C_vec.size), plot_vec, color=bar_colors, width=width)\n",
    "        cbar = plt.colorbar(sm, label='Color Scale Value', ax=ax)\n",
    "        cbar.set_label(fr\"optimal {param_labels[param_i]} for intervention\", rotation=-90, labelpad=30)\n",
    "        # cbar.set_label(r\"optimal $n_{cell}~/~\\text{max}(n_{cell})$ for intervention\", rotation=-90, labelpad=30)\n",
    "        ax.set_ylim(nochange_zeroeps, 1.05*np.max(plot_vec))\n",
    "        ax.set_ylabel(fr\"$\\text{{max}}(${metric_lab}$)$\")\n",
    "        xtick_spacing = 1\n",
    "        xticks = np.arange(0, len(C_vec), xtick_spacing)\n",
    "        ax.set_xticks(xticks, labels=np.round((C_vec/(ncell_tot))[::xtick_spacing], 1));\n",
    "        # ax.set_xlabel(r\"shift in $\\tau$ per cell if spread across entire range $({C}~/~{k_{max}})$\")\n",
    "        ax.set_xlabel(r\"$\\hat{\\tau}$ if spread across entire range $\\left(~{C}~/~{\\text{max}(n_{cell})}~\\right)$\")\n",
    "        ax.set_xlim(-(width/2)*1.4, len(C_vec)-1+((width/2)*1.4))\n",
    "\n",
    "        fn = fig_prefix + f\"maxmetric_C_zeroeps_{param_i}.png\"\n",
    "        fig.savefig(fn, bbox_inches='tight')"
   ]
  },
  {
   "cell_type": "code",
   "execution_count": null,
   "id": "40e157d4-fa6e-499a-b8f9-c97a8d43f383",
   "metadata": {
    "tags": []
   },
   "outputs": [],
   "source": [
    "for results_pre in ['meta_mean_results', 'gte_thresh_results']:\n",
    "    set_globals(results_pre)\n",
    "    with h5py.File(fn_prefix + \"/phase_flat.h5\", \"r\") as phase_handle:\n",
    "        data_key = \"0.0/0.0/0.0/0.0/phase\"\n",
    "        phase_slice_zeroeps = phase_handle[data_key][:]\n",
    "        nochange_zeroeps = phase_handle[\"0.0/0.0/0.0/0.0/metric_nochange\"][()]\n",
    "\n",
    "    plot_vec = np.ones_like(C_vec) * np.nan\n",
    "    c_vec = np.ones_like(C_vec) * np.nan\n",
    "    for C_i, C in enumerate(C_vec):\n",
    "        argmax = np.nanargmax(phase_slice_zeroeps[C_i, :, :])\n",
    "        optimal_param_i = np.unravel_index(argmax, phase_slice_zeroeps.shape[1:])\n",
    "        plot_vec[C_i] = phase_slice_zeroeps[C_i, optimal_param_i[0], optimal_param_i[1]]\n",
    "        c_vec[C_i] = C / ncell_vec[optimal_param_i[0]]\n",
    "\n",
    "    fig, ax = plt.subplots(1, figsize=(11,8))\n",
    "    vmax = np.nanmax(c_vec); vmin = np.nanmin(c_vec)\n",
    "    norm = colors.Normalize(vmin=vmin, vmax=vmax)\n",
    "    colormap = copy.copy(cm.RdPu_r)\n",
    "    sm = cm.ScalarMappable(cmap=colormap, norm=norm)\n",
    "    bar_colors = colormap(norm(c_vec))\n",
    "    bar = ax.bar(np.arange(C_vec.size), plot_vec, color=bar_colors)\n",
    "    cbar = plt.colorbar(sm, label='Color Scale Value', ax=ax)\n",
    "    cbar.set_label(fr\"optimal $\\hat{{\\tau}}$ for intervention\", rotation=-90, labelpad=30)\n",
    "    ax.set_ylim(nochange_zeroeps, 1.05*np.max(plot_vec))\n",
    "    ax.set_ylabel(fr\"$\\text{{max}}(${metric_lab}$)$\")\n",
    "    xtick_spacing = 1\n",
    "    xticks = np.arange(0, len(C_vec), xtick_spacing)\n",
    "    ax.set_xticks(xticks, labels=np.round((C_vec/(ncell_tot))[::xtick_spacing], 1));\n",
    "    ax.set_xlabel(r\"shift in $\\tau$ per cell if spread across entire range $({C}~/~{k_{max}})$\")\n",
    "\n",
    "    fn = fig_prefix + f\"maxmetric_C_zeroeps_tauhat.png\"\n",
    "    fig.savefig(fn, bbox_inches='tight')"
   ]
  },
  {
   "cell_type": "code",
   "execution_count": null,
   "id": "9cbde831-6cd5-4b02-b475-80a306ea4d7f",
   "metadata": {
    "tags": []
   },
   "outputs": [],
   "source": [
    "for results_pre in ['meta_mean_results', 'gte_thresh_results']:\n",
    "    set_globals(results_pre)\n",
    "    with h5py.File(fn_prefix + \"/phase_flat.h5\", \"r\") as phase_handle:\n",
    "        data_key = \"0.0/0.0/0.0/0.0/phase\"\n",
    "        phase_slice_zeroeps = phase_handle[data_key][:]\n",
    "        nochange_zeroeps = phase_handle[\"0.0/0.0/0.0/0.0/metric_nochange\"][()]\n",
    "\n",
    "    param_labels = ['fraction of range', 'slice left']\n",
    "    for param_i in [0,1]:\n",
    "        plot_vec = np.ones_like(C_vec) * np.nan\n",
    "        c_vec = np.ones_like(C_vec) * np.nan\n",
    "        for C_i, C in enumerate(C_vec):\n",
    "            argmax = np.nanargmax(phase_slice_zeroeps[C_i, :, :])\n",
    "            optimal_param_i = np.unravel_index(argmax, phase_slice_zeroeps.shape[1:])\n",
    "            # print(C_i, optimal_param_i)\n",
    "            c_vec[C_i] = phase_slice_zeroeps[C_i, optimal_param_i[0], optimal_param_i[1]]\n",
    "            if param_i == 0:\n",
    "                plot_vec[C_i] = ncell_vec[optimal_param_i[param_i]]\n",
    "            else:\n",
    "                plot_vec[C_i] = slice_left_all[optimal_param_i[param_i]]\n",
    "        plot_vec = plot_vec / ncell_tot\n",
    "\n",
    "        fig, ax = plt.subplots(1, figsize=(11,8))\n",
    "        vmin = 0; vmax = 1\n",
    "        # vmin = min(ncell_vec) / ncell_tot; vmax = max(ncell_vec) / ncell_tot\n",
    "        # vmin = nochange_zeroeps; vmax = 1\n",
    "        norm = colors.Normalize(vmin=vmin, vmax=vmax)\n",
    "        colormap = copy.copy(cm.RdPu)\n",
    "        sm = cm.ScalarMappable(cmap=colormap, norm=norm)\n",
    "        bar_colors = colormap(norm(c_vec))\n",
    "        bar = ax.bar(np.arange(C_vec.size), plot_vec, color=bar_colors)\n",
    "        cbar = plt.colorbar(sm, label='Color Scale Value', ax=ax)\n",
    "        cbar.set_label(fr\"$\\text{{max}}(${metric_lab}$)$\", rotation=-90, labelpad=30)\n",
    "        # ax.set_ylim(nochange_zeroeps, 1.05*np.max(plot_vec))\n",
    "        ax.set_ylim(0,1)\n",
    "        ax.set_ylabel(fr\"optimal {param_labels[param_i]} for intervention\")\n",
    "        xtick_spacing = 1\n",
    "        xticks = np.arange(0, len(C_vec), xtick_spacing)\n",
    "        ax.set_xticks(xticks, labels=np.round((C_vec/(ncell_tot))[::xtick_spacing], 1));\n",
    "        ax.set_xlabel(r\"shift in $\\tau$ per cell if spread across entire range $({C}~/~{k_{max}})$\")\n",
    "\n",
    "        # fn = fig_prefix + f\"maxmetric_C_zeroeps_{param_i}.png\"\n",
    "        # fig.savefig(fn, bbox_inches='tight')"
   ]
  },
  {
   "cell_type": "markdown",
   "id": "f4237536-ac82-4f5e-914a-65b5c0bdf63e",
   "metadata": {
    "jp-MarkdownHeadingCollapsed": true,
    "tags": []
   },
   "source": [
    "### Visualize fire regime change"
   ]
  },
  {
   "cell_type": "code",
   "execution_count": null,
   "id": "ce396d68-9676-4b5f-a06e-492bef9ad9fc",
   "metadata": {
    "tags": []
   },
   "outputs": [],
   "source": [
    "# Read in maps and convert fdm to tau\n",
    "ul_coord = [1500, 2800]\n",
    "lr_coord = [2723, 3905]\n",
    "usecols = np.arange(ul_coord[0],lr_coord[0])\n",
    "sdmfn = \"../shared_maps/SDM_1995.asc\"\n",
    "sdm = np.loadtxt(sdmfn,skiprows=6+ul_coord[1],\n",
    "                         max_rows=lr_coord[1], usecols=usecols)\n",
    "fdmfn = '../shared_maps/FDE_current_allregions.asc'\n",
    "fdm = np.loadtxt(fdmfn,skiprows=6+ul_coord[1], \n",
    "                         max_rows=lr_coord[1], usecols=usecols)\n",
    "sdm, fdm = adjustmaps([sdm, fdm])\n",
    "delta_t = 30\n",
    "b_raster = delta_t / np.power(-np.log(1-fdm), 1/c)\n",
    "tau_raster = b_raster * gamma(1+1/c)\n",
    "maps_filt = (sdm > 0) & (fdm > 0)\n",
    "tau_flat = tau_raster[maps_filt] #+ (max(C_vec)/ncell_tot)\n",
    "# tau_flat[tau_flat > max(tau_vec)] = max(tau_vec)\n",
    "tau_argsort = np.argsort(tau_flat)"
   ]
  },
  {
   "cell_type": "markdown",
   "id": "8a0c9642-5927-4c3b-9929-2baad3f9307a",
   "metadata": {
    "tags": []
   },
   "source": [
    "#### Shift examples"
   ]
  },
  {
   "cell_type": "code",
   "execution_count": null,
   "id": "bb226755-7529-48f8-aa0d-df9dd861f754",
   "metadata": {
    "tags": []
   },
   "outputs": [],
   "source": [
    "results_pre = 'meta_mean_results' #Just doing this to initialize C vector\n",
    "set_globals(results_pre)\n",
    "tau_step = np.diff(tau_vec)[0] / 2\n",
    "# tau_step = 0.4\n",
    "tau_edges = np.concatenate(([0], np.arange(tau_step/2, tau_vec[-1]+tau_step, tau_step)))\n",
    "tau_centers = 0.5 * (tau_edges[:-1] + tau_edges[1:])\n",
    "tau_i_samples = [22, 24]\n",
    "tau_f_samples = [24, 35]\n",
    "tau_current = tau_flat.copy()\n",
    "current_counts, _ = np.histogram(tau_current, bins=tau_edges)\n",
    "mask = np.ones(tau_current.size, dtype=bool)\n",
    "\n",
    "vmin = 0; vmax = 1\n",
    "norm = colors.Normalize(vmin=vmin, vmax=vmax)\n",
    "colormap = copy.copy(cm.RdPu_r)\n",
    "bins = 50\n",
    "density = False\n",
    "alpha = 1\n",
    "lw = 4\n",
    "\n",
    "fig, ax = plt.subplots(1, figsize=(8,5))\n",
    "for tau_i, tau_f in zip(tau_i_samples, tau_f_samples):\n",
    "    bin_i = np.argmin(np.abs(tau_edges - tau_i))\n",
    "    sl = np.count_nonzero(tau_flat <= tau_edges[bin_i]); sl\n",
    "    bin_f = np.argmin(np.abs(tau_edges - tau_f))\n",
    "    ncell = np.count_nonzero(tau_flat < tau_edges[bin_f]) - sl\n",
    "    color = colormap(norm(ncell/ncell_tot))\n",
    "    tauc = max(C_vec) / ncell\n",
    "    mask[tau_argsort[sl:sl+ncell]] = False\n",
    "\n",
    "    ax.hist(tau_flat[(tau_flat >= tau_edges[bin_i]) & (tau_flat < tau_edges[bin_f])], \n",
    "            bins=tau_edges, color=color, alpha=alpha*0.6, density=density);\n",
    "    \n",
    "    tau_slice = tau_flat[tau_argsort][sl:sl+ncell]\n",
    "    tau_current = tau_flat.copy()\n",
    "    '''inflate the last bin for any gt max, as we do in actual calcs'''\n",
    "    tau_current[tau_current >= max(tau_edges)] = tau_edges[-2]\n",
    "    future_pos_filt = (tau_flat >= min(tau_slice)+tauc) & (tau_flat < max(tau_slice)+tauc)\n",
    "    current_future_slice = tau_current[future_pos_filt]\n",
    "    post_shift = np.concatenate((tau_slice+tauc, current_future_slice))\n",
    "    ax.hist(post_shift, bins=tau_edges, color=color, alpha=alpha*0.6, \n",
    "            density=density, histtype='stepfilled');\n",
    "    # Find where post shift hist is nonzero\n",
    "    post_bin_i = np.argmin(np.abs(tau_edges - min(post_shift)))\n",
    "    ax.hist(post_shift, bins=tau_edges[post_bin_i:], color=color, alpha=alpha*1, \n",
    "            density=density, histtype='step', linewidth=lw, zorder=-1);\n",
    "    \n",
    "    tau_shifted = tau_flat.copy()\n",
    "    tau_shifted[tau_argsort[sl:sl+ncell]] += tauc\n",
    "    '''inflate the last bin for any gt max, as we do in actual calcs'''\n",
    "    tau_shifted[tau_shifted >= max(tau_edges)] = tau_edges[-2]\n",
    "    \n",
    "ax.hist(tau_shifted[mask,...], bins=tau_edges, color='white', density=density);\n",
    "ax.hist(tau_current, bins=tau_edges, color='black', histtype='step', lw=lw, density=density);\n",
    "\n",
    "ax.set_yticks([])\n",
    "ax.set_ylabel(r\"$\\tau$ prevalence within species range\")\n",
    "ax.set_xlabel(r\"$\\tau$\")\n",
    "ax.set_xlim(15, 81);"
   ]
  },
  {
   "cell_type": "markdown",
   "id": "e1f5f023-fba0-45e2-b01a-71f9ac7273fd",
   "metadata": {
    "jp-MarkdownHeadingCollapsed": true,
    "tags": []
   },
   "source": [
    "#### Map change optimizing $\\omega$ instead of $\\text{metric}_\\text{meta}$"
   ]
  },
  {
   "cell_type": "code",
   "execution_count": null,
   "id": "dbbcaec8-e349-4cf3-9b42-21ad11fdea7e",
   "metadata": {
    "tags": []
   },
   "outputs": [],
   "source": [
    "mapindices = np.argwhere(maps_filt)\n",
    "C_i = 9\n",
    "num_samples = 5\n",
    "\n",
    "flat = phase_slice_zeroeps[C_i].ravel()\n",
    "non_nan_i = np.where(~np.isnan(flat))[0]\n",
    "flat_sort = non_nan_i[np.argsort(flat[non_nan_i])]\n",
    "phase_sorted_i = np.unravel_index(flat_sort, phase_slice_zeroeps[C_i].shape)\n",
    "phase_sorted_i = list((zip(phase_sorted_i[0], phase_sorted_i[1])))\n",
    "tot_samples = len(phase_sorted_i)\n",
    "# num_samples = int(tot_samples * 0.025)\n",
    "print(num_samples)\n",
    "print(phase_sorted_i[-num_samples:])\n",
    "tot_tauc_k = np.zeros(maps_filt.shape)\n",
    "n_k = np.zeros(maps_filt.shape)\n",
    "tauc_relative = np.zeros(maps_filt.shape)\n",
    "for i in range(tot_samples - num_samples, tot_samples):\n",
    "    ncell = ncell_vec[phase_sorted_i[i][0]]\n",
    "    sl = slice_left_all[phase_sorted_i[i][1]]\n",
    "    map_slice = mapindices[tau_argsort][sl:sl+ncell]\n",
    "    for map_i in map_slice:\n",
    "        tot_tauc_k[map_i[0],map_i[1]] += (C_vec[C_i] / ncell)\n",
    "        n_k[map_i[0],map_i[1]] += 1\n",
    "        tauc_relative[map_i[0],map_i[1]] += (C_vec[C_i] / ncell) / tau_raster[map_i[0],map_i[1]]\n",
    "avg_tauc_k = tot_tauc_k / n_k\n",
    "tauc_relative = tauc_relative / n_k\n",
    "np.save(fn_prefix + 'avg_tauc_k.npy', avg_tauc_k)\n",
    "np.save(fn_prefix + 'tauc_relative.npy', tauc_relative)\n",
    "\n",
    "target = 0.5\n",
    "target_i = np.argmin(np.abs(rob_thresh_vec - target))\n",
    "target = rob_thresh_vec[target_i]\n",
    "flat = allrob[target_i, C_i].ravel()\n",
    "non_nan_i = np.where(~np.isnan(flat))[0]\n",
    "flat_sort = non_nan_i[np.argsort(flat[non_nan_i])]\n",
    "rob_sorted_i = np.unravel_index(flat_sort, allrob[target_i, C_i].shape)\n",
    "rob_sorted_i = list((zip(rob_sorted_i[0], rob_sorted_i[1])))\n",
    "tot_samples = len(rob_sorted_i)\n",
    "# num_samples = int(tot_samples * 0.05)\n",
    "print(num_samples)\n",
    "print(rob_sorted_i[-num_samples:])\n",
    "tot_tauc_k_rob = np.zeros(maps_filt.shape)\n",
    "n_k_rob = np.zeros(maps_filt.shape)\n",
    "tauc_relative_rob = np.zeros(maps_filt.shape)\n",
    "for i in range(tot_samples - num_samples, tot_samples):\n",
    "    ncell = ncell_vec[rob_sorted_i[i][0]]\n",
    "    sl = slice_left_all[rob_sorted_i[i][1]]\n",
    "    map_slice = mapindices[tau_argsort][sl:sl+ncell]\n",
    "    for map_i in map_slice:\n",
    "        tot_tauc_k_rob[map_i[0],map_i[1]] += (C_vec[C_i] / ncell)\n",
    "        n_k_rob[map_i[0],map_i[1]] += 1\n",
    "        tauc_relative_rob[map_i[0],map_i[1]] += (C_vec[C_i] / ncell) / tau_raster[map_i[0],map_i[1]]\n",
    "avg_tauc_k_rob = tot_tauc_k_rob / n_k_rob\n",
    "tauc_relative_rob = tauc_relative_rob / n_k_rob\n",
    "np.save(fn_prefix + 'avg_tauc_k_rob.npy', avg_tauc_k_rob)\n",
    "np.save(fn_prefix + 'tauc_relative_rob.npy', tauc_relative_rob)"
   ]
  },
  {
   "cell_type": "code",
   "execution_count": null,
   "id": "9bb440c5-a585-4488-864f-0e6ff5fa4645",
   "metadata": {},
   "outputs": [],
   "source": [
    "[(7, 17), (8, 14), (8, 15), (8, 17), (8, 16)]"
   ]
  },
  {
   "cell_type": "code",
   "execution_count": null,
   "id": "18b00c9c-edc2-47ca-bc9f-33fd6f38719c",
   "metadata": {
    "tags": []
   },
   "outputs": [],
   "source": [
    "figsize = (9,6)\n",
    "fig, ax = plt.subplots(1, figsize=figsize)\n",
    "tau_max = 80\n",
    "\n",
    "ax.hist(tau_flat, bins=tau_edges, color='orangered', histtype='step', lw=3.5); \n",
    "\n",
    "ncell_i, sl_i = phase_sorted_i[-1]\n",
    "ncell = ncell_vec[ncell_i]\n",
    "sl = slice_left_all[sl_i]\n",
    "tau_slice = tau_flat[tau_argsort][sl:sl+ncell]\n",
    "ax.hist(tau_slice, bins=tau_edges, color='red', alpha=0.5,\n",
    "        label=rf'optimizing {metric_lab}');\n",
    "\n",
    "ncell_i, sl_i = rob_sorted_i[-1]\n",
    "ncell = ncell_vec[ncell_i]\n",
    "sl = slice_left_all[sl_i]\n",
    "tau_slice = tau_flat[tau_argsort][sl:sl+ncell]\n",
    "ax.hist(tau_slice, bins=tau_edges, color='blue', alpha=0.5, \n",
    "        label=rf'optimizing $\\omega$ at {metric_lab}$=${np.round(target, 2)}');\n",
    "\n",
    "ax.set_yticks([])\n",
    "ax.set_ylabel(r\"$\\tau$ prevalence within species range\")\n",
    "ax.set_xlabel(r\"$\\tau$\")\n",
    "ax.set_xlim(15, tau_max);\n",
    "ax.legend()\n",
    "fn = fig_prefix + f\"optimization_diff.png\"\n",
    "fig.savefig(fn, bbox_inches='tight')"
   ]
  },
  {
   "cell_type": "code",
   "execution_count": null,
   "id": "f4831d2b-8dfc-484c-aa14-69f5453d8b5b",
   "metadata": {
    "tags": []
   },
   "outputs": [],
   "source": [
    "fig, ax = plt.subplots(1, figsize=(10,10))\n",
    "\n",
    "# First replace nans with 0 so we can subtract\n",
    "imshow_mat = np.where(np.isnan(tauc_relative_rob), 0, tauc_relative_rob) - np.where(np.isnan(tauc_relative), 0, tauc_relative)\n",
    "# Now make pixels not in either map nan\n",
    "nan_pixel_filt = np.isnan(tauc_relative_rob) & np.isnan(tauc_relative)\n",
    "imshow_mat[nan_pixel_filt] = np.nan\n",
    "# Multiply by 100 to get % change\n",
    "imshow_mat = imshow_mat * 100\n",
    "# Crop out border where all nans\n",
    "nonzero_indices = np.nonzero(~np.isnan(imshow_mat))\n",
    "row_min, row_max = nonzero_indices[0].min(), nonzero_indices[0].max()\n",
    "col_min, col_max = nonzero_indices[1].min(), nonzero_indices[1].max()\n",
    "imshow_mat = imshow_mat[row_min:row_max + 1, col_min:col_max + 1]\n",
    "\n",
    "vmin = np.nanmin(imshow_mat); vmax = np.nanmax(imshow_mat)\n",
    "vlim = max([np.abs(extrema) for extrema in [vmin, vmax]])\n",
    "center = 0\n",
    "cmap = cm.PuOr.copy()\n",
    "# cmap = cm.PiYG.copy()\n",
    "norm = colors.TwoSlopeNorm(vmin=-vlim, vcenter=center, vmax=vlim)\n",
    "cmap.set_bad(color='black', alpha=0.3)\n",
    "imshow = ax.imshow(imshow_mat, cmap=cmap, norm=norm)\n",
    "cbar = fig.colorbar(imshow, ax=ax, location=\"right\", shrink=0.8)\n",
    "ax.set_xlabel(fr\"% change in $\\tau$ optimizing robustness instead of stability\")\n",
    "ax.set_xticks([])\n",
    "ax.set_yticks([])\n",
    "fn = fig_prefix + f\"map_example_1.png\"\n",
    "fig.savefig(fn, bbox_inches='tight')"
   ]
  },
  {
   "cell_type": "code",
   "execution_count": null,
   "id": "293ffe1b-b722-41bf-ae91-411b8a6986f7",
   "metadata": {
    "tags": []
   },
   "outputs": [],
   "source": [
    "fig, ax = plt.subplots(1, figsize=(10,10))\n",
    "\n",
    "# First replace nans with 0 so we can subtract\n",
    "imshow_mat = np.where(np.isnan(avg_tauc_k_rob), 0, avg_tauc_k_rob) - np.where(np.isnan(avg_tauc_k), 0, avg_tauc_k)\n",
    "# Now make pixels not in either map nan\n",
    "nan_pixel_filt = np.isnan(avg_tauc_k_rob) & np.isnan(avg_tauc_k)\n",
    "imshow_mat[nan_pixel_filt] = np.nan\n",
    "# Crop out border where all nans\n",
    "nonzero_indices = np.nonzero(~np.isnan(imshow_mat))\n",
    "row_min, row_max = nonzero_indices[0].min(), nonzero_indices[0].max()\n",
    "col_min, col_max = nonzero_indices[1].min(), nonzero_indices[1].max()\n",
    "imshow_mat = imshow_mat[row_min:row_max + 1, col_min:col_max + 1]\n",
    "\n",
    "vmin = np.nanmin(imshow_mat); vmax = np.nanmax(imshow_mat)\n",
    "vlim = max([np.abs(extrema) for extrema in [vmin, vmax]])\n",
    "center = 0\n",
    "cmap = cm.PuOr.copy()\n",
    "# cmap = cm.PiYG.copy()\n",
    "norm = colors.TwoSlopeNorm(vmin=-vlim, vcenter=center, vmax=vlim)\n",
    "cmap.set_bad(color='black', alpha=0.3)\n",
    "imshow = ax.imshow(imshow_mat, cmap=cmap, norm=norm)\n",
    "cbar = fig.colorbar(imshow, ax=ax, location=\"right\", shrink=0.8)\n",
    "ax.set_xlabel(fr\"Change in $\\hat{{\\tau}}$ optimizing robustness instead of stability\")\n",
    "ax.set_xticks([])\n",
    "ax.set_yticks([])\n",
    "fn = fig_prefix + f\"map_example.png\"\n",
    "fig.savefig(fn, bbox_inches='tight')"
   ]
  },
  {
   "cell_type": "code",
   "execution_count": null,
   "id": "a96a6fcf-7d98-4014-9d0d-205df1ee7d6a",
   "metadata": {
    "tags": []
   },
   "outputs": [],
   "source": [
    "fig, ax = plt.subplots(1, figsize=(10,10))\n",
    "imshow_mat = np.where(maps_filt, tau_raster, np.nan)\n",
    "# ax.imshow(imshow_mat, norm=colors.LogNorm(vmin=np.nanmin(imshow_mat), vmax=np.nanmax(imshow_mat)-160))\n",
    "ax.imshow(np.where(maps_filt, fdm, np.nan))"
   ]
  },
  {
   "cell_type": "code",
   "execution_count": null,
   "id": "90312492-b47e-417d-bc72-5464364c638a",
   "metadata": {
    "tags": []
   },
   "outputs": [],
   "source": [
    "plt.hist(np.where(maps_filt, fdm, np.nan).ravel(), bins=30);"
   ]
  },
  {
   "cell_type": "markdown",
   "id": "ccda1a64-4535-475b-b7d1-f036fa594ea6",
   "metadata": {
    "tags": []
   },
   "source": [
    "### Visualize $P(\\text{metric}|\\tau)$"
   ]
  },
  {
   "cell_type": "code",
   "execution_count": null,
   "id": "7f222d20-18d2-4206-a878-7c9a952c65e3",
   "metadata": {
    "tags": []
   },
   "outputs": [],
   "source": [
    "results_pre = 'gte_thresh'\n",
    "set_globals(results_pre)\n",
    "fig, ax = plt.subplots(1, figsize=(10,7))\n",
    "min_edge_i = 2\n",
    "metric_min = min(all_metric[(all_tau >= tau_edges[min_edge_i]) & (all_tau < tau_edges[min_edge_i+1])])\n",
    "# metric_edges = np.linspace(0, all_metric.max()*1.01, 60)\n",
    "metric_edges = np.linspace(metric_min, all_metric.max()*1.005, 70)\n",
    "cmap = copy.copy(cm.YlGn)\n",
    "# cmap.set_bad(cmap(0.2))\n",
    "# cmap.set_under(cmap(0.1))\n",
    "im = ax.hist2d(all_tau, all_metric, bins=[tau_edges, metric_edges], \n",
    "                 norm=colors.LogNorm(vmax=int(len(all_metric)/len(b_vec))), \n",
    "                 # norm=colors.Normalize(vmax=int(len(all_metric)/len(b_vec))), \n",
    "                 density=False,\n",
    "                cmap=cmap)\n",
    "ax.set_ylim(metric_edges[np.nonzero(im[0][min_edge_i])[0].min()], max(metric_edges))\n",
    "ax.set_ylim(metric_edges[np.nonzero(im[0][min_edge_i])[0].min()], max(metric_edges))\n",
    "# ax.set_ylim(0.85, max(metric_edges))\n",
    "# ax.set_ylim(-0.1, 0.05)\n",
    "# ax.set_ylim(0.98, 1)\n",
    "ax.set_xlim(tau_edges[min_edge_i], max(tau_edges))\n",
    "ax.set_ylabel(rf'simulated survival probability $S$')\n",
    "ax.set_xlabel(r\"average fire return interval $\\tau$\")\n",
    "\n",
    "# Make interpolation function \n",
    "metric_expect_vec = np.ones(tau_vec.size) * np.nan\n",
    "for tau_i, tau in enumerate(tau_vec):\n",
    "    tau_filt = (all_tau == tau)\n",
    "    metric_slice = all_metric[tau_filt]\n",
    "    metric_expect_vec[tau_i] = np.mean(metric_slice)\n",
    "t = tau_vec[2:-2:2] \n",
    "k = 3\n",
    "t = np.r_[(tau_vec[1],)*(k+1), t, (tau_vec[-1],)*(k+1)]\n",
    "spl = make_lsq_spline(tau_vec[1:], metric_expect_vec[1:], t, k)\n",
    "# Overplot interpolated means\n",
    "tau_samples = np.arange(0, 140, 2)\n",
    "# mean_points = spl(tau_samples)\n",
    "ax.plot(tau_samples, spl(tau_samples), color='k', lw=3)\n",
    "dot_spacing = 2\n",
    "ax.scatter(tau_vec[1::dot_spacing], spl(tau_vec[1::dot_spacing]), color='k')\n",
    "ax.plot([], [], marker='o', color='k', label=r'$<S>$')\n",
    "ax.legend(bbox_to_anchor=(0.15, -0.05, 0.5, 0.5)) \n",
    "ax.axhline(1, ls='--', c='k')\n",
    "# ax.axhline(0, ls='--', c='k')"
   ]
  },
  {
   "cell_type": "code",
   "execution_count": null,
   "id": "25e49fae-505d-4c38-9dcb-ff0568332b3a",
   "metadata": {
    "tags": []
   },
   "outputs": [],
   "source": [
    "spl(tau_samples)"
   ]
  },
  {
   "cell_type": "code",
   "execution_count": null,
   "id": "20958517-9562-4fee-b285-2609ebe1cf4a",
   "metadata": {
    "tags": []
   },
   "outputs": [],
   "source": [
    "from mpl_toolkits.axes_grid1.inset_locator import inset_axes\n",
    "fig, ax3 = plt.subplots(1, figsize=(10,10))\n",
    "results_pre = 'gte_thresh'\n",
    "set_globals(results_pre)\n",
    "metric_edges = np.linspace(0, 1, 50)\n",
    "# metric_edges = np.linspace(0, 1, 10)\n",
    "# metric_hist = np.histogram2d(all_tau, all_metric, bins=[tau_edges[::2], metric_edges], density=False)\n",
    "metric_hist = np.histogram2d(all_tau, all_metric, bins=[tau_edges, metric_edges], density=False)\n",
    "cmap = copy.copy(cm.YlGn)\n",
    "cmap.set_bad(cmap(0.0))\n",
    "vmin = 0; vmax = 1\n",
    "norm = colors.Normalize(vmin=vmin, vmax=vmax)\n",
    "imshow_mat = np.flip(np.transpose(metric_hist[0]), axis=0)\n",
    "samples_per_tau = int(len(all_metric)/len(b_vec))\n",
    "imshow_mat = imshow_mat / samples_per_tau\n",
    "# smoothed = scipy.ndimage.gaussian_filter(imshow_mat, sigma=0.125)\n",
    "im = ax3.imshow(imshow_mat, cmap=cmap,\n",
    "              norm=colors.LogNorm(vmax=1), interpolation=\"nearest\", \n",
    "              # aspect=imshow_mat.shape[1] / (imshow_mat.shape[0]*2))\n",
    "              aspect=0.2)\n",
    "\n",
    "S_samples = np.linspace(0, 1, 5)\n",
    "yticks = (imshow_mat.shape[0] - 1) * S_samples\n",
    "ax3.set_yticks(yticks, labels=np.flip(S_samples));\n",
    "ax3.set_ylabel(rf'simulated survival probability $S$')\n",
    "# ax3.set_ylim(np.array([imshow_mat.shape[0], 0]) - 0.5)\n",
    "ax3.set_ylim(np.array([imshow_mat.shape[0], 0]) - 1.5)\n",
    "tau_samples = np.arange(20, 140, 20).astype(int)\n",
    "xticks = tau_samples / (tau_step)\n",
    "ax3.set_xticks(xticks, labels=tau_samples);\n",
    "ax3.set_xlabel(r\"average fire return interval $\\tau$\")\n",
    "# ax3.set_xlim(1, imshow_mat.shape[1]-1)\n",
    "# ax3.set_xlim(0.5, imshow_mat.shape[1]-0.5)"
   ]
  },
  {
   "cell_type": "code",
   "execution_count": null,
   "id": "0908d01f-5c0b-4cba-98b3-9e94cff0e85b",
   "metadata": {},
   "outputs": [],
   "source": [
    "# Make interpolation function \n",
    "metric_expect_vec = np.ones(tau_vec.size) * np.nan\n",
    "for tau_i, tau in enumerate(tau_vec):\n",
    "    tau_filt = (all_tau == tau)\n",
    "    metric_slice = all_metric[tau_filt]\n",
    "    metric_expect_vec[tau_i] = np.mean(metric_slice)\n",
    "# t = tau_vec[2:-2:1] \n",
    "# k = 3\n",
    "# t = np.r_[(0,)*(k+1), t, (tau_vec[-1],)*(k+1)]\n",
    "t = tau_vec[2:-2:2] \n",
    "k = 3\n",
    "t = np.r_[(tau_vec[1],)*(k+1), t, (tau_vec[-1],)*(k+1)]\n",
    "spl = make_lsq_spline(tau_vec[1:], metric_expect_vec[1:], t, k)\n",
    "# Overplot interpolated means\n",
    "tau_samples = np.arange(5, 140, 2)\n",
    "mean_points = (imshow_mat.shape[0]-1) * (1 - spl(tau_samples))\n",
    "x_samples = tau_samples / (tau_step*2)\n",
    "ax3.plot(x_samples, mean_points, color='k')\n",
    "dot_spacing = 5\n",
    "ax3.scatter(x_samples[::dot_spacing], mean_points[::dot_spacing], color='k')\n",
    "ax3.plot([], [], marker='o', color='k', label=r'$<S>$')\n",
    "ax3.legend(bbox_to_anchor=(0.15, -0.05, 0.5, 0.5)) \n",
    "\n",
    "# # Test interpolations on sparser tau sampling\n",
    "# tau_vec_sparse = tau_vec[1::2]\n",
    "# metric_expect_vec_sparse = metric_expect_vec[1::2]\n",
    "# t = tau_vec_sparse[2:-2:1] \n",
    "# k = 3\n",
    "# t = np.r_[(0,)*(k+1), t, (tau_vec_sparse[-1],)*(k+1)]\n",
    "# spl_sparse = make_lsq_spline(tau_vec_sparse[1:], metric_expect_vec_sparse[1:], t, k)\n",
    "# tau_samples = np.arange(5, 140, 2)\n",
    "# mean_points = (imshow_mat.shape[0]-1) * (1 - spl_sparse(tau_samples))\n",
    "# x_samples = tau_samples / (tau_step*2)\n",
    "# ax3.plot(x_samples, mean_points, color='magenta')\n",
    "# dot_spacing = 5\n",
    "# ax3.scatter(x_samples[::dot_spacing], mean_points[::dot_spacing], color='magenta')"
   ]
  },
  {
   "cell_type": "code",
   "execution_count": null,
   "id": "f9ff4de7-5eb8-44da-8dc0-d135f81e618e",
   "metadata": {
    "tags": []
   },
   "outputs": [],
   "source": [
    "plt.plot(tau_samples, spl(tau_samples), c='k')\n",
    "plt.scatter(tau_vec, spl(tau_vec), marker='o', c='g')\n",
    "plt.axhline(1, ls='--')\n",
    "plt.axvline(20, ls='--')\n",
    "plt.axvline(40, ls='--')\n",
    "# plt.ylim(0.9,1.001)\n",
    "plt.ylim(0.985,1.001)"
   ]
  },
  {
   "cell_type": "code",
   "execution_count": null,
   "id": "18cf05c6-9840-489c-9e25-12f32cf5765e",
   "metadata": {
    "tags": []
   },
   "outputs": [],
   "source": [
    "from mpl_toolkits.axes_grid1.inset_locator import inset_axes\n",
    "fig, ax3 = plt.subplots(1, figsize=(10,10))\n",
    "# Aeff = 7.29\n",
    "# t_final = 300\n",
    "# results_pre = '.' \n",
    "results_pre = 'gte_thresh'\n",
    "set_globals(results_pre)\n",
    "metric_edges = np.linspace(0, 1, 50)\n",
    "# metric_edges = np.linspace(0, 1.5, 50)\n",
    "metric_hist = np.histogram2d(all_tau, all_metric, bins=[tau_edges[::2], metric_edges], density=False)\n",
    "cmap = copy.copy(cm.YlGn)\n",
    "cmap.set_bad(cmap(0.0))\n",
    "vmin = 0; vmax = 1\n",
    "norm = colors.Normalize(vmin=vmin, vmax=vmax)\n",
    "imshow_mat = np.flip(np.transpose(metric_hist[0]), axis=0)\n",
    "samples_per_tau = int(len(all_metric)/len(b_vec))\n",
    "imshow_mat = imshow_mat / samples_per_tau\n",
    "# smoothed = scipy.ndimage.gaussian_filter(imshow_mat, sigma=0.125)\n",
    "im = ax3.imshow(imshow_mat, cmap=cmap,\n",
    "              norm=colors.LogNorm(vmax=1), interpolation=\"nearest\")\n",
    "\n",
    "S_samples = np.linspace(0, 1, 5)\n",
    "yticks = (imshow_mat.shape[0] - 1) * S_samples\n",
    "ax3.set_yticks(yticks, labels=np.flip(S_samples));\n",
    "ax3.set_ylabel(rf'simulated survival probability $S$')\n",
    "ax3.set_ylim(np.array([imshow_mat.shape[0], 0]) - 0.5)\n",
    "tau_samples = np.arange(20, 140, 20).astype(int)\n",
    "xticks = tau_samples / (tau_step*2)\n",
    "ax3.set_xticks(xticks, labels=tau_samples);\n",
    "ax3.set_xlabel(r\"average fire return interval $\\tau$\")\n",
    "ax3.set_xlim(1, imshow_mat.shape[1]-1)\n",
    "\n",
    "# Make interpolation function \n",
    "metric_expect_vec = np.ones(tau_vec.size) * np.nan\n",
    "for tau_i, tau in enumerate(tau_vec):\n",
    "    tau_filt = (all_tau == tau)\n",
    "    metric_slice = all_metric[tau_filt]\n",
    "    metric_expect_vec[tau_i] = np.mean(metric_slice)\n",
    "t = tau_vec[2:-2:2] \n",
    "k = 3\n",
    "t = np.r_[(tau_vec[1],)*(k+1), t, (tau_vec[-1],)*(k+1)]\n",
    "spl = make_lsq_spline(tau_vec[1:], metric_expect_vec[1:], t, k)\n",
    "# Overplot interpolated means\n",
    "tau_samples = np.arange(5, 140, 2)\n",
    "mean_points = (imshow_mat.shape[0]-1) * (1 - spl(tau_samples))\n",
    "x_samples = tau_samples / (tau_step*2)\n",
    "ax3.plot(x_samples, mean_points, color='k')\n",
    "dot_spacing = 5\n",
    "ax3.scatter(x_samples[::dot_spacing], mean_points[::dot_spacing], color='k')\n",
    "ax3.plot([], [], marker='o', color='k', label=r'$<S>$')\n",
    "ax3.legend(bbox_to_anchor=(0.15, -0.05, 0.5, 0.5)) "
   ]
  },
  {
   "cell_type": "code",
   "execution_count": null,
   "id": "73c105f6-989d-4eb4-8dce-e602c03b936b",
   "metadata": {
    "tags": []
   },
   "outputs": [],
   "source": [
    "from mpl_toolkits.axes_grid1.inset_locator import inset_axes\n",
    "fig = plt.figure(figsize=np.array([12, 6])*2.)\n",
    "gs = GridSpec(4, 4, figure=fig, width_ratios=[1,1,1,1], height_ratios=[1,1,1,1]) \n",
    "ax1 = fig.add_subplot(gs[:, :2])  # Left panel for FDM\n",
    "ax2 = fig.add_subplot(gs[0, 2:])  # Top right for tau hist \n",
    "ax3 = fig.add_subplot(gs[1:, 2:])  # Bottom right for P(S) vs tau\n",
    "\n",
    "#### FDM map ####\n",
    "# Read in maps and convert fdm to tau\n",
    "ul_coord = [1500, 2800]\n",
    "lr_coord = [2723, 3905]\n",
    "usecols = np.arange(ul_coord[0],lr_coord[0])\n",
    "sdmfn = \"../shared_maps/SDM_1995.asc\"\n",
    "sdm = np.loadtxt(sdmfn,skiprows=6+ul_coord[1],\n",
    "                         max_rows=lr_coord[1], usecols=usecols)\n",
    "fdmfn = '../shared_maps/FDE_current_allregions.asc'\n",
    "fdm = np.loadtxt(fdmfn,skiprows=6+ul_coord[1], \n",
    "                         max_rows=lr_coord[1], usecols=usecols)\n",
    "sdm, fdm = adjustmaps([sdm, fdm])\n",
    "delta_t = 30\n",
    "b_raster = delta_t / np.power(-np.log(1-fdm), 1/c)\n",
    "tau_raster = b_raster * gamma(1+1/c)\n",
    "maps_filt = (sdm > 0) & (fdm > 0)\n",
    "\n",
    "# Color data\n",
    "# cmap = copy.copy(cm.YlOrRd)\n",
    "# vmin = 0; vmax = 1\n",
    "cmap = copy.copy(cm.YlOrRd_r)\n",
    "vmin = 15; vmax = 45\n",
    "norm = colors.Normalize(vmin=vmin, vmax=vmax)\n",
    "# colored_data = cmap(norm(fdm))\n",
    "colored_data = cmap(norm(tau_raster))\n",
    "# Color background\n",
    "colored_data[maps_filt == False] = colors.to_rgba('black', alpha=0.3)\n",
    "# Crop out border where all nans\n",
    "nonzero_indices = np.nonzero(maps_filt)\n",
    "row_min, row_max = nonzero_indices[0].min(), nonzero_indices[0].max()\n",
    "col_min, col_max = nonzero_indices[1].min(), nonzero_indices[1].max()\n",
    "colored_data = colored_data[row_min:row_max + 1, col_min:col_max + 1]\n",
    "\n",
    "im1 = ax1.imshow(colored_data)\n",
    "# Add the colorbar to inset axis\n",
    "cbar_ax = inset_axes(ax1, width=\"5%\", height=\"50%\", loc='center',\n",
    "                     bbox_to_anchor=(-0.1, -0.15, 0.65, 0.9),  # Centered on the plot,\n",
    "                     bbox_transform=ax1.transAxes, borderpad=0)\n",
    "sm = cm.ScalarMappable(cmap=cmap, norm=norm)\n",
    "cbar = fig.colorbar(sm, cax=cbar_ax, orientation=\"vertical\")\n",
    "cbar_ticks = cbar.get_ticks()\n",
    "cbar.set_ticks(cbar_ticks)\n",
    "cbar_ticklabels = [rf'$\\leq${cbar_ticks[0]}'] + [t for t in cbar_ticks[1:-1]] + [rf'$\\geq${cbar_ticks[-1]}']\n",
    "cbar.set_ticklabels(cbar_ticklabels)\n",
    "# cbar = fig.colorbar(sm, cax=cbar_ax, orientation=\"vertical\", ticks=[0, 0.25, 0.5, 0.75, 1])\n",
    "# cbar.set_label('30 year fire probability', color='white', rotation=-90, labelpad=20) \n",
    "cbar.ax.tick_params(labelcolor='white', color='white')\n",
    "ax1.set_xticks([])\n",
    "ax1.set_yticks([])\n",
    "########\n",
    "\n",
    "#### P(S) vs tau ####\n",
    "results_pre = 'meta_mean_results' \n",
    "set_globals(results_pre)\n",
    "metric_edges = np.linspace(0, 1, 50)\n",
    "metric_hist = np.histogram2d(all_tau, all_metric, bins=[tau_edges[::2], metric_edges], density=False)\n",
    "cmap = copy.copy(cm.YlGn)\n",
    "cmap.set_bad(cmap(0.0))\n",
    "imshow_mat = np.flip(np.transpose(metric_hist[0]), axis=0)\n",
    "samples_per_tau = int(len(all_metric)/len(b_vec))\n",
    "imshow_mat = imshow_mat / samples_per_tau\n",
    "# smoothed = scipy.ndimage.gaussian_filter(imshow_mat, sigma=0.125)\n",
    "im = ax3.imshow(imshow_mat, cmap=cmap,\n",
    "              norm=colors.LogNorm(vmax=1), interpolation=\"nearest\")\n",
    "\n",
    "# Add the colorbar to inset axis\n",
    "cbar_ax = inset_axes(ax3, width=\"5%\", height=\"50%\", loc='center',\n",
    "                     bbox_to_anchor=(0.55, -0.1, 0.55, 1.1),  \n",
    "                     bbox_transform=ax3.transAxes, borderpad=0)\n",
    "sm = cm.ScalarMappable(cmap=cmap, norm=norm)\n",
    "cbar = fig.colorbar(sm, cax=cbar_ax, orientation=\"vertical\", ticks=[0, 0.25, 0.5, 0.75, 1.])\n",
    "cbar.set_label(rf'frequency of $S$ given ${{\\tau}}$', rotation=-90, labelpad=20) \n",
    "\n",
    "S_samples = np.linspace(0, 1, 5)\n",
    "yticks = (imshow_mat.shape[0] - 1) * S_samples\n",
    "ax3.set_yticks(yticks, labels=np.flip(S_samples));\n",
    "ax3.set_ylabel(rf'simulated survival probability $S$')\n",
    "ax3.set_ylim(np.array([imshow_mat.shape[0], 0]) - 0.5)\n",
    "tau_samples = np.arange(20, 140, 20).astype(int)\n",
    "xticks = tau_samples / (tau_step*2)\n",
    "ax3.set_xticks(xticks, labels=tau_samples);\n",
    "ax3.set_xlabel(r\"average fire return interval $\\tau$\")\n",
    "ax3.set_xlim(1, imshow_mat.shape[1]-1)\n",
    "\n",
    "# Make interpolation function \n",
    "metric_expect_vec = np.ones(tau_vec.size) * np.nan\n",
    "for tau_i, tau in enumerate(tau_vec):\n",
    "    tau_filt = (all_tau == tau)\n",
    "    metric_slice = all_metric[tau_filt]\n",
    "    metric_expect_vec[tau_i] = np.mean(metric_slice)\n",
    "t = tau_vec[2:-2:1] \n",
    "k = 3\n",
    "t = np.r_[(0,)*(k+1), t, (tau_vec[-1],)*(k+1)]\n",
    "spl = make_lsq_spline(tau_vec[1:], metric_expect_vec[1:], t, k)\n",
    "# Overplot interpolated means\n",
    "tau_samples = np.arange(5, 140, 2)\n",
    "mean_points = (imshow_mat.shape[0]-1) * (1 - spl(tau_samples))\n",
    "x_samples = tau_samples / (tau_step*2)\n",
    "ax3.plot(x_samples, mean_points, color='k')\n",
    "dot_spacing = 5\n",
    "ax3.scatter(x_samples[::dot_spacing], mean_points[::dot_spacing], color='k')\n",
    "ax3.plot([], [], marker='o', color='k', label=r'$<S>$')\n",
    "ax3.legend(bbox_to_anchor=(0.15, -0.05, 0.5, 0.5)) \n",
    "########\n",
    "\n",
    "#### INITIAL TAU DISTRIBUTION ####\n",
    "tau_flat = tau_raster[maps_filt] \n",
    "tau_argsort = np.argsort(tau_flat)\n",
    "ax2.hist(tau_flat, bins=tau_edges, color='black', histtype='step', lw=3.5, density=True);\n",
    "ax2.set_yticks([])\n",
    "ax2.set_ylabel(r\"$\\tau$ frequency in range\")\n",
    "# ax2.set_xlabel(r\"average fire return interval $\\tau$\")\n",
    "ax2.set_xticks([])\n",
    "# Use the boundaries of the P(S) imshow plot for the tau limits\n",
    "ax2.set_xlim(metric_hist[1][1], metric_hist[1][imshow_mat.shape[1]-1])\n",
    "gs.update(hspace=-0.21)  # Adjust vertical spacing\n",
    "gs.update(wspace=0.3)\n",
    "########\n",
    "\n",
    "# gs.tight_layout(fig)\n",
    "# plt.subplots_adjust(hspace=0)"
   ]
  },
  {
   "cell_type": "code",
   "execution_count": null,
   "id": "0f5b34dd-9e3b-408e-b757-66089de89453",
   "metadata": {
    "tags": []
   },
   "outputs": [],
   "source": [
    "results_pre = 'meta_mean_results' \n",
    "set_globals(results_pre)\n",
    "metric_edges = np.linspace(0, 1, 50)\n",
    "metric_hist = np.histogram2d(all_tau, all_metric, bins=[tau_edges[::2], metric_edges], density=False)\n",
    "fig, ax = plt.subplots(figsize=(10,8))\n",
    "cmap = copy.copy(cm.YlGn)\n",
    "cmap.set_bad(cmap(0.0))\n",
    "imshow_mat = np.flip(np.transpose(metric_hist[0]), axis=0)\n",
    "samples_per_tau = len(all_metric)/len(b_vec)\n",
    "imshow_mat = imshow_mat / samples_per_tau\n",
    "smoothed = scipy.ndimage.gaussian_filter(imshow_mat, sigma=0.125)\n",
    "im = ax.imshow(imshow_mat, cmap=cmap,\n",
    "              norm=colors.LogNorm(vmax=1), interpolation=\"nearest\")\n",
    "cbar = ax.figure.colorbar(im, ax=ax, location=\"right\", shrink=0.6)\n",
    "cbar.ax.set_ylabel(rf'Frequency of $P_s$ given ${{\\tau}}$', \n",
    "                   rotation=-90, labelpad=20)\n",
    "\n",
    "S_samples = np.linspace(0, 1, 5)\n",
    "yticks = (imshow_mat.shape[0] - 1) * S_samples\n",
    "ax.set_yticks(yticks, labels=np.flip(S_samples));\n",
    "ax.set_ylabel(rf'$P_s$')\n",
    "ax.set_ylim(np.array([imshow_mat.shape[0], 0]) - 0.5)\n",
    "tau_samples = np.arange(20, 140, 20).astype(int)\n",
    "xticks = tau_samples / (tau_step*2)\n",
    "ax.set_xticks(xticks, labels=tau_samples);\n",
    "ax.set_xlabel(r'$\\tau$')\n",
    "ax.set_xlim(1, imshow_mat.shape[1]-1)\n",
    "\n",
    "tau_samples = np.arange(5, 140, 2)\n",
    "mean_points = (imshow_mat.shape[0]-1) * (1 - spl(tau_samples))\n",
    "x_samples = tau_samples / (tau_step*2)\n",
    "ax.plot(x_samples, mean_points, color='k')\n",
    "dot_spacing = 5\n",
    "ax.scatter(x_samples[::dot_spacing], mean_points[::dot_spacing], color='k')\n",
    "ax.plot([], [], marker='o', color='k', label=r'$<S>$')\n",
    "ax.legend(bbox_to_anchor=(0.15, -0.05, 0.5, 0.5))\n",
    "\n",
    "# fn = fig_prefix + f\"Pmetric_given_tau.png\"\n",
    "# fig.savefig(fn, bbox_inches='tight')"
   ]
  },
  {
   "cell_type": "markdown",
   "id": "d3983ade-32f1-4516-96c1-35d9bd0dcf23",
   "metadata": {
    "jp-MarkdownHeadingCollapsed": true,
    "tags": []
   },
   "source": [
    "#### Make Bspline interpolation for $<metric>$"
   ]
  },
  {
   "cell_type": "code",
   "execution_count": null,
   "id": "88dab2aa-eded-4963-b16c-094847c681b8",
   "metadata": {
    "tags": []
   },
   "outputs": [],
   "source": [
    "results_pre = 'meta_mean_results' \n",
    "set_globals(results_pre)\n",
    "metric_expect_vec = np.ones(tau_vec.size) * np.nan\n",
    "for tau_i, tau in enumerate(tau_vec):\n",
    "    tau_filt = (all_tau == tau)\n",
    "    metric_slice = all_metric[tau_filt]\n",
    "    metric_expect_vec[tau_i] = np.mean(metric_slice)\n",
    "t = tau_vec[2:-2:1] \n",
    "k = 3\n",
    "t = np.r_[(0,)*(k+1), t, (tau_vec[-1],)*(k+1)]\n",
    "spl = make_lsq_spline(tau_vec[1:], metric_expect_vec[1:], t, k)"
   ]
  },
  {
   "cell_type": "markdown",
   "id": "4ef31f16-a933-4635-9d70-9e7a8050345a",
   "metadata": {
    "tags": []
   },
   "source": [
    "#### Vizualise distribution of $<\\text{metric}>$"
   ]
  },
  {
   "cell_type": "code",
   "execution_count": null,
   "id": "b9fff6f9-f0d9-400e-99d7-db97bc31a65d",
   "metadata": {
    "tags": []
   },
   "outputs": [],
   "source": [
    "# Read in maps and convert fdm to tau\n",
    "ul_coord = [1500, 2800]\n",
    "lr_coord = [2723, 3905]\n",
    "usecols = np.arange(ul_coord[0],lr_coord[0])\n",
    "sdmfn = \"../shared_maps/SDM_1995.asc\"\n",
    "sdm = np.loadtxt(sdmfn,skiprows=6+ul_coord[1],\n",
    "                         max_rows=lr_coord[1], usecols=usecols)\n",
    "fdmfn = '../shared_maps/FDE_current_allregions.asc'\n",
    "fdm = np.loadtxt(fdmfn,skiprows=6+ul_coord[1], \n",
    "                         max_rows=lr_coord[1], usecols=usecols)\n",
    "sdm, fdm = adjustmaps([sdm, fdm])\n",
    "delta_t = 30\n",
    "b_raster = delta_t / np.power(-np.log(1-fdm), 1/c)\n",
    "tau_raster = b_raster * gamma(1+1/c)\n",
    "maps_filt = (sdm > 0) & (fdm > 0)\n",
    "tau_flat = tau_raster[maps_filt] #+ (max(C_vec)/ncell_tot)\n",
    "# tau_flat[tau_flat > max(tau_vec)] = max (tau_vec)\n",
    "tau_argsort = np.argsort(tau_flat)\n",
    "\n",
    "tau_max = max(tau_edges)\n",
    "# tau_max = 90\n",
    "bin_step = 0.005\n",
    "bin_edges = np.concatenate(([0], np.arange(bin_step/2, 1+bin_step, bin_step)))\n",
    "figsize = (9,6)\n",
    "fig, ax = plt.subplots(1, figsize=figsize)\n",
    "color = 'limegreen'\n",
    "mlab = \"$<P_s>_k$\"\n",
    "metric_interp = spl(tau_flat[tau_flat < tau_max])\n",
    "ax.hist(metric_interp, bins=bin_edges, color=color, histtype='step', lw=3.5); \n",
    "\n",
    "thresh = 0.95\n",
    "bin_i = np.argmin(np.abs(bin_edges - thresh))\n",
    "ax.hist(metric_interp[metric_interp >= bin_edges[bin_i]], bins=bin_edges, color=color, histtype='bar', lw=3.5, alpha=0.7); \n",
    "\n",
    "\n",
    "ax.set_yticks([])\n",
    "ax.set_ylabel(rf\"{mlab} frequency\")\n",
    "ax.set_xlabel(rf\"{mlab}\")\n",
    "ax.set_xlim(0.89,1.0+bin_step)\n",
    "# fn = fig_prefix + f\"metricdist_preshift_{ncell}.png\"\n",
    "# fig.savefig(fn, bbox_inches='tight')"
   ]
  },
  {
   "cell_type": "code",
   "execution_count": null,
   "id": "3f82db3a-7e46-447c-889e-fe963fc958b9",
   "metadata": {},
   "outputs": [],
   "source": [
    "np.arange(0.9, 1.02, 0.02)"
   ]
  },
  {
   "cell_type": "code",
   "execution_count": null,
   "id": "d5251457-5b3e-432d-9214-25183708812b",
   "metadata": {},
   "outputs": [],
   "source": []
  }
 ],
 "metadata": {
  "kernelspec": {
   "display_name": "Python [conda env:sbi_env]",
   "language": "python",
   "name": "conda-env-sbi_env-py"
  },
  "language_info": {
   "codemirror_mode": {
    "name": "ipython",
    "version": 3
   },
   "file_extension": ".py",
   "mimetype": "text/x-python",
   "name": "python",
   "nbconvert_exporter": "python",
   "pygments_lexer": "ipython3",
   "version": "3.11.7"
  }
 },
 "nbformat": 4,
 "nbformat_minor": 5
}
