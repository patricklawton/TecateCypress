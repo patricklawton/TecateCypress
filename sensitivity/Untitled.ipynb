{
 "cells": [
  {
   "cell_type": "code",
   "execution_count": null,
   "id": "03049a8b-26ab-48a8-ac05-cda615aef448",
   "metadata": {
    "tags": []
   },
   "outputs": [],
   "source": [
    "import numpy as np\n",
    "from matplotlib import colors, cm, rc\n",
    "from matplotlib import pyplot as plt\n",
    "import pickle\n",
    "import signac as sg\n",
    "from scipy.special import gamma\n",
    "import copy as copy\n",
    "from global_functions import adjustmaps\n",
    "import h5py\n",
    "from itertools import product, combinations\n",
    "\n",
    "# Define/load things non-specific to a given set of results\n",
    "metric = 'lambda_s'\n",
    "Aeff = 7.29\n",
    "t_final = 300\n",
    "ncell_tot = 87_993\n",
    "c = 1.42\n",
    "with sg.H5Store('shared_data.h5').open(mode='r') as sd:\n",
    "    b_vec = np.array(sd['b_vec'])\n",
    "tau_vec = b_vec * gamma(1+1/c)\n",
    "tauc_methods = [\"flat\"]\n",
    "results_pre = 'gte_thresh'\n",
    "\n",
    "# Update global plotting parameters\n",
    "rc('axes', labelsize=21)  # Font size for x and y labels\n",
    "rc('axes', titlesize=16)\n",
    "rc('xtick', labelsize=19)  # Font size for x-axis tick labels\n",
    "rc('ytick', labelsize=19)  # Font size for y-axis tick labels\n",
    "rc('lines', markersize=15)\n",
    "rc('lines', linewidth=5.5)\n",
    "rc('legend', fontsize=19)\n",
    "rc('font', family='sans-serif')\n",
    "rc('font', serif=['Computer Modern Sans Serif'] + plt.rcParams['font.serif'])\n",
    "rc('font', weight='light')\n",
    "histlw = 5.5\n",
    "cbar_lpad = 30\n",
    "dpi = 40\n",
    "\n",
    "# Function to read in things specific to given results as global variables\n",
    "def set_globals(results_pre):\n",
    "    if metric == 'lambda_s':\n",
    "        globals()['metric_lab'] = r'$S$'\n",
    "        globals()['rob_metric_lab'] = r'$S^*$'\n",
    "        globals()['mean_metric_lab'] = r'$\\bar{\\lambda}(\\tau)$'\n",
    "    if metric == 'P_s':\n",
    "        globals()['metric_lab'] = r'$S_{meta}$'\n",
    "        globals()['rob_metric_lab'] = r'$\\S_{meta}^*$'\n",
    "        globals()['mean_metric_lab'] = r'$<P_s>$'\n",
    "    if metric == 's':\n",
    "        globals()['metric_lab'] = r'$s_{meta}$'\n",
    "        globals()['rob_metric_lab'] = r'$\\s_{meta}^*$'\n",
    "        globals()['mean_metric_lab'] = r'$<s>$'\n",
    "    globals()['fn_prefix'] = f\"{results_pre}/data/Aeff_{Aeff}/tfinal_{t_final}/metric_{metric}/\"\n",
    "    globals()['fig_prefix'] = f\"{results_pre}/figs/Aeff_{Aeff}/tfinal_{t_final}/metric_{metric}/\"\n",
    "    #globals()['fig_prefix'] = os.path.join('/','Volumes', 'Macintosh HD', 'Users', 'patrick',\n",
    "    #                                       'Google Drive', 'My Drive', 'Research', 'Regan', 'Figs/')\n",
    "\n",
    "# Read in maps and convert fdm to tau, used by multiple plots below\n",
    "ul_coord = [1500, 2800]\n",
    "lr_coord = [2723, 3905]\n",
    "usecols = np.arange(ul_coord[0],lr_coord[0])\n",
    "sdmfn = \"../shared_maps/SDM_1995.asc\"\n",
    "sdm = np.loadtxt(sdmfn,skiprows=6+ul_coord[1],\n",
    "                         max_rows=lr_coord[1], usecols=usecols)\n",
    "fdmfn = '../shared_maps/FDE_current_allregions.asc'\n",
    "fdm = np.loadtxt(fdmfn,skiprows=6+ul_coord[1],\n",
    "                         max_rows=lr_coord[1], usecols=usecols)\n",
    "sdm, fdm = adjustmaps([sdm, fdm])\n",
    "delta_t = 30\n",
    "b_raster = delta_t / np.power(-np.log(1-fdm), 1/c)\n",
    "tau_raster = b_raster * gamma(1+1/c)\n",
    "maps_filt = (sdm > 0) & (fdm > 0)\n",
    "tau_flat = tau_raster[maps_filt]\n",
    "mapindices = np.argwhere(maps_filt)\n",
    "tau_argsort = np.argsort(tau_flat)\n",
    "tau_sorted = tau_flat[tau_argsort]\n",
    "\n",
    "# Define keys and labels for parameters\n",
    "uncertain_params = ['mu_tau', 'sigm_tau', 'mu_tauc', 'sigm_tauc', 'mean_lam_diff']\n",
    "param_labels = [r'$\\mu_{\\tau}$', r'$\\sigma_{\\tau}$', r'$\\mu_{\\hat{\\tau}}$', \n",
    "                r'$\\sigma_{\\hat{\\tau}}$', r'$<\\lambda_m - \\bar{\\lambda}>$']\n",
    "\n",
    "# Get all possible parameter pairs\n",
    "param_pairs = [pair for pair in combinations(range(len(uncertain_params)), 2)]\n",
    "\n",
    "# Read in data of S samples at optimal decisions, as well as some other things\n",
    "set_globals(results_pre)\n",
    "\n",
    "# Read in all splined interpolations of metric(tau)\n",
    "with open(fn_prefix + \"/metric_spl_all.pkl\", \"rb\") as handle:\n",
    "    metric_spl_all = pickle.load(handle)"
   ]
  },
  {
   "cell_type": "code",
   "execution_count": null,
   "id": "5df999f6-adc4-4248-badb-76c636ba49d8",
   "metadata": {
    "tags": []
   },
   "outputs": [],
   "source": [
    "lam_baseline = metric_spl_all[0]\n",
    "tau_samples = np.linspace(tau_vec[1], tau_vec.max(), 1_000)\n",
    "tau_crit_i = np.abs(lam_baseline(tau_samples) - 0.975).argmin()\n",
    "tau_crit = tau_samples[tau_crit_i]\n",
    "tau_crit"
   ]
  },
  {
   "cell_type": "markdown",
   "id": "98dbdfaa-0223-40bb-ae78-031ad818b18b",
   "metadata": {},
   "source": [
    "Now plot the optimal value of tauhat_h under baseline conditions across R values. See if it matches tau_crit above."
   ]
  },
  {
   "cell_type": "code",
   "execution_count": null,
   "id": "c6fc0458-7b51-48d1-8db1-b4cafa576647",
   "metadata": {
    "tags": []
   },
   "outputs": [],
   "source": [
    "C_vec_baseline = np.load(fn_prefix + 'C_vec_baseline.npy')\n",
    "x_all = np.load(fn_prefix + '/x_all_baseline.npy')\n",
    "meta_metric_all = np.load(fn_prefix + '/meta_metric_all_baseline.npy')\n",
    "meta_metric_all = meta_metric_all[:,0]\n",
    "meta_metric_nochange = float(np.load(fn_prefix + 'meta_metric_nochange.npy'))\n",
    "\n",
    "n_opt_vec = np.ones_like(C_vec_baseline) * np.nan\n",
    "l_opt_vec = np.ones_like(C_vec_baseline) * np.nan\n",
    "for C_i, C in enumerate(C_vec_baseline):\n",
    "    zeroeps_filt = np.all(x_all[:, 3:] == 0, axis=1)\n",
    "    _filt = zeroeps_filt & (x_all[:,0] == C)\n",
    "    argmax = np.nanargmax(meta_metric_all[_filt])\n",
    "    n_opt_vec[C_i] = x_all[_filt,:][argmax][1]\n",
    "    l_opt_vec[C_i] = x_all[_filt,:][argmax][2]\n",
    "tau_h = tau_sorted[(l_opt_vec + n_opt_vec).astype(int)]"
   ]
  },
  {
   "cell_type": "code",
   "execution_count": null,
   "id": "2929d9cb-a01c-4fe8-a0d5-8f54f34b82cf",
   "metadata": {
    "tags": []
   },
   "outputs": [],
   "source": [
    "plt.axhline(tau_crit, c='k', ls='--', zorder=-1, label=r'critical baseline $\\tau$')\n",
    "plt.scatter(C_vec_baseline/ncell_tot, tau_h)\n",
    "plt.ylim(0, 60)\n",
    "plt.xlabel(r'$R~/~n_{tot}$')\n",
    "plt.ylabel(r'optimal $\\hat{\\tau_h}$')\n",
    "plt.legend()\n",
    "plt.savefig(fig_prefix + '/baselineopttauh.png', bbox_inches='tight', dpi=50)"
   ]
  },
  {
   "cell_type": "code",
   "execution_count": null,
   "id": "d32acf54-5b28-4ab7-bf85-e95c03d73309",
   "metadata": {
    "tags": []
   },
   "outputs": [],
   "source": [
    "tau_l = tau_sorted[l_opt_vec.astype(int)]\n",
    "deltatau_vec = C_vec_baseline / n_opt_vec\n",
    "\n",
    "plt.axhline(tau_crit, c='k', ls='--', zorder=-1, label=r'critical baseline $\\tau$')\n",
    "plt.scatter(C_vec_baseline/ncell_tot, tau_l, label=r'optimal $\\hat{\\tau}_l$')\n",
    "plt.scatter(C_vec_baseline/ncell_tot, tau_l + deltatau_vec, label=r'optimal $\\hat{\\tau}_l+\\Delta\\tau$')\n",
    "# plt.ylim(15, 35)\n",
    "plt.ylim(0, 60)\n",
    "plt.xlabel(r'$R~/~n_{tot}$')\n",
    "# plt.ylabel(r'optimal $\\hat{\\tau_h}$')\n",
    "plt.legend()"
   ]
  },
  {
   "cell_type": "code",
   "execution_count": null,
   "id": "d81c6e10-7d8b-4fc0-b20d-7472fe6415f7",
   "metadata": {
    "tags": []
   },
   "outputs": [],
   "source": [
    "tau_l + deltatau_vec"
   ]
  },
  {
   "cell_type": "markdown",
   "id": "42aa898d-ad9d-41fc-afcf-2e4a57b4b517",
   "metadata": {},
   "source": [
    "Get at 'intrinsic' lambda under baseline, i.e. baseline parameters, no fires"
   ]
  },
  {
   "cell_type": "code",
   "execution_count": null,
   "id": "1dce458b-2aa5-4730-901e-72302a84d673",
   "metadata": {
    "tags": []
   },
   "outputs": [],
   "source": [
    "project = sg.get_project()\n",
    "jobs = project.find_jobs()\n",
    "demographic_indices = []\n",
    "for job in project:\n",
    "    if job.sp.demographic_index == 0:\n",
    "        with job.data as data:\n",
    "            print(data['lambda_s/0'])"
   ]
  },
  {
   "cell_type": "code",
   "execution_count": null,
   "id": "f3ec6e1b-8ce8-437d-ab4a-0ee43d970672",
   "metadata": {},
   "outputs": [],
   "source": []
  }
 ],
 "metadata": {
  "kernelspec": {
   "display_name": "Python [conda env:sbi_env]",
   "language": "python",
   "name": "conda-env-sbi_env-py"
  },
  "language_info": {
   "codemirror_mode": {
    "name": "ipython",
    "version": 3
   },
   "file_extension": ".py",
   "mimetype": "text/x-python",
   "name": "python",
   "nbconvert_exporter": "python",
   "pygments_lexer": "ipython3",
   "version": "3.11.5"
  }
 },
 "nbformat": 4,
 "nbformat_minor": 5
}
